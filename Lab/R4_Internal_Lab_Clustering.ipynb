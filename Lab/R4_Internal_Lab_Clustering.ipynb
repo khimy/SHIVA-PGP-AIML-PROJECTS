{
 "cells": [
  {
   "cell_type": "markdown",
   "metadata": {},
   "source": [
    "### The data set has information about features of silhouette extracted from the images of different cars\n",
    "\n",
    "Four \"Corgie\" model vehicles were used for the experiment: a double decker bus, Cheverolet van, Saab 9000 and an Opel Manta 400 cars. This particular combination of vehicles was chosen with the expectation that the bus, van and either one of the cars would be readily distinguishable, but it would be more difficult to distinguish between the cars.\n",
    "\n"
   ]
  },
  {
   "cell_type": "markdown",
   "metadata": {},
   "source": [
    "### 1. Read the dataset using function .dropna() - to avoid dealing with NAs as of now"
   ]
  },
  {
   "cell_type": "code",
   "execution_count": 194,
   "metadata": {},
   "outputs": [],
   "source": [
    "import numpy as np\n",
    "import pandas as pd\n",
    "from matplotlib import pyplot as plt\n",
    "import seaborn as sns\n",
    "%matplotlib inline\n",
    "\n",
    "from sklearn import metrics\n",
    "from sklearn.cluster import KMeans\n",
    "from scipy.spatial import distance\n",
    "vehicle=pd.read_csv(\"vehicle.csv\")\n"
   ]
  },
  {
   "cell_type": "code",
   "execution_count": 131,
   "metadata": {},
   "outputs": [
    {
     "data": {
      "text/plain": [
       "(846, 19)"
      ]
     },
     "execution_count": 131,
     "metadata": {},
     "output_type": "execute_result"
    }
   ],
   "source": [
    "vehicle.shape"
   ]
  },
  {
   "cell_type": "code",
   "execution_count": 132,
   "metadata": {},
   "outputs": [
    {
     "data": {
      "text/plain": [
       "compactness                    0\n",
       "circularity                    5\n",
       "distance_circularity           4\n",
       "radius_ratio                   6\n",
       "pr.axis_aspect_ratio           2\n",
       "max.length_aspect_ratio        0\n",
       "scatter_ratio                  1\n",
       "elongatedness                  1\n",
       "pr.axis_rectangularity         3\n",
       "max.length_rectangularity      0\n",
       "scaled_variance                3\n",
       "scaled_variance.1              2\n",
       "scaled_radius_of_gyration      2\n",
       "scaled_radius_of_gyration.1    4\n",
       "skewness_about                 6\n",
       "skewness_about.1               1\n",
       "skewness_about.2               1\n",
       "hollows_ratio                  0\n",
       "class                          0\n",
       "dtype: int64"
      ]
     },
     "execution_count": 132,
     "metadata": {},
     "output_type": "execute_result"
    }
   ],
   "source": [
    "vehicle.isna().sum()"
   ]
  },
  {
   "cell_type": "code",
   "execution_count": 133,
   "metadata": {},
   "outputs": [
    {
     "data": {
      "text/plain": [
       "compactness                    0\n",
       "circularity                    0\n",
       "distance_circularity           0\n",
       "radius_ratio                   0\n",
       "pr.axis_aspect_ratio           0\n",
       "max.length_aspect_ratio        0\n",
       "scatter_ratio                  0\n",
       "elongatedness                  0\n",
       "pr.axis_rectangularity         0\n",
       "max.length_rectangularity      0\n",
       "scaled_variance                0\n",
       "scaled_variance.1              0\n",
       "scaled_radius_of_gyration      0\n",
       "scaled_radius_of_gyration.1    0\n",
       "skewness_about                 0\n",
       "skewness_about.1               0\n",
       "skewness_about.2               0\n",
       "hollows_ratio                  0\n",
       "class                          0\n",
       "dtype: int64"
      ]
     },
     "execution_count": 133,
     "metadata": {},
     "output_type": "execute_result"
    }
   ],
   "source": [
    "vehicle.dropna(inplace=True)\n",
    "vehicle.isna().sum()"
   ]
  },
  {
   "cell_type": "markdown",
   "metadata": {},
   "source": [
    "### 2. Print/ Plot the dependent (categorical variable) - Class column"
   ]
  },
  {
   "cell_type": "markdown",
   "metadata": {},
   "source": [
    "Since the variable is categorical, you can use value_counts function"
   ]
  },
  {
   "cell_type": "code",
   "execution_count": 134,
   "metadata": {},
   "outputs": [
    {
     "name": "stdout",
     "output_type": "stream",
     "text": [
      "<class 'pandas.core.frame.DataFrame'>\n",
      "Int64Index: 813 entries, 0 to 845\n",
      "Data columns (total 19 columns):\n",
      "compactness                    813 non-null int64\n",
      "circularity                    813 non-null float64\n",
      "distance_circularity           813 non-null float64\n",
      "radius_ratio                   813 non-null float64\n",
      "pr.axis_aspect_ratio           813 non-null float64\n",
      "max.length_aspect_ratio        813 non-null int64\n",
      "scatter_ratio                  813 non-null float64\n",
      "elongatedness                  813 non-null float64\n",
      "pr.axis_rectangularity         813 non-null float64\n",
      "max.length_rectangularity      813 non-null int64\n",
      "scaled_variance                813 non-null float64\n",
      "scaled_variance.1              813 non-null float64\n",
      "scaled_radius_of_gyration      813 non-null float64\n",
      "scaled_radius_of_gyration.1    813 non-null float64\n",
      "skewness_about                 813 non-null float64\n",
      "skewness_about.1               813 non-null float64\n",
      "skewness_about.2               813 non-null float64\n",
      "hollows_ratio                  813 non-null int64\n",
      "class                          813 non-null object\n",
      "dtypes: float64(14), int64(4), object(1)\n",
      "memory usage: 127.0+ KB\n"
     ]
    }
   ],
   "source": [
    "vehicle.info()"
   ]
  },
  {
   "cell_type": "code",
   "execution_count": 135,
   "metadata": {},
   "outputs": [
    {
     "data": {
      "text/html": [
       "<div>\n",
       "<style scoped>\n",
       "    .dataframe tbody tr th:only-of-type {\n",
       "        vertical-align: middle;\n",
       "    }\n",
       "\n",
       "    .dataframe tbody tr th {\n",
       "        vertical-align: top;\n",
       "    }\n",
       "\n",
       "    .dataframe thead th {\n",
       "        text-align: right;\n",
       "    }\n",
       "</style>\n",
       "<table border=\"1\" class=\"dataframe\">\n",
       "  <thead>\n",
       "    <tr style=\"text-align: right;\">\n",
       "      <th></th>\n",
       "      <th>compactness</th>\n",
       "      <th>circularity</th>\n",
       "      <th>distance_circularity</th>\n",
       "      <th>radius_ratio</th>\n",
       "      <th>pr.axis_aspect_ratio</th>\n",
       "      <th>max.length_aspect_ratio</th>\n",
       "      <th>scatter_ratio</th>\n",
       "      <th>elongatedness</th>\n",
       "      <th>pr.axis_rectangularity</th>\n",
       "      <th>max.length_rectangularity</th>\n",
       "      <th>scaled_variance</th>\n",
       "      <th>scaled_variance.1</th>\n",
       "      <th>scaled_radius_of_gyration</th>\n",
       "      <th>scaled_radius_of_gyration.1</th>\n",
       "      <th>skewness_about</th>\n",
       "      <th>skewness_about.1</th>\n",
       "      <th>skewness_about.2</th>\n",
       "      <th>hollows_ratio</th>\n",
       "    </tr>\n",
       "  </thead>\n",
       "  <tbody>\n",
       "    <tr>\n",
       "      <th>count</th>\n",
       "      <td>813.000000</td>\n",
       "      <td>813.000000</td>\n",
       "      <td>813.00000</td>\n",
       "      <td>813.000000</td>\n",
       "      <td>813.000000</td>\n",
       "      <td>813.000000</td>\n",
       "      <td>813.000000</td>\n",
       "      <td>813.00000</td>\n",
       "      <td>813.000000</td>\n",
       "      <td>813.000000</td>\n",
       "      <td>813.000000</td>\n",
       "      <td>813.000000</td>\n",
       "      <td>813.000000</td>\n",
       "      <td>813.000000</td>\n",
       "      <td>813.000000</td>\n",
       "      <td>813.000000</td>\n",
       "      <td>813.000000</td>\n",
       "      <td>813.000000</td>\n",
       "    </tr>\n",
       "    <tr>\n",
       "      <th>mean</th>\n",
       "      <td>93.656827</td>\n",
       "      <td>44.803198</td>\n",
       "      <td>82.04305</td>\n",
       "      <td>169.098401</td>\n",
       "      <td>61.774908</td>\n",
       "      <td>8.599016</td>\n",
       "      <td>168.563346</td>\n",
       "      <td>40.98893</td>\n",
       "      <td>20.558426</td>\n",
       "      <td>147.891759</td>\n",
       "      <td>188.377614</td>\n",
       "      <td>438.382534</td>\n",
       "      <td>174.252153</td>\n",
       "      <td>72.399754</td>\n",
       "      <td>6.351784</td>\n",
       "      <td>12.687577</td>\n",
       "      <td>188.979090</td>\n",
       "      <td>195.729397</td>\n",
       "    </tr>\n",
       "    <tr>\n",
       "      <th>std</th>\n",
       "      <td>8.233751</td>\n",
       "      <td>6.146659</td>\n",
       "      <td>15.78307</td>\n",
       "      <td>33.615402</td>\n",
       "      <td>7.973000</td>\n",
       "      <td>4.677174</td>\n",
       "      <td>33.082186</td>\n",
       "      <td>7.80338</td>\n",
       "      <td>2.573184</td>\n",
       "      <td>14.504648</td>\n",
       "      <td>31.165873</td>\n",
       "      <td>175.270368</td>\n",
       "      <td>32.332161</td>\n",
       "      <td>7.475994</td>\n",
       "      <td>4.921476</td>\n",
       "      <td>8.926951</td>\n",
       "      <td>6.153681</td>\n",
       "      <td>7.398781</td>\n",
       "    </tr>\n",
       "    <tr>\n",
       "      <th>min</th>\n",
       "      <td>73.000000</td>\n",
       "      <td>33.000000</td>\n",
       "      <td>40.00000</td>\n",
       "      <td>104.000000</td>\n",
       "      <td>47.000000</td>\n",
       "      <td>2.000000</td>\n",
       "      <td>112.000000</td>\n",
       "      <td>26.00000</td>\n",
       "      <td>17.000000</td>\n",
       "      <td>118.000000</td>\n",
       "      <td>130.000000</td>\n",
       "      <td>184.000000</td>\n",
       "      <td>109.000000</td>\n",
       "      <td>59.000000</td>\n",
       "      <td>0.000000</td>\n",
       "      <td>0.000000</td>\n",
       "      <td>176.000000</td>\n",
       "      <td>181.000000</td>\n",
       "    </tr>\n",
       "    <tr>\n",
       "      <th>25%</th>\n",
       "      <td>87.000000</td>\n",
       "      <td>40.000000</td>\n",
       "      <td>70.00000</td>\n",
       "      <td>141.000000</td>\n",
       "      <td>57.000000</td>\n",
       "      <td>7.000000</td>\n",
       "      <td>146.000000</td>\n",
       "      <td>33.00000</td>\n",
       "      <td>19.000000</td>\n",
       "      <td>137.000000</td>\n",
       "      <td>167.000000</td>\n",
       "      <td>318.000000</td>\n",
       "      <td>149.000000</td>\n",
       "      <td>67.000000</td>\n",
       "      <td>2.000000</td>\n",
       "      <td>6.000000</td>\n",
       "      <td>184.000000</td>\n",
       "      <td>191.000000</td>\n",
       "    </tr>\n",
       "    <tr>\n",
       "      <th>50%</th>\n",
       "      <td>93.000000</td>\n",
       "      <td>44.000000</td>\n",
       "      <td>79.00000</td>\n",
       "      <td>167.000000</td>\n",
       "      <td>61.000000</td>\n",
       "      <td>8.000000</td>\n",
       "      <td>157.000000</td>\n",
       "      <td>43.00000</td>\n",
       "      <td>20.000000</td>\n",
       "      <td>146.000000</td>\n",
       "      <td>179.000000</td>\n",
       "      <td>364.000000</td>\n",
       "      <td>173.000000</td>\n",
       "      <td>71.000000</td>\n",
       "      <td>6.000000</td>\n",
       "      <td>11.000000</td>\n",
       "      <td>189.000000</td>\n",
       "      <td>197.000000</td>\n",
       "    </tr>\n",
       "    <tr>\n",
       "      <th>75%</th>\n",
       "      <td>100.000000</td>\n",
       "      <td>49.000000</td>\n",
       "      <td>98.00000</td>\n",
       "      <td>195.000000</td>\n",
       "      <td>65.000000</td>\n",
       "      <td>10.000000</td>\n",
       "      <td>198.000000</td>\n",
       "      <td>46.00000</td>\n",
       "      <td>23.000000</td>\n",
       "      <td>159.000000</td>\n",
       "      <td>217.000000</td>\n",
       "      <td>586.000000</td>\n",
       "      <td>198.000000</td>\n",
       "      <td>75.000000</td>\n",
       "      <td>9.000000</td>\n",
       "      <td>19.000000</td>\n",
       "      <td>193.000000</td>\n",
       "      <td>201.000000</td>\n",
       "    </tr>\n",
       "    <tr>\n",
       "      <th>max</th>\n",
       "      <td>119.000000</td>\n",
       "      <td>59.000000</td>\n",
       "      <td>112.00000</td>\n",
       "      <td>333.000000</td>\n",
       "      <td>138.000000</td>\n",
       "      <td>55.000000</td>\n",
       "      <td>265.000000</td>\n",
       "      <td>61.00000</td>\n",
       "      <td>29.000000</td>\n",
       "      <td>188.000000</td>\n",
       "      <td>320.000000</td>\n",
       "      <td>1018.000000</td>\n",
       "      <td>268.000000</td>\n",
       "      <td>135.000000</td>\n",
       "      <td>22.000000</td>\n",
       "      <td>41.000000</td>\n",
       "      <td>206.000000</td>\n",
       "      <td>211.000000</td>\n",
       "    </tr>\n",
       "  </tbody>\n",
       "</table>\n",
       "</div>"
      ],
      "text/plain": [
       "       compactness  circularity  distance_circularity  radius_ratio  \\\n",
       "count   813.000000   813.000000             813.00000    813.000000   \n",
       "mean     93.656827    44.803198              82.04305    169.098401   \n",
       "std       8.233751     6.146659              15.78307     33.615402   \n",
       "min      73.000000    33.000000              40.00000    104.000000   \n",
       "25%      87.000000    40.000000              70.00000    141.000000   \n",
       "50%      93.000000    44.000000              79.00000    167.000000   \n",
       "75%     100.000000    49.000000              98.00000    195.000000   \n",
       "max     119.000000    59.000000             112.00000    333.000000   \n",
       "\n",
       "       pr.axis_aspect_ratio  max.length_aspect_ratio  scatter_ratio  \\\n",
       "count            813.000000               813.000000     813.000000   \n",
       "mean              61.774908                 8.599016     168.563346   \n",
       "std                7.973000                 4.677174      33.082186   \n",
       "min               47.000000                 2.000000     112.000000   \n",
       "25%               57.000000                 7.000000     146.000000   \n",
       "50%               61.000000                 8.000000     157.000000   \n",
       "75%               65.000000                10.000000     198.000000   \n",
       "max              138.000000                55.000000     265.000000   \n",
       "\n",
       "       elongatedness  pr.axis_rectangularity  max.length_rectangularity  \\\n",
       "count      813.00000              813.000000                 813.000000   \n",
       "mean        40.98893               20.558426                 147.891759   \n",
       "std          7.80338                2.573184                  14.504648   \n",
       "min         26.00000               17.000000                 118.000000   \n",
       "25%         33.00000               19.000000                 137.000000   \n",
       "50%         43.00000               20.000000                 146.000000   \n",
       "75%         46.00000               23.000000                 159.000000   \n",
       "max         61.00000               29.000000                 188.000000   \n",
       "\n",
       "       scaled_variance  scaled_variance.1  scaled_radius_of_gyration  \\\n",
       "count       813.000000         813.000000                 813.000000   \n",
       "mean        188.377614         438.382534                 174.252153   \n",
       "std          31.165873         175.270368                  32.332161   \n",
       "min         130.000000         184.000000                 109.000000   \n",
       "25%         167.000000         318.000000                 149.000000   \n",
       "50%         179.000000         364.000000                 173.000000   \n",
       "75%         217.000000         586.000000                 198.000000   \n",
       "max         320.000000        1018.000000                 268.000000   \n",
       "\n",
       "       scaled_radius_of_gyration.1  skewness_about  skewness_about.1  \\\n",
       "count                   813.000000      813.000000        813.000000   \n",
       "mean                     72.399754        6.351784         12.687577   \n",
       "std                       7.475994        4.921476          8.926951   \n",
       "min                      59.000000        0.000000          0.000000   \n",
       "25%                      67.000000        2.000000          6.000000   \n",
       "50%                      71.000000        6.000000         11.000000   \n",
       "75%                      75.000000        9.000000         19.000000   \n",
       "max                     135.000000       22.000000         41.000000   \n",
       "\n",
       "       skewness_about.2  hollows_ratio  \n",
       "count        813.000000     813.000000  \n",
       "mean         188.979090     195.729397  \n",
       "std            6.153681       7.398781  \n",
       "min          176.000000     181.000000  \n",
       "25%          184.000000     191.000000  \n",
       "50%          189.000000     197.000000  \n",
       "75%          193.000000     201.000000  \n",
       "max          206.000000     211.000000  "
      ]
     },
     "execution_count": 135,
     "metadata": {},
     "output_type": "execute_result"
    }
   ],
   "source": [
    "vehicle.describe()"
   ]
  },
  {
   "cell_type": "code",
   "execution_count": 136,
   "metadata": {},
   "outputs": [
    {
     "data": {
      "text/html": [
       "<div>\n",
       "<style scoped>\n",
       "    .dataframe tbody tr th:only-of-type {\n",
       "        vertical-align: middle;\n",
       "    }\n",
       "\n",
       "    .dataframe tbody tr th {\n",
       "        vertical-align: top;\n",
       "    }\n",
       "\n",
       "    .dataframe thead th {\n",
       "        text-align: right;\n",
       "    }\n",
       "</style>\n",
       "<table border=\"1\" class=\"dataframe\">\n",
       "  <thead>\n",
       "    <tr style=\"text-align: right;\">\n",
       "      <th></th>\n",
       "      <th>compactness</th>\n",
       "      <th>circularity</th>\n",
       "      <th>distance_circularity</th>\n",
       "      <th>radius_ratio</th>\n",
       "      <th>pr.axis_aspect_ratio</th>\n",
       "      <th>max.length_aspect_ratio</th>\n",
       "      <th>scatter_ratio</th>\n",
       "      <th>elongatedness</th>\n",
       "      <th>pr.axis_rectangularity</th>\n",
       "      <th>max.length_rectangularity</th>\n",
       "      <th>scaled_variance</th>\n",
       "      <th>scaled_variance.1</th>\n",
       "      <th>scaled_radius_of_gyration</th>\n",
       "      <th>scaled_radius_of_gyration.1</th>\n",
       "      <th>skewness_about</th>\n",
       "      <th>skewness_about.1</th>\n",
       "      <th>skewness_about.2</th>\n",
       "      <th>hollows_ratio</th>\n",
       "      <th>class</th>\n",
       "    </tr>\n",
       "  </thead>\n",
       "  <tbody>\n",
       "    <tr>\n",
       "      <th>0</th>\n",
       "      <td>95</td>\n",
       "      <td>48.0</td>\n",
       "      <td>83.0</td>\n",
       "      <td>178.0</td>\n",
       "      <td>72.0</td>\n",
       "      <td>10</td>\n",
       "      <td>162.0</td>\n",
       "      <td>42.0</td>\n",
       "      <td>20.0</td>\n",
       "      <td>159</td>\n",
       "      <td>176.0</td>\n",
       "      <td>379.0</td>\n",
       "      <td>184.0</td>\n",
       "      <td>70.0</td>\n",
       "      <td>6.0</td>\n",
       "      <td>16.0</td>\n",
       "      <td>187.0</td>\n",
       "      <td>197</td>\n",
       "      <td>van</td>\n",
       "    </tr>\n",
       "    <tr>\n",
       "      <th>1</th>\n",
       "      <td>91</td>\n",
       "      <td>41.0</td>\n",
       "      <td>84.0</td>\n",
       "      <td>141.0</td>\n",
       "      <td>57.0</td>\n",
       "      <td>9</td>\n",
       "      <td>149.0</td>\n",
       "      <td>45.0</td>\n",
       "      <td>19.0</td>\n",
       "      <td>143</td>\n",
       "      <td>170.0</td>\n",
       "      <td>330.0</td>\n",
       "      <td>158.0</td>\n",
       "      <td>72.0</td>\n",
       "      <td>9.0</td>\n",
       "      <td>14.0</td>\n",
       "      <td>189.0</td>\n",
       "      <td>199</td>\n",
       "      <td>van</td>\n",
       "    </tr>\n",
       "    <tr>\n",
       "      <th>2</th>\n",
       "      <td>104</td>\n",
       "      <td>50.0</td>\n",
       "      <td>106.0</td>\n",
       "      <td>209.0</td>\n",
       "      <td>66.0</td>\n",
       "      <td>10</td>\n",
       "      <td>207.0</td>\n",
       "      <td>32.0</td>\n",
       "      <td>23.0</td>\n",
       "      <td>158</td>\n",
       "      <td>223.0</td>\n",
       "      <td>635.0</td>\n",
       "      <td>220.0</td>\n",
       "      <td>73.0</td>\n",
       "      <td>14.0</td>\n",
       "      <td>9.0</td>\n",
       "      <td>188.0</td>\n",
       "      <td>196</td>\n",
       "      <td>car</td>\n",
       "    </tr>\n",
       "    <tr>\n",
       "      <th>3</th>\n",
       "      <td>93</td>\n",
       "      <td>41.0</td>\n",
       "      <td>82.0</td>\n",
       "      <td>159.0</td>\n",
       "      <td>63.0</td>\n",
       "      <td>9</td>\n",
       "      <td>144.0</td>\n",
       "      <td>46.0</td>\n",
       "      <td>19.0</td>\n",
       "      <td>143</td>\n",
       "      <td>160.0</td>\n",
       "      <td>309.0</td>\n",
       "      <td>127.0</td>\n",
       "      <td>63.0</td>\n",
       "      <td>6.0</td>\n",
       "      <td>10.0</td>\n",
       "      <td>199.0</td>\n",
       "      <td>207</td>\n",
       "      <td>van</td>\n",
       "    </tr>\n",
       "    <tr>\n",
       "      <th>4</th>\n",
       "      <td>85</td>\n",
       "      <td>44.0</td>\n",
       "      <td>70.0</td>\n",
       "      <td>205.0</td>\n",
       "      <td>103.0</td>\n",
       "      <td>52</td>\n",
       "      <td>149.0</td>\n",
       "      <td>45.0</td>\n",
       "      <td>19.0</td>\n",
       "      <td>144</td>\n",
       "      <td>241.0</td>\n",
       "      <td>325.0</td>\n",
       "      <td>188.0</td>\n",
       "      <td>127.0</td>\n",
       "      <td>9.0</td>\n",
       "      <td>11.0</td>\n",
       "      <td>180.0</td>\n",
       "      <td>183</td>\n",
       "      <td>bus</td>\n",
       "    </tr>\n",
       "  </tbody>\n",
       "</table>\n",
       "</div>"
      ],
      "text/plain": [
       "   compactness  circularity  distance_circularity  radius_ratio  \\\n",
       "0           95         48.0                  83.0         178.0   \n",
       "1           91         41.0                  84.0         141.0   \n",
       "2          104         50.0                 106.0         209.0   \n",
       "3           93         41.0                  82.0         159.0   \n",
       "4           85         44.0                  70.0         205.0   \n",
       "\n",
       "   pr.axis_aspect_ratio  max.length_aspect_ratio  scatter_ratio  \\\n",
       "0                  72.0                       10          162.0   \n",
       "1                  57.0                        9          149.0   \n",
       "2                  66.0                       10          207.0   \n",
       "3                  63.0                        9          144.0   \n",
       "4                 103.0                       52          149.0   \n",
       "\n",
       "   elongatedness  pr.axis_rectangularity  max.length_rectangularity  \\\n",
       "0           42.0                    20.0                        159   \n",
       "1           45.0                    19.0                        143   \n",
       "2           32.0                    23.0                        158   \n",
       "3           46.0                    19.0                        143   \n",
       "4           45.0                    19.0                        144   \n",
       "\n",
       "   scaled_variance  scaled_variance.1  scaled_radius_of_gyration  \\\n",
       "0            176.0              379.0                      184.0   \n",
       "1            170.0              330.0                      158.0   \n",
       "2            223.0              635.0                      220.0   \n",
       "3            160.0              309.0                      127.0   \n",
       "4            241.0              325.0                      188.0   \n",
       "\n",
       "   scaled_radius_of_gyration.1  skewness_about  skewness_about.1  \\\n",
       "0                         70.0             6.0              16.0   \n",
       "1                         72.0             9.0              14.0   \n",
       "2                         73.0            14.0               9.0   \n",
       "3                         63.0             6.0              10.0   \n",
       "4                        127.0             9.0              11.0   \n",
       "\n",
       "   skewness_about.2  hollows_ratio class  \n",
       "0             187.0            197   van  \n",
       "1             189.0            199   van  \n",
       "2             188.0            196   car  \n",
       "3             199.0            207   van  \n",
       "4             180.0            183   bus  "
      ]
     },
     "execution_count": 136,
     "metadata": {},
     "output_type": "execute_result"
    }
   ],
   "source": [
    "vehicle.head()"
   ]
  },
  {
   "cell_type": "code",
   "execution_count": 137,
   "metadata": {},
   "outputs": [
    {
     "data": {
      "text/plain": [
       "<matplotlib.axes._subplots.AxesSubplot at 0x1dac0bb8fd0>"
      ]
     },
     "execution_count": 137,
     "metadata": {},
     "output_type": "execute_result"
    },
    {
     "data": {
      "image/png": "[encoded data removed]",
      "text/plain": [
       "<Figure size 1152x648 with 1 Axes>"
      ]
     },
     "metadata": {},
     "output_type": "display_data"
    }
   ],
   "source": [
    "sns.countplot(x='class',data=vehicle)"
   ]
  },
  {
   "cell_type": "markdown",
   "metadata": {},
   "source": [
    "### Check for any missing values in the data "
   ]
  },
  {
   "cell_type": "code",
   "execution_count": 138,
   "metadata": {},
   "outputs": [
    {
     "data": {
      "text/plain": [
       "compactness                    0\n",
       "circularity                    0\n",
       "distance_circularity           0\n",
       "radius_ratio                   0\n",
       "pr.axis_aspect_ratio           0\n",
       "max.length_aspect_ratio        0\n",
       "scatter_ratio                  0\n",
       "elongatedness                  0\n",
       "pr.axis_rectangularity         0\n",
       "max.length_rectangularity      0\n",
       "scaled_variance                0\n",
       "scaled_variance.1              0\n",
       "scaled_radius_of_gyration      0\n",
       "scaled_radius_of_gyration.1    0\n",
       "skewness_about                 0\n",
       "skewness_about.1               0\n",
       "skewness_about.2               0\n",
       "hollows_ratio                  0\n",
       "class                          0\n",
       "dtype: int64"
      ]
     },
     "execution_count": 138,
     "metadata": {},
     "output_type": "execute_result"
    }
   ],
   "source": [
    "vehicle.isnull().sum()"
   ]
  },
  {
   "cell_type": "markdown",
   "metadata": {},
   "source": [
    "### 3. Standardize the data "
   ]
  },
  {
   "cell_type": "code",
   "execution_count": 139,
   "metadata": {},
   "outputs": [],
   "source": [
    "from scipy.stats import zscore\n",
    "vehicle_z=vehicle.drop(\"class\",axis=1)\n",
    "vehicle_z=vehicle_z.apply(zscore)"
   ]
  },
  {
   "cell_type": "code",
   "execution_count": 140,
   "metadata": {},
   "outputs": [
    {
     "data": {
      "text/html": [
       "<div>\n",
       "<style scoped>\n",
       "    .dataframe tbody tr th:only-of-type {\n",
       "        vertical-align: middle;\n",
       "    }\n",
       "\n",
       "    .dataframe tbody tr th {\n",
       "        vertical-align: top;\n",
       "    }\n",
       "\n",
       "    .dataframe thead th {\n",
       "        text-align: right;\n",
       "    }\n",
       "</style>\n",
       "<table border=\"1\" class=\"dataframe\">\n",
       "  <thead>\n",
       "    <tr style=\"text-align: right;\">\n",
       "      <th></th>\n",
       "      <th>compactness</th>\n",
       "      <th>circularity</th>\n",
       "      <th>distance_circularity</th>\n",
       "      <th>radius_ratio</th>\n",
       "      <th>pr.axis_aspect_ratio</th>\n",
       "      <th>max.length_aspect_ratio</th>\n",
       "      <th>scatter_ratio</th>\n",
       "      <th>elongatedness</th>\n",
       "      <th>pr.axis_rectangularity</th>\n",
       "      <th>max.length_rectangularity</th>\n",
       "      <th>scaled_variance</th>\n",
       "      <th>scaled_variance.1</th>\n",
       "      <th>scaled_radius_of_gyration</th>\n",
       "      <th>scaled_radius_of_gyration.1</th>\n",
       "      <th>skewness_about</th>\n",
       "      <th>skewness_about.1</th>\n",
       "      <th>skewness_about.2</th>\n",
       "      <th>hollows_ratio</th>\n",
       "    </tr>\n",
       "  </thead>\n",
       "  <tbody>\n",
       "    <tr>\n",
       "      <th>count</th>\n",
       "      <td>8.130000e+02</td>\n",
       "      <td>8.130000e+02</td>\n",
       "      <td>8.130000e+02</td>\n",
       "      <td>8.130000e+02</td>\n",
       "      <td>8.130000e+02</td>\n",
       "      <td>8.130000e+02</td>\n",
       "      <td>8.130000e+02</td>\n",
       "      <td>8.130000e+02</td>\n",
       "      <td>8.130000e+02</td>\n",
       "      <td>8.130000e+02</td>\n",
       "      <td>8.130000e+02</td>\n",
       "      <td>8.130000e+02</td>\n",
       "      <td>8.130000e+02</td>\n",
       "      <td>8.130000e+02</td>\n",
       "      <td>8.130000e+02</td>\n",
       "      <td>8.130000e+02</td>\n",
       "      <td>8.130000e+02</td>\n",
       "      <td>8.130000e+02</td>\n",
       "    </tr>\n",
       "    <tr>\n",
       "      <th>mean</th>\n",
       "      <td>-2.425284e-16</td>\n",
       "      <td>-4.642999e-16</td>\n",
       "      <td>-2.351542e-16</td>\n",
       "      <td>3.665238e-16</td>\n",
       "      <td>-2.047016e-16</td>\n",
       "      <td>-1.349201e-16</td>\n",
       "      <td>3.714399e-16</td>\n",
       "      <td>-2.062038e-16</td>\n",
       "      <td>-2.651972e-16</td>\n",
       "      <td>-7.398756e-16</td>\n",
       "      <td>-3.031605e-17</td>\n",
       "      <td>-3.550529e-17</td>\n",
       "      <td>3.348422e-16</td>\n",
       "      <td>1.312159e-16</td>\n",
       "      <td>-1.693329e-17</td>\n",
       "      <td>9.845889e-17</td>\n",
       "      <td>-1.169490e-15</td>\n",
       "      <td>3.482249e-16</td>\n",
       "    </tr>\n",
       "    <tr>\n",
       "      <th>std</th>\n",
       "      <td>1.000616e+00</td>\n",
       "      <td>1.000616e+00</td>\n",
       "      <td>1.000616e+00</td>\n",
       "      <td>1.000616e+00</td>\n",
       "      <td>1.000616e+00</td>\n",
       "      <td>1.000616e+00</td>\n",
       "      <td>1.000616e+00</td>\n",
       "      <td>1.000616e+00</td>\n",
       "      <td>1.000616e+00</td>\n",
       "      <td>1.000616e+00</td>\n",
       "      <td>1.000616e+00</td>\n",
       "      <td>1.000616e+00</td>\n",
       "      <td>1.000616e+00</td>\n",
       "      <td>1.000616e+00</td>\n",
       "      <td>1.000616e+00</td>\n",
       "      <td>1.000616e+00</td>\n",
       "      <td>1.000616e+00</td>\n",
       "      <td>1.000616e+00</td>\n",
       "    </tr>\n",
       "    <tr>\n",
       "      <th>min</th>\n",
       "      <td>-2.510344e+00</td>\n",
       "      <td>-1.921444e+00</td>\n",
       "      <td>-2.665447e+00</td>\n",
       "      <td>-1.937757e+00</td>\n",
       "      <td>-1.854258e+00</td>\n",
       "      <td>-1.411767e+00</td>\n",
       "      <td>-1.710835e+00</td>\n",
       "      <td>-1.922008e+00</td>\n",
       "      <td>-1.383740e+00</td>\n",
       "      <td>-2.062109e+00</td>\n",
       "      <td>-1.874279e+00</td>\n",
       "      <td>-1.452266e+00</td>\n",
       "      <td>-2.019423e+00</td>\n",
       "      <td>-1.793474e+00</td>\n",
       "      <td>-1.291420e+00</td>\n",
       "      <td>-1.422141e+00</td>\n",
       "      <td>-2.110457e+00</td>\n",
       "      <td>-1.992013e+00</td>\n",
       "    </tr>\n",
       "    <tr>\n",
       "      <th>25%</th>\n",
       "      <td>-8.089782e-01</td>\n",
       "      <td>-7.819133e-01</td>\n",
       "      <td>-7.635057e-01</td>\n",
       "      <td>-8.363933e-01</td>\n",
       "      <td>-5.992534e-01</td>\n",
       "      <td>-3.420870e-01</td>\n",
       "      <td>-6.824590e-01</td>\n",
       "      <td>-1.024408e+00</td>\n",
       "      <td>-6.060138e-01</td>\n",
       "      <td>-7.513773e-01</td>\n",
       "      <td>-6.863524e-01</td>\n",
       "      <td>-6.872619e-01</td>\n",
       "      <td>-7.815035e-01</td>\n",
       "      <td>-7.227236e-01</td>\n",
       "      <td>-8.847879e-01</td>\n",
       "      <td>-7.496057e-01</td>\n",
       "      <td>-8.096219e-01</td>\n",
       "      <td>-6.396066e-01</td>\n",
       "    </tr>\n",
       "    <tr>\n",
       "      <th>50%</th>\n",
       "      <td>-7.982157e-02</td>\n",
       "      <td>-1.307527e-01</td>\n",
       "      <td>-1.929234e-01</td>\n",
       "      <td>-6.246222e-02</td>\n",
       "      <td>-9.725132e-02</td>\n",
       "      <td>-1.281510e-01</td>\n",
       "      <td>-3.497491e-01</td>\n",
       "      <td>2.578765e-01</td>\n",
       "      <td>-2.171510e-01</td>\n",
       "      <td>-1.305046e-01</td>\n",
       "      <td>-3.010789e-01</td>\n",
       "      <td>-4.246486e-01</td>\n",
       "      <td>-3.875161e-02</td>\n",
       "      <td>-1.873484e-01</td>\n",
       "      <td>-7.152328e-02</td>\n",
       "      <td>-1.891593e-01</td>\n",
       "      <td>3.400092e-03</td>\n",
       "      <td>1.718371e-01</td>\n",
       "    </tr>\n",
       "    <tr>\n",
       "      <th>75%</th>\n",
       "      <td>7.708611e-01</td>\n",
       "      <td>6.831980e-01</td>\n",
       "      <td>1.011639e+00</td>\n",
       "      <td>7.710020e-01</td>\n",
       "      <td>4.047507e-01</td>\n",
       "      <td>2.997208e-01</td>\n",
       "      <td>8.903515e-01</td>\n",
       "      <td>6.425619e-01</td>\n",
       "      <td>9.494376e-01</td>\n",
       "      <td>7.663115e-01</td>\n",
       "      <td>9.189540e-01</td>\n",
       "      <td>8.427456e-01</td>\n",
       "      <td>7.349483e-01</td>\n",
       "      <td>3.480268e-01</td>\n",
       "      <td>5.384252e-01</td>\n",
       "      <td>7.075550e-01</td>\n",
       "      <td>6.538177e-01</td>\n",
       "      <td>7.127995e-01</td>\n",
       "    </tr>\n",
       "    <tr>\n",
       "      <th>max</th>\n",
       "      <td>3.079857e+00</td>\n",
       "      <td>2.311100e+00</td>\n",
       "      <td>1.899212e+00</td>\n",
       "      <td>4.878790e+00</td>\n",
       "      <td>9.566288e+00</td>\n",
       "      <td>9.926837e+00</td>\n",
       "      <td>2.916857e+00</td>\n",
       "      <td>2.565989e+00</td>\n",
       "      <td>3.282615e+00</td>\n",
       "      <td>2.766901e+00</td>\n",
       "      <td>4.225885e+00</td>\n",
       "      <td>3.309026e+00</td>\n",
       "      <td>2.901308e+00</td>\n",
       "      <td>8.378655e+00</td>\n",
       "      <td>3.181535e+00</td>\n",
       "      <td>3.173519e+00</td>\n",
       "      <td>2.767675e+00</td>\n",
       "      <td>2.065206e+00</td>\n",
       "    </tr>\n",
       "  </tbody>\n",
       "</table>\n",
       "</div>"
      ],
      "text/plain": [
       "        compactness   circularity  distance_circularity  radius_ratio  \\\n",
       "count  8.130000e+02  8.130000e+02          8.130000e+02  8.130000e+02   \n",
       "mean  -2.425284e-16 -4.642999e-16         -2.351542e-16  3.665238e-16   \n",
       "std    1.000616e+00  1.000616e+00          1.000616e+00  1.000616e+00   \n",
       "min   -2.510344e+00 -1.921444e+00         -2.665447e+00 -1.937757e+00   \n",
       "25%   -8.089782e-01 -7.819133e-01         -7.635057e-01 -8.363933e-01   \n",
       "50%   -7.982157e-02 -1.307527e-01         -1.929234e-01 -6.246222e-02   \n",
       "75%    7.708611e-01  6.831980e-01          1.011639e+00  7.710020e-01   \n",
       "max    3.079857e+00  2.311100e+00          1.899212e+00  4.878790e+00   \n",
       "\n",
       "       pr.axis_aspect_ratio  max.length_aspect_ratio  scatter_ratio  \\\n",
       "count          8.130000e+02             8.130000e+02   8.130000e+02   \n",
       "mean          -2.047016e-16            -1.349201e-16   3.714399e-16   \n",
       "std            1.000616e+00             1.000616e+00   1.000616e+00   \n",
       "min           -1.854258e+00            -1.411767e+00  -1.710835e+00   \n",
       "25%           -5.992534e-01            -3.420870e-01  -6.824590e-01   \n",
       "50%           -9.725132e-02            -1.281510e-01  -3.497491e-01   \n",
       "75%            4.047507e-01             2.997208e-01   8.903515e-01   \n",
       "max            9.566288e+00             9.926837e+00   2.916857e+00   \n",
       "\n",
       "       elongatedness  pr.axis_rectangularity  max.length_rectangularity  \\\n",
       "count   8.130000e+02            8.130000e+02               8.130000e+02   \n",
       "mean   -2.062038e-16           -2.651972e-16              -7.398756e-16   \n",
       "std     1.000616e+00            1.000616e+00               1.000616e+00   \n",
       "min    -1.922008e+00           -1.383740e+00              -2.062109e+00   \n",
       "25%    -1.024408e+00           -6.060138e-01              -7.513773e-01   \n",
       "50%     2.578765e-01           -2.171510e-01              -1.305046e-01   \n",
       "75%     6.425619e-01            9.494376e-01               7.663115e-01   \n",
       "max     2.565989e+00            3.282615e+00               2.766901e+00   \n",
       "\n",
       "       scaled_variance  scaled_variance.1  scaled_radius_of_gyration  \\\n",
       "count     8.130000e+02       8.130000e+02               8.130000e+02   \n",
       "mean     -3.031605e-17      -3.550529e-17               3.348422e-16   \n",
       "std       1.000616e+00       1.000616e+00               1.000616e+00   \n",
       "min      -1.874279e+00      -1.452266e+00              -2.019423e+00   \n",
       "25%      -6.863524e-01      -6.872619e-01              -7.815035e-01   \n",
       "50%      -3.010789e-01      -4.246486e-01              -3.875161e-02   \n",
       "75%       9.189540e-01       8.427456e-01               7.349483e-01   \n",
       "max       4.225885e+00       3.309026e+00               2.901308e+00   \n",
       "\n",
       "       scaled_radius_of_gyration.1  skewness_about  skewness_about.1  \\\n",
       "count                 8.130000e+02    8.130000e+02      8.130000e+02   \n",
       "mean                  1.312159e-16   -1.693329e-17      9.845889e-17   \n",
       "std                   1.000616e+00    1.000616e+00      1.000616e+00   \n",
       "min                  -1.793474e+00   -1.291420e+00     -1.422141e+00   \n",
       "25%                  -7.227236e-01   -8.847879e-01     -7.496057e-01   \n",
       "50%                  -1.873484e-01   -7.152328e-02     -1.891593e-01   \n",
       "75%                   3.480268e-01    5.384252e-01      7.075550e-01   \n",
       "max                   8.378655e+00    3.181535e+00      3.173519e+00   \n",
       "\n",
       "       skewness_about.2  hollows_ratio  \n",
       "count      8.130000e+02   8.130000e+02  \n",
       "mean      -1.169490e-15   3.482249e-16  \n",
       "std        1.000616e+00   1.000616e+00  \n",
       "min       -2.110457e+00  -1.992013e+00  \n",
       "25%       -8.096219e-01  -6.396066e-01  \n",
       "50%        3.400092e-03   1.718371e-01  \n",
       "75%        6.538177e-01   7.127995e-01  \n",
       "max        2.767675e+00   2.065206e+00  "
      ]
     },
     "execution_count": 140,
     "metadata": {},
     "output_type": "execute_result"
    }
   ],
   "source": [
    "vehicle_z.describe()"
   ]
  },
  {
   "cell_type": "markdown",
   "metadata": {},
   "source": [
    "Since the dimensions of the data are not really known to us, it would be wise to standardize the data using z scores before we go for any clustering methods.\n",
    "You can use zscore function to do this"
   ]
  },
  {
   "cell_type": "markdown",
   "metadata": {},
   "source": [
    "### K - Means Clustering"
   ]
  },
  {
   "cell_type": "markdown",
   "metadata": {},
   "source": [
    "### 4. Assign a dummy array called distortion"
   ]
  },
  {
   "cell_type": "code",
   "execution_count": 141,
   "metadata": {},
   "outputs": [],
   "source": [
    "distortion=[]"
   ]
  },
  {
   "cell_type": "markdown",
   "metadata": {},
   "source": [
    "You can later use this array to plot the elbow plot"
   ]
  },
  {
   "cell_type": "markdown",
   "metadata": {},
   "source": [
    "### 5. Calculating distortion - C distance"
   ]
  },
  {
   "cell_type": "code",
   "execution_count": 149,
   "metadata": {},
   "outputs": [
    {
     "data": {
      "text/html": [
       "<div>\n",
       "<style scoped>\n",
       "    .dataframe tbody tr th:only-of-type {\n",
       "        vertical-align: middle;\n",
       "    }\n",
       "\n",
       "    .dataframe tbody tr th {\n",
       "        vertical-align: top;\n",
       "    }\n",
       "\n",
       "    .dataframe thead th {\n",
       "        text-align: right;\n",
       "    }\n",
       "</style>\n",
       "<table border=\"1\" class=\"dataframe\">\n",
       "  <thead>\n",
       "    <tr style=\"text-align: right;\">\n",
       "      <th></th>\n",
       "      <th>num_clusters</th>\n",
       "      <th>cluster_errors</th>\n",
       "    </tr>\n",
       "  </thead>\n",
       "  <tbody>\n",
       "    <tr>\n",
       "      <th>0</th>\n",
       "      <td>1</td>\n",
       "      <td>14634.000000</td>\n",
       "    </tr>\n",
       "    <tr>\n",
       "      <th>1</th>\n",
       "      <td>2</td>\n",
       "      <td>8623.136976</td>\n",
       "    </tr>\n",
       "    <tr>\n",
       "      <th>2</th>\n",
       "      <td>3</td>\n",
       "      <td>7039.276248</td>\n",
       "    </tr>\n",
       "    <tr>\n",
       "      <th>3</th>\n",
       "      <td>4</td>\n",
       "      <td>5741.267784</td>\n",
       "    </tr>\n",
       "    <tr>\n",
       "      <th>4</th>\n",
       "      <td>5</td>\n",
       "      <td>5193.019499</td>\n",
       "    </tr>\n",
       "    <tr>\n",
       "      <th>5</th>\n",
       "      <td>6</td>\n",
       "      <td>4707.860902</td>\n",
       "    </tr>\n",
       "    <tr>\n",
       "      <th>6</th>\n",
       "      <td>7</td>\n",
       "      <td>4350.003207</td>\n",
       "    </tr>\n",
       "    <tr>\n",
       "      <th>7</th>\n",
       "      <td>8</td>\n",
       "      <td>4086.020522</td>\n",
       "    </tr>\n",
       "    <tr>\n",
       "      <th>8</th>\n",
       "      <td>9</td>\n",
       "      <td>3846.676599</td>\n",
       "    </tr>\n",
       "  </tbody>\n",
       "</table>\n",
       "</div>"
      ],
      "text/plain": [
       "   num_clusters  cluster_errors\n",
       "0             1    14634.000000\n",
       "1             2     8623.136976\n",
       "2             3     7039.276248\n",
       "3             4     5741.267784\n",
       "4             5     5193.019499\n",
       "5             6     4707.860902\n",
       "6             7     4350.003207\n",
       "7             8     4086.020522\n",
       "8             9     3846.676599"
      ]
     },
     "execution_count": 149,
     "metadata": {},
     "output_type": "execute_result"
    }
   ],
   "source": [
    "distortion=[]\n",
    "cluster_range = range( 1, 10)   \n",
    "cluster_errors = []\n",
    "cluster_sil_scores = []\n",
    "for num_clusters in cluster_range:\n",
    "  clusters = KMeans( num_clusters, n_init = 5)\n",
    "  clusters.fit(vehicle_z)\n",
    "  labels = clusters.labels_                     # capture the cluster lables\n",
    "  centroids = clusters.cluster_centers_         # capture the centroids\n",
    "  cluster_errors.append( clusters.inertia_ )    # capture the inertia\n",
    "  distortion.append(sum(np.min(distance.cdist(vehicle_z, clusters.cluster_centers_, 'euclidean'), axis=1))/ vehicle_z.shape[0]) \n",
    "\n",
    "clusters_df = pd.DataFrame( { \"num_clusters\":cluster_range, \"cluster_errors\": cluster_errors } )\n",
    "clusters_df[0:15]"
   ]
  },
  {
   "cell_type": "markdown",
   "metadata": {},
   "source": [
    "Iterating values of k from 1 to 10 fit K means model\n",
    "Using c distance - Get the measure for Sum of squares error."
   ]
  },
  {
   "cell_type": "markdown",
   "metadata": {},
   "source": [
    "### 6. Plotting Elbow/ Scree Plot"
   ]
  },
  {
   "cell_type": "code",
   "execution_count": 150,
   "metadata": {},
   "outputs": [
    {
     "data": {
      "text/plain": [
       "[<matplotlib.lines.Line2D at 0x1dac0f09a58>]"
      ]
     },
     "execution_count": 150,
     "metadata": {},
     "output_type": "execute_result"
    },
    {
     "data": {
      "image/png": "[encoded data removed]",
      "text/plain": [
       "<Figure size 864x432 with 1 Axes>"
      ]
     },
     "metadata": {},
     "output_type": "display_data"
    }
   ],
   "source": [
    "plt.figure(figsize=(12,6))\n",
    "plt.plot( clusters_df.num_clusters, clusters_df.cluster_errors, marker = \"o\" )"
   ]
  },
  {
   "cell_type": "code",
   "execution_count": 151,
   "metadata": {},
   "outputs": [
    {
     "data": {
      "text/plain": [
       "[<matplotlib.lines.Line2D at 0x1dac0f6ebe0>]"
      ]
     },
     "execution_count": 151,
     "metadata": {},
     "output_type": "execute_result"
    },
    {
     "data": {
      "image/png": "[encoded data removed]",
      "text/plain": [
       "<Figure size 1152x648 with 1 Axes>"
      ]
     },
     "metadata": {},
     "output_type": "display_data"
    }
   ],
   "source": [
    "plt.plot(range(1,10), distortion, 'go-')"
   ]
  },
  {
   "cell_type": "markdown",
   "metadata": {},
   "source": [
    "Use Matplotlib to plot the scree plot - Note: Scree plot plots distortion vs the no of clusters"
   ]
  },
  {
   "cell_type": "markdown",
   "metadata": {},
   "source": [
    "### Find out the optimal value of K"
   ]
  },
  {
   "cell_type": "markdown",
   "metadata": {},
   "source": [
    "From the Screeplot and elbowplot, the optimal K value is 4 as curve bends at 4 prominently."
   ]
  },
  {
   "cell_type": "markdown",
   "metadata": {},
   "source": [
    "### Using optimal value of K - Cluster the data. \n",
    "Note: Since the data has more than 2 dimension we cannot visualize the data. As an alternative, we can observe the centroids and note how they are distributed across different dimensions"
   ]
  },
  {
   "cell_type": "code",
   "execution_count": 152,
   "metadata": {},
   "outputs": [
    {
     "data": {
      "text/plain": [
       "KMeans(algorithm='auto', copy_x=True, init='k-means++', max_iter=300,\n",
       "    n_clusters=4, n_init=10, n_jobs=None, precompute_distances='auto',\n",
       "    random_state=1, tol=0.0001, verbose=0)"
      ]
     },
     "execution_count": 152,
     "metadata": {},
     "output_type": "execute_result"
    }
   ],
   "source": [
    "cluster = KMeans( n_clusters = 4, random_state = 1 )\n",
    "cluster.fit(vehicle_z)"
   ]
  },
  {
   "cell_type": "markdown",
   "metadata": {},
   "source": [
    "You can use kmeans.cluster_centers_ function to pull the centroid information from the instance"
   ]
  },
  {
   "cell_type": "markdown",
   "metadata": {},
   "source": [
    "### 7. Store the centroids in a dataframe with column names from the original dataset given "
   ]
  },
  {
   "cell_type": "code",
   "execution_count": 153,
   "metadata": {},
   "outputs": [
    {
     "data": {
      "text/plain": [
       "array([[-2.13500277e-01, -5.67572972e-01, -2.95628226e-01,\n",
       "        -1.91022365e-02,  1.91818192e-01, -1.70225098e-01,\n",
       "        -4.43512774e-01,  3.03183878e-01, -4.73800458e-01,\n",
       "        -5.31082478e-01, -4.08420378e-01, -4.49349497e-01,\n",
       "        -5.93030219e-01, -6.52678719e-01, -4.98362181e-02,\n",
       "         1.18541663e-02,  8.52195044e-01,  7.33987197e-01],\n",
       "       [ 1.15442786e+00,  1.18428647e+00,  1.21198691e+00,\n",
       "         9.73321772e-01,  9.49213388e-02,  2.18659142e-01,\n",
       "         1.29796844e+00, -1.21424667e+00,  1.30184458e+00,\n",
       "         1.09830595e+00,  1.20590258e+00,  1.30898668e+00,\n",
       "         1.09121291e+00, -1.07878646e-01,  1.68326262e-01,\n",
       "         2.67954844e-01,  4.67043879e-03,  1.90327006e-01],\n",
       "       [-9.06101420e-01, -5.36093671e-01, -8.81135798e-01,\n",
       "        -1.07237417e+00, -5.48347532e-01, -2.99127932e-01,\n",
       "        -7.82915761e-01,  8.68120486e-01, -7.49690067e-01,\n",
       "        -4.98429173e-01, -8.02269752e-01, -7.85506804e-01,\n",
       "        -4.14229104e-01,  7.37732703e-01, -1.04184507e-01,\n",
       "        -2.82341959e-01, -1.00879595e+00, -1.06542436e+00],\n",
       "       [-7.33024343e-01,  7.27349604e-02, -2.72170954e-01,\n",
       "         2.94768327e+00,  6.83665190e+00,  8.69670551e+00,\n",
       "        -5.35008001e-01,  4.66247771e-01, -5.57405972e-01,\n",
       "         2.83410527e-01,  1.69752769e+00, -5.88068272e-01,\n",
       "         2.12700856e-01,  4.96563826e+00, -2.74839440e-01,\n",
       "        -2.31192779e-01, -7.07994144e-01, -4.53650721e-01]])"
      ]
     },
     "execution_count": 153,
     "metadata": {},
     "output_type": "execute_result"
    }
   ],
   "source": [
    "centroids = cluster.cluster_centers_\n",
    "centroids"
   ]
  },
  {
   "cell_type": "markdown",
   "metadata": {},
   "source": [
    "Hint: Use pd.Dataframe function "
   ]
  },
  {
   "cell_type": "code",
   "execution_count": 154,
   "metadata": {},
   "outputs": [
    {
     "data": {
      "text/html": [
       "<div>\n",
       "<style scoped>\n",
       "    .dataframe tbody tr th:only-of-type {\n",
       "        vertical-align: middle;\n",
       "    }\n",
       "\n",
       "    .dataframe tbody tr th {\n",
       "        vertical-align: top;\n",
       "    }\n",
       "\n",
       "    .dataframe thead th {\n",
       "        text-align: right;\n",
       "    }\n",
       "</style>\n",
       "<table border=\"1\" class=\"dataframe\">\n",
       "  <thead>\n",
       "    <tr style=\"text-align: right;\">\n",
       "      <th></th>\n",
       "      <th>compactness</th>\n",
       "      <th>circularity</th>\n",
       "      <th>distance_circularity</th>\n",
       "      <th>radius_ratio</th>\n",
       "      <th>pr.axis_aspect_ratio</th>\n",
       "      <th>max.length_aspect_ratio</th>\n",
       "      <th>scatter_ratio</th>\n",
       "      <th>elongatedness</th>\n",
       "      <th>pr.axis_rectangularity</th>\n",
       "      <th>max.length_rectangularity</th>\n",
       "      <th>scaled_variance</th>\n",
       "      <th>scaled_variance.1</th>\n",
       "      <th>scaled_radius_of_gyration</th>\n",
       "      <th>scaled_radius_of_gyration.1</th>\n",
       "      <th>skewness_about</th>\n",
       "      <th>skewness_about.1</th>\n",
       "      <th>skewness_about.2</th>\n",
       "      <th>hollows_ratio</th>\n",
       "    </tr>\n",
       "  </thead>\n",
       "  <tbody>\n",
       "    <tr>\n",
       "      <th>0</th>\n",
       "      <td>-0.213500</td>\n",
       "      <td>-0.567573</td>\n",
       "      <td>-0.295628</td>\n",
       "      <td>-0.019102</td>\n",
       "      <td>0.191818</td>\n",
       "      <td>-0.170225</td>\n",
       "      <td>-0.443513</td>\n",
       "      <td>0.303184</td>\n",
       "      <td>-0.473800</td>\n",
       "      <td>-0.531082</td>\n",
       "      <td>-0.408420</td>\n",
       "      <td>-0.449349</td>\n",
       "      <td>-0.593030</td>\n",
       "      <td>-0.652679</td>\n",
       "      <td>-0.049836</td>\n",
       "      <td>0.011854</td>\n",
       "      <td>0.852195</td>\n",
       "      <td>0.733987</td>\n",
       "    </tr>\n",
       "    <tr>\n",
       "      <th>1</th>\n",
       "      <td>1.154428</td>\n",
       "      <td>1.184286</td>\n",
       "      <td>1.211987</td>\n",
       "      <td>0.973322</td>\n",
       "      <td>0.094921</td>\n",
       "      <td>0.218659</td>\n",
       "      <td>1.297968</td>\n",
       "      <td>-1.214247</td>\n",
       "      <td>1.301845</td>\n",
       "      <td>1.098306</td>\n",
       "      <td>1.205903</td>\n",
       "      <td>1.308987</td>\n",
       "      <td>1.091213</td>\n",
       "      <td>-0.107879</td>\n",
       "      <td>0.168326</td>\n",
       "      <td>0.267955</td>\n",
       "      <td>0.004670</td>\n",
       "      <td>0.190327</td>\n",
       "    </tr>\n",
       "    <tr>\n",
       "      <th>2</th>\n",
       "      <td>-0.906101</td>\n",
       "      <td>-0.536094</td>\n",
       "      <td>-0.881136</td>\n",
       "      <td>-1.072374</td>\n",
       "      <td>-0.548348</td>\n",
       "      <td>-0.299128</td>\n",
       "      <td>-0.782916</td>\n",
       "      <td>0.868120</td>\n",
       "      <td>-0.749690</td>\n",
       "      <td>-0.498429</td>\n",
       "      <td>-0.802270</td>\n",
       "      <td>-0.785507</td>\n",
       "      <td>-0.414229</td>\n",
       "      <td>0.737733</td>\n",
       "      <td>-0.104185</td>\n",
       "      <td>-0.282342</td>\n",
       "      <td>-1.008796</td>\n",
       "      <td>-1.065424</td>\n",
       "    </tr>\n",
       "    <tr>\n",
       "      <th>3</th>\n",
       "      <td>-0.733024</td>\n",
       "      <td>0.072735</td>\n",
       "      <td>-0.272171</td>\n",
       "      <td>2.947683</td>\n",
       "      <td>6.836652</td>\n",
       "      <td>8.696706</td>\n",
       "      <td>-0.535008</td>\n",
       "      <td>0.466248</td>\n",
       "      <td>-0.557406</td>\n",
       "      <td>0.283411</td>\n",
       "      <td>1.697528</td>\n",
       "      <td>-0.588068</td>\n",
       "      <td>0.212701</td>\n",
       "      <td>4.965638</td>\n",
       "      <td>-0.274839</td>\n",
       "      <td>-0.231193</td>\n",
       "      <td>-0.707994</td>\n",
       "      <td>-0.453651</td>\n",
       "    </tr>\n",
       "  </tbody>\n",
       "</table>\n",
       "</div>"
      ],
      "text/plain": [
       "   compactness  circularity  distance_circularity  radius_ratio  \\\n",
       "0    -0.213500    -0.567573             -0.295628     -0.019102   \n",
       "1     1.154428     1.184286              1.211987      0.973322   \n",
       "2    -0.906101    -0.536094             -0.881136     -1.072374   \n",
       "3    -0.733024     0.072735             -0.272171      2.947683   \n",
       "\n",
       "   pr.axis_aspect_ratio  max.length_aspect_ratio  scatter_ratio  \\\n",
       "0              0.191818                -0.170225      -0.443513   \n",
       "1              0.094921                 0.218659       1.297968   \n",
       "2             -0.548348                -0.299128      -0.782916   \n",
       "3              6.836652                 8.696706      -0.535008   \n",
       "\n",
       "   elongatedness  pr.axis_rectangularity  max.length_rectangularity  \\\n",
       "0       0.303184               -0.473800                  -0.531082   \n",
       "1      -1.214247                1.301845                   1.098306   \n",
       "2       0.868120               -0.749690                  -0.498429   \n",
       "3       0.466248               -0.557406                   0.283411   \n",
       "\n",
       "   scaled_variance  scaled_variance.1  scaled_radius_of_gyration  \\\n",
       "0        -0.408420          -0.449349                  -0.593030   \n",
       "1         1.205903           1.308987                   1.091213   \n",
       "2        -0.802270          -0.785507                  -0.414229   \n",
       "3         1.697528          -0.588068                   0.212701   \n",
       "\n",
       "   scaled_radius_of_gyration.1  skewness_about  skewness_about.1  \\\n",
       "0                    -0.652679       -0.049836          0.011854   \n",
       "1                    -0.107879        0.168326          0.267955   \n",
       "2                     0.737733       -0.104185         -0.282342   \n",
       "3                     4.965638       -0.274839         -0.231193   \n",
       "\n",
       "   skewness_about.2  hollows_ratio  \n",
       "0          0.852195       0.733987  \n",
       "1          0.004670       0.190327  \n",
       "2         -1.008796      -1.065424  \n",
       "3         -0.707994      -0.453651  "
      ]
     },
     "execution_count": 154,
     "metadata": {},
     "output_type": "execute_result"
    }
   ],
   "source": [
    "centroid_df = pd.DataFrame(centroids, columns = list(vehicle_z) )\n",
    "centroid_df"
   ]
  },
  {
   "cell_type": "markdown",
   "metadata": {},
   "source": [
    "### Use kmeans.labels_ function to print out the labels of the classes"
   ]
  },
  {
   "cell_type": "code",
   "execution_count": 155,
   "metadata": {},
   "outputs": [
    {
     "data": {
      "text/plain": [
       "array([0, 0, 1, 0, 3, 0, 0, 0, 0, 0, 0, 0, 0, 1, 2, 0, 1, 2, 2, 0, 0, 1,\n",
       "       0, 2, 1, 1, 2, 0, 0, 0, 1, 0, 2, 3, 1, 2, 1, 2, 2, 0, 1, 2, 2, 2,\n",
       "       2, 0, 2, 0, 1, 0, 1, 0, 0, 2, 1, 2, 1, 2, 2, 2, 0, 2, 1, 0, 1, 1,\n",
       "       0, 2, 0, 1, 0, 2, 2, 1, 0, 2, 0, 1, 0, 2, 0, 2, 1, 0, 1, 0, 2, 1,\n",
       "       2, 2, 1, 2, 3, 0, 0, 2, 1, 1, 2, 2, 1, 0, 0, 2, 2, 2, 0, 1, 1, 0,\n",
       "       2, 2, 0, 2, 2, 2, 2, 2, 0, 1, 1, 0, 0, 2, 1, 3, 2, 0, 2, 0, 0, 1,\n",
       "       2, 0, 1, 0, 0, 0, 0, 1, 0, 0, 1, 0, 1, 0, 2, 0, 2, 1, 0, 2, 1, 1,\n",
       "       0, 1, 2, 2, 1, 1, 0, 1, 0, 0, 0, 0, 2, 1, 2, 0, 2, 1, 0, 0, 0, 1,\n",
       "       0, 1, 0, 1, 0, 2, 1, 2, 2, 2, 0, 0, 1, 1, 0, 0, 0, 2, 1, 0, 2, 0,\n",
       "       1, 2, 2, 1, 2, 0, 1, 2, 2, 2, 0, 1, 0, 1, 2, 2, 2, 2, 1, 0, 2, 0,\n",
       "       1, 2, 0, 0, 2, 1, 2, 2, 0, 0, 1, 2, 1, 2, 0, 0, 1, 0, 0, 1, 1, 2,\n",
       "       0, 0, 0, 1, 2, 0, 0, 2, 2, 0, 0, 1, 0, 2, 2, 1, 0, 0, 2, 2, 1, 2,\n",
       "       0, 1, 2, 2, 3, 0, 0, 1, 0, 1, 2, 0, 0, 1, 0, 0, 0, 2, 0, 1, 1, 1,\n",
       "       1, 2, 2, 1, 2, 2, 2, 0, 2, 1, 1, 2, 1, 0, 2, 1, 2, 0, 0, 1, 1, 2,\n",
       "       1, 1, 2, 1, 0, 0, 0, 2, 2, 1, 1, 1, 0, 0, 0, 1, 2, 0, 2, 1, 0, 0,\n",
       "       1, 0, 1, 1, 1, 0, 2, 2, 1, 2, 2, 2, 0, 0, 0, 0, 2, 1, 1, 2, 2, 1,\n",
       "       2, 1, 2, 1, 0, 2, 0, 2, 3, 1, 2, 0, 0, 0, 1, 0, 0, 0, 0, 1, 0, 1,\n",
       "       0, 1, 0, 2, 2, 0, 0, 0, 2, 2, 0, 2, 1, 0, 0, 2, 2, 1, 0, 2, 0, 0,\n",
       "       1, 0, 1, 0, 1, 1, 2, 2, 1, 0, 2, 2, 0, 1, 1, 2, 2, 1, 1, 2, 1, 1,\n",
       "       1, 0, 0, 0, 0, 0, 1, 2, 2, 0, 1, 0, 0, 1, 0, 2, 1, 2, 2, 1, 0, 2,\n",
       "       1, 1, 1, 2, 1, 1, 2, 0, 2, 1, 1, 0, 0, 2, 2, 1, 0, 2, 1, 1, 0, 2,\n",
       "       1, 1, 0, 2, 2, 1, 1, 1, 2, 2, 1, 1, 1, 0, 0, 1, 2, 0, 1, 0, 2, 2,\n",
       "       0, 1, 2, 0, 0, 2, 3, 1, 0, 1, 1, 0, 2, 0, 1, 1, 2, 2, 0, 1, 0, 1,\n",
       "       1, 0, 0, 0, 0, 2, 2, 2, 0, 0, 1, 2, 2, 0, 2, 1, 0, 1, 2, 2, 1, 1,\n",
       "       0, 1, 0, 0, 0, 1, 0, 2, 0, 1, 0, 0, 2, 1, 1, 1, 1, 0, 2, 2, 2, 1,\n",
       "       1, 1, 0, 1, 2, 0, 1, 2, 2, 2, 0, 2, 1, 0, 0, 0, 0, 0, 0, 1, 0, 0,\n",
       "       1, 0, 0, 2, 2, 1, 2, 2, 0, 2, 0, 0, 2, 2, 1, 1, 2, 0, 1, 2, 1, 0,\n",
       "       0, 1, 0, 2, 1, 2, 1, 2, 2, 0, 2, 0, 1, 1, 2, 1, 0, 0, 2, 0, 2, 1,\n",
       "       0, 1, 2, 0, 0, 0, 2, 2, 2, 0, 1, 0, 1, 2, 0, 0, 0, 0, 1, 0, 2, 1,\n",
       "       0, 1, 0, 0, 1, 2, 1, 2, 0, 2, 0, 2, 1, 0, 2, 0, 1, 2, 1, 0, 2, 1,\n",
       "       2, 0, 2, 2, 0, 2, 0, 1, 1, 0, 0, 1, 1, 3, 0, 2, 0, 1, 1, 1, 1, 0,\n",
       "       1, 0, 0, 1, 1, 0, 1, 0, 1, 0, 2, 1, 0, 2, 1, 1, 1, 0, 1, 2, 2, 1,\n",
       "       1, 1, 0, 1, 0, 0, 1, 0, 2, 0, 2, 0, 1, 0, 2, 0, 0, 0, 2, 1, 2, 2,\n",
       "       2, 1, 1, 2, 1, 1, 2, 0, 0, 1, 0, 2, 1, 1, 2, 0, 0, 1, 1, 1, 2, 1,\n",
       "       0, 1, 1, 2, 2, 1, 2, 1, 0, 2, 0, 1, 1, 0, 2, 0, 1, 1, 0, 0, 2, 0,\n",
       "       0, 1, 2, 0, 1, 2, 2, 1, 2, 0, 2, 2, 2, 0, 1, 1, 0, 2, 1, 0, 1, 1,\n",
       "       2, 0, 1, 2, 2, 0, 0, 1, 2, 2, 1, 2, 0, 0, 0, 0, 0, 0, 1, 0, 2])"
      ]
     },
     "execution_count": 155,
     "metadata": {},
     "output_type": "execute_result"
    }
   ],
   "source": [
    "labels=cluster.labels_\n",
    "labels"
   ]
  },
  {
   "cell_type": "code",
   "execution_count": 156,
   "metadata": {},
   "outputs": [],
   "source": [
    "predict=cluster.predict(vehicle_z)\n",
    "vehicle_z[\"Label\"]=predict"
   ]
  },
  {
   "cell_type": "code",
   "execution_count": 157,
   "metadata": {},
   "outputs": [
    {
     "data": {
      "text/html": [
       "<div>\n",
       "<style scoped>\n",
       "    .dataframe tbody tr th:only-of-type {\n",
       "        vertical-align: middle;\n",
       "    }\n",
       "\n",
       "    .dataframe tbody tr th {\n",
       "        vertical-align: top;\n",
       "    }\n",
       "\n",
       "    .dataframe thead th {\n",
       "        text-align: right;\n",
       "    }\n",
       "</style>\n",
       "<table border=\"1\" class=\"dataframe\">\n",
       "  <thead>\n",
       "    <tr style=\"text-align: right;\">\n",
       "      <th></th>\n",
       "      <th>compactness</th>\n",
       "      <th>circularity</th>\n",
       "      <th>distance_circularity</th>\n",
       "      <th>radius_ratio</th>\n",
       "      <th>pr.axis_aspect_ratio</th>\n",
       "      <th>max.length_aspect_ratio</th>\n",
       "      <th>scatter_ratio</th>\n",
       "      <th>elongatedness</th>\n",
       "      <th>pr.axis_rectangularity</th>\n",
       "      <th>max.length_rectangularity</th>\n",
       "      <th>scaled_variance</th>\n",
       "      <th>scaled_variance.1</th>\n",
       "      <th>scaled_radius_of_gyration</th>\n",
       "      <th>scaled_radius_of_gyration.1</th>\n",
       "      <th>skewness_about</th>\n",
       "      <th>skewness_about.1</th>\n",
       "      <th>skewness_about.2</th>\n",
       "      <th>hollows_ratio</th>\n",
       "      <th>Label</th>\n",
       "    </tr>\n",
       "  </thead>\n",
       "  <tbody>\n",
       "    <tr>\n",
       "      <th>0</th>\n",
       "      <td>0.163231</td>\n",
       "      <td>0.520408</td>\n",
       "      <td>0.060669</td>\n",
       "      <td>0.264970</td>\n",
       "      <td>1.283254</td>\n",
       "      <td>0.299721</td>\n",
       "      <td>-0.198517</td>\n",
       "      <td>0.129648</td>\n",
       "      <td>-0.217151</td>\n",
       "      <td>0.766312</td>\n",
       "      <td>-0.397397</td>\n",
       "      <td>-0.339014</td>\n",
       "      <td>0.301676</td>\n",
       "      <td>-0.321192</td>\n",
       "      <td>-0.071523</td>\n",
       "      <td>0.371287</td>\n",
       "      <td>-0.321809</td>\n",
       "      <td>0.171837</td>\n",
       "      <td>0</td>\n",
       "    </tr>\n",
       "    <tr>\n",
       "      <th>1</th>\n",
       "      <td>-0.322874</td>\n",
       "      <td>-0.619123</td>\n",
       "      <td>0.124067</td>\n",
       "      <td>-0.836393</td>\n",
       "      <td>-0.599253</td>\n",
       "      <td>0.085785</td>\n",
       "      <td>-0.591720</td>\n",
       "      <td>0.514333</td>\n",
       "      <td>-0.606014</td>\n",
       "      <td>-0.337462</td>\n",
       "      <td>-0.590034</td>\n",
       "      <td>-0.618754</td>\n",
       "      <td>-0.502972</td>\n",
       "      <td>-0.053505</td>\n",
       "      <td>0.538425</td>\n",
       "      <td>0.147109</td>\n",
       "      <td>0.003400</td>\n",
       "      <td>0.442318</td>\n",
       "      <td>0</td>\n",
       "    </tr>\n",
       "    <tr>\n",
       "      <th>2</th>\n",
       "      <td>1.256966</td>\n",
       "      <td>0.845988</td>\n",
       "      <td>1.518823</td>\n",
       "      <td>1.187734</td>\n",
       "      <td>0.530251</td>\n",
       "      <td>0.299721</td>\n",
       "      <td>1.162569</td>\n",
       "      <td>-1.152637</td>\n",
       "      <td>0.949438</td>\n",
       "      <td>0.697326</td>\n",
       "      <td>1.111591</td>\n",
       "      <td>1.122486</td>\n",
       "      <td>1.415804</td>\n",
       "      <td>0.080339</td>\n",
       "      <td>1.555006</td>\n",
       "      <td>-0.413338</td>\n",
       "      <td>-0.159204</td>\n",
       "      <td>0.036596</td>\n",
       "      <td>1</td>\n",
       "    </tr>\n",
       "    <tr>\n",
       "      <th>3</th>\n",
       "      <td>-0.079822</td>\n",
       "      <td>-0.619123</td>\n",
       "      <td>-0.002729</td>\n",
       "      <td>-0.300595</td>\n",
       "      <td>0.153750</td>\n",
       "      <td>0.085785</td>\n",
       "      <td>-0.742952</td>\n",
       "      <td>0.642562</td>\n",
       "      <td>-0.606014</td>\n",
       "      <td>-0.337462</td>\n",
       "      <td>-0.911095</td>\n",
       "      <td>-0.738643</td>\n",
       "      <td>-1.462359</td>\n",
       "      <td>-1.258099</td>\n",
       "      <td>-0.071523</td>\n",
       "      <td>-0.301249</td>\n",
       "      <td>1.629444</td>\n",
       "      <td>1.524243</td>\n",
       "      <td>0</td>\n",
       "    </tr>\n",
       "    <tr>\n",
       "      <th>4</th>\n",
       "      <td>-1.052030</td>\n",
       "      <td>-0.130753</td>\n",
       "      <td>-0.763506</td>\n",
       "      <td>1.068668</td>\n",
       "      <td>5.173770</td>\n",
       "      <td>9.285029</td>\n",
       "      <td>-0.591720</td>\n",
       "      <td>0.514333</td>\n",
       "      <td>-0.606014</td>\n",
       "      <td>-0.268476</td>\n",
       "      <td>1.689501</td>\n",
       "      <td>-0.647299</td>\n",
       "      <td>0.425468</td>\n",
       "      <td>7.307905</td>\n",
       "      <td>0.538425</td>\n",
       "      <td>-0.189159</td>\n",
       "      <td>-1.460039</td>\n",
       "      <td>-1.721531</td>\n",
       "      <td>3</td>\n",
       "    </tr>\n",
       "  </tbody>\n",
       "</table>\n",
       "</div>"
      ],
      "text/plain": [
       "   compactness  circularity  distance_circularity  radius_ratio  \\\n",
       "0     0.163231     0.520408              0.060669      0.264970   \n",
       "1    -0.322874    -0.619123              0.124067     -0.836393   \n",
       "2     1.256966     0.845988              1.518823      1.187734   \n",
       "3    -0.079822    -0.619123             -0.002729     -0.300595   \n",
       "4    -1.052030    -0.130753             -0.763506      1.068668   \n",
       "\n",
       "   pr.axis_aspect_ratio  max.length_aspect_ratio  scatter_ratio  \\\n",
       "0              1.283254                 0.299721      -0.198517   \n",
       "1             -0.599253                 0.085785      -0.591720   \n",
       "2              0.530251                 0.299721       1.162569   \n",
       "3              0.153750                 0.085785      -0.742952   \n",
       "4              5.173770                 9.285029      -0.591720   \n",
       "\n",
       "   elongatedness  pr.axis_rectangularity  max.length_rectangularity  \\\n",
       "0       0.129648               -0.217151                   0.766312   \n",
       "1       0.514333               -0.606014                  -0.337462   \n",
       "2      -1.152637                0.949438                   0.697326   \n",
       "3       0.642562               -0.606014                  -0.337462   \n",
       "4       0.514333               -0.606014                  -0.268476   \n",
       "\n",
       "   scaled_variance  scaled_variance.1  scaled_radius_of_gyration  \\\n",
       "0        -0.397397          -0.339014                   0.301676   \n",
       "1        -0.590034          -0.618754                  -0.502972   \n",
       "2         1.111591           1.122486                   1.415804   \n",
       "3        -0.911095          -0.738643                  -1.462359   \n",
       "4         1.689501          -0.647299                   0.425468   \n",
       "\n",
       "   scaled_radius_of_gyration.1  skewness_about  skewness_about.1  \\\n",
       "0                    -0.321192       -0.071523          0.371287   \n",
       "1                    -0.053505        0.538425          0.147109   \n",
       "2                     0.080339        1.555006         -0.413338   \n",
       "3                    -1.258099       -0.071523         -0.301249   \n",
       "4                     7.307905        0.538425         -0.189159   \n",
       "\n",
       "   skewness_about.2  hollows_ratio  Label  \n",
       "0         -0.321809       0.171837      0  \n",
       "1          0.003400       0.442318      0  \n",
       "2         -0.159204       0.036596      1  \n",
       "3          1.629444       1.524243      0  \n",
       "4         -1.460039      -1.721531      3  "
      ]
     },
     "execution_count": 157,
     "metadata": {},
     "output_type": "execute_result"
    }
   ],
   "source": [
    "vehicle_z.head()"
   ]
  },
  {
   "cell_type": "code",
   "execution_count": 158,
   "metadata": {},
   "outputs": [
    {
     "data": {
      "text/html": [
       "<div>\n",
       "<style scoped>\n",
       "    .dataframe tbody tr th:only-of-type {\n",
       "        vertical-align: middle;\n",
       "    }\n",
       "\n",
       "    .dataframe tbody tr th {\n",
       "        vertical-align: top;\n",
       "    }\n",
       "\n",
       "    .dataframe thead th {\n",
       "        text-align: right;\n",
       "    }\n",
       "</style>\n",
       "<table border=\"1\" class=\"dataframe\">\n",
       "  <thead>\n",
       "    <tr style=\"text-align: right;\">\n",
       "      <th></th>\n",
       "      <th>compactness</th>\n",
       "      <th>circularity</th>\n",
       "      <th>distance_circularity</th>\n",
       "      <th>radius_ratio</th>\n",
       "      <th>pr.axis_aspect_ratio</th>\n",
       "      <th>max.length_aspect_ratio</th>\n",
       "      <th>scatter_ratio</th>\n",
       "      <th>elongatedness</th>\n",
       "      <th>pr.axis_rectangularity</th>\n",
       "      <th>max.length_rectangularity</th>\n",
       "      <th>scaled_variance</th>\n",
       "      <th>scaled_variance.1</th>\n",
       "      <th>scaled_radius_of_gyration</th>\n",
       "      <th>scaled_radius_of_gyration.1</th>\n",
       "      <th>skewness_about</th>\n",
       "      <th>skewness_about.1</th>\n",
       "      <th>skewness_about.2</th>\n",
       "      <th>hollows_ratio</th>\n",
       "    </tr>\n",
       "    <tr>\n",
       "      <th>Label</th>\n",
       "      <th></th>\n",
       "      <th></th>\n",
       "      <th></th>\n",
       "      <th></th>\n",
       "      <th></th>\n",
       "      <th></th>\n",
       "      <th></th>\n",
       "      <th></th>\n",
       "      <th></th>\n",
       "      <th></th>\n",
       "      <th></th>\n",
       "      <th></th>\n",
       "      <th></th>\n",
       "      <th></th>\n",
       "      <th></th>\n",
       "      <th></th>\n",
       "      <th></th>\n",
       "      <th></th>\n",
       "    </tr>\n",
       "  </thead>\n",
       "  <tbody>\n",
       "    <tr>\n",
       "      <th>0</th>\n",
       "      <td>300</td>\n",
       "      <td>300</td>\n",
       "      <td>300</td>\n",
       "      <td>300</td>\n",
       "      <td>300</td>\n",
       "      <td>300</td>\n",
       "      <td>300</td>\n",
       "      <td>300</td>\n",
       "      <td>300</td>\n",
       "      <td>300</td>\n",
       "      <td>300</td>\n",
       "      <td>300</td>\n",
       "      <td>300</td>\n",
       "      <td>300</td>\n",
       "      <td>300</td>\n",
       "      <td>300</td>\n",
       "      <td>300</td>\n",
       "      <td>300</td>\n",
       "    </tr>\n",
       "    <tr>\n",
       "      <th>1</th>\n",
       "      <td>256</td>\n",
       "      <td>256</td>\n",
       "      <td>256</td>\n",
       "      <td>256</td>\n",
       "      <td>256</td>\n",
       "      <td>256</td>\n",
       "      <td>256</td>\n",
       "      <td>256</td>\n",
       "      <td>256</td>\n",
       "      <td>256</td>\n",
       "      <td>256</td>\n",
       "      <td>256</td>\n",
       "      <td>256</td>\n",
       "      <td>256</td>\n",
       "      <td>256</td>\n",
       "      <td>256</td>\n",
       "      <td>256</td>\n",
       "      <td>256</td>\n",
       "    </tr>\n",
       "    <tr>\n",
       "      <th>2</th>\n",
       "      <td>249</td>\n",
       "      <td>249</td>\n",
       "      <td>249</td>\n",
       "      <td>249</td>\n",
       "      <td>249</td>\n",
       "      <td>249</td>\n",
       "      <td>249</td>\n",
       "      <td>249</td>\n",
       "      <td>249</td>\n",
       "      <td>249</td>\n",
       "      <td>249</td>\n",
       "      <td>249</td>\n",
       "      <td>249</td>\n",
       "      <td>249</td>\n",
       "      <td>249</td>\n",
       "      <td>249</td>\n",
       "      <td>249</td>\n",
       "      <td>249</td>\n",
       "    </tr>\n",
       "    <tr>\n",
       "      <th>3</th>\n",
       "      <td>8</td>\n",
       "      <td>8</td>\n",
       "      <td>8</td>\n",
       "      <td>8</td>\n",
       "      <td>8</td>\n",
       "      <td>8</td>\n",
       "      <td>8</td>\n",
       "      <td>8</td>\n",
       "      <td>8</td>\n",
       "      <td>8</td>\n",
       "      <td>8</td>\n",
       "      <td>8</td>\n",
       "      <td>8</td>\n",
       "      <td>8</td>\n",
       "      <td>8</td>\n",
       "      <td>8</td>\n",
       "      <td>8</td>\n",
       "      <td>8</td>\n",
       "    </tr>\n",
       "  </tbody>\n",
       "</table>\n",
       "</div>"
      ],
      "text/plain": [
       "       compactness  circularity  distance_circularity  radius_ratio  \\\n",
       "Label                                                                 \n",
       "0              300          300                   300           300   \n",
       "1              256          256                   256           256   \n",
       "2              249          249                   249           249   \n",
       "3                8            8                     8             8   \n",
       "\n",
       "       pr.axis_aspect_ratio  max.length_aspect_ratio  scatter_ratio  \\\n",
       "Label                                                                 \n",
       "0                       300                      300            300   \n",
       "1                       256                      256            256   \n",
       "2                       249                      249            249   \n",
       "3                         8                        8              8   \n",
       "\n",
       "       elongatedness  pr.axis_rectangularity  max.length_rectangularity  \\\n",
       "Label                                                                     \n",
       "0                300                     300                        300   \n",
       "1                256                     256                        256   \n",
       "2                249                     249                        249   \n",
       "3                  8                       8                          8   \n",
       "\n",
       "       scaled_variance  scaled_variance.1  scaled_radius_of_gyration  \\\n",
       "Label                                                                  \n",
       "0                  300                300                        300   \n",
       "1                  256                256                        256   \n",
       "2                  249                249                        249   \n",
       "3                    8                  8                          8   \n",
       "\n",
       "       scaled_radius_of_gyration.1  skewness_about  skewness_about.1  \\\n",
       "Label                                                                  \n",
       "0                              300             300               300   \n",
       "1                              256             256               256   \n",
       "2                              249             249               249   \n",
       "3                                8               8                 8   \n",
       "\n",
       "       skewness_about.2  hollows_ratio  \n",
       "Label                                   \n",
       "0                   300            300  \n",
       "1                   256            256  \n",
       "2                   249            249  \n",
       "3                     8              8  "
      ]
     },
     "execution_count": 158,
     "metadata": {},
     "output_type": "execute_result"
    }
   ],
   "source": [
    "vehicle_z.groupby(\"Label\").count()"
   ]
  },
  {
   "cell_type": "markdown",
   "metadata": {},
   "source": [
    "## Hierarchical Clustering "
   ]
  },
  {
   "cell_type": "markdown",
   "metadata": {},
   "source": [
    "### 8. Variable creation"
   ]
  },
  {
   "cell_type": "markdown",
   "metadata": {},
   "source": [
    "For Hierarchical clustering, we will create datasets using multivariate normal distribution to visually observe how the clusters are formed at the end"
   ]
  },
  {
   "cell_type": "code",
   "execution_count": 159,
   "metadata": {},
   "outputs": [],
   "source": [
    "a = np.random.multivariate_normal([10, 0], [[3, 1], [1, 4]], size=[100,])\n",
    "b = np.random.multivariate_normal([0, 20], [[3, 1], [1, 4]], size=[50,])\n",
    "c = np.random.multivariate_normal([10, 20], [[3, 1], [1, 4]], size=[100,])"
   ]
  },
  {
   "cell_type": "markdown",
   "metadata": {},
   "source": [
    "### 9. Combine all three arrays a,b,c into a dataframe"
   ]
  },
  {
   "cell_type": "code",
   "execution_count": 168,
   "metadata": {},
   "outputs": [],
   "source": [
    "data=np.concatenate((a,b,c),axis=0)"
   ]
  },
  {
   "cell_type": "code",
   "execution_count": 169,
   "metadata": {},
   "outputs": [
    {
     "data": {
      "text/plain": [
       "(250, 2)"
      ]
     },
     "execution_count": 169,
     "metadata": {},
     "output_type": "execute_result"
    }
   ],
   "source": [
    "data.shape"
   ]
  },
  {
   "cell_type": "code",
   "execution_count": 188,
   "metadata": {},
   "outputs": [
    {
     "data": {
      "text/plain": [
       "(250,)"
      ]
     },
     "execution_count": 188,
     "metadata": {},
     "output_type": "execute_result"
    }
   ],
   "source": [
    "c1=data[:,0]\n",
    "c2=data[:,1]"
   ]
  },
  {
   "cell_type": "markdown",
   "metadata": {},
   "source": [
    "### 10. Use scatter matrix to print all the 3 distributions"
   ]
  },
  {
   "cell_type": "code",
   "execution_count": 195,
   "metadata": {},
   "outputs": [
    {
     "data": {
      "text/plain": [
       "<matplotlib.collections.PathCollection at 0x1dac2d542b0>"
      ]
     },
     "execution_count": 195,
     "metadata": {},
     "output_type": "execute_result"
    },
    {
     "data": {
      "image/png": "[encoded data removed]",
      "text/plain": [
       "<Figure size 432x288 with 1 Axes>"
      ]
     },
     "metadata": {
      "needs_background": "light"
     },
     "output_type": "display_data"
    }
   ],
   "source": [
    "plt.scatter(c1,c2, c='black', s=10)"
   ]
  },
  {
   "cell_type": "markdown",
   "metadata": {},
   "source": [
    "### 11. Find out the linkage matrix"
   ]
  },
  {
   "cell_type": "code",
   "execution_count": 177,
   "metadata": {},
   "outputs": [],
   "source": [
    "from sklearn.cluster import AgglomerativeClustering \n",
    "from scipy.cluster.hierarchy import cophenet, dendrogram, linkage\n",
    "from scipy.spatial.distance import pdist  #Pairwise distribution between data points"
   ]
  },
  {
   "cell_type": "markdown",
   "metadata": {},
   "source": [
    "Use ward as linkage metric and distance as Eucledian"
   ]
  },
  {
   "cell_type": "code",
   "execution_count": 182,
   "metadata": {},
   "outputs": [
    {
     "data": {
      "text/plain": [
       "0.9546727026000879"
      ]
     },
     "execution_count": 182,
     "metadata": {},
     "output_type": "execute_result"
    }
   ],
   "source": [
    "Z = linkage(data, 'ward','euclidean')\n",
    "c, coph_dists = cophenet(Z , pdist(data))\n",
    "c"
   ]
  },
  {
   "cell_type": "code",
   "execution_count": 200,
   "metadata": {},
   "outputs": [
    {
     "data": {
      "text/plain": [
       "(249, 4)"
      ]
     },
     "execution_count": 200,
     "metadata": {},
     "output_type": "execute_result"
    }
   ],
   "source": [
    "Z.shape"
   ]
  },
  {
   "cell_type": "code",
   "execution_count": 201,
   "metadata": {},
   "outputs": [
    {
     "data": {
      "text/plain": [
       "array([[2.17000000e+02, 2.23000000e+02, 2.24574796e-02, 2.00000000e+00],\n",
       "       [2.19000000e+02, 2.38000000e+02, 4.30244343e-02, 2.00000000e+00],\n",
       "       [8.80000000e+01, 9.00000000e+01, 7.13985002e-02, 2.00000000e+00],\n",
       "       [1.57000000e+02, 2.42000000e+02, 8.47088079e-02, 2.00000000e+00],\n",
       "       [2.15000000e+02, 2.30000000e+02, 9.98582220e-02, 2.00000000e+00],\n",
       "       [1.68000000e+02, 1.85000000e+02, 1.17175746e-01, 2.00000000e+00],\n",
       "       [2.12000000e+02, 2.24000000e+02, 1.23696843e-01, 2.00000000e+00],\n",
       "       [1.13000000e+02, 1.24000000e+02, 1.25240474e-01, 2.00000000e+00],\n",
       "       [1.40000000e+01, 6.60000000e+01, 1.27493874e-01, 2.00000000e+00],\n",
       "       [1.95000000e+02, 2.01000000e+02, 1.45138943e-01, 2.00000000e+00],\n",
       "       [1.29000000e+02, 1.38000000e+02, 1.46328161e-01, 2.00000000e+00],\n",
       "       [1.66000000e+02, 2.37000000e+02, 1.46414077e-01, 2.00000000e+00],\n",
       "       [1.77000000e+02, 1.98000000e+02, 1.47599688e-01, 2.00000000e+00],\n",
       "       [4.00000000e+00, 2.40000000e+01, 1.51631660e-01, 2.00000000e+00],\n",
       "       [4.10000000e+01, 7.60000000e+01, 1.51810817e-01, 2.00000000e+00],\n",
       "       [2.26000000e+02, 2.43000000e+02, 1.58660041e-01, 2.00000000e+00],\n",
       "       [2.80000000e+01, 6.20000000e+01, 1.59105487e-01, 2.00000000e+00],\n",
       "       [3.70000000e+01, 7.40000000e+01, 1.59852229e-01, 2.00000000e+00],\n",
       "       [7.50000000e+01, 8.90000000e+01, 1.70225688e-01, 2.00000000e+00],\n",
       "       [1.11000000e+02, 1.44000000e+02, 1.71184215e-01, 2.00000000e+00],\n",
       "       [2.70000000e+01, 4.40000000e+01, 1.88980011e-01, 2.00000000e+00],\n",
       "       [1.70000000e+01, 5.10000000e+01, 1.92094895e-01, 2.00000000e+00],\n",
       "       [1.41000000e+02, 1.49000000e+02, 1.93708310e-01, 2.00000000e+00],\n",
       "       [1.88000000e+02, 2.28000000e+02, 1.95532137e-01, 2.00000000e+00],\n",
       "       [1.71000000e+02, 2.55000000e+02, 2.03939682e-01, 3.00000000e+00],\n",
       "       [1.93000000e+02, 1.99000000e+02, 2.09202673e-01, 2.00000000e+00],\n",
       "       [2.05000000e+02, 2.13000000e+02, 2.10029210e-01, 2.00000000e+00],\n",
       "       [1.75000000e+02, 2.54000000e+02, 2.10668625e-01, 3.00000000e+00],\n",
       "       [3.40000000e+01, 5.20000000e+01, 2.11020871e-01, 2.00000000e+00],\n",
       "       [1.35000000e+02, 1.37000000e+02, 2.13179301e-01, 2.00000000e+00],\n",
       "       [2.11000000e+02, 2.39000000e+02, 2.17156552e-01, 2.00000000e+00],\n",
       "       [3.80000000e+01, 7.10000000e+01, 2.26154774e-01, 2.00000000e+00],\n",
       "       [1.20000000e+01, 5.70000000e+01, 2.31376031e-01, 2.00000000e+00],\n",
       "       [5.50000000e+01, 9.70000000e+01, 2.31659159e-01, 2.00000000e+00],\n",
       "       [1.65000000e+02, 2.56000000e+02, 2.33274921e-01, 3.00000000e+00],\n",
       "       [2.10000000e+02, 2.47000000e+02, 2.37327240e-01, 2.00000000e+00],\n",
       "       [4.20000000e+01, 7.70000000e+01, 2.45746245e-01, 2.00000000e+00],\n",
       "       [8.70000000e+01, 9.80000000e+01, 2.47975968e-01, 2.00000000e+00],\n",
       "       [1.76000000e+02, 1.90000000e+02, 2.58237258e-01, 2.00000000e+00],\n",
       "       [1.20000000e+02, 1.30000000e+02, 2.65641988e-01, 2.00000000e+00],\n",
       "       [8.00000000e+00, 7.00000000e+01, 2.66322571e-01, 2.00000000e+00],\n",
       "       [1.04000000e+02, 1.36000000e+02, 2.67164344e-01, 2.00000000e+00],\n",
       "       [1.90000000e+01, 9.90000000e+01, 2.76548454e-01, 2.00000000e+00],\n",
       "       [2.50000000e+01, 2.70000000e+02, 2.84944276e-01, 3.00000000e+00],\n",
       "       [1.70000000e+02, 1.73000000e+02, 2.88475222e-01, 2.00000000e+00],\n",
       "       [1.56000000e+02, 2.18000000e+02, 2.96690110e-01, 2.00000000e+00],\n",
       "       [1.60000000e+01, 2.68000000e+02, 3.10014966e-01, 3.00000000e+00],\n",
       "       [2.21000000e+02, 2.32000000e+02, 3.20663526e-01, 2.00000000e+00],\n",
       "       [1.30000000e+01, 1.80000000e+01, 3.22314380e-01, 2.00000000e+00],\n",
       "       [1.03000000e+02, 1.14000000e+02, 3.27685180e-01, 2.00000000e+00],\n",
       "       [1.15000000e+02, 2.72000000e+02, 3.30786434e-01, 3.00000000e+00],\n",
       "       [5.00000000e+00, 2.00000000e+01, 3.34838590e-01, 2.00000000e+00],\n",
       "       [1.92000000e+02, 2.59000000e+02, 3.38065912e-01, 3.00000000e+00],\n",
       "       [2.03000000e+02, 2.53000000e+02, 3.39091409e-01, 3.00000000e+00],\n",
       "       [1.00000000e+01, 3.50000000e+01, 3.42671354e-01, 2.00000000e+00],\n",
       "       [7.00000000e+00, 9.50000000e+01, 3.49558692e-01, 2.00000000e+00],\n",
       "       [1.52000000e+02, 1.91000000e+02, 3.55074345e-01, 2.00000000e+00],\n",
       "       [3.10000000e+01, 2.64000000e+02, 3.57126088e-01, 3.00000000e+00],\n",
       "       [1.79000000e+02, 2.65000000e+02, 3.57537107e-01, 3.00000000e+00],\n",
       "       [6.50000000e+01, 8.50000000e+01, 3.57655197e-01, 2.00000000e+00],\n",
       "       [5.40000000e+01, 2.87000000e+02, 3.71559711e-01, 3.00000000e+00],\n",
       "       [0.00000000e+00, 6.30000000e+01, 3.74431269e-01, 2.00000000e+00],\n",
       "       [1.94000000e+02, 2.07000000e+02, 3.74701556e-01, 2.00000000e+00],\n",
       "       [1.00000000e+02, 1.02000000e+02, 3.84832423e-01, 2.00000000e+00],\n",
       "       [1.10000000e+01, 6.80000000e+01, 3.87760588e-01, 2.00000000e+00],\n",
       "       [3.60000000e+01, 3.01000000e+02, 3.88444803e-01, 3.00000000e+00],\n",
       "       [5.80000000e+01, 9.10000000e+01, 3.89562590e-01, 2.00000000e+00],\n",
       "       [2.04000000e+02, 2.76000000e+02, 4.01083278e-01, 3.00000000e+00],\n",
       "       [2.02000000e+02, 2.84000000e+02, 4.08927051e-01, 4.00000000e+00],\n",
       "       [5.60000000e+01, 7.80000000e+01, 4.16205058e-01, 2.00000000e+00],\n",
       "       [4.90000000e+01, 9.60000000e+01, 4.25037331e-01, 2.00000000e+00],\n",
       "       [1.51000000e+02, 1.60000000e+02, 4.29614477e-01, 2.00000000e+00],\n",
       "       [1.55000000e+02, 2.09000000e+02, 4.33673267e-01, 2.00000000e+00],\n",
       "       [1.64000000e+02, 2.77000000e+02, 4.37141367e-01, 4.00000000e+00],\n",
       "       [1.78000000e+02, 1.81000000e+02, 4.37518378e-01, 2.00000000e+00],\n",
       "       [2.06000000e+02, 2.45000000e+02, 4.40554613e-01, 2.00000000e+00],\n",
       "       [2.22000000e+02, 2.80000000e+02, 4.47439277e-01, 3.00000000e+00],\n",
       "       [1.50000000e+01, 4.00000000e+01, 4.49608594e-01, 2.00000000e+00],\n",
       "       [1.05000000e+02, 1.06000000e+02, 4.55360177e-01, 2.00000000e+00],\n",
       "       [6.70000000e+01, 8.20000000e+01, 4.61245171e-01, 2.00000000e+00],\n",
       "       [1.62000000e+02, 2.50000000e+02, 4.63496873e-01, 3.00000000e+00],\n",
       "       [2.66000000e+02, 3.07000000e+02, 4.63992655e-01, 5.00000000e+00],\n",
       "       [1.89000000e+02, 2.51000000e+02, 4.66510112e-01, 3.00000000e+00],\n",
       "       [5.90000000e+01, 3.05000000e+02, 4.71398652e-01, 3.00000000e+00],\n",
       "       [2.34000000e+02, 3.21000000e+02, 4.78152906e-01, 3.00000000e+00],\n",
       "       [1.97000000e+02, 2.75000000e+02, 4.83207168e-01, 3.00000000e+00],\n",
       "       [4.70000000e+01, 8.10000000e+01, 4.84991161e-01, 2.00000000e+00],\n",
       "       [2.00000000e+00, 2.60000000e+01, 4.85896958e-01, 2.00000000e+00],\n",
       "       [9.20000000e+01, 2.83000000e+02, 5.01107481e-01, 3.00000000e+00],\n",
       "       [5.30000000e+01, 9.30000000e+01, 5.01312122e-01, 2.00000000e+00],\n",
       "       [1.00000000e+00, 2.86000000e+02, 5.12346093e-01, 3.00000000e+00],\n",
       "       [1.19000000e+02, 1.27000000e+02, 5.14165009e-01, 2.00000000e+00],\n",
       "       [2.36000000e+02, 3.18000000e+02, 5.22954017e-01, 5.00000000e+00],\n",
       "       [4.50000000e+01, 3.10000000e+02, 5.28297758e-01, 4.00000000e+00],\n",
       "       [7.20000000e+01, 3.29000000e+02, 5.47581409e-01, 3.00000000e+00],\n",
       "       [1.17000000e+02, 2.69000000e+02, 5.49092162e-01, 3.00000000e+00],\n",
       "       [1.53000000e+02, 1.67000000e+02, 5.58746538e-01, 2.00000000e+00],\n",
       "       [2.58000000e+02, 2.98000000e+02, 5.68322019e-01, 4.00000000e+00],\n",
       "       [6.90000000e+01, 3.09000000e+02, 5.69692129e-01, 3.00000000e+00],\n",
       "       [1.50000000e+02, 2.85000000e+02, 5.76924329e-01, 3.00000000e+00],\n",
       "       [1.54000000e+02, 2.31000000e+02, 5.91322547e-01, 2.00000000e+00],\n",
       "       [1.31000000e+02, 1.42000000e+02, 5.94183900e-01, 2.00000000e+00],\n",
       "       [1.63000000e+02, 2.08000000e+02, 6.07285969e-01, 2.00000000e+00],\n",
       "       [1.80000000e+02, 2.14000000e+02, 6.27709924e-01, 2.00000000e+00],\n",
       "       [1.33000000e+02, 1.45000000e+02, 6.31566388e-01, 2.00000000e+00],\n",
       "       [1.83000000e+02, 2.74000000e+02, 6.34606438e-01, 4.00000000e+00],\n",
       "       [2.00000000e+02, 2.48000000e+02, 6.45295306e-01, 2.00000000e+00],\n",
       "       [2.20000000e+02, 2.35000000e+02, 6.53771659e-01, 2.00000000e+00],\n",
       "       [8.00000000e+01, 8.60000000e+01, 6.58021434e-01, 2.00000000e+00],\n",
       "       [6.00000000e+00, 2.63000000e+02, 6.69170832e-01, 3.00000000e+00],\n",
       "       [1.18000000e+02, 1.21000000e+02, 6.79965821e-01, 2.00000000e+00],\n",
       "       [1.82000000e+02, 2.27000000e+02, 6.90633793e-01, 2.00000000e+00],\n",
       "       [1.08000000e+02, 1.32000000e+02, 6.95434121e-01, 2.00000000e+00],\n",
       "       [1.07000000e+02, 1.48000000e+02, 6.98696566e-01, 2.00000000e+00],\n",
       "       [5.00000000e+01, 2.81000000e+02, 6.99078148e-01, 3.00000000e+00],\n",
       "       [2.90000000e+01, 3.37000000e+02, 7.03710118e-01, 3.00000000e+00],\n",
       "       [2.30000000e+01, 2.96000000e+02, 7.11044266e-01, 4.00000000e+00],\n",
       "       [3.26000000e+02, 3.32000000e+02, 7.11413796e-01, 6.00000000e+00],\n",
       "       [1.01000000e+02, 3.13000000e+02, 7.13190740e-01, 3.00000000e+00],\n",
       "       [2.71000000e+02, 2.93000000e+02, 7.22419827e-01, 5.00000000e+00],\n",
       "       [2.20000000e+01, 3.11000000e+02, 7.49955286e-01, 3.00000000e+00],\n",
       "       [1.74000000e+02, 3.25000000e+02, 7.54665918e-01, 3.00000000e+00],\n",
       "       [3.30000000e+01, 3.39000000e+02, 7.61564645e-01, 3.00000000e+00],\n",
       "       [2.61000000e+02, 2.95000000e+02, 7.64533053e-01, 4.00000000e+00],\n",
       "       [9.40000000e+01, 2.52000000e+02, 7.67399262e-01, 3.00000000e+00],\n",
       "       [2.73000000e+02, 3.12000000e+02, 7.73835141e-01, 4.00000000e+00],\n",
       "       [3.00000000e+00, 6.00000000e+01, 7.74140952e-01, 2.00000000e+00],\n",
       "       [2.16000000e+02, 2.62000000e+02, 7.90365212e-01, 3.00000000e+00],\n",
       "       [1.09000000e+02, 1.25000000e+02, 7.93095262e-01, 2.00000000e+00],\n",
       "       [2.92000000e+02, 3.14000000e+02, 7.94245443e-01, 4.00000000e+00],\n",
       "       [8.40000000e+01, 3.15000000e+02, 7.98842470e-01, 4.00000000e+00],\n",
       "       [2.97000000e+02, 3.35000000e+02, 8.04731079e-01, 5.00000000e+00],\n",
       "       [8.30000000e+01, 3.16000000e+02, 8.20654853e-01, 3.00000000e+00],\n",
       "       [3.24000000e+02, 3.46000000e+02, 8.30790324e-01, 4.00000000e+00],\n",
       "       [3.90000000e+01, 3.20000000e+02, 8.35905966e-01, 3.00000000e+00],\n",
       "       [3.19000000e+02, 3.40000000e+02, 8.38628578e-01, 5.00000000e+00],\n",
       "       [1.84000000e+02, 3.08000000e+02, 8.45352732e-01, 4.00000000e+00],\n",
       "       [2.88000000e+02, 3.17000000e+02, 8.68593735e-01, 5.00000000e+00],\n",
       "       [2.29000000e+02, 3.50000000e+02, 8.68947199e-01, 3.00000000e+00],\n",
       "       [9.00000000e+00, 4.80000000e+01, 8.71521305e-01, 2.00000000e+00],\n",
       "       [1.10000000e+02, 1.47000000e+02, 8.77273226e-01, 2.00000000e+00],\n",
       "       [2.67000000e+02, 3.31000000e+02, 8.84778783e-01, 7.00000000e+00],\n",
       "       [3.04000000e+02, 3.36000000e+02, 8.99709029e-01, 4.00000000e+00],\n",
       "       [2.91000000e+02, 3.45000000e+02, 9.04100608e-01, 5.00000000e+00],\n",
       "       [2.79000000e+02, 3.54000000e+02, 9.18901960e-01, 4.00000000e+00],\n",
       "       [2.82000000e+02, 2.90000000e+02, 9.53406418e-01, 4.00000000e+00],\n",
       "       [1.96000000e+02, 3.34000000e+02, 9.68389755e-01, 4.00000000e+00],\n",
       "       [1.87000000e+02, 3.55000000e+02, 9.78762327e-01, 5.00000000e+00],\n",
       "       [1.23000000e+02, 1.34000000e+02, 1.00833727e+00, 2.00000000e+00],\n",
       "       [2.94000000e+02, 3.42000000e+02, 1.01185374e+00, 7.00000000e+00],\n",
       "       [4.30000000e+01, 7.90000000e+01, 1.01745506e+00, 2.00000000e+00],\n",
       "       [3.22000000e+02, 3.49000000e+02, 1.05813219e+00, 5.00000000e+00],\n",
       "       [2.99000000e+02, 3.68000000e+02, 1.06199776e+00, 5.00000000e+00],\n",
       "       [2.10000000e+01, 2.78000000e+02, 1.07016656e+00, 3.00000000e+00],\n",
       "       [6.10000000e+01, 3.76000000e+02, 1.07666673e+00, 3.00000000e+00],\n",
       "       [2.44000000e+02, 3.53000000e+02, 1.08989500e+00, 3.00000000e+00],\n",
       "       [1.59000000e+02, 3.02000000e+02, 1.13634796e+00, 4.00000000e+00],\n",
       "       [1.61000000e+02, 3.56000000e+02, 1.13921962e+00, 3.00000000e+00],\n",
       "       [2.57000000e+02, 3.41000000e+02, 1.15092107e+00, 4.00000000e+00],\n",
       "       [2.49000000e+02, 3.61000000e+02, 1.15303903e+00, 3.00000000e+00],\n",
       "       [1.43000000e+02, 2.89000000e+02, 1.16077203e+00, 3.00000000e+00],\n",
       "       [1.12000000e+02, 3.90000000e+02, 1.19455683e+00, 3.00000000e+00],\n",
       "       [3.28000000e+02, 3.60000000e+02, 1.21246246e+00, 4.00000000e+00],\n",
       "       [6.40000000e+01, 3.27000000e+02, 1.22617632e+00, 3.00000000e+00],\n",
       "       [3.52000000e+02, 3.83000000e+02, 1.23955888e+00, 6.00000000e+00],\n",
       "       [2.46000000e+02, 3.30000000e+02, 1.24288892e+00, 4.00000000e+00],\n",
       "       [3.33000000e+02, 3.58000000e+02, 1.28793342e+00, 5.00000000e+00],\n",
       "       [3.65000000e+02, 4.00000000e+02, 1.30817212e+00, 5.00000000e+00],\n",
       "       [3.38000000e+02, 3.74000000e+02, 1.33656418e+00, 6.00000000e+00],\n",
       "       [3.59000000e+02, 3.80000000e+02, 1.39640668e+00, 7.00000000e+00],\n",
       "       [1.72000000e+02, 2.41000000e+02, 1.44384797e+00, 2.00000000e+00],\n",
       "       [2.60000000e+02, 3.94000000e+02, 1.45507553e+00, 6.00000000e+00],\n",
       "       [3.63000000e+02, 3.98000000e+02, 1.47938294e+00, 4.00000000e+00],\n",
       "       [3.20000000e+01, 7.30000000e+01, 1.50039703e+00, 2.00000000e+00],\n",
       "       [3.64000000e+02, 3.84000000e+02, 1.51299305e+00, 6.00000000e+00],\n",
       "       [3.47000000e+02, 3.72000000e+02, 1.64234576e+00, 7.00000000e+00],\n",
       "       [1.40000000e+02, 3.51000000e+02, 1.65340140e+00, 3.00000000e+00],\n",
       "       [1.46000000e+02, 4.21000000e+02, 1.65628543e+00, 7.00000000e+00],\n",
       "       [3.77000000e+02, 3.81000000e+02, 1.65632991e+00, 8.00000000e+00],\n",
       "       [3.82000000e+02, 4.24000000e+02, 1.72372484e+00, 9.00000000e+00],\n",
       "       [2.40000000e+02, 4.15000000e+02, 1.73227412e+00, 5.00000000e+00],\n",
       "       [3.03000000e+02, 3.87000000e+02, 1.73405271e+00, 8.00000000e+00],\n",
       "       [3.43000000e+02, 3.91000000e+02, 1.81046766e+00, 1.10000000e+01],\n",
       "       [1.58000000e+02, 4.05000000e+02, 1.82688406e+00, 4.00000000e+00],\n",
       "       [3.95000000e+02, 4.25000000e+02, 1.86322390e+00, 1.10000000e+01],\n",
       "       [3.57000000e+02, 3.96000000e+02, 1.86399058e+00, 6.00000000e+00],\n",
       "       [3.23000000e+02, 4.07000000e+02, 1.92730548e+00, 7.00000000e+00],\n",
       "       [3.73000000e+02, 3.88000000e+02, 1.99641696e+00, 7.00000000e+00],\n",
       "       [3.00000000e+01, 4.19000000e+02, 1.99741308e+00, 8.00000000e+00],\n",
       "       [4.10000000e+02, 4.12000000e+02, 2.03047990e+00, 7.00000000e+00],\n",
       "       [1.86000000e+02, 3.75000000e+02, 2.03982038e+00, 5.00000000e+00],\n",
       "       [3.06000000e+02, 3.71000000e+02, 2.04898849e+00, 5.00000000e+00],\n",
       "       [3.48000000e+02, 3.89000000e+02, 2.07088396e+00, 5.00000000e+00],\n",
       "       [3.44000000e+02, 4.16000000e+02, 2.07620783e+00, 8.00000000e+00],\n",
       "       [4.11000000e+02, 4.26000000e+02, 2.13181402e+00, 6.00000000e+00],\n",
       "       [1.22000000e+02, 4.08000000e+02, 2.30531540e+00, 5.00000000e+00],\n",
       "       [3.69000000e+02, 3.92000000e+02, 2.33925150e+00, 9.00000000e+00],\n",
       "       [1.39000000e+02, 1.69000000e+02, 2.34632086e+00, 2.00000000e+00],\n",
       "       [4.06000000e+02, 4.28000000e+02, 2.36407492e+00, 1.20000000e+01],\n",
       "       [3.85000000e+02, 4.18000000e+02, 2.46138420e+00, 1.10000000e+01],\n",
       "       [4.03000000e+02, 4.17000000e+02, 2.60875848e+00, 8.00000000e+00],\n",
       "       [3.67000000e+02, 3.99000000e+02, 2.64344466e+00, 1.30000000e+01],\n",
       "       [4.09000000e+02, 4.40000000e+02, 2.66351683e+00, 8.00000000e+00],\n",
       "       [2.25000000e+02, 4.41000000e+02, 2.71686963e+00, 6.00000000e+00],\n",
       "       [1.26000000e+02, 3.00000000e+02, 2.82176316e+00, 4.00000000e+00],\n",
       "       [3.62000000e+02, 4.22000000e+02, 2.83183135e+00, 6.00000000e+00],\n",
       "       [4.60000000e+01, 3.79000000e+02, 3.11081668e+00, 5.00000000e+00],\n",
       "       [1.28000000e+02, 4.39000000e+02, 3.11846983e+00, 8.00000000e+00],\n",
       "       [3.66000000e+02, 4.38000000e+02, 3.12628128e+00, 1.20000000e+01],\n",
       "       [1.16000000e+02, 4.45000000e+02, 3.23067149e+00, 6.00000000e+00],\n",
       "       [4.23000000e+02, 4.56000000e+02, 3.41498810e+00, 7.00000000e+00],\n",
       "       [4.13000000e+02, 4.43000000e+02, 3.45283908e+00, 1.10000000e+01],\n",
       "       [4.14000000e+02, 4.30000000e+02, 3.50396061e+00, 1.10000000e+01],\n",
       "       [4.01000000e+02, 4.36000000e+02, 3.64960673e+00, 1.20000000e+01],\n",
       "       [4.31000000e+02, 4.51000000e+02, 3.73750947e+00, 2.10000000e+01],\n",
       "       [4.32000000e+02, 4.34000000e+02, 3.86632929e+00, 2.20000000e+01],\n",
       "       [3.78000000e+02, 4.55000000e+02, 3.86909402e+00, 8.00000000e+00],\n",
       "       [3.97000000e+02, 4.37000000e+02, 3.89348563e+00, 1.20000000e+01],\n",
       "       [3.86000000e+02, 4.53000000e+02, 4.18628900e+00, 1.00000000e+01],\n",
       "       [4.42000000e+02, 4.46000000e+02, 4.27346973e+00, 1.40000000e+01],\n",
       "       [2.33000000e+02, 4.20000000e+02, 4.39633884e+00, 3.00000000e+00],\n",
       "       [4.35000000e+02, 4.64000000e+02, 4.55844195e+00, 2.70000000e+01],\n",
       "       [3.93000000e+02, 4.02000000e+02, 4.57359534e+00, 1.00000000e+01],\n",
       "       [4.49000000e+02, 4.50000000e+02, 4.69809463e+00, 1.90000000e+01],\n",
       "       [4.27000000e+02, 4.59000000e+02, 5.30783586e+00, 1.30000000e+01],\n",
       "       [4.62000000e+02, 4.70000000e+02, 5.37722495e+00, 1.40000000e+01],\n",
       "       [4.29000000e+02, 4.60000000e+02, 5.58773237e+00, 1.60000000e+01],\n",
       "       [4.04000000e+02, 4.69000000e+02, 5.82659936e+00, 1.70000000e+01],\n",
       "       [4.52000000e+02, 4.67000000e+02, 5.99439207e+00, 2.00000000e+01],\n",
       "       [4.47000000e+02, 4.66000000e+02, 6.16612409e+00, 1.00000000e+01],\n",
       "       [4.33000000e+02, 4.48000000e+02, 6.43182322e+00, 1.60000000e+01],\n",
       "       [3.70000000e+02, 4.73000000e+02, 6.58625722e+00, 2.20000000e+01],\n",
       "       [4.44000000e+02, 4.54000000e+02, 7.05594680e+00, 1.00000000e+01],\n",
       "       [4.58000000e+02, 4.65000000e+02, 7.44253044e+00, 3.40000000e+01],\n",
       "       [4.61000000e+02, 4.77000000e+02, 8.06607140e+00, 2.80000000e+01],\n",
       "       [4.72000000e+02, 4.82000000e+02, 8.14835319e+00, 2.00000000e+01],\n",
       "       [4.75000000e+02, 4.80000000e+02, 9.20641721e+00, 3.00000000e+01],\n",
       "       [4.57000000e+02, 4.74000000e+02, 1.00223140e+01, 2.10000000e+01],\n",
       "       [4.63000000e+02, 4.71000000e+02, 1.03114741e+01, 3.90000000e+01],\n",
       "       [4.76000000e+02, 4.81000000e+02, 1.29524786e+01, 3.80000000e+01],\n",
       "       [4.79000000e+02, 4.87000000e+02, 1.31064685e+01, 3.10000000e+01],\n",
       "       [4.78000000e+02, 4.88000000e+02, 1.37285255e+01, 5.90000000e+01],\n",
       "       [4.68000000e+02, 4.86000000e+02, 1.45748322e+01, 4.00000000e+01],\n",
       "       [4.83000000e+02, 4.84000000e+02, 1.54336059e+01, 6.20000000e+01],\n",
       "       [4.85000000e+02, 4.90000000e+02, 1.86184681e+01, 5.10000000e+01],\n",
       "       [4.89000000e+02, 4.93000000e+02, 1.93412986e+01, 1.00000000e+02],\n",
       "       [4.91000000e+02, 4.92000000e+02, 2.48843012e+01, 9.90000000e+01],\n",
       "       [4.94000000e+02, 4.96000000e+02, 8.50357942e+01, 1.50000000e+02],\n",
       "       [4.95000000e+02, 4.97000000e+02, 2.22115043e+02, 2.50000000e+02]])"
      ]
     },
     "execution_count": 201,
     "metadata": {},
     "output_type": "execute_result"
    }
   ],
   "source": [
    "Z"
   ]
  },
  {
   "cell_type": "markdown",
   "metadata": {},
   "source": [
    "### 12. Plot the dendrogram for the consolidated dataframe"
   ]
  },
  {
   "cell_type": "code",
   "execution_count": 183,
   "metadata": {},
   "outputs": [
    {
     "data": {
      "image/png": "[encoded data removed]",
      "text/plain": [
       "<Figure size 1080x1080 with 1 Axes>"
      ]
     },
     "metadata": {},
     "output_type": "display_data"
    }
   ],
   "source": [
    "plt.figure(figsize=(15, 15))\n",
    "plt.title('Agglomerative Hierarchical Clustering Dendogram')\n",
    "plt.xlabel('sample index')\n",
    "plt.ylabel('Distance')\n",
    "dendrogram(Z, leaf_rotation=90.,color_threshold=600,  leaf_font_size=10. )\n",
    "plt.tight_layout()"
   ]
  },
  {
   "cell_type": "markdown",
   "metadata": {},
   "source": [
    "### 13. Recreate the dendrogram for last 12 merged clusters "
   ]
  },
  {
   "cell_type": "code",
   "execution_count": 184,
   "metadata": {},
   "outputs": [
    {
     "data": {
      "image/png": "[encoded data removed]",
      "text/plain": [
       "<Figure size 1152x648 with 1 Axes>"
      ]
     },
     "metadata": {},
     "output_type": "display_data"
    }
   ],
   "source": [
    "dendrogram(\n",
    "    Z,\n",
    "    truncate_mode='lastp',  # show only the last p merged clusters\n",
    "    p=12,  # show only the last p merged clusters\n",
    ")\n",
    "plt.show()"
   ]
  },
  {
   "cell_type": "markdown",
   "metadata": {},
   "source": [
    "Hint: Use truncate_mode='lastp' attribute in dendrogram function to arrive at dendrogram "
   ]
  },
  {
   "cell_type": "markdown",
   "metadata": {},
   "source": [
    "### 14. From the truncated dendrogram, find out the optimal distance between clusters which u want to use an input for clustering data"
   ]
  },
  {
   "cell_type": "code",
   "execution_count": 214,
   "metadata": {},
   "outputs": [
    {
     "name": "stdout",
     "output_type": "stream",
     "text": [
      "The optimal distance between clusters in order to get 3 clusters is: 50\n"
     ]
    }
   ],
   "source": [
    "max_d=50\n",
    "print(\"The optimal distance between clusters in order to get 3 clusters is:\",max_d)"
   ]
  },
  {
   "cell_type": "markdown",
   "metadata": {},
   "source": [
    "### 15. Using this distance measure and fcluster function to cluster the data into 3 different groups"
   ]
  },
  {
   "cell_type": "code",
   "execution_count": 219,
   "metadata": {},
   "outputs": [
    {
     "data": {
      "text/plain": [
       "array([1, 1, 1, 1, 1, 1, 1, 1, 1, 1, 1, 1, 1, 1, 1, 1, 1, 1, 1, 1, 1, 1,\n",
       "       1, 1, 1, 1, 1, 1, 1, 1, 1, 1, 1, 1, 1, 1, 1, 1, 1, 1, 1, 1, 1, 1,\n",
       "       1, 1, 1, 1, 1, 1, 1, 1, 1, 1, 1, 1, 1, 1, 1, 1, 1, 1, 1, 1, 1, 1,\n",
       "       1, 1, 1, 1, 1, 1, 1, 1, 1, 1, 1, 1, 1, 1, 1, 1, 1, 1, 1, 1, 1, 1,\n",
       "       1, 1, 1, 1, 1, 1, 1, 1, 1, 1, 1, 1, 2, 2, 2, 2, 2, 2, 2, 2, 2, 2,\n",
       "       2, 2, 2, 2, 2, 2, 2, 2, 2, 2, 2, 2, 2, 2, 2, 2, 2, 2, 2, 2, 2, 2,\n",
       "       2, 2, 2, 2, 2, 2, 2, 2, 2, 2, 2, 2, 2, 2, 2, 2, 2, 2, 3, 3, 3, 3,\n",
       "       3, 3, 3, 3, 3, 3, 3, 3, 3, 3, 3, 3, 3, 3, 3, 2, 3, 3, 3, 3, 3, 3,\n",
       "       3, 3, 3, 3, 3, 3, 3, 3, 3, 3, 3, 3, 3, 3, 3, 3, 3, 3, 3, 3, 3, 3,\n",
       "       3, 3, 3, 3, 3, 3, 3, 3, 3, 3, 3, 3, 3, 3, 3, 3, 3, 3, 3, 3, 3, 3,\n",
       "       3, 3, 3, 3, 3, 3, 3, 3, 3, 3, 3, 3, 3, 3, 3, 3, 3, 3, 3, 3, 3, 3,\n",
       "       3, 3, 3, 3, 3, 3, 3, 3], dtype=int32)"
      ]
     },
     "execution_count": 219,
     "metadata": {},
     "output_type": "execute_result"
    }
   ],
   "source": [
    "from scipy.cluster.hierarchy import fcluster\n",
    "max_d = 50\n",
    "k=3\n",
    "clusters = fcluster(Z, max_d,criterion='distance')\n",
    "clusters"
   ]
  },
  {
   "cell_type": "markdown",
   "metadata": {},
   "source": [
    "### Use matplotlib to visually observe the clusters in 2D space "
   ]
  },
  {
   "cell_type": "code",
   "execution_count": 225,
   "metadata": {},
   "outputs": [
    {
     "data": {
      "image/png": "[encoded data removed]",
      "text/plain": [
       "<Figure size 432x432 with 1 Axes>"
      ]
     },
     "metadata": {
      "needs_background": "light"
     },
     "output_type": "display_data"
    }
   ],
   "source": [
    "plt.figure(figsize=(6,6))\n",
    "plt.scatter(c1, c2,c=clusters,cmap='prism')  # plot points with cluster dependent colors\n",
    "plt.show()"
   ]
  }
 ],
 "metadata": {
  "kernelspec": {
   "display_name": "Python 3",
   "language": "python",
   "name": "python3"
  },
  "language_info": {
   "codemirror_mode": {
    "name": "ipython",
    "version": 3
   },
   "file_extension": ".py",
   "mimetype": "text/x-python",
   "name": "python",
   "nbconvert_exporter": "python",
   "pygments_lexer": "ipython3",
   "version": "3.7.3"
  }
 },
 "nbformat": 4,
 "nbformat_minor": 2
}
