{
  "nbformat": 4,
  "nbformat_minor": 0,
  "metadata": {
    "colab": {
      "name": "R6_ExternalLab_AIML-1.ipynb",
      "provenance": [],
      "collapsed_sections": []
    },
    "kernelspec": {
      "display_name": "Python 3",
      "language": "python",
      "name": "python3"
    },
    "language_info": {
      "codemirror_mode": {
        "name": "ipython",
        "version": 3
      },
      "file_extension": ".py",
      "mimetype": "text/x-python",
      "name": "python",
      "nbconvert_exporter": "python",
      "pygments_lexer": "ipython3",
      "version": "3.7.3"
    }
  },
  "cells": [
    {
      "cell_type": "markdown",
      "metadata": {
        "colab_type": "text",
        "id": "YYk8NG3yOIT9"
      },
      "source": [
        "### A MNIST-like fashion product database\n",
        "\n",
        "In this, we classify the images into respective classes given in the dataset. We use a Neural Net and a Deep Neural Net in Keras to solve this and check the accuracy scores."
      ]
    },
    {
      "cell_type": "markdown",
      "metadata": {
        "colab_type": "text",
        "id": "tFO6PuxzOIT_"
      },
      "source": [
        "### Load tensorflow"
      ]
    },
    {
      "cell_type": "code",
      "metadata": {
        "colab_type": "code",
        "id": "efNjNImfOIUC",
        "colab": {}
      },
      "source": [
        "import tensorflow as tf\n",
        "tf.set_random_seed(42)"
      ],
      "execution_count": 0,
      "outputs": []
    },
    {
      "cell_type": "code",
      "metadata": {
        "colab_type": "code",
        "id": "l9C4aAIGOIUH",
        "outputId": "c9c20503-5754-4a0a-cb99-94f2f6c2639c",
        "colab": {
          "base_uri": "https://localhost:8080/",
          "height": 34
        }
      },
      "source": [
        "tf.__version__"
      ],
      "execution_count": 136,
      "outputs": [
        {
          "output_type": "execute_result",
          "data": {
            "text/plain": [
              "'1.15.0'"
            ]
          },
          "metadata": {
            "tags": []
          },
          "execution_count": 136
        }
      ]
    },
    {
      "cell_type": "markdown",
      "metadata": {
        "colab_type": "text",
        "id": "HcoZBStrOIUQ"
      },
      "source": [
        "### Collect Data"
      ]
    },
    {
      "cell_type": "code",
      "metadata": {
        "id": "nYAYf5sB-2gS",
        "colab_type": "code",
        "colab": {}
      },
      "source": [
        "import numpy as np\n",
        "import pandas as pd\n",
        "import matplotlib.pyplot as plt\n",
        "import seaborn as sns"
      ],
      "execution_count": 0,
      "outputs": []
    },
    {
      "cell_type": "code",
      "metadata": {
        "colab_type": "code",
        "id": "XA1WsFSeOIUS",
        "colab": {}
      },
      "source": [
        "import keras"
      ],
      "execution_count": 0,
      "outputs": []
    },
    {
      "cell_type": "code",
      "metadata": {
        "colab_type": "code",
        "id": "qnbx7TyQOIUY",
        "colab": {}
      },
      "source": [
        "(trainX, trainY), (testX, testY) = keras.datasets.fashion_mnist.load_data()"
      ],
      "execution_count": 0,
      "outputs": []
    },
    {
      "cell_type": "code",
      "metadata": {
        "colab_type": "code",
        "id": "UbiHj5YPOIUc",
        "outputId": "cdef4479-bcf7-466d-d58c-02e3b5669ace",
        "colab": {
          "base_uri": "https://localhost:8080/",
          "height": 34
        }
      },
      "source": [
        "print(testY[0:5])"
      ],
      "execution_count": 140,
      "outputs": [
        {
          "output_type": "stream",
          "text": [
            "[9 2 1 1 6]\n"
          ],
          "name": "stdout"
        }
      ]
    },
    {
      "cell_type": "code",
      "metadata": {
        "id": "YAMQYHfhBXA8",
        "colab_type": "code",
        "colab": {
          "base_uri": "https://localhost:8080/",
          "height": 34
        },
        "outputId": "37d0614f-cf78-42a0-be6d-d74a41afa590"
      },
      "source": [
        "print(trainY[0:5])"
      ],
      "execution_count": 141,
      "outputs": [
        {
          "output_type": "stream",
          "text": [
            "[9 0 0 3 0]\n"
          ],
          "name": "stdout"
        }
      ]
    },
    {
      "cell_type": "markdown",
      "metadata": {
        "colab_type": "text",
        "id": "lDAYzkwyOIUj"
      },
      "source": [
        "### Convert both training and testing labels into one-hot vectors.\n",
        "\n",
        "**Hint:** check **tf.keras.utils.to_categorical()**"
      ]
    },
    {
      "cell_type": "code",
      "metadata": {
        "colab_type": "code",
        "id": "vBlfYlANOIUk",
        "colab": {}
      },
      "source": [
        "trainY = tf.keras.utils.to_categorical(trainY, num_classes=10)\n",
        "testY = tf.keras.utils.to_categorical(testY, num_classes=10)"
      ],
      "execution_count": 0,
      "outputs": []
    },
    {
      "cell_type": "code",
      "metadata": {
        "colab_type": "code",
        "id": "RHV3b9mzOIUq",
        "outputId": "d66abe31-d1d3-4bde-fe49-7c52cb306b51",
        "scrolled": true,
        "colab": {
          "base_uri": "https://localhost:8080/",
          "height": 51
        }
      },
      "source": [
        "print(trainY.shape)\n",
        "print('First 5 examples now are: ', trainY[0:5])"
      ],
      "execution_count": 142,
      "outputs": [
        {
          "output_type": "stream",
          "text": [
            "(60000,)\n",
            "First 5 examples now are:  [9 0 0 3 0]\n"
          ],
          "name": "stdout"
        }
      ]
    },
    {
      "cell_type": "code",
      "metadata": {
        "id": "b2bX5-jZ_i6H",
        "colab_type": "code",
        "colab": {}
      },
      "source": [
        "class_names = ['T-shirt/top', 'Trouser', 'Pullover', 'Dress', 'Coat',\n",
        "               'Sandal', 'Shirt', 'Sneaker', 'Bag', 'Ankle boot']"
      ],
      "execution_count": 0,
      "outputs": []
    },
    {
      "cell_type": "markdown",
      "metadata": {
        "colab_type": "text",
        "id": "FwhQ8e7VOIUw"
      },
      "source": [
        "### Visualize the data\n",
        "\n",
        "Plot first 10 images in the triaining set and their labels."
      ]
    },
    {
      "cell_type": "code",
      "metadata": {
        "id": "DLkghAkLAB1m",
        "colab_type": "code",
        "colab": {
          "base_uri": "https://localhost:8080/",
          "height": 265
        },
        "outputId": "5d47a44f-4874-47ec-c392-db4fbd9f3baf"
      },
      "source": [
        "plt.figure()\n",
        "plt.imshow(trainX[0])\n",
        "plt.colorbar()\n",
        "plt.grid(False)\n",
        "plt.show()\n"
      ],
      "execution_count": 144,
      "outputs": [
        {
          "output_type": "display_data",
          "data": {
            "image/png": "[encoded data removed]",
            "text/plain": [
              "<Figure size 432x288 with 2 Axes>"
            ]
          },
          "metadata": {
            "tags": []
          }
        }
      ]
    },
    {
      "cell_type": "code",
      "metadata": {
        "colab_type": "code",
        "id": "AvDML2OoOIUx",
        "outputId": "4508341b-88ee-4a1a-a270-73d3c0fb8a71",
        "colab": {
          "base_uri": "https://localhost:8080/",
          "height": 126
        }
      },
      "source": [
        "plt.figure(figsize=(10,10))\n",
        "for i in range(10):\n",
        "    plt.subplot(1,10,i+1)\n",
        "    plt.xticks([])\n",
        "    plt.yticks([])\n",
        "    plt.grid(False)\n",
        "    plt.imshow(trainX[i], cmap=plt.cm.binary)\n",
        "    plt.xlabel(class_names[trainY[i]])\n",
        "plt.show()\n",
        "print(\"Label for each of above image:\")\n",
        "print(trainY[0:9])"
      ],
      "execution_count": 146,
      "outputs": [
        {
          "output_type": "display_data",
          "data": {
            "image/png": "[encoded data removed]",
            "text/plain": [
              "<Figure size 720x720 with 10 Axes>"
            ]
          },
          "metadata": {
            "tags": []
          }
        },
        {
          "output_type": "stream",
          "text": [
            "Label for each of above image:\n",
            "[9 0 0 3 0 2 7 2 5]\n"
          ],
          "name": "stdout"
        }
      ]
    },
    {
      "cell_type": "markdown",
      "metadata": {
        "colab_type": "text",
        "id": "l4TbJGeSOIU4"
      },
      "source": [
        "### Build a neural Network with a cross entropy loss function and sgd optimizer in Keras. The output layer with 10 neurons as we have 10 classes."
      ]
    },
    {
      "cell_type": "code",
      "metadata": {
        "colab_type": "code",
        "id": "Ac06XZZTOIU6",
        "colab": {
          "base_uri": "https://localhost:8080/",
          "height": 51
        },
        "outputId": "765095b2-1150-4973-877a-8786c4ecddaa"
      },
      "source": [
        "print(trainX.shape)\n",
        "print(trainY.shape)"
      ],
      "execution_count": 103,
      "outputs": [
        {
          "output_type": "stream",
          "text": [
            "(60000, 28, 28)\n",
            "(60000, 10)\n"
          ],
          "name": "stdout"
        }
      ]
    },
    {
      "cell_type": "code",
      "metadata": {
        "id": "2Gh54pCGECoX",
        "colab_type": "code",
        "colab": {}
      },
      "source": [
        "# Initialize Sequential model\n",
        "model = tf.keras.models.Sequential()\n",
        "\n",
        "# Reshape data from 2D to 1D -> 28x28 to 784\n",
        "model.add(tf.keras.layers.Reshape((784,),input_shape=(28,28,)))\n",
        "\n",
        "# Add Dense Layer which provides 10 Outputs after applying softmax\n",
        "model.add(tf.keras.layers.Dense(10, activation='softmax'))"
      ],
      "execution_count": 0,
      "outputs": []
    },
    {
      "cell_type": "code",
      "metadata": {
        "id": "WhFXvSN8EcSY",
        "colab_type": "code",
        "colab": {}
      },
      "source": [
        "# Compile the model\n",
        "model.compile(optimizer='sgd', loss='categorical_crossentropy', metrics=['accuracy'])"
      ],
      "execution_count": 0,
      "outputs": []
    },
    {
      "cell_type": "markdown",
      "metadata": {
        "colab_type": "text",
        "id": "3hQpLv3aOIU_"
      },
      "source": [
        "### Execute the model using model.fit()"
      ]
    },
    {
      "cell_type": "code",
      "metadata": {
        "colab_type": "code",
        "id": "O59C_-IgOIVB",
        "colab": {
          "base_uri": "https://localhost:8080/",
          "height": 1000
        },
        "outputId": "238565b1-4a3f-4c4e-afba-1f2640560db6"
      },
      "source": [
        "model.fit(trainX, trainY, validation_data=(testX, testY), epochs=50)"
      ],
      "execution_count": 106,
      "outputs": [
        {
          "output_type": "stream",
          "text": [
            "Train on 60000 samples, validate on 10000 samples\n",
            "Epoch 1/50\n",
            "60000/60000 [==============================] - 3s 51us/sample - loss: 2033.2326 - acc: 0.7401 - val_loss: 1638.6974 - val_acc: 0.7637\n",
            "Epoch 2/50\n",
            "60000/60000 [==============================] - 3s 48us/sample - loss: 1637.5253 - acc: 0.7769 - val_loss: 1781.0311 - val_acc: 0.7446\n",
            "Epoch 3/50\n",
            "60000/60000 [==============================] - 3s 48us/sample - loss: 1553.4336 - acc: 0.7860 - val_loss: 1929.2948 - val_acc: 0.7651\n",
            "Epoch 4/50\n",
            "60000/60000 [==============================] - 3s 47us/sample - loss: 1474.4652 - acc: 0.7911 - val_loss: 1686.8015 - val_acc: 0.7346\n",
            "Epoch 5/50\n",
            "60000/60000 [==============================] - 3s 48us/sample - loss: 1501.1157 - acc: 0.7929 - val_loss: 1461.7347 - val_acc: 0.7981\n",
            "Epoch 6/50\n",
            "60000/60000 [==============================] - 3s 47us/sample - loss: 1478.4352 - acc: 0.7936 - val_loss: 1078.2669 - val_acc: 0.8005\n",
            "Epoch 7/50\n",
            "60000/60000 [==============================] - 3s 47us/sample - loss: 1435.1625 - acc: 0.7969 - val_loss: 1931.7350 - val_acc: 0.7408\n",
            "Epoch 8/50\n",
            "60000/60000 [==============================] - 3s 47us/sample - loss: 1449.2130 - acc: 0.7984 - val_loss: 2841.0876 - val_acc: 0.7076\n",
            "Epoch 9/50\n",
            "60000/60000 [==============================] - 3s 48us/sample - loss: 1460.9634 - acc: 0.7988 - val_loss: 1280.3210 - val_acc: 0.8022\n",
            "Epoch 10/50\n",
            "60000/60000 [==============================] - 3s 47us/sample - loss: 1450.3727 - acc: 0.7995 - val_loss: 1332.2263 - val_acc: 0.8040\n",
            "Epoch 11/50\n",
            "60000/60000 [==============================] - 3s 48us/sample - loss: 1484.5772 - acc: 0.7995 - val_loss: 1377.4304 - val_acc: 0.7941\n",
            "Epoch 12/50\n",
            "60000/60000 [==============================] - 3s 48us/sample - loss: 1423.0173 - acc: 0.8015 - val_loss: 1034.6405 - val_acc: 0.8145\n",
            "Epoch 13/50\n",
            "60000/60000 [==============================] - 3s 47us/sample - loss: 1422.5524 - acc: 0.8027 - val_loss: 1282.3955 - val_acc: 0.7962\n",
            "Epoch 14/50\n",
            "60000/60000 [==============================] - 3s 49us/sample - loss: 1423.4993 - acc: 0.8026 - val_loss: 1456.7113 - val_acc: 0.7789\n",
            "Epoch 15/50\n",
            "60000/60000 [==============================] - 3s 47us/sample - loss: 1387.6954 - acc: 0.8020 - val_loss: 1058.0913 - val_acc: 0.8038\n",
            "Epoch 16/50\n",
            "60000/60000 [==============================] - 3s 47us/sample - loss: 1404.8001 - acc: 0.8023 - val_loss: 1164.4013 - val_acc: 0.8106\n",
            "Epoch 17/50\n",
            "60000/60000 [==============================] - 3s 47us/sample - loss: 1403.5283 - acc: 0.8034 - val_loss: 1796.0986 - val_acc: 0.7712\n",
            "Epoch 18/50\n",
            "60000/60000 [==============================] - 3s 48us/sample - loss: 1380.2765 - acc: 0.8047 - val_loss: 2055.0776 - val_acc: 0.7509\n",
            "Epoch 19/50\n",
            "60000/60000 [==============================] - 3s 47us/sample - loss: 1385.0669 - acc: 0.8045 - val_loss: 1067.8300 - val_acc: 0.8172\n",
            "Epoch 20/50\n",
            "60000/60000 [==============================] - 3s 47us/sample - loss: 1373.8479 - acc: 0.8049 - val_loss: 1878.4927 - val_acc: 0.7446\n",
            "Epoch 21/50\n",
            "60000/60000 [==============================] - 3s 48us/sample - loss: 1396.3106 - acc: 0.8059 - val_loss: 1067.5543 - val_acc: 0.8252\n",
            "Epoch 22/50\n",
            "60000/60000 [==============================] - 3s 48us/sample - loss: 1359.7611 - acc: 0.8074 - val_loss: 1547.3930 - val_acc: 0.7738\n",
            "Epoch 23/50\n",
            "60000/60000 [==============================] - 3s 51us/sample - loss: 1365.9158 - acc: 0.8063 - val_loss: 3233.7403 - val_acc: 0.7218\n",
            "Epoch 24/50\n",
            "60000/60000 [==============================] - 3s 52us/sample - loss: 1381.8432 - acc: 0.8073 - val_loss: 1062.2965 - val_acc: 0.8230\n",
            "Epoch 25/50\n",
            "60000/60000 [==============================] - 3s 51us/sample - loss: 1388.7758 - acc: 0.8059 - val_loss: 1454.7941 - val_acc: 0.7962\n",
            "Epoch 26/50\n",
            "60000/60000 [==============================] - 3s 50us/sample - loss: 1364.6020 - acc: 0.8083 - val_loss: 1180.1691 - val_acc: 0.8040\n",
            "Epoch 27/50\n",
            "60000/60000 [==============================] - 3s 49us/sample - loss: 1364.9815 - acc: 0.8091 - val_loss: 1754.4088 - val_acc: 0.7679\n",
            "Epoch 28/50\n",
            "60000/60000 [==============================] - 3s 48us/sample - loss: 1370.1227 - acc: 0.8080 - val_loss: 3170.4164 - val_acc: 0.6891\n",
            "Epoch 29/50\n",
            "60000/60000 [==============================] - 3s 47us/sample - loss: 1385.2343 - acc: 0.8061 - val_loss: 3140.3447 - val_acc: 0.6977\n",
            "Epoch 30/50\n",
            "60000/60000 [==============================] - 3s 47us/sample - loss: 1385.0582 - acc: 0.8069 - val_loss: 3210.9257 - val_acc: 0.7359\n",
            "Epoch 31/50\n",
            "60000/60000 [==============================] - 3s 48us/sample - loss: 1382.5565 - acc: 0.8080 - val_loss: 1281.2374 - val_acc: 0.8122\n",
            "Epoch 32/50\n",
            "60000/60000 [==============================] - 3s 48us/sample - loss: 1378.8201 - acc: 0.8081 - val_loss: 3611.0252 - val_acc: 0.6951\n",
            "Epoch 33/50\n",
            "60000/60000 [==============================] - 3s 48us/sample - loss: 1392.9469 - acc: 0.8084 - val_loss: 1256.8676 - val_acc: 0.8027\n",
            "Epoch 34/50\n",
            "60000/60000 [==============================] - 3s 47us/sample - loss: 1361.2019 - acc: 0.8114 - val_loss: 1487.7583 - val_acc: 0.7883\n",
            "Epoch 35/50\n",
            "60000/60000 [==============================] - 3s 49us/sample - loss: 1389.8836 - acc: 0.8076 - val_loss: 1314.9124 - val_acc: 0.8050\n",
            "Epoch 36/50\n",
            "60000/60000 [==============================] - 3s 47us/sample - loss: 1353.3277 - acc: 0.8097 - val_loss: 2131.7451 - val_acc: 0.7577\n",
            "Epoch 37/50\n",
            "60000/60000 [==============================] - 3s 47us/sample - loss: 1343.6289 - acc: 0.8103 - val_loss: 1096.7287 - val_acc: 0.8141\n",
            "Epoch 38/50\n",
            "60000/60000 [==============================] - 3s 48us/sample - loss: 1331.5451 - acc: 0.8110 - val_loss: 2342.6179 - val_acc: 0.7414\n",
            "Epoch 39/50\n",
            "60000/60000 [==============================] - 3s 48us/sample - loss: 1374.3454 - acc: 0.8082 - val_loss: 1880.1946 - val_acc: 0.7658\n",
            "Epoch 40/50\n",
            "60000/60000 [==============================] - 3s 47us/sample - loss: 1369.9857 - acc: 0.8073 - val_loss: 1719.5670 - val_acc: 0.7861\n",
            "Epoch 41/50\n",
            "60000/60000 [==============================] - 3s 47us/sample - loss: 1346.5376 - acc: 0.8098 - val_loss: 1410.2797 - val_acc: 0.7774\n",
            "Epoch 42/50\n",
            "60000/60000 [==============================] - 3s 49us/sample - loss: 1358.1438 - acc: 0.8097 - val_loss: 1115.2561 - val_acc: 0.8050\n",
            "Epoch 43/50\n",
            "60000/60000 [==============================] - 3s 48us/sample - loss: 1375.9920 - acc: 0.8077 - val_loss: 1420.4553 - val_acc: 0.7924\n",
            "Epoch 44/50\n",
            "60000/60000 [==============================] - 3s 47us/sample - loss: 1358.4216 - acc: 0.8094 - val_loss: 1339.9242 - val_acc: 0.7997\n",
            "Epoch 45/50\n",
            "60000/60000 [==============================] - 3s 48us/sample - loss: 1350.6404 - acc: 0.8122 - val_loss: 1449.7541 - val_acc: 0.7953\n",
            "Epoch 46/50\n",
            "60000/60000 [==============================] - 3s 48us/sample - loss: 1382.8874 - acc: 0.8100 - val_loss: 1918.0044 - val_acc: 0.7697\n",
            "Epoch 47/50\n",
            "60000/60000 [==============================] - 3s 47us/sample - loss: 1352.3315 - acc: 0.8100 - val_loss: 1486.0548 - val_acc: 0.7911\n",
            "Epoch 48/50\n",
            "60000/60000 [==============================] - 3s 48us/sample - loss: 1353.0503 - acc: 0.8114 - val_loss: 1801.1040 - val_acc: 0.7598\n",
            "Epoch 49/50\n",
            "60000/60000 [==============================] - 3s 49us/sample - loss: 1328.8101 - acc: 0.8123 - val_loss: 1666.6551 - val_acc: 0.7782\n",
            "Epoch 50/50\n",
            "60000/60000 [==============================] - 3s 48us/sample - loss: 1381.6569 - acc: 0.8087 - val_loss: 1281.3520 - val_acc: 0.7971\n"
          ],
          "name": "stdout"
        },
        {
          "output_type": "execute_result",
          "data": {
            "text/plain": [
              "<tensorflow.python.keras.callbacks.History at 0x7f0488011e80>"
            ]
          },
          "metadata": {
            "tags": []
          },
          "execution_count": 106
        }
      ]
    },
    {
      "cell_type": "markdown",
      "metadata": {
        "colab_type": "text",
        "id": "JdzDtGwDOIVF"
      },
      "source": [
        "### In the above Neural Network model add Batch Normalization layer after the input layer and repeat the steps."
      ]
    },
    {
      "cell_type": "code",
      "metadata": {
        "colab_type": "code",
        "id": "kndfpdidOIVI",
        "colab": {}
      },
      "source": [
        "# Initialize Sequential model\n",
        "model1 = tf.keras.models.Sequential()\n",
        "\n",
        "# Reshape data from 2D to 1D -> 28x28 to 784\n",
        "model1.add(tf.keras.layers.Reshape((784,),input_shape=(28,28,)))\n",
        "\n",
        "# Normalize the data\n",
        "model1.add(tf.keras.layers.BatchNormalization())\n",
        "\n",
        "# Add Dense Layer which provides 10 Outputs after applying softmax\n",
        "model1.add(tf.keras.layers.Dense(10, activation='softmax'))"
      ],
      "execution_count": 0,
      "outputs": []
    },
    {
      "cell_type": "code",
      "metadata": {
        "id": "udDapzbjFymM",
        "colab_type": "code",
        "colab": {}
      },
      "source": [
        "# Compile the model\n",
        "model1.compile(optimizer='sgd', loss='categorical_crossentropy', metrics=['accuracy'])"
      ],
      "execution_count": 0,
      "outputs": []
    },
    {
      "cell_type": "markdown",
      "metadata": {
        "colab_type": "text",
        "id": "mwk3T5LJOIVN"
      },
      "source": [
        "### Execute the model"
      ]
    },
    {
      "cell_type": "code",
      "metadata": {
        "colab_type": "code",
        "id": "JNLR8tcBOIVP",
        "colab": {
          "base_uri": "https://localhost:8080/",
          "height": 1000
        },
        "outputId": "7850fd85-af32-4018-af08-7047c4000915"
      },
      "source": [
        "model1.fit(trainX, trainY, validation_data=(testX, testY), epochs=50)"
      ],
      "execution_count": 109,
      "outputs": [
        {
          "output_type": "stream",
          "text": [
            "Train on 60000 samples, validate on 10000 samples\n",
            "Epoch 1/50\n",
            "60000/60000 [==============================] - 4s 70us/sample - loss: 0.6012 - acc: 0.7932 - val_loss: 0.5114 - val_acc: 0.8256\n",
            "Epoch 2/50\n",
            "60000/60000 [==============================] - 4s 68us/sample - loss: 0.4914 - acc: 0.8316 - val_loss: 0.4890 - val_acc: 0.8319\n",
            "Epoch 3/50\n",
            "60000/60000 [==============================] - 4s 67us/sample - loss: 0.4695 - acc: 0.8377 - val_loss: 0.4952 - val_acc: 0.8342\n",
            "Epoch 4/50\n",
            "60000/60000 [==============================] - 4s 67us/sample - loss: 0.4565 - acc: 0.8416 - val_loss: 0.4773 - val_acc: 0.8386\n",
            "Epoch 5/50\n",
            "60000/60000 [==============================] - 4s 67us/sample - loss: 0.4487 - acc: 0.8446 - val_loss: 0.4739 - val_acc: 0.8387\n",
            "Epoch 6/50\n",
            "60000/60000 [==============================] - 4s 66us/sample - loss: 0.4446 - acc: 0.8465 - val_loss: 0.4678 - val_acc: 0.8415\n",
            "Epoch 7/50\n",
            "60000/60000 [==============================] - 4s 68us/sample - loss: 0.4397 - acc: 0.8487 - val_loss: 0.4716 - val_acc: 0.8402\n",
            "Epoch 8/50\n",
            "60000/60000 [==============================] - 4s 66us/sample - loss: 0.4335 - acc: 0.8504 - val_loss: 0.4677 - val_acc: 0.8424\n",
            "Epoch 9/50\n",
            "60000/60000 [==============================] - 4s 68us/sample - loss: 0.4322 - acc: 0.8501 - val_loss: 0.4638 - val_acc: 0.8408\n",
            "Epoch 10/50\n",
            "60000/60000 [==============================] - 5s 79us/sample - loss: 0.4316 - acc: 0.8491 - val_loss: 0.4856 - val_acc: 0.8375\n",
            "Epoch 11/50\n",
            "60000/60000 [==============================] - 4s 69us/sample - loss: 0.4282 - acc: 0.8513 - val_loss: 0.4836 - val_acc: 0.8446\n",
            "Epoch 12/50\n",
            "60000/60000 [==============================] - 4s 66us/sample - loss: 0.4259 - acc: 0.8506 - val_loss: 0.4906 - val_acc: 0.8409\n",
            "Epoch 13/50\n",
            "60000/60000 [==============================] - 4s 67us/sample - loss: 0.4256 - acc: 0.8519 - val_loss: 0.4722 - val_acc: 0.8438\n",
            "Epoch 14/50\n",
            "60000/60000 [==============================] - 4s 66us/sample - loss: 0.4252 - acc: 0.8521 - val_loss: 0.4619 - val_acc: 0.8398\n",
            "Epoch 15/50\n",
            "60000/60000 [==============================] - 4s 69us/sample - loss: 0.4225 - acc: 0.8528 - val_loss: 0.4662 - val_acc: 0.8424\n",
            "Epoch 16/50\n",
            "60000/60000 [==============================] - 4s 68us/sample - loss: 0.4208 - acc: 0.8527 - val_loss: 0.4600 - val_acc: 0.8412\n",
            "Epoch 17/50\n",
            "60000/60000 [==============================] - 4s 69us/sample - loss: 0.4195 - acc: 0.8535 - val_loss: 0.4561 - val_acc: 0.8436\n",
            "Epoch 18/50\n",
            "60000/60000 [==============================] - 4s 67us/sample - loss: 0.4186 - acc: 0.8535 - val_loss: 0.4633 - val_acc: 0.8429\n",
            "Epoch 19/50\n",
            "60000/60000 [==============================] - 4s 67us/sample - loss: 0.4152 - acc: 0.8543 - val_loss: 0.4764 - val_acc: 0.8403\n",
            "Epoch 20/50\n",
            "60000/60000 [==============================] - 4s 68us/sample - loss: 0.4169 - acc: 0.8537 - val_loss: 0.4583 - val_acc: 0.8430\n",
            "Epoch 21/50\n",
            "60000/60000 [==============================] - 4s 67us/sample - loss: 0.4151 - acc: 0.8558 - val_loss: 0.4675 - val_acc: 0.8412\n",
            "Epoch 22/50\n",
            "60000/60000 [==============================] - 4s 68us/sample - loss: 0.4173 - acc: 0.8532 - val_loss: 0.4897 - val_acc: 0.8385\n",
            "Epoch 23/50\n",
            "60000/60000 [==============================] - 4s 66us/sample - loss: 0.4145 - acc: 0.8542 - val_loss: 0.4675 - val_acc: 0.8389\n",
            "Epoch 24/50\n",
            "60000/60000 [==============================] - 4s 69us/sample - loss: 0.4120 - acc: 0.8549 - val_loss: 0.4675 - val_acc: 0.8359\n",
            "Epoch 25/50\n",
            "60000/60000 [==============================] - 4s 68us/sample - loss: 0.4150 - acc: 0.8535 - val_loss: 0.4739 - val_acc: 0.8424\n",
            "Epoch 26/50\n",
            "60000/60000 [==============================] - 4s 67us/sample - loss: 0.4130 - acc: 0.8558 - val_loss: 0.4811 - val_acc: 0.8391\n",
            "Epoch 27/50\n",
            "60000/60000 [==============================] - 4s 66us/sample - loss: 0.4103 - acc: 0.8564 - val_loss: 0.4824 - val_acc: 0.8399\n",
            "Epoch 28/50\n",
            "60000/60000 [==============================] - 4s 66us/sample - loss: 0.4102 - acc: 0.8566 - val_loss: 0.4795 - val_acc: 0.8403\n",
            "Epoch 29/50\n",
            "60000/60000 [==============================] - 4s 66us/sample - loss: 0.4125 - acc: 0.8550 - val_loss: 0.4876 - val_acc: 0.8405\n",
            "Epoch 30/50\n",
            "60000/60000 [==============================] - 4s 66us/sample - loss: 0.4096 - acc: 0.8565 - val_loss: 0.4791 - val_acc: 0.8374\n",
            "Epoch 31/50\n",
            "60000/60000 [==============================] - 4s 67us/sample - loss: 0.4095 - acc: 0.8570 - val_loss: 0.4941 - val_acc: 0.8344\n",
            "Epoch 32/50\n",
            "60000/60000 [==============================] - 4s 67us/sample - loss: 0.4085 - acc: 0.8560 - val_loss: 0.4689 - val_acc: 0.8392\n",
            "Epoch 33/50\n",
            "60000/60000 [==============================] - 4s 66us/sample - loss: 0.4096 - acc: 0.8555 - val_loss: 0.4725 - val_acc: 0.8409\n",
            "Epoch 34/50\n",
            "60000/60000 [==============================] - 4s 68us/sample - loss: 0.4070 - acc: 0.8572 - val_loss: 0.4843 - val_acc: 0.8413\n",
            "Epoch 35/50\n",
            "60000/60000 [==============================] - 4s 66us/sample - loss: 0.4060 - acc: 0.8576 - val_loss: 0.4714 - val_acc: 0.8433\n",
            "Epoch 36/50\n",
            "60000/60000 [==============================] - 4s 67us/sample - loss: 0.4082 - acc: 0.8560 - val_loss: 0.4750 - val_acc: 0.8399\n",
            "Epoch 37/50\n",
            "60000/60000 [==============================] - 4s 65us/sample - loss: 0.4092 - acc: 0.8570 - val_loss: 0.4713 - val_acc: 0.8422\n",
            "Epoch 38/50\n",
            "60000/60000 [==============================] - 4s 66us/sample - loss: 0.4086 - acc: 0.8569 - val_loss: 0.4867 - val_acc: 0.8381\n",
            "Epoch 39/50\n",
            "60000/60000 [==============================] - 4s 66us/sample - loss: 0.4075 - acc: 0.8566 - val_loss: 0.4710 - val_acc: 0.8380\n",
            "Epoch 40/50\n",
            "60000/60000 [==============================] - 4s 66us/sample - loss: 0.4061 - acc: 0.8562 - val_loss: 0.4758 - val_acc: 0.8394\n",
            "Epoch 41/50\n",
            "60000/60000 [==============================] - 4s 67us/sample - loss: 0.4072 - acc: 0.8545 - val_loss: 0.4745 - val_acc: 0.8340\n",
            "Epoch 42/50\n",
            "60000/60000 [==============================] - 4s 65us/sample - loss: 0.4065 - acc: 0.8576 - val_loss: 0.4713 - val_acc: 0.8427\n",
            "Epoch 43/50\n",
            "60000/60000 [==============================] - 4s 65us/sample - loss: 0.4063 - acc: 0.8569 - val_loss: 0.4728 - val_acc: 0.8416\n",
            "Epoch 44/50\n",
            "60000/60000 [==============================] - 4s 66us/sample - loss: 0.4069 - acc: 0.8574 - val_loss: 0.5064 - val_acc: 0.8414\n",
            "Epoch 45/50\n",
            "60000/60000 [==============================] - 4s 66us/sample - loss: 0.4049 - acc: 0.8572 - val_loss: 0.4764 - val_acc: 0.8386\n",
            "Epoch 46/50\n",
            "60000/60000 [==============================] - 4s 68us/sample - loss: 0.4074 - acc: 0.8561 - val_loss: 0.4916 - val_acc: 0.8388\n",
            "Epoch 47/50\n",
            "60000/60000 [==============================] - 4s 67us/sample - loss: 0.4053 - acc: 0.8568 - val_loss: 0.4775 - val_acc: 0.8413\n",
            "Epoch 48/50\n",
            "60000/60000 [==============================] - 4s 66us/sample - loss: 0.4061 - acc: 0.8569 - val_loss: 0.4687 - val_acc: 0.8429\n",
            "Epoch 49/50\n",
            "60000/60000 [==============================] - 4s 69us/sample - loss: 0.4053 - acc: 0.8562 - val_loss: 0.4864 - val_acc: 0.8403\n",
            "Epoch 50/50\n",
            "60000/60000 [==============================] - 4s 65us/sample - loss: 0.4030 - acc: 0.8569 - val_loss: 0.4814 - val_acc: 0.8388\n"
          ],
          "name": "stdout"
        },
        {
          "output_type": "execute_result",
          "data": {
            "text/plain": [
              "<tensorflow.python.keras.callbacks.History at 0x7f04881508d0>"
            ]
          },
          "metadata": {
            "tags": []
          },
          "execution_count": 109
        }
      ]
    },
    {
      "cell_type": "markdown",
      "metadata": {
        "colab_type": "text",
        "id": "Py-KwkmjOIVU"
      },
      "source": [
        "### Customize the learning rate to 0.001 in sgd optimizer and run the model"
      ]
    },
    {
      "cell_type": "code",
      "metadata": {
        "colab_type": "code",
        "id": "yLXUE9jWOIVV",
        "colab": {}
      },
      "source": [
        "from tensorflow.keras.optimizers import SGD"
      ],
      "execution_count": 0,
      "outputs": []
    },
    {
      "cell_type": "code",
      "metadata": {
        "colab_type": "code",
        "id": "pJUqA5T4OIVc",
        "colab": {}
      },
      "source": [
        "learning_rate=0.001\n",
        "sg = SGD(lr=learning_rate)"
      ],
      "execution_count": 0,
      "outputs": []
    },
    {
      "cell_type": "code",
      "metadata": {
        "id": "FcPjDKKyJhHV",
        "colab_type": "code",
        "colab": {}
      },
      "source": [
        "model1.compile(optimizer=sg, loss='categorical_crossentropy', metrics=['accuracy'])"
      ],
      "execution_count": 0,
      "outputs": []
    },
    {
      "cell_type": "code",
      "metadata": {
        "id": "V62k7pkfLeKg",
        "colab_type": "code",
        "colab": {
          "base_uri": "https://localhost:8080/",
          "height": 1000
        },
        "outputId": "d48b0487-6d94-459e-daf5-a3cd3b17b831"
      },
      "source": [
        "model1.fit(trainX, trainY, validation_data=(testX, testY), epochs=50)"
      ],
      "execution_count": 113,
      "outputs": [
        {
          "output_type": "stream",
          "text": [
            "Train on 60000 samples, validate on 10000 samples\n",
            "Epoch 1/50\n",
            "60000/60000 [==============================] - 4s 71us/sample - loss: 0.3956 - acc: 0.8604 - val_loss: 0.4794 - val_acc: 0.8412\n",
            "Epoch 2/50\n",
            "60000/60000 [==============================] - 4s 67us/sample - loss: 0.3926 - acc: 0.8613 - val_loss: 0.4622 - val_acc: 0.8423\n",
            "Epoch 3/50\n",
            "60000/60000 [==============================] - 4s 67us/sample - loss: 0.3934 - acc: 0.8619 - val_loss: 0.4775 - val_acc: 0.8432\n",
            "Epoch 4/50\n",
            "60000/60000 [==============================] - 4s 68us/sample - loss: 0.3933 - acc: 0.8610 - val_loss: 0.4780 - val_acc: 0.8420\n",
            "Epoch 5/50\n",
            "60000/60000 [==============================] - 4s 67us/sample - loss: 0.3942 - acc: 0.8615 - val_loss: 0.4686 - val_acc: 0.8436\n",
            "Epoch 6/50\n",
            "60000/60000 [==============================] - 4s 69us/sample - loss: 0.3942 - acc: 0.8610 - val_loss: 0.4610 - val_acc: 0.8436\n",
            "Epoch 7/50\n",
            "60000/60000 [==============================] - 4s 69us/sample - loss: 0.3927 - acc: 0.8618 - val_loss: 0.4621 - val_acc: 0.8427\n",
            "Epoch 8/50\n",
            "60000/60000 [==============================] - 5s 78us/sample - loss: 0.3923 - acc: 0.8616 - val_loss: 0.4797 - val_acc: 0.8423\n",
            "Epoch 9/50\n",
            "60000/60000 [==============================] - 5s 77us/sample - loss: 0.3907 - acc: 0.8624 - val_loss: 0.4650 - val_acc: 0.8438\n",
            "Epoch 10/50\n",
            "60000/60000 [==============================] - 4s 69us/sample - loss: 0.3930 - acc: 0.8608 - val_loss: 0.4684 - val_acc: 0.8433\n",
            "Epoch 11/50\n",
            "60000/60000 [==============================] - 4s 69us/sample - loss: 0.3921 - acc: 0.8621 - val_loss: 0.4651 - val_acc: 0.8440\n",
            "Epoch 12/50\n",
            "60000/60000 [==============================] - 4s 67us/sample - loss: 0.3947 - acc: 0.8605 - val_loss: 0.4609 - val_acc: 0.8428\n",
            "Epoch 13/50\n",
            "60000/60000 [==============================] - 4s 68us/sample - loss: 0.3911 - acc: 0.8616 - val_loss: 0.4711 - val_acc: 0.8404\n",
            "Epoch 14/50\n",
            "60000/60000 [==============================] - 4s 67us/sample - loss: 0.3917 - acc: 0.8617 - val_loss: 0.4674 - val_acc: 0.8436\n",
            "Epoch 15/50\n",
            "60000/60000 [==============================] - 4s 67us/sample - loss: 0.3917 - acc: 0.8622 - val_loss: 0.4644 - val_acc: 0.8412\n",
            "Epoch 16/50\n",
            "60000/60000 [==============================] - 4s 67us/sample - loss: 0.3927 - acc: 0.8613 - val_loss: 0.4644 - val_acc: 0.8436\n",
            "Epoch 17/50\n",
            "60000/60000 [==============================] - 4s 66us/sample - loss: 0.3918 - acc: 0.8620 - val_loss: 0.4656 - val_acc: 0.8418\n",
            "Epoch 18/50\n",
            "60000/60000 [==============================] - 4s 67us/sample - loss: 0.3928 - acc: 0.8601 - val_loss: 0.4640 - val_acc: 0.8428\n",
            "Epoch 19/50\n",
            "60000/60000 [==============================] - 4s 66us/sample - loss: 0.3928 - acc: 0.8620 - val_loss: 0.4742 - val_acc: 0.8425\n",
            "Epoch 20/50\n",
            "60000/60000 [==============================] - 4s 66us/sample - loss: 0.3919 - acc: 0.8619 - val_loss: 0.4521 - val_acc: 0.8428\n",
            "Epoch 21/50\n",
            "60000/60000 [==============================] - 4s 66us/sample - loss: 0.3925 - acc: 0.8611 - val_loss: 0.4580 - val_acc: 0.8429\n",
            "Epoch 22/50\n",
            "60000/60000 [==============================] - 4s 66us/sample - loss: 0.3932 - acc: 0.8622 - val_loss: 0.4649 - val_acc: 0.8424\n",
            "Epoch 23/50\n",
            "60000/60000 [==============================] - 4s 67us/sample - loss: 0.3901 - acc: 0.8622 - val_loss: 0.4798 - val_acc: 0.8421\n",
            "Epoch 24/50\n",
            "60000/60000 [==============================] - 4s 66us/sample - loss: 0.3908 - acc: 0.8627 - val_loss: 0.4786 - val_acc: 0.8423\n",
            "Epoch 25/50\n",
            "60000/60000 [==============================] - 4s 68us/sample - loss: 0.3918 - acc: 0.8626 - val_loss: 0.4704 - val_acc: 0.8428\n",
            "Epoch 26/50\n",
            "60000/60000 [==============================] - 4s 68us/sample - loss: 0.3926 - acc: 0.8607 - val_loss: 0.4802 - val_acc: 0.8414\n",
            "Epoch 27/50\n",
            "60000/60000 [==============================] - 4s 67us/sample - loss: 0.3918 - acc: 0.8608 - val_loss: 0.4574 - val_acc: 0.8430\n",
            "Epoch 28/50\n",
            "60000/60000 [==============================] - 4s 67us/sample - loss: 0.3923 - acc: 0.8623 - val_loss: 0.4874 - val_acc: 0.8422\n",
            "Epoch 29/50\n",
            "60000/60000 [==============================] - 4s 66us/sample - loss: 0.3914 - acc: 0.8608 - val_loss: 0.4602 - val_acc: 0.8424\n",
            "Epoch 30/50\n",
            "60000/60000 [==============================] - 4s 66us/sample - loss: 0.3919 - acc: 0.8618 - val_loss: 0.4588 - val_acc: 0.8420\n",
            "Epoch 31/50\n",
            "60000/60000 [==============================] - 4s 66us/sample - loss: 0.3918 - acc: 0.8627 - val_loss: 0.4737 - val_acc: 0.8442\n",
            "Epoch 32/50\n",
            "60000/60000 [==============================] - 4s 66us/sample - loss: 0.3916 - acc: 0.8629 - val_loss: 0.4596 - val_acc: 0.8428\n",
            "Epoch 33/50\n",
            "60000/60000 [==============================] - 4s 68us/sample - loss: 0.3939 - acc: 0.8619 - val_loss: 0.4649 - val_acc: 0.8429\n",
            "Epoch 34/50\n",
            "60000/60000 [==============================] - 4s 67us/sample - loss: 0.3929 - acc: 0.8620 - val_loss: 0.4630 - val_acc: 0.8436\n",
            "Epoch 35/50\n",
            "60000/60000 [==============================] - 4s 69us/sample - loss: 0.3924 - acc: 0.8624 - val_loss: 0.4882 - val_acc: 0.8419\n",
            "Epoch 36/50\n",
            "60000/60000 [==============================] - 4s 73us/sample - loss: 0.3909 - acc: 0.8627 - val_loss: 0.4605 - val_acc: 0.8422\n",
            "Epoch 37/50\n",
            "60000/60000 [==============================] - 4s 65us/sample - loss: 0.3918 - acc: 0.8617 - val_loss: 0.4661 - val_acc: 0.8440\n",
            "Epoch 38/50\n",
            "60000/60000 [==============================] - 4s 65us/sample - loss: 0.3904 - acc: 0.8628 - val_loss: 0.4604 - val_acc: 0.8416\n",
            "Epoch 39/50\n",
            "60000/60000 [==============================] - 4s 65us/sample - loss: 0.3918 - acc: 0.8613 - val_loss: 0.4642 - val_acc: 0.8428\n",
            "Epoch 40/50\n",
            "60000/60000 [==============================] - 4s 64us/sample - loss: 0.3917 - acc: 0.8626 - val_loss: 0.4661 - val_acc: 0.8429\n",
            "Epoch 41/50\n",
            "60000/60000 [==============================] - 4s 66us/sample - loss: 0.3916 - acc: 0.8610 - val_loss: 0.4674 - val_acc: 0.8437\n",
            "Epoch 42/50\n",
            "60000/60000 [==============================] - 4s 68us/sample - loss: 0.3907 - acc: 0.8618 - val_loss: 0.4740 - val_acc: 0.8427\n",
            "Epoch 43/50\n",
            "60000/60000 [==============================] - 4s 69us/sample - loss: 0.3895 - acc: 0.8626 - val_loss: 0.4694 - val_acc: 0.8421\n",
            "Epoch 44/50\n",
            "60000/60000 [==============================] - 4s 68us/sample - loss: 0.3914 - acc: 0.8606 - val_loss: 0.4608 - val_acc: 0.8424\n",
            "Epoch 45/50\n",
            "60000/60000 [==============================] - 4s 67us/sample - loss: 0.3920 - acc: 0.8615 - val_loss: 0.4782 - val_acc: 0.8435\n",
            "Epoch 46/50\n",
            "60000/60000 [==============================] - 4s 67us/sample - loss: 0.3916 - acc: 0.8611 - val_loss: 0.4842 - val_acc: 0.8429\n",
            "Epoch 47/50\n",
            "60000/60000 [==============================] - 4s 67us/sample - loss: 0.3916 - acc: 0.8612 - val_loss: 0.4655 - val_acc: 0.8429\n",
            "Epoch 48/50\n",
            "60000/60000 [==============================] - 4s 70us/sample - loss: 0.3921 - acc: 0.8623 - val_loss: 0.4697 - val_acc: 0.8432\n",
            "Epoch 49/50\n",
            "60000/60000 [==============================] - 4s 68us/sample - loss: 0.3900 - acc: 0.8636 - val_loss: 0.4581 - val_acc: 0.8424\n",
            "Epoch 50/50\n",
            "60000/60000 [==============================] - 4s 70us/sample - loss: 0.3924 - acc: 0.8619 - val_loss: 0.4598 - val_acc: 0.8420\n"
          ],
          "name": "stdout"
        },
        {
          "output_type": "execute_result",
          "data": {
            "text/plain": [
              "<tensorflow.python.keras.callbacks.History at 0x7f04880b3a90>"
            ]
          },
          "metadata": {
            "tags": []
          },
          "execution_count": 113
        }
      ]
    },
    {
      "cell_type": "markdown",
      "metadata": {
        "colab_type": "text",
        "id": "j9CSqKvpOIVk"
      },
      "source": [
        "### Build the Neural Network model with 3 Dense layers with 100,100,10 neurons respectively in each layer. Use cross entropy loss function and singmoid as activation in the hidden layers and softmax as activation function in the output layer. Use sgd optimizer with learning rate 0.03."
      ]
    },
    {
      "cell_type": "code",
      "metadata": {
        "colab_type": "code",
        "id": "GGAad54JOIVm",
        "colab": {}
      },
      "source": [
        "# Initialize Sequential model\n",
        "model2 = tf.keras.models.Sequential()\n",
        "\n",
        "# Reshape data from 2D to 1D -> 28x28 to 784\n",
        "model2.add(tf.keras.layers.Reshape((784,),input_shape=(28,28,)))\n",
        "\n",
        "# Normalize the data\n",
        "model2.add(tf.keras.layers.BatchNormalization())\n",
        "\n",
        "# Add Dense Layer which provides 100 Outputs\n",
        "model2.add(tf.keras.layers.Dense(100, activation='sigmoid'))\n",
        "\n",
        "# Add Dense Layer which provides 100 Outputs\n",
        "model2.add(tf.keras.layers.Dense(100, activation='sigmoid'))\n",
        "\n",
        "\n",
        "# Add Dense Layer which provides 10 Outputs after applying softmax\n",
        "model2.add(tf.keras.layers.Dense(10, activation='softmax'))"
      ],
      "execution_count": 0,
      "outputs": []
    },
    {
      "cell_type": "markdown",
      "metadata": {
        "colab_type": "text",
        "id": "Nr2YsZV0OIV0"
      },
      "source": [
        "## Review model"
      ]
    },
    {
      "cell_type": "code",
      "metadata": {
        "colab_type": "code",
        "id": "h4ojW6-oOIV2",
        "colab": {
          "base_uri": "https://localhost:8080/",
          "height": 323
        },
        "outputId": "d7c519d6-d8bd-4d04-edfb-6046834444dd"
      },
      "source": [
        "model2.summary()"
      ],
      "execution_count": 165,
      "outputs": [
        {
          "output_type": "stream",
          "text": [
            "Model: \"sequential_14\"\n",
            "_________________________________________________________________\n",
            "Layer (type)                 Output Shape              Param #   \n",
            "=================================================================\n",
            "reshape_14 (Reshape)         (None, 784)               0         \n",
            "_________________________________________________________________\n",
            "batch_normalization_8 (Batch (None, 784)               3136      \n",
            "_________________________________________________________________\n",
            "dense_31 (Dense)             (None, 100)               78500     \n",
            "_________________________________________________________________\n",
            "dense_32 (Dense)             (None, 100)               10100     \n",
            "_________________________________________________________________\n",
            "dense_33 (Dense)             (None, 10)                1010      \n",
            "=================================================================\n",
            "Total params: 92,746\n",
            "Trainable params: 91,178\n",
            "Non-trainable params: 1,568\n",
            "_________________________________________________________________\n"
          ],
          "name": "stdout"
        }
      ]
    },
    {
      "cell_type": "markdown",
      "metadata": {
        "id": "vG6kDhrreyvs",
        "colab_type": "text"
      },
      "source": [
        "1) **From the above summary table details of each and every layer is provided.**\n",
        "\n",
        "2) **Total parameters are 92746 among which there are 91178 Trainable parameters and 1568 non_trainable parameters.** "
      ]
    },
    {
      "cell_type": "markdown",
      "metadata": {
        "colab_type": "text",
        "id": "gfFGmbZLOIV5"
      },
      "source": [
        "### Run the model"
      ]
    },
    {
      "cell_type": "code",
      "metadata": {
        "id": "hBC8_p7s6_--",
        "colab_type": "code",
        "colab": {
          "base_uri": "https://localhost:8080/",
          "height": 1000
        },
        "outputId": "5e4a953a-8612-4350-ef55-aeb57776a380"
      },
      "source": [
        "learning_rate=0.03\n",
        "sgd = SGD(lr=learning_rate)\n",
        "model2.compile(optimizer=sgd, loss='categorical_crossentropy', metrics=['accuracy'])\n",
        "model2.fit(trainX, trainY, validation_data=(testX, testY), epochs=50)"
      ],
      "execution_count": 166,
      "outputs": [
        {
          "output_type": "stream",
          "text": [
            "Train on 60000 samples, validate on 10000 samples\n",
            "Epoch 1/50\n",
            "60000/60000 [==============================] - 7s 110us/sample - loss: 1.0387 - acc: 0.6900 - val_loss: 0.6311 - val_acc: 0.7780\n",
            "Epoch 2/50\n",
            "60000/60000 [==============================] - 6s 106us/sample - loss: 0.5679 - acc: 0.7992 - val_loss: 0.5099 - val_acc: 0.8162\n",
            "Epoch 3/50\n",
            "60000/60000 [==============================] - 6s 106us/sample - loss: 0.4876 - acc: 0.8268 - val_loss: 0.4672 - val_acc: 0.8310\n",
            "Epoch 4/50\n",
            "60000/60000 [==============================] - 6s 104us/sample - loss: 0.4521 - acc: 0.8395 - val_loss: 0.4455 - val_acc: 0.8387\n",
            "Epoch 5/50\n",
            "60000/60000 [==============================] - 6s 103us/sample - loss: 0.4302 - acc: 0.8461 - val_loss: 0.4269 - val_acc: 0.8436\n",
            "Epoch 6/50\n",
            "60000/60000 [==============================] - 6s 101us/sample - loss: 0.4127 - acc: 0.8518 - val_loss: 0.4162 - val_acc: 0.8476\n",
            "Epoch 7/50\n",
            "60000/60000 [==============================] - 6s 104us/sample - loss: 0.3989 - acc: 0.8576 - val_loss: 0.4049 - val_acc: 0.8515\n",
            "Epoch 8/50\n",
            "60000/60000 [==============================] - 6s 101us/sample - loss: 0.3868 - acc: 0.8609 - val_loss: 0.3974 - val_acc: 0.8549\n",
            "Epoch 9/50\n",
            "60000/60000 [==============================] - 6s 101us/sample - loss: 0.3775 - acc: 0.8651 - val_loss: 0.3885 - val_acc: 0.8607\n",
            "Epoch 10/50\n",
            "60000/60000 [==============================] - 6s 102us/sample - loss: 0.3671 - acc: 0.8691 - val_loss: 0.3797 - val_acc: 0.8606\n",
            "Epoch 11/50\n",
            "60000/60000 [==============================] - 6s 108us/sample - loss: 0.3585 - acc: 0.8714 - val_loss: 0.3763 - val_acc: 0.8634\n",
            "Epoch 12/50\n",
            "60000/60000 [==============================] - 6s 105us/sample - loss: 0.3493 - acc: 0.8741 - val_loss: 0.3709 - val_acc: 0.8638\n",
            "Epoch 13/50\n",
            "60000/60000 [==============================] - 6s 102us/sample - loss: 0.3419 - acc: 0.8776 - val_loss: 0.3715 - val_acc: 0.8631\n",
            "Epoch 14/50\n",
            "60000/60000 [==============================] - 6s 101us/sample - loss: 0.3360 - acc: 0.8784 - val_loss: 0.3606 - val_acc: 0.8679\n",
            "Epoch 15/50\n",
            "60000/60000 [==============================] - 7s 110us/sample - loss: 0.3308 - acc: 0.8801 - val_loss: 0.3612 - val_acc: 0.8672\n",
            "Epoch 16/50\n",
            "60000/60000 [==============================] - 7s 109us/sample - loss: 0.3238 - acc: 0.8829 - val_loss: 0.3536 - val_acc: 0.8707\n",
            "Epoch 17/50\n",
            "60000/60000 [==============================] - 6s 102us/sample - loss: 0.3173 - acc: 0.8861 - val_loss: 0.3530 - val_acc: 0.8710\n",
            "Epoch 18/50\n",
            "60000/60000 [==============================] - 6s 102us/sample - loss: 0.3108 - acc: 0.8884 - val_loss: 0.3518 - val_acc: 0.8719\n",
            "Epoch 19/50\n",
            "60000/60000 [==============================] - 6s 102us/sample - loss: 0.3064 - acc: 0.8890 - val_loss: 0.3447 - val_acc: 0.8761\n",
            "Epoch 20/50\n",
            "60000/60000 [==============================] - 6s 101us/sample - loss: 0.3013 - acc: 0.8898 - val_loss: 0.3417 - val_acc: 0.8756\n",
            "Epoch 21/50\n",
            "60000/60000 [==============================] - 6s 104us/sample - loss: 0.2958 - acc: 0.8931 - val_loss: 0.3444 - val_acc: 0.8766\n",
            "Epoch 22/50\n",
            "60000/60000 [==============================] - 6s 102us/sample - loss: 0.2913 - acc: 0.8933 - val_loss: 0.3380 - val_acc: 0.8774\n",
            "Epoch 23/50\n",
            "60000/60000 [==============================] - 6s 103us/sample - loss: 0.2856 - acc: 0.8954 - val_loss: 0.3367 - val_acc: 0.8766\n",
            "Epoch 24/50\n",
            "60000/60000 [==============================] - 6s 102us/sample - loss: 0.2825 - acc: 0.8968 - val_loss: 0.3348 - val_acc: 0.8797\n",
            "Epoch 25/50\n",
            "60000/60000 [==============================] - 6s 102us/sample - loss: 0.2778 - acc: 0.8994 - val_loss: 0.3344 - val_acc: 0.8778\n",
            "Epoch 26/50\n",
            "60000/60000 [==============================] - 6s 103us/sample - loss: 0.2740 - acc: 0.8990 - val_loss: 0.3298 - val_acc: 0.8812\n",
            "Epoch 27/50\n",
            "60000/60000 [==============================] - 6s 101us/sample - loss: 0.2694 - acc: 0.9007 - val_loss: 0.3363 - val_acc: 0.8794\n",
            "Epoch 28/50\n",
            "60000/60000 [==============================] - 6s 101us/sample - loss: 0.2646 - acc: 0.9033 - val_loss: 0.3327 - val_acc: 0.8793\n",
            "Epoch 29/50\n",
            "60000/60000 [==============================] - 6s 101us/sample - loss: 0.2602 - acc: 0.9055 - val_loss: 0.3356 - val_acc: 0.8772\n",
            "Epoch 30/50\n",
            "60000/60000 [==============================] - 6s 102us/sample - loss: 0.2586 - acc: 0.9068 - val_loss: 0.3300 - val_acc: 0.8827\n",
            "Epoch 31/50\n",
            "60000/60000 [==============================] - 6s 104us/sample - loss: 0.2528 - acc: 0.9077 - val_loss: 0.3335 - val_acc: 0.8763\n",
            "Epoch 32/50\n",
            "60000/60000 [==============================] - 6s 103us/sample - loss: 0.2499 - acc: 0.9079 - val_loss: 0.3294 - val_acc: 0.8828\n",
            "Epoch 33/50\n",
            "60000/60000 [==============================] - 6s 101us/sample - loss: 0.2467 - acc: 0.9106 - val_loss: 0.3308 - val_acc: 0.8794\n",
            "Epoch 34/50\n",
            "60000/60000 [==============================] - 6s 101us/sample - loss: 0.2435 - acc: 0.9107 - val_loss: 0.3331 - val_acc: 0.8797\n",
            "Epoch 35/50\n",
            "60000/60000 [==============================] - 6s 101us/sample - loss: 0.2403 - acc: 0.9126 - val_loss: 0.3294 - val_acc: 0.8802\n",
            "Epoch 36/50\n",
            "60000/60000 [==============================] - 6s 106us/sample - loss: 0.2349 - acc: 0.9139 - val_loss: 0.3271 - val_acc: 0.8840\n",
            "Epoch 37/50\n",
            "60000/60000 [==============================] - 6s 103us/sample - loss: 0.2326 - acc: 0.9147 - val_loss: 0.3267 - val_acc: 0.8823\n",
            "Epoch 38/50\n",
            "60000/60000 [==============================] - 6s 102us/sample - loss: 0.2285 - acc: 0.9175 - val_loss: 0.3295 - val_acc: 0.8813\n",
            "Epoch 39/50\n",
            "60000/60000 [==============================] - 6s 104us/sample - loss: 0.2270 - acc: 0.9172 - val_loss: 0.3277 - val_acc: 0.8803\n",
            "Epoch 40/50\n",
            "60000/60000 [==============================] - 6s 103us/sample - loss: 0.2237 - acc: 0.9187 - val_loss: 0.3238 - val_acc: 0.8822\n",
            "Epoch 41/50\n",
            "60000/60000 [==============================] - 6s 106us/sample - loss: 0.2201 - acc: 0.9197 - val_loss: 0.3232 - val_acc: 0.8848\n",
            "Epoch 42/50\n",
            "60000/60000 [==============================] - 6s 104us/sample - loss: 0.2180 - acc: 0.9203 - val_loss: 0.3302 - val_acc: 0.8820\n",
            "Epoch 43/50\n",
            "60000/60000 [==============================] - 6s 100us/sample - loss: 0.2154 - acc: 0.9215 - val_loss: 0.3271 - val_acc: 0.8850\n",
            "Epoch 44/50\n",
            "60000/60000 [==============================] - 6s 101us/sample - loss: 0.2136 - acc: 0.9212 - val_loss: 0.3387 - val_acc: 0.8819\n",
            "Epoch 45/50\n",
            "60000/60000 [==============================] - 6s 102us/sample - loss: 0.2080 - acc: 0.9240 - val_loss: 0.3266 - val_acc: 0.8834\n",
            "Epoch 46/50\n",
            "60000/60000 [==============================] - 6s 103us/sample - loss: 0.2074 - acc: 0.9238 - val_loss: 0.3360 - val_acc: 0.8788\n",
            "Epoch 47/50\n",
            "60000/60000 [==============================] - 6s 102us/sample - loss: 0.2042 - acc: 0.9259 - val_loss: 0.3257 - val_acc: 0.8822\n",
            "Epoch 48/50\n",
            "60000/60000 [==============================] - 6s 104us/sample - loss: 0.2005 - acc: 0.9281 - val_loss: 0.3398 - val_acc: 0.8815\n",
            "Epoch 49/50\n",
            "60000/60000 [==============================] - 6s 104us/sample - loss: 0.1991 - acc: 0.9273 - val_loss: 0.3393 - val_acc: 0.8804\n",
            "Epoch 50/50\n",
            "60000/60000 [==============================] - 6s 104us/sample - loss: 0.1956 - acc: 0.9279 - val_loss: 0.3358 - val_acc: 0.8818\n"
          ],
          "name": "stdout"
        },
        {
          "output_type": "execute_result",
          "data": {
            "text/plain": [
              "<tensorflow.python.keras.callbacks.History at 0x7f0487ef3710>"
            ]
          },
          "metadata": {
            "tags": []
          },
          "execution_count": 166
        }
      ]
    },
    {
      "cell_type": "markdown",
      "metadata": {
        "id": "pZ_SLyyVfY0l",
        "colab_type": "text"
      },
      "source": [
        "**1) When only sgd optimizer was used accuracy was less and loss was higher compared with all models**\n",
        "\n",
        "**2) When Batch Normalization layer was added, accuracy improved and loss became less**\n",
        "\n",
        "**3) The accuracy further improved and loss become some more minimal as learning rate was added to the layers.**\n",
        "\n",
        "**4) When more hidden layers with 100 neurons per layer is added and learning rate is also increased, with batch normalization, finally the test accuracy was at 88% with loss being minimal at 34%**\n"
      ]
    }
  ]
}