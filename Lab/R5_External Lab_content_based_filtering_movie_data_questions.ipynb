{
  "nbformat": 4,
  "nbformat_minor": 0,
  "metadata": {
    "kernelspec": {
      "display_name": "Python 3",
      "language": "python",
      "name": "python3"
    },
    "language_info": {
      "codemirror_mode": {
        "name": "ipython",
        "version": 3
      },
      "file_extension": ".py",
      "mimetype": "text/x-python",
      "name": "python",
      "nbconvert_exporter": "python",
      "pygments_lexer": "ipython3",
      "version": "3.7.3"
    },
    "colab": {
      "name": "content_based_filtering_movie_data_questions.ipynb",
      "provenance": [],
      "machine_shape": "hm"
    }
  },
  "cells": [
    {
      "cell_type": "markdown",
      "metadata": {
        "colab_type": "text",
        "id": "qYJahSqlqwWe"
      },
      "source": [
        "### Content Based Recommendation System"
      ]
    },
    {
      "cell_type": "code",
      "metadata": {
        "id": "-AP-OLEOiSN2",
        "colab_type": "code",
        "outputId": "70c94c83-a95d-4485-be79-f0a9d286bff4",
        "colab": {
          "base_uri": "https://localhost:8080/",
          "height": 34
        }
      },
      "source": [
        "from google.colab import drive\n",
        "drive.mount('/content/gdrive')"
      ],
      "execution_count": 65,
      "outputs": [
        {
          "output_type": "stream",
          "text": [
            "Drive already mounted at /content/gdrive; to attempt to forcibly remount, call drive.mount(\"/content/gdrive\", force_remount=True).\n"
          ],
          "name": "stdout"
        }
      ]
    },
    {
      "cell_type": "markdown",
      "metadata": {
        "colab_type": "text",
        "id": "XEsPLJ0rqwWh"
      },
      "source": [
        "### Read the Dataset `movies_metadata.csv`"
      ]
    },
    {
      "cell_type": "code",
      "metadata": {
        "colab_type": "code",
        "id": "lvcFnBRpqwWj",
        "colab": {}
      },
      "source": [
        "import pandas as pd\n",
        "import numpy as np\n",
        "pd.set_option('display.max_colwidth', -1)\n",
        "from sklearn.feature_extraction.text import CountVectorizer\n",
        "from sklearn.feature_extraction.text import TfidfVectorizer\n",
        "from sklearn.metrics.pairwise import cosine_similarity\n",
        "from sklearn.metrics.pairwise import linear_kernel"
      ],
      "execution_count": 0,
      "outputs": []
    },
    {
      "cell_type": "code",
      "metadata": {
        "id": "bYo9FlBUiNuN",
        "colab_type": "code",
        "outputId": "4ea65ea0-1b9c-42e3-c7e9-f9fb5a5970f5",
        "colab": {
          "base_uri": "https://localhost:8080/",
          "height": 71
        }
      },
      "source": [
        "movie=pd.read_csv('gdrive/My Drive/AIML/movies_metadata.csv')"
      ],
      "execution_count": 67,
      "outputs": [
        {
          "output_type": "stream",
          "text": [
            "/usr/local/lib/python3.6/dist-packages/IPython/core/interactiveshell.py:2718: DtypeWarning: Columns (10) have mixed types. Specify dtype option on import or set low_memory=False.\n",
            "  interactivity=interactivity, compiler=compiler, result=result)\n"
          ],
          "name": "stderr"
        }
      ]
    },
    {
      "cell_type": "code",
      "metadata": {
        "id": "wcZtXmmkiNuR",
        "colab_type": "code",
        "outputId": "4401cd3c-5736-46e0-dc73-29ad432020a7",
        "colab": {
          "base_uri": "https://localhost:8080/",
          "height": 442
        }
      },
      "source": [
        "movie.dtypes"
      ],
      "execution_count": 68,
      "outputs": [
        {
          "output_type": "execute_result",
          "data": {
            "text/plain": [
              "adult                    object \n",
              "belongs_to_collection    object \n",
              "budget                   object \n",
              "genres                   object \n",
              "homepage                 object \n",
              "id                       object \n",
              "imdb_id                  object \n",
              "original_language        object \n",
              "original_title           object \n",
              "overview                 object \n",
              "popularity               object \n",
              "poster_path              object \n",
              "production_companies     object \n",
              "production_countries     object \n",
              "release_date             object \n",
              "revenue                  float64\n",
              "runtime                  float64\n",
              "spoken_languages         object \n",
              "status                   object \n",
              "tagline                  object \n",
              "title                    object \n",
              "video                    object \n",
              "vote_average             float64\n",
              "vote_count               float64\n",
              "dtype: object"
            ]
          },
          "metadata": {
            "tags": []
          },
          "execution_count": 68
        }
      ]
    },
    {
      "cell_type": "code",
      "metadata": {
        "id": "yYOS5wfjiNuU",
        "colab_type": "code",
        "outputId": "8b42526e-2d8f-4611-a63d-080a792da888",
        "colab": {
          "base_uri": "https://localhost:8080/",
          "height": 34
        }
      },
      "source": [
        "movie.shape"
      ],
      "execution_count": 69,
      "outputs": [
        {
          "output_type": "execute_result",
          "data": {
            "text/plain": [
              "(45466, 24)"
            ]
          },
          "metadata": {
            "tags": []
          },
          "execution_count": 69
        }
      ]
    },
    {
      "cell_type": "code",
      "metadata": {
        "id": "BKhtBPPFiNuX",
        "colab_type": "code",
        "outputId": "90fea866-33eb-4c7c-8e59-b93f72c03af8",
        "colab": {
          "base_uri": "https://localhost:8080/",
          "height": 510
        }
      },
      "source": [
        "movie.info()"
      ],
      "execution_count": 70,
      "outputs": [
        {
          "output_type": "stream",
          "text": [
            "<class 'pandas.core.frame.DataFrame'>\n",
            "RangeIndex: 45466 entries, 0 to 45465\n",
            "Data columns (total 24 columns):\n",
            "adult                    45466 non-null object\n",
            "belongs_to_collection    4494 non-null object\n",
            "budget                   45466 non-null object\n",
            "genres                   45466 non-null object\n",
            "homepage                 7782 non-null object\n",
            "id                       45466 non-null object\n",
            "imdb_id                  45449 non-null object\n",
            "original_language        45455 non-null object\n",
            "original_title           45466 non-null object\n",
            "overview                 44512 non-null object\n",
            "popularity               45461 non-null object\n",
            "poster_path              45080 non-null object\n",
            "production_companies     45463 non-null object\n",
            "production_countries     45463 non-null object\n",
            "release_date             45379 non-null object\n",
            "revenue                  45460 non-null float64\n",
            "runtime                  45203 non-null float64\n",
            "spoken_languages         45460 non-null object\n",
            "status                   45379 non-null object\n",
            "tagline                  20412 non-null object\n",
            "title                    45460 non-null object\n",
            "video                    45460 non-null object\n",
            "vote_average             45460 non-null float64\n",
            "vote_count               45460 non-null float64\n",
            "dtypes: float64(4), object(20)\n",
            "memory usage: 8.3+ MB\n"
          ],
          "name": "stdout"
        }
      ]
    },
    {
      "cell_type": "code",
      "metadata": {
        "id": "d2ajrEIqiNua",
        "colab_type": "code",
        "outputId": "87d6db67-ea9e-4482-d561-d3ab3acf61ef",
        "colab": {
          "base_uri": "https://localhost:8080/",
          "height": 442
        }
      },
      "source": [
        "movie.isna().sum()"
      ],
      "execution_count": 71,
      "outputs": [
        {
          "output_type": "execute_result",
          "data": {
            "text/plain": [
              "adult                    0    \n",
              "belongs_to_collection    40972\n",
              "budget                   0    \n",
              "genres                   0    \n",
              "homepage                 37684\n",
              "id                       0    \n",
              "imdb_id                  17   \n",
              "original_language        11   \n",
              "original_title           0    \n",
              "overview                 954  \n",
              "popularity               5    \n",
              "poster_path              386  \n",
              "production_companies     3    \n",
              "production_countries     3    \n",
              "release_date             87   \n",
              "revenue                  6    \n",
              "runtime                  263  \n",
              "spoken_languages         6    \n",
              "status                   87   \n",
              "tagline                  25054\n",
              "title                    6    \n",
              "video                    6    \n",
              "vote_average             6    \n",
              "vote_count               6    \n",
              "dtype: int64"
            ]
          },
          "metadata": {
            "tags": []
          },
          "execution_count": 71
        }
      ]
    },
    {
      "cell_type": "code",
      "metadata": {
        "id": "hoLQFqSKiNud",
        "colab_type": "code",
        "outputId": "f6774513-2768-4a04-acc3-59d55ba29c9b",
        "colab": {
          "base_uri": "https://localhost:8080/",
          "height": 1000
        }
      },
      "source": [
        "movie.head(100)"
      ],
      "execution_count": 72,
      "outputs": [
        {
          "output_type": "execute_result",
          "data": {
            "text/html": [
              "<div>\n",
              "<style scoped>\n",
              "    .dataframe tbody tr th:only-of-type {\n",
              "        vertical-align: middle;\n",
              "    }\n",
              "\n",
              "    .dataframe tbody tr th {\n",
              "        vertical-align: top;\n",
              "    }\n",
              "\n",
              "    .dataframe thead th {\n",
              "        text-align: right;\n",
              "    }\n",
              "</style>\n",
              "<table border=\"1\" class=\"dataframe\">\n",
              "  <thead>\n",
              "    <tr style=\"text-align: right;\">\n",
              "      <th></th>\n",
              "      <th>adult</th>\n",
              "      <th>belongs_to_collection</th>\n",
              "      <th>budget</th>\n",
              "      <th>genres</th>\n",
              "      <th>homepage</th>\n",
              "      <th>id</th>\n",
              "      <th>imdb_id</th>\n",
              "      <th>original_language</th>\n",
              "      <th>original_title</th>\n",
              "      <th>overview</th>\n",
              "      <th>popularity</th>\n",
              "      <th>poster_path</th>\n",
              "      <th>production_companies</th>\n",
              "      <th>production_countries</th>\n",
              "      <th>release_date</th>\n",
              "      <th>revenue</th>\n",
              "      <th>runtime</th>\n",
              "      <th>spoken_languages</th>\n",
              "      <th>status</th>\n",
              "      <th>tagline</th>\n",
              "      <th>title</th>\n",
              "      <th>video</th>\n",
              "      <th>vote_average</th>\n",
              "      <th>vote_count</th>\n",
              "    </tr>\n",
              "  </thead>\n",
              "  <tbody>\n",
              "    <tr>\n",
              "      <th>0</th>\n",
              "      <td>False</td>\n",
              "      <td>{'id': 10194, 'name': 'Toy Story Collection', 'poster_path': '/7G9915LfUQ2lVfwMEEhDsn3kT4B.jpg', 'backdrop_path': '/9FBwqcd9IRruEDUrTdcaafOMKUq.jpg'}</td>\n",
              "      <td>30000000</td>\n",
              "      <td>[{'id': 16, 'name': 'Animation'}, {'id': 35, 'name': 'Comedy'}, {'id': 10751, 'name': 'Family'}]</td>\n",
              "      <td>http://toystory.disney.com/toy-story</td>\n",
              "      <td>862</td>\n",
              "      <td>tt0114709</td>\n",
              "      <td>en</td>\n",
              "      <td>Toy Story</td>\n",
              "      <td>Led by Woody, Andy's toys live happily in his room until Andy's birthday brings Buzz Lightyear onto the scene. Afraid of losing his place in Andy's heart, Woody plots against Buzz. But when circumstances separate Buzz and Woody from their owner, the duo eventually learns to put aside their differences.</td>\n",
              "      <td>21.9469</td>\n",
              "      <td>/rhIRbceoE9lR4veEXuwCC2wARtG.jpg</td>\n",
              "      <td>[{'name': 'Pixar Animation Studios', 'id': 3}]</td>\n",
              "      <td>[{'iso_3166_1': 'US', 'name': 'United States of America'}]</td>\n",
              "      <td>1995-10-30</td>\n",
              "      <td>373554033.0</td>\n",
              "      <td>81.0</td>\n",
              "      <td>[{'iso_639_1': 'en', 'name': 'English'}]</td>\n",
              "      <td>Released</td>\n",
              "      <td>NaN</td>\n",
              "      <td>Toy Story</td>\n",
              "      <td>False</td>\n",
              "      <td>7.7</td>\n",
              "      <td>5415.0</td>\n",
              "    </tr>\n",
              "    <tr>\n",
              "      <th>1</th>\n",
              "      <td>False</td>\n",
              "      <td>NaN</td>\n",
              "      <td>65000000</td>\n",
              "      <td>[{'id': 12, 'name': 'Adventure'}, {'id': 14, 'name': 'Fantasy'}, {'id': 10751, 'name': 'Family'}]</td>\n",
              "      <td>NaN</td>\n",
              "      <td>8844</td>\n",
              "      <td>tt0113497</td>\n",
              "      <td>en</td>\n",
              "      <td>Jumanji</td>\n",
              "      <td>When siblings Judy and Peter discover an enchanted board game that opens the door to a magical world, they unwittingly invite Alan -- an adult who's been trapped inside the game for 26 years -- into their living room. Alan's only hope for freedom is to finish the game, which proves risky as all three find themselves running from giant rhinoceroses, evil monkeys and other terrifying creatures.</td>\n",
              "      <td>17.0155</td>\n",
              "      <td>/vzmL6fP7aPKNKPRTFnZmiUfciyV.jpg</td>\n",
              "      <td>[{'name': 'TriStar Pictures', 'id': 559}, {'name': 'Teitler Film', 'id': 2550}, {'name': 'Interscope Communications', 'id': 10201}]</td>\n",
              "      <td>[{'iso_3166_1': 'US', 'name': 'United States of America'}]</td>\n",
              "      <td>1995-12-15</td>\n",
              "      <td>262797249.0</td>\n",
              "      <td>104.0</td>\n",
              "      <td>[{'iso_639_1': 'en', 'name': 'English'}, {'iso_639_1': 'fr', 'name': 'Français'}]</td>\n",
              "      <td>Released</td>\n",
              "      <td>Roll the dice and unleash the excitement!</td>\n",
              "      <td>Jumanji</td>\n",
              "      <td>False</td>\n",
              "      <td>6.9</td>\n",
              "      <td>2413.0</td>\n",
              "    </tr>\n",
              "    <tr>\n",
              "      <th>2</th>\n",
              "      <td>False</td>\n",
              "      <td>{'id': 119050, 'name': 'Grumpy Old Men Collection', 'poster_path': '/nLvUdqgPgm3F85NMCii9gVFUcet.jpg', 'backdrop_path': '/hypTnLot2z8wpFS7qwsQHW1uV8u.jpg'}</td>\n",
              "      <td>0</td>\n",
              "      <td>[{'id': 10749, 'name': 'Romance'}, {'id': 35, 'name': 'Comedy'}]</td>\n",
              "      <td>NaN</td>\n",
              "      <td>15602</td>\n",
              "      <td>tt0113228</td>\n",
              "      <td>en</td>\n",
              "      <td>Grumpier Old Men</td>\n",
              "      <td>A family wedding reignites the ancient feud between next-door neighbors and fishing buddies John and Max. Meanwhile, a sultry Italian divorcée opens a restaurant at the local bait shop, alarming the locals who worry she'll scare the fish away. But she's less interested in seafood than she is in cooking up a hot time with Max.</td>\n",
              "      <td>11.7129</td>\n",
              "      <td>/6ksm1sjKMFLbO7UY2i6G1ju9SML.jpg</td>\n",
              "      <td>[{'name': 'Warner Bros.', 'id': 6194}, {'name': 'Lancaster Gate', 'id': 19464}]</td>\n",
              "      <td>[{'iso_3166_1': 'US', 'name': 'United States of America'}]</td>\n",
              "      <td>1995-12-22</td>\n",
              "      <td>0.0</td>\n",
              "      <td>101.0</td>\n",
              "      <td>[{'iso_639_1': 'en', 'name': 'English'}]</td>\n",
              "      <td>Released</td>\n",
              "      <td>Still Yelling. Still Fighting. Still Ready for Love.</td>\n",
              "      <td>Grumpier Old Men</td>\n",
              "      <td>False</td>\n",
              "      <td>6.5</td>\n",
              "      <td>92.0</td>\n",
              "    </tr>\n",
              "    <tr>\n",
              "      <th>3</th>\n",
              "      <td>False</td>\n",
              "      <td>NaN</td>\n",
              "      <td>16000000</td>\n",
              "      <td>[{'id': 35, 'name': 'Comedy'}, {'id': 18, 'name': 'Drama'}, {'id': 10749, 'name': 'Romance'}]</td>\n",
              "      <td>NaN</td>\n",
              "      <td>31357</td>\n",
              "      <td>tt0114885</td>\n",
              "      <td>en</td>\n",
              "      <td>Waiting to Exhale</td>\n",
              "      <td>Cheated on, mistreated and stepped on, the women are holding their breath, waiting for the elusive \"good man\" to break a string of less-than-stellar lovers. Friends and confidants Vannah, Bernie, Glo and Robin talk it all out, determined to find a better way to breathe.</td>\n",
              "      <td>3.85949</td>\n",
              "      <td>/16XOMpEaLWkrcPqSQqhTmeJuqQl.jpg</td>\n",
              "      <td>[{'name': 'Twentieth Century Fox Film Corporation', 'id': 306}]</td>\n",
              "      <td>[{'iso_3166_1': 'US', 'name': 'United States of America'}]</td>\n",
              "      <td>1995-12-22</td>\n",
              "      <td>81452156.0</td>\n",
              "      <td>127.0</td>\n",
              "      <td>[{'iso_639_1': 'en', 'name': 'English'}]</td>\n",
              "      <td>Released</td>\n",
              "      <td>Friends are the people who let you be yourself... and never let you forget it.</td>\n",
              "      <td>Waiting to Exhale</td>\n",
              "      <td>False</td>\n",
              "      <td>6.1</td>\n",
              "      <td>34.0</td>\n",
              "    </tr>\n",
              "    <tr>\n",
              "      <th>4</th>\n",
              "      <td>False</td>\n",
              "      <td>{'id': 96871, 'name': 'Father of the Bride Collection', 'poster_path': '/nts4iOmNnq7GNicycMJ9pSAn204.jpg', 'backdrop_path': '/7qwE57OVZmMJChBpLEbJEmzUydk.jpg'}</td>\n",
              "      <td>0</td>\n",
              "      <td>[{'id': 35, 'name': 'Comedy'}]</td>\n",
              "      <td>NaN</td>\n",
              "      <td>11862</td>\n",
              "      <td>tt0113041</td>\n",
              "      <td>en</td>\n",
              "      <td>Father of the Bride Part II</td>\n",
              "      <td>Just when George Banks has recovered from his daughter's wedding, he receives the news that she's pregnant ... and that George's wife, Nina, is expecting too. He was planning on selling their home, but that's a plan that -- like George -- will have to change with the arrival of both a grandchild and a kid of his own.</td>\n",
              "      <td>8.38752</td>\n",
              "      <td>/e64sOI48hQXyru7naBFyssKFxVd.jpg</td>\n",
              "      <td>[{'name': 'Sandollar Productions', 'id': 5842}, {'name': 'Touchstone Pictures', 'id': 9195}]</td>\n",
              "      <td>[{'iso_3166_1': 'US', 'name': 'United States of America'}]</td>\n",
              "      <td>1995-02-10</td>\n",
              "      <td>76578911.0</td>\n",
              "      <td>106.0</td>\n",
              "      <td>[{'iso_639_1': 'en', 'name': 'English'}]</td>\n",
              "      <td>Released</td>\n",
              "      <td>Just When His World Is Back To Normal... He's In For The Surprise Of His Life!</td>\n",
              "      <td>Father of the Bride Part II</td>\n",
              "      <td>False</td>\n",
              "      <td>5.7</td>\n",
              "      <td>173.0</td>\n",
              "    </tr>\n",
              "    <tr>\n",
              "      <th>...</th>\n",
              "      <td>...</td>\n",
              "      <td>...</td>\n",
              "      <td>...</td>\n",
              "      <td>...</td>\n",
              "      <td>...</td>\n",
              "      <td>...</td>\n",
              "      <td>...</td>\n",
              "      <td>...</td>\n",
              "      <td>...</td>\n",
              "      <td>...</td>\n",
              "      <td>...</td>\n",
              "      <td>...</td>\n",
              "      <td>...</td>\n",
              "      <td>...</td>\n",
              "      <td>...</td>\n",
              "      <td>...</td>\n",
              "      <td>...</td>\n",
              "      <td>...</td>\n",
              "      <td>...</td>\n",
              "      <td>...</td>\n",
              "      <td>...</td>\n",
              "      <td>...</td>\n",
              "      <td>...</td>\n",
              "      <td>...</td>\n",
              "    </tr>\n",
              "    <tr>\n",
              "      <th>95</th>\n",
              "      <td>False</td>\n",
              "      <td>NaN</td>\n",
              "      <td>3000000</td>\n",
              "      <td>[{'id': 18, 'name': 'Drama'}]</td>\n",
              "      <td>NaN</td>\n",
              "      <td>406</td>\n",
              "      <td>tt0113247</td>\n",
              "      <td>fr</td>\n",
              "      <td>La Haine</td>\n",
              "      <td>Aimlessly whiling away their days in the concrete environs of their dead-end suburbia, Vinz, Hubert, and Said -- a Jew, African, and an Arab -- give human faces to France's immigrant populations, their bristling resentment at their social marginalization slowly simmering until it reaches a climactic boiling point. La Haine means Hate.</td>\n",
              "      <td>12.1082</td>\n",
              "      <td>/jTzBED0leGPwWDqNewye11qzJgd.jpg</td>\n",
              "      <td>[{'name': 'Egg Pictures', 'id': 802}, {'name': 'PolyGram Filmed Entertainment', 'id': 1382}, {'name': 'Canal+', 'id': 5358}, {'name': 'Les Productions Lazennec', 'id': 5869}, {'name': 'La Sept Cinéma', 'id': 16366}, {'name': 'Kasso Inc. Productions', 'id': 22684}, {'name': 'Studio Image', 'id': 68517}, {'name': 'Cofinergie 6', 'id': 68518}]</td>\n",
              "      <td>[{'iso_3166_1': 'FR', 'name': 'France'}]</td>\n",
              "      <td>1995-05-31</td>\n",
              "      <td>0.0</td>\n",
              "      <td>98.0</td>\n",
              "      <td>[{'iso_639_1': 'fr', 'name': 'Français'}]</td>\n",
              "      <td>Released</td>\n",
              "      <td>Three Young Friends... One Last Chance.</td>\n",
              "      <td>La Haine</td>\n",
              "      <td>False</td>\n",
              "      <td>7.9</td>\n",
              "      <td>695.0</td>\n",
              "    </tr>\n",
              "    <tr>\n",
              "      <th>96</th>\n",
              "      <td>False</td>\n",
              "      <td>NaN</td>\n",
              "      <td>0</td>\n",
              "      <td>[{'id': 28, 'name': 'Action'}, {'id': 12, 'name': 'Adventure'}, {'id': 18, 'name': 'Drama'}, {'id': 878, 'name': 'Science Fiction'}, {'id': 53, 'name': 'Thriller'}]</td>\n",
              "      <td>NaN</td>\n",
              "      <td>45549</td>\n",
              "      <td>tt0111173</td>\n",
              "      <td>en</td>\n",
              "      <td>Shopping</td>\n",
              "      <td>A dark, hip, urban story of a barren and anonymous city where the underclass' sport of choice is ram-raiding. An exciting game in which stolen cars are driven through shop windows to aid large-scale looting before the police arrive. For Tommy, it's a business, but for Billy and Jo, it's a labour of love. As the competition between Tommy and Billy grows more fierce, the stakes become higher and the \"shopping\" trips increasingly risky.</td>\n",
              "      <td>2.65765</td>\n",
              "      <td>/jdYL6f0KXnYBcnWnwGtnanJtKlE.jpg</td>\n",
              "      <td>[{'name': 'Channel Four Films', 'id': 181}]</td>\n",
              "      <td>[{'iso_3166_1': 'GB', 'name': 'United Kingdom'}]</td>\n",
              "      <td>1994-12-06</td>\n",
              "      <td>0.0</td>\n",
              "      <td>105.0</td>\n",
              "      <td>[{'iso_639_1': 'en', 'name': 'English'}]</td>\n",
              "      <td>Released</td>\n",
              "      <td>No one leaves without paying...</td>\n",
              "      <td>Shopping</td>\n",
              "      <td>False</td>\n",
              "      <td>5.6</td>\n",
              "      <td>13.0</td>\n",
              "    </tr>\n",
              "    <tr>\n",
              "      <th>97</th>\n",
              "      <td>False</td>\n",
              "      <td>NaN</td>\n",
              "      <td>0</td>\n",
              "      <td>[{'id': 99, 'name': 'Documentary'}]</td>\n",
              "      <td>http://www.nickbroomfield.com/heidifleiss.html</td>\n",
              "      <td>63076</td>\n",
              "      <td>tt0113283</td>\n",
              "      <td>en</td>\n",
              "      <td>Heidi Fleiss: Hollywood Madam</td>\n",
              "      <td>A documentary crew from the BBC arrives in L.A. intent on interviewing Heidi Fleiss, a year after her arrest for running a brothel but before her trial. Several months elapse before the interview, so the crew searches for anyone who'll talk about the young woman. Two people have a lot to say to the camera: a retired madam named Alex for whom Fleiss once worked and Fleiss's one-time boyfriend, Ivan Nagy, who introduced her to Alex. Alex and Nagy don't like each other, so the crew shuttles between them with \"she said\" and \"he said.\" When they finally interview Fleiss, they spend their time reciting what Alex and Nagy have had to say and asking her reaction.</td>\n",
              "      <td>0.638211</td>\n",
              "      <td>/j9k3UTx7OZ0xoCws1oACYQZFF5N.jpg</td>\n",
              "      <td>[{'name': 'British Broadcasting Corporation (BBC)', 'id': 3324}, {'name': 'Westdeutscher Rundfunk (WDR)', 'id': 7025}, {'name': 'Canadian Broadcasting Corporation (CBC)', 'id': 12113}, {'name': 'Cinemax Reel Life', 'id': 12911}, {'name': 'InPictures', 'id': 12912}, {'name': 'Lafayette Films', 'id': 12913}]</td>\n",
              "      <td>[{'iso_3166_1': 'GB', 'name': 'United Kingdom'}, {'iso_3166_1': 'CA', 'name': 'Canada'}, {'iso_3166_1': 'US', 'name': 'United States of America'}, {'iso_3166_1': 'DE', 'name': 'Germany'}]</td>\n",
              "      <td>1995-12-27</td>\n",
              "      <td>0.0</td>\n",
              "      <td>106.0</td>\n",
              "      <td>[{'iso_639_1': 'en', 'name': 'English'}]</td>\n",
              "      <td>Released</td>\n",
              "      <td></td>\n",
              "      <td>Heidi Fleiss: Hollywood Madam</td>\n",
              "      <td>False</td>\n",
              "      <td>6.8</td>\n",
              "      <td>4.0</td>\n",
              "    </tr>\n",
              "    <tr>\n",
              "      <th>98</th>\n",
              "      <td>False</td>\n",
              "      <td>NaN</td>\n",
              "      <td>0</td>\n",
              "      <td>[{'id': 18, 'name': 'Drama'}, {'id': 53, 'name': 'Thriller'}]</td>\n",
              "      <td>NaN</td>\n",
              "      <td>11062</td>\n",
              "      <td>tt0115907</td>\n",
              "      <td>en</td>\n",
              "      <td>City Hall</td>\n",
              "      <td>The accidental shooting of a boy in New York leads to an investigation by the Deputy Mayor, and unexpectedly far-reaching consequences.</td>\n",
              "      <td>4.80722</td>\n",
              "      <td>/ttdjD9NpxXsTJidPT3o1Gk0oTkG.jpg</td>\n",
              "      <td>[{'name': 'Columbia Pictures', 'id': 5}, {'name': 'Castle Rock Entertainment', 'id': 97}]</td>\n",
              "      <td>[{'iso_3166_1': 'US', 'name': 'United States of America'}]</td>\n",
              "      <td>1996-02-16</td>\n",
              "      <td>0.0</td>\n",
              "      <td>111.0</td>\n",
              "      <td>[{'iso_639_1': 'en', 'name': 'English'}]</td>\n",
              "      <td>Released</td>\n",
              "      <td>It started with a shootout on a rainswept street and ended in a scandal that shattered New York.</td>\n",
              "      <td>City Hall</td>\n",
              "      <td>False</td>\n",
              "      <td>6.0</td>\n",
              "      <td>67.0</td>\n",
              "    </tr>\n",
              "    <tr>\n",
              "      <th>99</th>\n",
              "      <td>False</td>\n",
              "      <td>NaN</td>\n",
              "      <td>7000000</td>\n",
              "      <td>[{'id': 35, 'name': 'Comedy'}, {'id': 80, 'name': 'Crime'}, {'id': 18, 'name': 'Drama'}]</td>\n",
              "      <td>NaN</td>\n",
              "      <td>13685</td>\n",
              "      <td>tt0115734</td>\n",
              "      <td>en</td>\n",
              "      <td>Bottle Rocket</td>\n",
              "      <td>Upon his release from a mental hospital following a nervous breakdown, the directionless Anthony joins his friend Dignan, who seems far less sane than the former. Dignan has hatched a hair-brained scheme for an as-yet-unspecified crime spree that somehow involves his former boss, the (supposedly) legendary Mr. Henry.</td>\n",
              "      <td>6.90483</td>\n",
              "      <td>/iuO10cRKrMfql5yc8YTgdfHt7gR.jpg</td>\n",
              "      <td>[{'name': 'Gracie Films', 'id': 18}, {'name': 'Columbia Pictures Corporation', 'id': 441}]</td>\n",
              "      <td>[{'iso_3166_1': 'US', 'name': 'United States of America'}]</td>\n",
              "      <td>1996-02-21</td>\n",
              "      <td>560069.0</td>\n",
              "      <td>91.0</td>\n",
              "      <td>[{'iso_639_1': 'es', 'name': 'Español'}, {'iso_639_1': 'en', 'name': 'English'}]</td>\n",
              "      <td>Released</td>\n",
              "      <td>They're not really criminals, but everyone's got to have a dream.</td>\n",
              "      <td>Bottle Rocket</td>\n",
              "      <td>False</td>\n",
              "      <td>6.8</td>\n",
              "      <td>285.0</td>\n",
              "    </tr>\n",
              "  </tbody>\n",
              "</table>\n",
              "<p>100 rows × 24 columns</p>\n",
              "</div>"
            ],
            "text/plain": [
              "    adult  ... vote_count\n",
              "0   False  ...  5415.0   \n",
              "1   False  ...  2413.0   \n",
              "2   False  ...  92.0     \n",
              "3   False  ...  34.0     \n",
              "4   False  ...  173.0    \n",
              "..    ...  ...    ...    \n",
              "95  False  ...  695.0    \n",
              "96  False  ...  13.0     \n",
              "97  False  ...  4.0      \n",
              "98  False  ...  67.0     \n",
              "99  False  ...  285.0    \n",
              "\n",
              "[100 rows x 24 columns]"
            ]
          },
          "metadata": {
            "tags": []
          },
          "execution_count": 72
        }
      ]
    },
    {
      "cell_type": "markdown",
      "metadata": {
        "colab_type": "text",
        "id": "56GOCzwgqwWx"
      },
      "source": [
        "### Create a new column with name 'description' combining `'overview' and 'tagline'` columns in the given dataset"
      ]
    },
    {
      "cell_type": "code",
      "metadata": {
        "colab_type": "code",
        "id": "pS1RajgzqwWz",
        "outputId": "8d609668-7583-4737-9783-0374e178ca31",
        "colab": {
          "base_uri": "https://localhost:8080/",
          "height": 221
        }
      },
      "source": [
        "movie['tagline'].fillna('')"
      ],
      "execution_count": 73,
      "outputs": [
        {
          "output_type": "execute_result",
          "data": {
            "text/plain": [
              "0                                                                                      \n",
              "1        Roll the dice and unleash the excitement!                                     \n",
              "2        Still Yelling. Still Fighting. Still Ready for Love.                          \n",
              "3        Friends are the people who let you be yourself... and never let you forget it.\n",
              "4        Just When His World Is Back To Normal... He's In For The Surprise Of His Life!\n",
              "                                              ...                                      \n",
              "45461    Rising and falling between a man and woman                                    \n",
              "45462                                                                                  \n",
              "45463    A deadly game of wits.                                                        \n",
              "45464                                                                                  \n",
              "45465                                                                                  \n",
              "Name: tagline, Length: 45466, dtype: object"
            ]
          },
          "metadata": {
            "tags": []
          },
          "execution_count": 73
        }
      ]
    },
    {
      "cell_type": "code",
      "metadata": {
        "id": "yShjV8xM06yZ",
        "colab_type": "code",
        "outputId": "83f21511-faa9-48ba-adfb-776534d6eb29",
        "colab": {
          "base_uri": "https://localhost:8080/",
          "height": 241
        }
      },
      "source": [
        "movie['overview'].fillna('')"
      ],
      "execution_count": 74,
      "outputs": [
        {
          "output_type": "execute_result",
          "data": {
            "text/plain": [
              "0        Led by Woody, Andy's toys live happily in his room until Andy's birthday brings Buzz Lightyear onto the scene. Afraid of losing his place in Andy's heart, Woody plots against Buzz. But when circumstances separate Buzz and Woody from their owner, the duo eventually learns to put aside their differences.                                                                                                                                                                                                                                                                                                                                                                                                         \n",
              "1        When siblings Judy and Peter discover an enchanted board game that opens the door to a magical world, they unwittingly invite Alan -- an adult who's been trapped inside the game for 26 years -- into their living room. Alan's only hope for freedom is to finish the game, which proves risky as all three find themselves running from giant rhinoceroses, evil monkeys and other terrifying creatures.                                                                                                                                                                                                                                                                                                             \n",
              "2        A family wedding reignites the ancient feud between next-door neighbors and fishing buddies John and Max. Meanwhile, a sultry Italian divorcée opens a restaurant at the local bait shop, alarming the locals who worry she'll scare the fish away. But she's less interested in seafood than she is in cooking up a hot time with Max.                                                                                                                                                                                                                                                                                                                                                                                 \n",
              "3        Cheated on, mistreated and stepped on, the women are holding their breath, waiting for the elusive \"good man\" to break a string of less-than-stellar lovers. Friends and confidants Vannah, Bernie, Glo and Robin talk it all out, determined to find a better way to breathe.                                                                                                                                                                                                                                                                                                                                                                                                                                          \n",
              "4        Just when George Banks has recovered from his daughter's wedding, he receives the news that she's pregnant ... and that George's wife, Nina, is expecting too. He was planning on selling their home, but that's a plan that -- like George -- will have to change with the arrival of both a grandchild and a kid of his own.                                                                                                                                                                                                                                                                                                                                                                                          \n",
              "                                                                                                                                                                      ...                                                                                                                                                                                                                                                                                                                                                                                                                                                                                                                                                        \n",
              "45461    Rising and falling between a man and woman.                                                                                                                                                                                                                                                                                                                                                                                                                                                                                                                                                                                                                                                                             \n",
              "45462    An artist struggles to finish his work while a storyline about a cult plays in his head.                                                                                                                                                                                                                                                                                                                                                                                                                                                                                                                                                                                                                                \n",
              "45463    When one of her hits goes wrong, a professional assassin ends up with a suitcase full of a million dollars belonging to a mob boss ...                                                                                                                                                                                                                                                                                                                                                                                                                                                                                                                                                                                  \n",
              "45464    In a small town live two brothers, one a minister and the other one a hunchback painter of the chapel who lives with his wife. One dreadful and stormy night, a stranger knocks at the door asking for shelter. The stranger talks about all the good things of the earthly life the minister is missing because of his puritanical faith. The minister comes to accept the stranger's viewpoint but it is others who will pay the consequences because the minister will discover the human pleasures thanks to, ehem, his sister- in -law… The tormented minister and his cuckolded brother will die in a strange accident in the chapel and later an infant will be born from the minister's adulterous relationship.\n",
              "45465    50 years after decriminalisation of homosexuality in the UK, director Daisy Asquith mines the jewels of the BFI archive to take us into the relationships, desires, fears and expressions of gay men and women in the 20th century.                                                                                                                                                                                                                                                                                                                                                                                                                                                                                     \n",
              "Name: overview, Length: 45466, dtype: object"
            ]
          },
          "metadata": {
            "tags": []
          },
          "execution_count": 74
        }
      ]
    },
    {
      "cell_type": "code",
      "metadata": {
        "id": "pQF7CPM4iNum",
        "colab_type": "code",
        "colab": {}
      },
      "source": [
        "movie['description']=movie['tagline']+movie['overview']"
      ],
      "execution_count": 0,
      "outputs": []
    },
    {
      "cell_type": "code",
      "metadata": {
        "id": "p5HlxTyxiNur",
        "colab_type": "code",
        "outputId": "f0470088-39b7-4401-8aad-ded53c9a40e7",
        "colab": {
          "base_uri": "https://localhost:8080/",
          "height": 34
        }
      },
      "source": [
        "movie.shape"
      ],
      "execution_count": 76,
      "outputs": [
        {
          "output_type": "execute_result",
          "data": {
            "text/plain": [
              "(45466, 25)"
            ]
          },
          "metadata": {
            "tags": []
          },
          "execution_count": 76
        }
      ]
    },
    {
      "cell_type": "markdown",
      "metadata": {
        "colab_type": "text",
        "id": "8HkHsif8qwW6"
      },
      "source": [
        "### Lets drop the null values in `description` column"
      ]
    },
    {
      "cell_type": "code",
      "metadata": {
        "colab_type": "code",
        "id": "OJKM-j_SqwW9",
        "outputId": "c63b55db-c84d-4cfd-8392-4a2e949f4c68",
        "colab": {
          "base_uri": "https://localhost:8080/",
          "height": 459
        }
      },
      "source": [
        "movie.isna().sum()"
      ],
      "execution_count": 77,
      "outputs": [
        {
          "output_type": "execute_result",
          "data": {
            "text/plain": [
              "adult                    0    \n",
              "belongs_to_collection    40972\n",
              "budget                   0    \n",
              "genres                   0    \n",
              "homepage                 37684\n",
              "id                       0    \n",
              "imdb_id                  17   \n",
              "original_language        11   \n",
              "original_title           0    \n",
              "overview                 954  \n",
              "popularity               5    \n",
              "poster_path              386  \n",
              "production_companies     3    \n",
              "production_countries     3    \n",
              "release_date             87   \n",
              "revenue                  6    \n",
              "runtime                  263  \n",
              "spoken_languages         6    \n",
              "status                   87   \n",
              "tagline                  25054\n",
              "title                    6    \n",
              "video                    6    \n",
              "vote_average             6    \n",
              "vote_count               6    \n",
              "description              25062\n",
              "dtype: int64"
            ]
          },
          "metadata": {
            "tags": []
          },
          "execution_count": 77
        }
      ]
    },
    {
      "cell_type": "code",
      "metadata": {
        "id": "TLV10yzI1WRx",
        "colab_type": "code",
        "colab": {}
      },
      "source": [
        "movie.dropna(subset=['description'], inplace=True)\n"
      ],
      "execution_count": 0,
      "outputs": []
    },
    {
      "cell_type": "code",
      "metadata": {
        "id": "_dW9HMtU1atW",
        "colab_type": "code",
        "outputId": "1246dc6b-86a9-4dc3-867d-a70ec20c925d",
        "colab": {
          "base_uri": "https://localhost:8080/",
          "height": 459
        }
      },
      "source": [
        "movie.isna().sum()"
      ],
      "execution_count": 79,
      "outputs": [
        {
          "output_type": "execute_result",
          "data": {
            "text/plain": [
              "adult                    0    \n",
              "belongs_to_collection    17832\n",
              "budget                   0    \n",
              "genres                   0    \n",
              "homepage                 15994\n",
              "id                       0    \n",
              "imdb_id                  4    \n",
              "original_language        0    \n",
              "original_title           0    \n",
              "overview                 0    \n",
              "popularity               0    \n",
              "poster_path              15   \n",
              "production_companies     0    \n",
              "production_countries     0    \n",
              "release_date             14   \n",
              "revenue                  0    \n",
              "runtime                  0    \n",
              "spoken_languages         0    \n",
              "status                   14   \n",
              "tagline                  0    \n",
              "title                    0    \n",
              "video                    0    \n",
              "vote_average             0    \n",
              "vote_count               0    \n",
              "description              0    \n",
              "dtype: int64"
            ]
          },
          "metadata": {
            "tags": []
          },
          "execution_count": 79
        }
      ]
    },
    {
      "cell_type": "markdown",
      "metadata": {
        "colab_type": "text",
        "id": "tXhrhwoaqwXC"
      },
      "source": [
        "### Keep the first occurance and drop duplicates of each title in column `title`"
      ]
    },
    {
      "cell_type": "code",
      "metadata": {
        "colab_type": "code",
        "id": "f8K-otuYqwXD",
        "colab": {}
      },
      "source": [
        "movie['title'].drop_duplicates(inplace=True)"
      ],
      "execution_count": 0,
      "outputs": []
    },
    {
      "cell_type": "code",
      "metadata": {
        "id": "ybbIbLcWiNu9",
        "colab_type": "code",
        "outputId": "f3505f84-b05c-4218-ed07-9c670cc80847",
        "colab": {
          "base_uri": "https://localhost:8080/",
          "height": 34
        }
      },
      "source": [
        "movie.shape"
      ],
      "execution_count": 81,
      "outputs": [
        {
          "output_type": "execute_result",
          "data": {
            "text/plain": [
              "(20404, 25)"
            ]
          },
          "metadata": {
            "tags": []
          },
          "execution_count": 81
        }
      ]
    },
    {
      "cell_type": "code",
      "metadata": {
        "id": "S4mGVlvKiNvC",
        "colab_type": "code",
        "outputId": "3d180d46-4835-48d7-ea10-1d8e9a78805e",
        "colab": {
          "base_uri": "https://localhost:8080/",
          "height": 204
        }
      },
      "source": [
        "movie['title'].head(10)"
      ],
      "execution_count": 82,
      "outputs": [
        {
          "output_type": "execute_result",
          "data": {
            "text/plain": [
              "1     Jumanji                    \n",
              "2     Grumpier Old Men           \n",
              "3     Waiting to Exhale          \n",
              "4     Father of the Bride Part II\n",
              "5     Heat                       \n",
              "6     Sabrina                    \n",
              "7     Tom and Huck               \n",
              "8     Sudden Death               \n",
              "9     GoldenEye                  \n",
              "10    The American President     \n",
              "Name: title, dtype: object"
            ]
          },
          "metadata": {
            "tags": []
          },
          "execution_count": 82
        }
      ]
    },
    {
      "cell_type": "markdown",
      "metadata": {
        "colab_type": "text",
        "id": "f1n3Sl4fqwXJ"
      },
      "source": [
        "### As we might have dropped a few rows with duplicate `title` in above step, just reset the index [make sure you are not adding any new column to the dataframe while doing reset index]"
      ]
    },
    {
      "cell_type": "code",
      "metadata": {
        "colab_type": "code",
        "id": "CE5xfXt9qwXL",
        "outputId": "ab1ba773-d6cc-4bd9-8b59-01d329a1be6b",
        "colab": {
          "base_uri": "https://localhost:8080/",
          "height": 1000
        }
      },
      "source": [
        "movie.reset_index()"
      ],
      "execution_count": 83,
      "outputs": [
        {
          "output_type": "execute_result",
          "data": {
            "text/html": [
              "<div>\n",
              "<style scoped>\n",
              "    .dataframe tbody tr th:only-of-type {\n",
              "        vertical-align: middle;\n",
              "    }\n",
              "\n",
              "    .dataframe tbody tr th {\n",
              "        vertical-align: top;\n",
              "    }\n",
              "\n",
              "    .dataframe thead th {\n",
              "        text-align: right;\n",
              "    }\n",
              "</style>\n",
              "<table border=\"1\" class=\"dataframe\">\n",
              "  <thead>\n",
              "    <tr style=\"text-align: right;\">\n",
              "      <th></th>\n",
              "      <th>index</th>\n",
              "      <th>adult</th>\n",
              "      <th>belongs_to_collection</th>\n",
              "      <th>budget</th>\n",
              "      <th>genres</th>\n",
              "      <th>homepage</th>\n",
              "      <th>id</th>\n",
              "      <th>imdb_id</th>\n",
              "      <th>original_language</th>\n",
              "      <th>original_title</th>\n",
              "      <th>overview</th>\n",
              "      <th>popularity</th>\n",
              "      <th>poster_path</th>\n",
              "      <th>production_companies</th>\n",
              "      <th>production_countries</th>\n",
              "      <th>release_date</th>\n",
              "      <th>revenue</th>\n",
              "      <th>runtime</th>\n",
              "      <th>spoken_languages</th>\n",
              "      <th>status</th>\n",
              "      <th>tagline</th>\n",
              "      <th>title</th>\n",
              "      <th>video</th>\n",
              "      <th>vote_average</th>\n",
              "      <th>vote_count</th>\n",
              "      <th>description</th>\n",
              "    </tr>\n",
              "  </thead>\n",
              "  <tbody>\n",
              "    <tr>\n",
              "      <th>0</th>\n",
              "      <td>1</td>\n",
              "      <td>False</td>\n",
              "      <td>NaN</td>\n",
              "      <td>65000000</td>\n",
              "      <td>[{'id': 12, 'name': 'Adventure'}, {'id': 14, 'name': 'Fantasy'}, {'id': 10751, 'name': 'Family'}]</td>\n",
              "      <td>NaN</td>\n",
              "      <td>8844</td>\n",
              "      <td>tt0113497</td>\n",
              "      <td>en</td>\n",
              "      <td>Jumanji</td>\n",
              "      <td>When siblings Judy and Peter discover an enchanted board game that opens the door to a magical world, they unwittingly invite Alan -- an adult who's been trapped inside the game for 26 years -- into their living room. Alan's only hope for freedom is to finish the game, which proves risky as all three find themselves running from giant rhinoceroses, evil monkeys and other terrifying creatures.</td>\n",
              "      <td>17.0155</td>\n",
              "      <td>/vzmL6fP7aPKNKPRTFnZmiUfciyV.jpg</td>\n",
              "      <td>[{'name': 'TriStar Pictures', 'id': 559}, {'name': 'Teitler Film', 'id': 2550}, {'name': 'Interscope Communications', 'id': 10201}]</td>\n",
              "      <td>[{'iso_3166_1': 'US', 'name': 'United States of America'}]</td>\n",
              "      <td>1995-12-15</td>\n",
              "      <td>262797249.0</td>\n",
              "      <td>104.0</td>\n",
              "      <td>[{'iso_639_1': 'en', 'name': 'English'}, {'iso_639_1': 'fr', 'name': 'Français'}]</td>\n",
              "      <td>Released</td>\n",
              "      <td>Roll the dice and unleash the excitement!</td>\n",
              "      <td>Jumanji</td>\n",
              "      <td>False</td>\n",
              "      <td>6.9</td>\n",
              "      <td>2413.0</td>\n",
              "      <td>Roll the dice and unleash the excitement!When siblings Judy and Peter discover an enchanted board game that opens the door to a magical world, they unwittingly invite Alan -- an adult who's been trapped inside the game for 26 years -- into their living room. Alan's only hope for freedom is to finish the game, which proves risky as all three find themselves running from giant rhinoceroses, evil monkeys and other terrifying creatures.</td>\n",
              "    </tr>\n",
              "    <tr>\n",
              "      <th>1</th>\n",
              "      <td>2</td>\n",
              "      <td>False</td>\n",
              "      <td>{'id': 119050, 'name': 'Grumpy Old Men Collection', 'poster_path': '/nLvUdqgPgm3F85NMCii9gVFUcet.jpg', 'backdrop_path': '/hypTnLot2z8wpFS7qwsQHW1uV8u.jpg'}</td>\n",
              "      <td>0</td>\n",
              "      <td>[{'id': 10749, 'name': 'Romance'}, {'id': 35, 'name': 'Comedy'}]</td>\n",
              "      <td>NaN</td>\n",
              "      <td>15602</td>\n",
              "      <td>tt0113228</td>\n",
              "      <td>en</td>\n",
              "      <td>Grumpier Old Men</td>\n",
              "      <td>A family wedding reignites the ancient feud between next-door neighbors and fishing buddies John and Max. Meanwhile, a sultry Italian divorcée opens a restaurant at the local bait shop, alarming the locals who worry she'll scare the fish away. But she's less interested in seafood than she is in cooking up a hot time with Max.</td>\n",
              "      <td>11.7129</td>\n",
              "      <td>/6ksm1sjKMFLbO7UY2i6G1ju9SML.jpg</td>\n",
              "      <td>[{'name': 'Warner Bros.', 'id': 6194}, {'name': 'Lancaster Gate', 'id': 19464}]</td>\n",
              "      <td>[{'iso_3166_1': 'US', 'name': 'United States of America'}]</td>\n",
              "      <td>1995-12-22</td>\n",
              "      <td>0.0</td>\n",
              "      <td>101.0</td>\n",
              "      <td>[{'iso_639_1': 'en', 'name': 'English'}]</td>\n",
              "      <td>Released</td>\n",
              "      <td>Still Yelling. Still Fighting. Still Ready for Love.</td>\n",
              "      <td>Grumpier Old Men</td>\n",
              "      <td>False</td>\n",
              "      <td>6.5</td>\n",
              "      <td>92.0</td>\n",
              "      <td>Still Yelling. Still Fighting. Still Ready for Love.A family wedding reignites the ancient feud between next-door neighbors and fishing buddies John and Max. Meanwhile, a sultry Italian divorcée opens a restaurant at the local bait shop, alarming the locals who worry she'll scare the fish away. But she's less interested in seafood than she is in cooking up a hot time with Max.</td>\n",
              "    </tr>\n",
              "    <tr>\n",
              "      <th>2</th>\n",
              "      <td>3</td>\n",
              "      <td>False</td>\n",
              "      <td>NaN</td>\n",
              "      <td>16000000</td>\n",
              "      <td>[{'id': 35, 'name': 'Comedy'}, {'id': 18, 'name': 'Drama'}, {'id': 10749, 'name': 'Romance'}]</td>\n",
              "      <td>NaN</td>\n",
              "      <td>31357</td>\n",
              "      <td>tt0114885</td>\n",
              "      <td>en</td>\n",
              "      <td>Waiting to Exhale</td>\n",
              "      <td>Cheated on, mistreated and stepped on, the women are holding their breath, waiting for the elusive \"good man\" to break a string of less-than-stellar lovers. Friends and confidants Vannah, Bernie, Glo and Robin talk it all out, determined to find a better way to breathe.</td>\n",
              "      <td>3.85949</td>\n",
              "      <td>/16XOMpEaLWkrcPqSQqhTmeJuqQl.jpg</td>\n",
              "      <td>[{'name': 'Twentieth Century Fox Film Corporation', 'id': 306}]</td>\n",
              "      <td>[{'iso_3166_1': 'US', 'name': 'United States of America'}]</td>\n",
              "      <td>1995-12-22</td>\n",
              "      <td>81452156.0</td>\n",
              "      <td>127.0</td>\n",
              "      <td>[{'iso_639_1': 'en', 'name': 'English'}]</td>\n",
              "      <td>Released</td>\n",
              "      <td>Friends are the people who let you be yourself... and never let you forget it.</td>\n",
              "      <td>Waiting to Exhale</td>\n",
              "      <td>False</td>\n",
              "      <td>6.1</td>\n",
              "      <td>34.0</td>\n",
              "      <td>Friends are the people who let you be yourself... and never let you forget it.Cheated on, mistreated and stepped on, the women are holding their breath, waiting for the elusive \"good man\" to break a string of less-than-stellar lovers. Friends and confidants Vannah, Bernie, Glo and Robin talk it all out, determined to find a better way to breathe.</td>\n",
              "    </tr>\n",
              "    <tr>\n",
              "      <th>3</th>\n",
              "      <td>4</td>\n",
              "      <td>False</td>\n",
              "      <td>{'id': 96871, 'name': 'Father of the Bride Collection', 'poster_path': '/nts4iOmNnq7GNicycMJ9pSAn204.jpg', 'backdrop_path': '/7qwE57OVZmMJChBpLEbJEmzUydk.jpg'}</td>\n",
              "      <td>0</td>\n",
              "      <td>[{'id': 35, 'name': 'Comedy'}]</td>\n",
              "      <td>NaN</td>\n",
              "      <td>11862</td>\n",
              "      <td>tt0113041</td>\n",
              "      <td>en</td>\n",
              "      <td>Father of the Bride Part II</td>\n",
              "      <td>Just when George Banks has recovered from his daughter's wedding, he receives the news that she's pregnant ... and that George's wife, Nina, is expecting too. He was planning on selling their home, but that's a plan that -- like George -- will have to change with the arrival of both a grandchild and a kid of his own.</td>\n",
              "      <td>8.38752</td>\n",
              "      <td>/e64sOI48hQXyru7naBFyssKFxVd.jpg</td>\n",
              "      <td>[{'name': 'Sandollar Productions', 'id': 5842}, {'name': 'Touchstone Pictures', 'id': 9195}]</td>\n",
              "      <td>[{'iso_3166_1': 'US', 'name': 'United States of America'}]</td>\n",
              "      <td>1995-02-10</td>\n",
              "      <td>76578911.0</td>\n",
              "      <td>106.0</td>\n",
              "      <td>[{'iso_639_1': 'en', 'name': 'English'}]</td>\n",
              "      <td>Released</td>\n",
              "      <td>Just When His World Is Back To Normal... He's In For The Surprise Of His Life!</td>\n",
              "      <td>Father of the Bride Part II</td>\n",
              "      <td>False</td>\n",
              "      <td>5.7</td>\n",
              "      <td>173.0</td>\n",
              "      <td>Just When His World Is Back To Normal... He's In For The Surprise Of His Life!Just when George Banks has recovered from his daughter's wedding, he receives the news that she's pregnant ... and that George's wife, Nina, is expecting too. He was planning on selling their home, but that's a plan that -- like George -- will have to change with the arrival of both a grandchild and a kid of his own.</td>\n",
              "    </tr>\n",
              "    <tr>\n",
              "      <th>4</th>\n",
              "      <td>5</td>\n",
              "      <td>False</td>\n",
              "      <td>NaN</td>\n",
              "      <td>60000000</td>\n",
              "      <td>[{'id': 28, 'name': 'Action'}, {'id': 80, 'name': 'Crime'}, {'id': 18, 'name': 'Drama'}, {'id': 53, 'name': 'Thriller'}]</td>\n",
              "      <td>NaN</td>\n",
              "      <td>949</td>\n",
              "      <td>tt0113277</td>\n",
              "      <td>en</td>\n",
              "      <td>Heat</td>\n",
              "      <td>Obsessive master thief, Neil McCauley leads a top-notch crew on various insane heists throughout Los Angeles while a mentally unstable detective, Vincent Hanna pursues him without rest. Each man recognizes and respects the ability and the dedication of the other even though they are aware their cat-and-mouse game may end in violence.</td>\n",
              "      <td>17.9249</td>\n",
              "      <td>/zMyfPUelumio3tiDKPffaUpsQTD.jpg</td>\n",
              "      <td>[{'name': 'Regency Enterprises', 'id': 508}, {'name': 'Forward Pass', 'id': 675}, {'name': 'Warner Bros.', 'id': 6194}]</td>\n",
              "      <td>[{'iso_3166_1': 'US', 'name': 'United States of America'}]</td>\n",
              "      <td>1995-12-15</td>\n",
              "      <td>187436818.0</td>\n",
              "      <td>170.0</td>\n",
              "      <td>[{'iso_639_1': 'en', 'name': 'English'}, {'iso_639_1': 'es', 'name': 'Español'}]</td>\n",
              "      <td>Released</td>\n",
              "      <td>A Los Angeles Crime Saga</td>\n",
              "      <td>Heat</td>\n",
              "      <td>False</td>\n",
              "      <td>7.7</td>\n",
              "      <td>1886.0</td>\n",
              "      <td>A Los Angeles Crime SagaObsessive master thief, Neil McCauley leads a top-notch crew on various insane heists throughout Los Angeles while a mentally unstable detective, Vincent Hanna pursues him without rest. Each man recognizes and respects the ability and the dedication of the other even though they are aware their cat-and-mouse game may end in violence.</td>\n",
              "    </tr>\n",
              "    <tr>\n",
              "      <th>...</th>\n",
              "      <td>...</td>\n",
              "      <td>...</td>\n",
              "      <td>...</td>\n",
              "      <td>...</td>\n",
              "      <td>...</td>\n",
              "      <td>...</td>\n",
              "      <td>...</td>\n",
              "      <td>...</td>\n",
              "      <td>...</td>\n",
              "      <td>...</td>\n",
              "      <td>...</td>\n",
              "      <td>...</td>\n",
              "      <td>...</td>\n",
              "      <td>...</td>\n",
              "      <td>...</td>\n",
              "      <td>...</td>\n",
              "      <td>...</td>\n",
              "      <td>...</td>\n",
              "      <td>...</td>\n",
              "      <td>...</td>\n",
              "      <td>...</td>\n",
              "      <td>...</td>\n",
              "      <td>...</td>\n",
              "      <td>...</td>\n",
              "      <td>...</td>\n",
              "      <td>...</td>\n",
              "    </tr>\n",
              "    <tr>\n",
              "      <th>20399</th>\n",
              "      <td>45454</td>\n",
              "      <td>False</td>\n",
              "      <td>NaN</td>\n",
              "      <td>0</td>\n",
              "      <td>[{'id': 35, 'name': 'Comedy'}, {'id': 18, 'name': 'Drama'}]</td>\n",
              "      <td>NaN</td>\n",
              "      <td>420346</td>\n",
              "      <td>tt4130180</td>\n",
              "      <td>en</td>\n",
              "      <td>The Morning After</td>\n",
              "      <td>The Morning After is a feature film that consists of 8 vignettes that are inter-cut throughout the film. The 8 vignettes are about when you wake up next to someone the next morning...</td>\n",
              "      <td>0.139936</td>\n",
              "      <td>/rpkDqyKdXahRcZIEC9I02EBSwje.jpg</td>\n",
              "      <td>[{'name': 'Oops Doughnuts Productions', 'id': 5698}, {'name': 'He and She Films', 'id': 85400}]</td>\n",
              "      <td>[{'iso_3166_1': 'US', 'name': 'United States of America'}]</td>\n",
              "      <td>2015-01-11</td>\n",
              "      <td>0.0</td>\n",
              "      <td>79.0</td>\n",
              "      <td>[{'iso_639_1': 'en', 'name': 'English'}]</td>\n",
              "      <td>Released</td>\n",
              "      <td>What happened last night?</td>\n",
              "      <td>The Morning After</td>\n",
              "      <td>False</td>\n",
              "      <td>4.0</td>\n",
              "      <td>2.0</td>\n",
              "      <td>What happened last night?The Morning After is a feature film that consists of 8 vignettes that are inter-cut throughout the film. The 8 vignettes are about when you wake up next to someone the next morning...</td>\n",
              "    </tr>\n",
              "    <tr>\n",
              "      <th>20400</th>\n",
              "      <td>45456</td>\n",
              "      <td>False</td>\n",
              "      <td>NaN</td>\n",
              "      <td>0</td>\n",
              "      <td>[{'id': 27, 'name': 'Horror'}, {'id': 9648, 'name': 'Mystery'}, {'id': 53, 'name': 'Thriller'}]</td>\n",
              "      <td>NaN</td>\n",
              "      <td>84419</td>\n",
              "      <td>tt0038621</td>\n",
              "      <td>en</td>\n",
              "      <td>House of Horrors</td>\n",
              "      <td>An unsuccessful sculptor saves a madman named \"The Creeper\" from drowning. Seeing an opportunity for revenge, he tricks the psycho into murdering his critics.</td>\n",
              "      <td>0.222814</td>\n",
              "      <td>/yMnq9mL5uYxbRgwKqyz1cVGCJYJ.jpg</td>\n",
              "      <td>[{'name': 'Universal Pictures', 'id': 33}]</td>\n",
              "      <td>[{'iso_3166_1': 'US', 'name': 'United States of America'}]</td>\n",
              "      <td>1946-03-29</td>\n",
              "      <td>0.0</td>\n",
              "      <td>65.0</td>\n",
              "      <td>[{'iso_639_1': 'en', 'name': 'English'}]</td>\n",
              "      <td>Released</td>\n",
              "      <td>Meet...The CREEPER!</td>\n",
              "      <td>House of Horrors</td>\n",
              "      <td>False</td>\n",
              "      <td>6.3</td>\n",
              "      <td>8.0</td>\n",
              "      <td>Meet...The CREEPER!An unsuccessful sculptor saves a madman named \"The Creeper\" from drowning. Seeing an opportunity for revenge, he tricks the psycho into murdering his critics.</td>\n",
              "    </tr>\n",
              "    <tr>\n",
              "      <th>20401</th>\n",
              "      <td>45458</td>\n",
              "      <td>False</td>\n",
              "      <td>NaN</td>\n",
              "      <td>0</td>\n",
              "      <td>[{'id': 27, 'name': 'Horror'}]</td>\n",
              "      <td>NaN</td>\n",
              "      <td>289923</td>\n",
              "      <td>tt0252966</td>\n",
              "      <td>en</td>\n",
              "      <td>The Burkittsville 7</td>\n",
              "      <td>A film archivist revisits the story of Rustin Parr, a hermit thought to have murdered seven children while under the possession of the Blair Witch.</td>\n",
              "      <td>0.38645</td>\n",
              "      <td>/lXtoHVdej6kS1Dc7KAhw05sMos9.jpg</td>\n",
              "      <td>[{'name': 'Neptune Salad Entertainment', 'id': 27570}, {'name': 'Pirie Productions', 'id': 27571}]</td>\n",
              "      <td>[{'iso_3166_1': 'US', 'name': 'United States of America'}]</td>\n",
              "      <td>2000-10-03</td>\n",
              "      <td>0.0</td>\n",
              "      <td>30.0</td>\n",
              "      <td>[{'iso_639_1': 'en', 'name': 'English'}]</td>\n",
              "      <td>Released</td>\n",
              "      <td>Do you know what happened 50 years before \"The Blair Witch Project\"?</td>\n",
              "      <td>The Burkittsville 7</td>\n",
              "      <td>False</td>\n",
              "      <td>7.0</td>\n",
              "      <td>1.0</td>\n",
              "      <td>Do you know what happened 50 years before \"The Blair Witch Project\"?A film archivist revisits the story of Rustin Parr, a hermit thought to have murdered seven children while under the possession of the Blair Witch.</td>\n",
              "    </tr>\n",
              "    <tr>\n",
              "      <th>20402</th>\n",
              "      <td>45461</td>\n",
              "      <td>False</td>\n",
              "      <td>NaN</td>\n",
              "      <td>0</td>\n",
              "      <td>[{'id': 18, 'name': 'Drama'}, {'id': 10751, 'name': 'Family'}]</td>\n",
              "      <td>http://www.imdb.com/title/tt6209470/</td>\n",
              "      <td>439050</td>\n",
              "      <td>tt6209470</td>\n",
              "      <td>fa</td>\n",
              "      <td>رگ خواب</td>\n",
              "      <td>Rising and falling between a man and woman.</td>\n",
              "      <td>0.072051</td>\n",
              "      <td>/jldsYflnId4tTWPx8es3uzsB1I8.jpg</td>\n",
              "      <td>[]</td>\n",
              "      <td>[{'iso_3166_1': 'IR', 'name': 'Iran'}]</td>\n",
              "      <td>NaN</td>\n",
              "      <td>0.0</td>\n",
              "      <td>90.0</td>\n",
              "      <td>[{'iso_639_1': 'fa', 'name': 'فارسی'}]</td>\n",
              "      <td>Released</td>\n",
              "      <td>Rising and falling between a man and woman</td>\n",
              "      <td>Subdue</td>\n",
              "      <td>False</td>\n",
              "      <td>4.0</td>\n",
              "      <td>1.0</td>\n",
              "      <td>Rising and falling between a man and womanRising and falling between a man and woman.</td>\n",
              "    </tr>\n",
              "    <tr>\n",
              "      <th>20403</th>\n",
              "      <td>45463</td>\n",
              "      <td>False</td>\n",
              "      <td>NaN</td>\n",
              "      <td>0</td>\n",
              "      <td>[{'id': 28, 'name': 'Action'}, {'id': 18, 'name': 'Drama'}, {'id': 53, 'name': 'Thriller'}]</td>\n",
              "      <td>NaN</td>\n",
              "      <td>67758</td>\n",
              "      <td>tt0303758</td>\n",
              "      <td>en</td>\n",
              "      <td>Betrayal</td>\n",
              "      <td>When one of her hits goes wrong, a professional assassin ends up with a suitcase full of a million dollars belonging to a mob boss ...</td>\n",
              "      <td>0.903007</td>\n",
              "      <td>/d5bX92nDsISNhu3ZT69uHwmfCGw.jpg</td>\n",
              "      <td>[{'name': 'American World Pictures', 'id': 6165}]</td>\n",
              "      <td>[{'iso_3166_1': 'US', 'name': 'United States of America'}]</td>\n",
              "      <td>2003-08-01</td>\n",
              "      <td>0.0</td>\n",
              "      <td>90.0</td>\n",
              "      <td>[{'iso_639_1': 'en', 'name': 'English'}]</td>\n",
              "      <td>Released</td>\n",
              "      <td>A deadly game of wits.</td>\n",
              "      <td>Betrayal</td>\n",
              "      <td>False</td>\n",
              "      <td>3.8</td>\n",
              "      <td>6.0</td>\n",
              "      <td>A deadly game of wits.When one of her hits goes wrong, a professional assassin ends up with a suitcase full of a million dollars belonging to a mob boss ...</td>\n",
              "    </tr>\n",
              "  </tbody>\n",
              "</table>\n",
              "<p>20404 rows × 26 columns</p>\n",
              "</div>"
            ],
            "text/plain": [
              "       index  ...                                                                                                                                                                                                                                                                                                                                                                                                                                           description\n",
              "0      1      ...  Roll the dice and unleash the excitement!When siblings Judy and Peter discover an enchanted board game that opens the door to a magical world, they unwittingly invite Alan -- an adult who's been trapped inside the game for 26 years -- into their living room. Alan's only hope for freedom is to finish the game, which proves risky as all three find themselves running from giant rhinoceroses, evil monkeys and other terrifying creatures.\n",
              "1      2      ...  Still Yelling. Still Fighting. Still Ready for Love.A family wedding reignites the ancient feud between next-door neighbors and fishing buddies John and Max. Meanwhile, a sultry Italian divorcée opens a restaurant at the local bait shop, alarming the locals who worry she'll scare the fish away. But she's less interested in seafood than she is in cooking up a hot time with Max.                                                         \n",
              "2      3      ...  Friends are the people who let you be yourself... and never let you forget it.Cheated on, mistreated and stepped on, the women are holding their breath, waiting for the elusive \"good man\" to break a string of less-than-stellar lovers. Friends and confidants Vannah, Bernie, Glo and Robin talk it all out, determined to find a better way to breathe.                                                                                        \n",
              "3      4      ...  Just When His World Is Back To Normal... He's In For The Surprise Of His Life!Just when George Banks has recovered from his daughter's wedding, he receives the news that she's pregnant ... and that George's wife, Nina, is expecting too. He was planning on selling their home, but that's a plan that -- like George -- will have to change with the arrival of both a grandchild and a kid of his own.                                        \n",
              "4      5      ...  A Los Angeles Crime SagaObsessive master thief, Neil McCauley leads a top-notch crew on various insane heists throughout Los Angeles while a mentally unstable detective, Vincent Hanna pursues him without rest. Each man recognizes and respects the ability and the dedication of the other even though they are aware their cat-and-mouse game may end in violence.                                                                             \n",
              "...   ..      ...                                                                                                                                                                                                                                                                                                                                                                      ...                                                                             \n",
              "20399  45454  ...  What happened last night?The Morning After is a feature film that consists of 8 vignettes that are inter-cut throughout the film. The 8 vignettes are about when you wake up next to someone the next morning...                                                                                                                                                                                                                                    \n",
              "20400  45456  ...  Meet...The CREEPER!An unsuccessful sculptor saves a madman named \"The Creeper\" from drowning. Seeing an opportunity for revenge, he tricks the psycho into murdering his critics.                                                                                                                                                                                                                                                                   \n",
              "20401  45458  ...  Do you know what happened 50 years before \"The Blair Witch Project\"?A film archivist revisits the story of Rustin Parr, a hermit thought to have murdered seven children while under the possession of the Blair Witch.                                                                                                                                                                                                                             \n",
              "20402  45461  ...  Rising and falling between a man and womanRising and falling between a man and woman.                                                                                                                                                                                                                                                                                                                                                               \n",
              "20403  45463  ...  A deadly game of wits.When one of her hits goes wrong, a professional assassin ends up with a suitcase full of a million dollars belonging to a mob boss ...                                                                                                                                                                                                                                                                                        \n",
              "\n",
              "[20404 rows x 26 columns]"
            ]
          },
          "metadata": {
            "tags": []
          },
          "execution_count": 83
        }
      ]
    },
    {
      "cell_type": "code",
      "metadata": {
        "id": "BT3DQvk4iNvN",
        "colab_type": "code",
        "outputId": "8da3deab-1017-42f7-af40-1dc0edcbd443",
        "colab": {
          "base_uri": "https://localhost:8080/",
          "height": 34
        }
      },
      "source": [
        "movie.shape"
      ],
      "execution_count": 84,
      "outputs": [
        {
          "output_type": "execute_result",
          "data": {
            "text/plain": [
              "(20404, 25)"
            ]
          },
          "metadata": {
            "tags": []
          },
          "execution_count": 84
        }
      ]
    },
    {
      "cell_type": "code",
      "metadata": {
        "id": "ZfLuSiPCiNvT",
        "colab_type": "code",
        "outputId": "f838282d-92eb-4cc3-8274-8c58c5d71392",
        "colab": {
          "base_uri": "https://localhost:8080/",
          "height": 1000
        }
      },
      "source": [
        "movie"
      ],
      "execution_count": 85,
      "outputs": [
        {
          "output_type": "execute_result",
          "data": {
            "text/html": [
              "<div>\n",
              "<style scoped>\n",
              "    .dataframe tbody tr th:only-of-type {\n",
              "        vertical-align: middle;\n",
              "    }\n",
              "\n",
              "    .dataframe tbody tr th {\n",
              "        vertical-align: top;\n",
              "    }\n",
              "\n",
              "    .dataframe thead th {\n",
              "        text-align: right;\n",
              "    }\n",
              "</style>\n",
              "<table border=\"1\" class=\"dataframe\">\n",
              "  <thead>\n",
              "    <tr style=\"text-align: right;\">\n",
              "      <th></th>\n",
              "      <th>adult</th>\n",
              "      <th>belongs_to_collection</th>\n",
              "      <th>budget</th>\n",
              "      <th>genres</th>\n",
              "      <th>homepage</th>\n",
              "      <th>id</th>\n",
              "      <th>imdb_id</th>\n",
              "      <th>original_language</th>\n",
              "      <th>original_title</th>\n",
              "      <th>overview</th>\n",
              "      <th>popularity</th>\n",
              "      <th>poster_path</th>\n",
              "      <th>production_companies</th>\n",
              "      <th>production_countries</th>\n",
              "      <th>release_date</th>\n",
              "      <th>revenue</th>\n",
              "      <th>runtime</th>\n",
              "      <th>spoken_languages</th>\n",
              "      <th>status</th>\n",
              "      <th>tagline</th>\n",
              "      <th>title</th>\n",
              "      <th>video</th>\n",
              "      <th>vote_average</th>\n",
              "      <th>vote_count</th>\n",
              "      <th>description</th>\n",
              "    </tr>\n",
              "  </thead>\n",
              "  <tbody>\n",
              "    <tr>\n",
              "      <th>1</th>\n",
              "      <td>False</td>\n",
              "      <td>NaN</td>\n",
              "      <td>65000000</td>\n",
              "      <td>[{'id': 12, 'name': 'Adventure'}, {'id': 14, 'name': 'Fantasy'}, {'id': 10751, 'name': 'Family'}]</td>\n",
              "      <td>NaN</td>\n",
              "      <td>8844</td>\n",
              "      <td>tt0113497</td>\n",
              "      <td>en</td>\n",
              "      <td>Jumanji</td>\n",
              "      <td>When siblings Judy and Peter discover an enchanted board game that opens the door to a magical world, they unwittingly invite Alan -- an adult who's been trapped inside the game for 26 years -- into their living room. Alan's only hope for freedom is to finish the game, which proves risky as all three find themselves running from giant rhinoceroses, evil monkeys and other terrifying creatures.</td>\n",
              "      <td>17.0155</td>\n",
              "      <td>/vzmL6fP7aPKNKPRTFnZmiUfciyV.jpg</td>\n",
              "      <td>[{'name': 'TriStar Pictures', 'id': 559}, {'name': 'Teitler Film', 'id': 2550}, {'name': 'Interscope Communications', 'id': 10201}]</td>\n",
              "      <td>[{'iso_3166_1': 'US', 'name': 'United States of America'}]</td>\n",
              "      <td>1995-12-15</td>\n",
              "      <td>262797249.0</td>\n",
              "      <td>104.0</td>\n",
              "      <td>[{'iso_639_1': 'en', 'name': 'English'}, {'iso_639_1': 'fr', 'name': 'Français'}]</td>\n",
              "      <td>Released</td>\n",
              "      <td>Roll the dice and unleash the excitement!</td>\n",
              "      <td>Jumanji</td>\n",
              "      <td>False</td>\n",
              "      <td>6.9</td>\n",
              "      <td>2413.0</td>\n",
              "      <td>Roll the dice and unleash the excitement!When siblings Judy and Peter discover an enchanted board game that opens the door to a magical world, they unwittingly invite Alan -- an adult who's been trapped inside the game for 26 years -- into their living room. Alan's only hope for freedom is to finish the game, which proves risky as all three find themselves running from giant rhinoceroses, evil monkeys and other terrifying creatures.</td>\n",
              "    </tr>\n",
              "    <tr>\n",
              "      <th>2</th>\n",
              "      <td>False</td>\n",
              "      <td>{'id': 119050, 'name': 'Grumpy Old Men Collection', 'poster_path': '/nLvUdqgPgm3F85NMCii9gVFUcet.jpg', 'backdrop_path': '/hypTnLot2z8wpFS7qwsQHW1uV8u.jpg'}</td>\n",
              "      <td>0</td>\n",
              "      <td>[{'id': 10749, 'name': 'Romance'}, {'id': 35, 'name': 'Comedy'}]</td>\n",
              "      <td>NaN</td>\n",
              "      <td>15602</td>\n",
              "      <td>tt0113228</td>\n",
              "      <td>en</td>\n",
              "      <td>Grumpier Old Men</td>\n",
              "      <td>A family wedding reignites the ancient feud between next-door neighbors and fishing buddies John and Max. Meanwhile, a sultry Italian divorcée opens a restaurant at the local bait shop, alarming the locals who worry she'll scare the fish away. But she's less interested in seafood than she is in cooking up a hot time with Max.</td>\n",
              "      <td>11.7129</td>\n",
              "      <td>/6ksm1sjKMFLbO7UY2i6G1ju9SML.jpg</td>\n",
              "      <td>[{'name': 'Warner Bros.', 'id': 6194}, {'name': 'Lancaster Gate', 'id': 19464}]</td>\n",
              "      <td>[{'iso_3166_1': 'US', 'name': 'United States of America'}]</td>\n",
              "      <td>1995-12-22</td>\n",
              "      <td>0.0</td>\n",
              "      <td>101.0</td>\n",
              "      <td>[{'iso_639_1': 'en', 'name': 'English'}]</td>\n",
              "      <td>Released</td>\n",
              "      <td>Still Yelling. Still Fighting. Still Ready for Love.</td>\n",
              "      <td>Grumpier Old Men</td>\n",
              "      <td>False</td>\n",
              "      <td>6.5</td>\n",
              "      <td>92.0</td>\n",
              "      <td>Still Yelling. Still Fighting. Still Ready for Love.A family wedding reignites the ancient feud between next-door neighbors and fishing buddies John and Max. Meanwhile, a sultry Italian divorcée opens a restaurant at the local bait shop, alarming the locals who worry she'll scare the fish away. But she's less interested in seafood than she is in cooking up a hot time with Max.</td>\n",
              "    </tr>\n",
              "    <tr>\n",
              "      <th>3</th>\n",
              "      <td>False</td>\n",
              "      <td>NaN</td>\n",
              "      <td>16000000</td>\n",
              "      <td>[{'id': 35, 'name': 'Comedy'}, {'id': 18, 'name': 'Drama'}, {'id': 10749, 'name': 'Romance'}]</td>\n",
              "      <td>NaN</td>\n",
              "      <td>31357</td>\n",
              "      <td>tt0114885</td>\n",
              "      <td>en</td>\n",
              "      <td>Waiting to Exhale</td>\n",
              "      <td>Cheated on, mistreated and stepped on, the women are holding their breath, waiting for the elusive \"good man\" to break a string of less-than-stellar lovers. Friends and confidants Vannah, Bernie, Glo and Robin talk it all out, determined to find a better way to breathe.</td>\n",
              "      <td>3.85949</td>\n",
              "      <td>/16XOMpEaLWkrcPqSQqhTmeJuqQl.jpg</td>\n",
              "      <td>[{'name': 'Twentieth Century Fox Film Corporation', 'id': 306}]</td>\n",
              "      <td>[{'iso_3166_1': 'US', 'name': 'United States of America'}]</td>\n",
              "      <td>1995-12-22</td>\n",
              "      <td>81452156.0</td>\n",
              "      <td>127.0</td>\n",
              "      <td>[{'iso_639_1': 'en', 'name': 'English'}]</td>\n",
              "      <td>Released</td>\n",
              "      <td>Friends are the people who let you be yourself... and never let you forget it.</td>\n",
              "      <td>Waiting to Exhale</td>\n",
              "      <td>False</td>\n",
              "      <td>6.1</td>\n",
              "      <td>34.0</td>\n",
              "      <td>Friends are the people who let you be yourself... and never let you forget it.Cheated on, mistreated and stepped on, the women are holding their breath, waiting for the elusive \"good man\" to break a string of less-than-stellar lovers. Friends and confidants Vannah, Bernie, Glo and Robin talk it all out, determined to find a better way to breathe.</td>\n",
              "    </tr>\n",
              "    <tr>\n",
              "      <th>4</th>\n",
              "      <td>False</td>\n",
              "      <td>{'id': 96871, 'name': 'Father of the Bride Collection', 'poster_path': '/nts4iOmNnq7GNicycMJ9pSAn204.jpg', 'backdrop_path': '/7qwE57OVZmMJChBpLEbJEmzUydk.jpg'}</td>\n",
              "      <td>0</td>\n",
              "      <td>[{'id': 35, 'name': 'Comedy'}]</td>\n",
              "      <td>NaN</td>\n",
              "      <td>11862</td>\n",
              "      <td>tt0113041</td>\n",
              "      <td>en</td>\n",
              "      <td>Father of the Bride Part II</td>\n",
              "      <td>Just when George Banks has recovered from his daughter's wedding, he receives the news that she's pregnant ... and that George's wife, Nina, is expecting too. He was planning on selling their home, but that's a plan that -- like George -- will have to change with the arrival of both a grandchild and a kid of his own.</td>\n",
              "      <td>8.38752</td>\n",
              "      <td>/e64sOI48hQXyru7naBFyssKFxVd.jpg</td>\n",
              "      <td>[{'name': 'Sandollar Productions', 'id': 5842}, {'name': 'Touchstone Pictures', 'id': 9195}]</td>\n",
              "      <td>[{'iso_3166_1': 'US', 'name': 'United States of America'}]</td>\n",
              "      <td>1995-02-10</td>\n",
              "      <td>76578911.0</td>\n",
              "      <td>106.0</td>\n",
              "      <td>[{'iso_639_1': 'en', 'name': 'English'}]</td>\n",
              "      <td>Released</td>\n",
              "      <td>Just When His World Is Back To Normal... He's In For The Surprise Of His Life!</td>\n",
              "      <td>Father of the Bride Part II</td>\n",
              "      <td>False</td>\n",
              "      <td>5.7</td>\n",
              "      <td>173.0</td>\n",
              "      <td>Just When His World Is Back To Normal... He's In For The Surprise Of His Life!Just when George Banks has recovered from his daughter's wedding, he receives the news that she's pregnant ... and that George's wife, Nina, is expecting too. He was planning on selling their home, but that's a plan that -- like George -- will have to change with the arrival of both a grandchild and a kid of his own.</td>\n",
              "    </tr>\n",
              "    <tr>\n",
              "      <th>5</th>\n",
              "      <td>False</td>\n",
              "      <td>NaN</td>\n",
              "      <td>60000000</td>\n",
              "      <td>[{'id': 28, 'name': 'Action'}, {'id': 80, 'name': 'Crime'}, {'id': 18, 'name': 'Drama'}, {'id': 53, 'name': 'Thriller'}]</td>\n",
              "      <td>NaN</td>\n",
              "      <td>949</td>\n",
              "      <td>tt0113277</td>\n",
              "      <td>en</td>\n",
              "      <td>Heat</td>\n",
              "      <td>Obsessive master thief, Neil McCauley leads a top-notch crew on various insane heists throughout Los Angeles while a mentally unstable detective, Vincent Hanna pursues him without rest. Each man recognizes and respects the ability and the dedication of the other even though they are aware their cat-and-mouse game may end in violence.</td>\n",
              "      <td>17.9249</td>\n",
              "      <td>/zMyfPUelumio3tiDKPffaUpsQTD.jpg</td>\n",
              "      <td>[{'name': 'Regency Enterprises', 'id': 508}, {'name': 'Forward Pass', 'id': 675}, {'name': 'Warner Bros.', 'id': 6194}]</td>\n",
              "      <td>[{'iso_3166_1': 'US', 'name': 'United States of America'}]</td>\n",
              "      <td>1995-12-15</td>\n",
              "      <td>187436818.0</td>\n",
              "      <td>170.0</td>\n",
              "      <td>[{'iso_639_1': 'en', 'name': 'English'}, {'iso_639_1': 'es', 'name': 'Español'}]</td>\n",
              "      <td>Released</td>\n",
              "      <td>A Los Angeles Crime Saga</td>\n",
              "      <td>Heat</td>\n",
              "      <td>False</td>\n",
              "      <td>7.7</td>\n",
              "      <td>1886.0</td>\n",
              "      <td>A Los Angeles Crime SagaObsessive master thief, Neil McCauley leads a top-notch crew on various insane heists throughout Los Angeles while a mentally unstable detective, Vincent Hanna pursues him without rest. Each man recognizes and respects the ability and the dedication of the other even though they are aware their cat-and-mouse game may end in violence.</td>\n",
              "    </tr>\n",
              "    <tr>\n",
              "      <th>...</th>\n",
              "      <td>...</td>\n",
              "      <td>...</td>\n",
              "      <td>...</td>\n",
              "      <td>...</td>\n",
              "      <td>...</td>\n",
              "      <td>...</td>\n",
              "      <td>...</td>\n",
              "      <td>...</td>\n",
              "      <td>...</td>\n",
              "      <td>...</td>\n",
              "      <td>...</td>\n",
              "      <td>...</td>\n",
              "      <td>...</td>\n",
              "      <td>...</td>\n",
              "      <td>...</td>\n",
              "      <td>...</td>\n",
              "      <td>...</td>\n",
              "      <td>...</td>\n",
              "      <td>...</td>\n",
              "      <td>...</td>\n",
              "      <td>...</td>\n",
              "      <td>...</td>\n",
              "      <td>...</td>\n",
              "      <td>...</td>\n",
              "      <td>...</td>\n",
              "    </tr>\n",
              "    <tr>\n",
              "      <th>45454</th>\n",
              "      <td>False</td>\n",
              "      <td>NaN</td>\n",
              "      <td>0</td>\n",
              "      <td>[{'id': 35, 'name': 'Comedy'}, {'id': 18, 'name': 'Drama'}]</td>\n",
              "      <td>NaN</td>\n",
              "      <td>420346</td>\n",
              "      <td>tt4130180</td>\n",
              "      <td>en</td>\n",
              "      <td>The Morning After</td>\n",
              "      <td>The Morning After is a feature film that consists of 8 vignettes that are inter-cut throughout the film. The 8 vignettes are about when you wake up next to someone the next morning...</td>\n",
              "      <td>0.139936</td>\n",
              "      <td>/rpkDqyKdXahRcZIEC9I02EBSwje.jpg</td>\n",
              "      <td>[{'name': 'Oops Doughnuts Productions', 'id': 5698}, {'name': 'He and She Films', 'id': 85400}]</td>\n",
              "      <td>[{'iso_3166_1': 'US', 'name': 'United States of America'}]</td>\n",
              "      <td>2015-01-11</td>\n",
              "      <td>0.0</td>\n",
              "      <td>79.0</td>\n",
              "      <td>[{'iso_639_1': 'en', 'name': 'English'}]</td>\n",
              "      <td>Released</td>\n",
              "      <td>What happened last night?</td>\n",
              "      <td>The Morning After</td>\n",
              "      <td>False</td>\n",
              "      <td>4.0</td>\n",
              "      <td>2.0</td>\n",
              "      <td>What happened last night?The Morning After is a feature film that consists of 8 vignettes that are inter-cut throughout the film. The 8 vignettes are about when you wake up next to someone the next morning...</td>\n",
              "    </tr>\n",
              "    <tr>\n",
              "      <th>45456</th>\n",
              "      <td>False</td>\n",
              "      <td>NaN</td>\n",
              "      <td>0</td>\n",
              "      <td>[{'id': 27, 'name': 'Horror'}, {'id': 9648, 'name': 'Mystery'}, {'id': 53, 'name': 'Thriller'}]</td>\n",
              "      <td>NaN</td>\n",
              "      <td>84419</td>\n",
              "      <td>tt0038621</td>\n",
              "      <td>en</td>\n",
              "      <td>House of Horrors</td>\n",
              "      <td>An unsuccessful sculptor saves a madman named \"The Creeper\" from drowning. Seeing an opportunity for revenge, he tricks the psycho into murdering his critics.</td>\n",
              "      <td>0.222814</td>\n",
              "      <td>/yMnq9mL5uYxbRgwKqyz1cVGCJYJ.jpg</td>\n",
              "      <td>[{'name': 'Universal Pictures', 'id': 33}]</td>\n",
              "      <td>[{'iso_3166_1': 'US', 'name': 'United States of America'}]</td>\n",
              "      <td>1946-03-29</td>\n",
              "      <td>0.0</td>\n",
              "      <td>65.0</td>\n",
              "      <td>[{'iso_639_1': 'en', 'name': 'English'}]</td>\n",
              "      <td>Released</td>\n",
              "      <td>Meet...The CREEPER!</td>\n",
              "      <td>House of Horrors</td>\n",
              "      <td>False</td>\n",
              "      <td>6.3</td>\n",
              "      <td>8.0</td>\n",
              "      <td>Meet...The CREEPER!An unsuccessful sculptor saves a madman named \"The Creeper\" from drowning. Seeing an opportunity for revenge, he tricks the psycho into murdering his critics.</td>\n",
              "    </tr>\n",
              "    <tr>\n",
              "      <th>45458</th>\n",
              "      <td>False</td>\n",
              "      <td>NaN</td>\n",
              "      <td>0</td>\n",
              "      <td>[{'id': 27, 'name': 'Horror'}]</td>\n",
              "      <td>NaN</td>\n",
              "      <td>289923</td>\n",
              "      <td>tt0252966</td>\n",
              "      <td>en</td>\n",
              "      <td>The Burkittsville 7</td>\n",
              "      <td>A film archivist revisits the story of Rustin Parr, a hermit thought to have murdered seven children while under the possession of the Blair Witch.</td>\n",
              "      <td>0.38645</td>\n",
              "      <td>/lXtoHVdej6kS1Dc7KAhw05sMos9.jpg</td>\n",
              "      <td>[{'name': 'Neptune Salad Entertainment', 'id': 27570}, {'name': 'Pirie Productions', 'id': 27571}]</td>\n",
              "      <td>[{'iso_3166_1': 'US', 'name': 'United States of America'}]</td>\n",
              "      <td>2000-10-03</td>\n",
              "      <td>0.0</td>\n",
              "      <td>30.0</td>\n",
              "      <td>[{'iso_639_1': 'en', 'name': 'English'}]</td>\n",
              "      <td>Released</td>\n",
              "      <td>Do you know what happened 50 years before \"The Blair Witch Project\"?</td>\n",
              "      <td>The Burkittsville 7</td>\n",
              "      <td>False</td>\n",
              "      <td>7.0</td>\n",
              "      <td>1.0</td>\n",
              "      <td>Do you know what happened 50 years before \"The Blair Witch Project\"?A film archivist revisits the story of Rustin Parr, a hermit thought to have murdered seven children while under the possession of the Blair Witch.</td>\n",
              "    </tr>\n",
              "    <tr>\n",
              "      <th>45461</th>\n",
              "      <td>False</td>\n",
              "      <td>NaN</td>\n",
              "      <td>0</td>\n",
              "      <td>[{'id': 18, 'name': 'Drama'}, {'id': 10751, 'name': 'Family'}]</td>\n",
              "      <td>http://www.imdb.com/title/tt6209470/</td>\n",
              "      <td>439050</td>\n",
              "      <td>tt6209470</td>\n",
              "      <td>fa</td>\n",
              "      <td>رگ خواب</td>\n",
              "      <td>Rising and falling between a man and woman.</td>\n",
              "      <td>0.072051</td>\n",
              "      <td>/jldsYflnId4tTWPx8es3uzsB1I8.jpg</td>\n",
              "      <td>[]</td>\n",
              "      <td>[{'iso_3166_1': 'IR', 'name': 'Iran'}]</td>\n",
              "      <td>NaN</td>\n",
              "      <td>0.0</td>\n",
              "      <td>90.0</td>\n",
              "      <td>[{'iso_639_1': 'fa', 'name': 'فارسی'}]</td>\n",
              "      <td>Released</td>\n",
              "      <td>Rising and falling between a man and woman</td>\n",
              "      <td>Subdue</td>\n",
              "      <td>False</td>\n",
              "      <td>4.0</td>\n",
              "      <td>1.0</td>\n",
              "      <td>Rising and falling between a man and womanRising and falling between a man and woman.</td>\n",
              "    </tr>\n",
              "    <tr>\n",
              "      <th>45463</th>\n",
              "      <td>False</td>\n",
              "      <td>NaN</td>\n",
              "      <td>0</td>\n",
              "      <td>[{'id': 28, 'name': 'Action'}, {'id': 18, 'name': 'Drama'}, {'id': 53, 'name': 'Thriller'}]</td>\n",
              "      <td>NaN</td>\n",
              "      <td>67758</td>\n",
              "      <td>tt0303758</td>\n",
              "      <td>en</td>\n",
              "      <td>Betrayal</td>\n",
              "      <td>When one of her hits goes wrong, a professional assassin ends up with a suitcase full of a million dollars belonging to a mob boss ...</td>\n",
              "      <td>0.903007</td>\n",
              "      <td>/d5bX92nDsISNhu3ZT69uHwmfCGw.jpg</td>\n",
              "      <td>[{'name': 'American World Pictures', 'id': 6165}]</td>\n",
              "      <td>[{'iso_3166_1': 'US', 'name': 'United States of America'}]</td>\n",
              "      <td>2003-08-01</td>\n",
              "      <td>0.0</td>\n",
              "      <td>90.0</td>\n",
              "      <td>[{'iso_639_1': 'en', 'name': 'English'}]</td>\n",
              "      <td>Released</td>\n",
              "      <td>A deadly game of wits.</td>\n",
              "      <td>Betrayal</td>\n",
              "      <td>False</td>\n",
              "      <td>3.8</td>\n",
              "      <td>6.0</td>\n",
              "      <td>A deadly game of wits.When one of her hits goes wrong, a professional assassin ends up with a suitcase full of a million dollars belonging to a mob boss ...</td>\n",
              "    </tr>\n",
              "  </tbody>\n",
              "</table>\n",
              "<p>20404 rows × 25 columns</p>\n",
              "</div>"
            ],
            "text/plain": [
              "       adult  ...                                                                                                                                                                                                                                                                                                                                                                                                                                           description\n",
              "1      False  ...  Roll the dice and unleash the excitement!When siblings Judy and Peter discover an enchanted board game that opens the door to a magical world, they unwittingly invite Alan -- an adult who's been trapped inside the game for 26 years -- into their living room. Alan's only hope for freedom is to finish the game, which proves risky as all three find themselves running from giant rhinoceroses, evil monkeys and other terrifying creatures.\n",
              "2      False  ...  Still Yelling. Still Fighting. Still Ready for Love.A family wedding reignites the ancient feud between next-door neighbors and fishing buddies John and Max. Meanwhile, a sultry Italian divorcée opens a restaurant at the local bait shop, alarming the locals who worry she'll scare the fish away. But she's less interested in seafood than she is in cooking up a hot time with Max.                                                         \n",
              "3      False  ...  Friends are the people who let you be yourself... and never let you forget it.Cheated on, mistreated and stepped on, the women are holding their breath, waiting for the elusive \"good man\" to break a string of less-than-stellar lovers. Friends and confidants Vannah, Bernie, Glo and Robin talk it all out, determined to find a better way to breathe.                                                                                        \n",
              "4      False  ...  Just When His World Is Back To Normal... He's In For The Surprise Of His Life!Just when George Banks has recovered from his daughter's wedding, he receives the news that she's pregnant ... and that George's wife, Nina, is expecting too. He was planning on selling their home, but that's a plan that -- like George -- will have to change with the arrival of both a grandchild and a kid of his own.                                        \n",
              "5      False  ...  A Los Angeles Crime SagaObsessive master thief, Neil McCauley leads a top-notch crew on various insane heists throughout Los Angeles while a mentally unstable detective, Vincent Hanna pursues him without rest. Each man recognizes and respects the ability and the dedication of the other even though they are aware their cat-and-mouse game may end in violence.                                                                             \n",
              "...      ...  ...                                                                                                                                                                                                                                                                                                                                                                      ...                                                                             \n",
              "45454  False  ...  What happened last night?The Morning After is a feature film that consists of 8 vignettes that are inter-cut throughout the film. The 8 vignettes are about when you wake up next to someone the next morning...                                                                                                                                                                                                                                    \n",
              "45456  False  ...  Meet...The CREEPER!An unsuccessful sculptor saves a madman named \"The Creeper\" from drowning. Seeing an opportunity for revenge, he tricks the psycho into murdering his critics.                                                                                                                                                                                                                                                                   \n",
              "45458  False  ...  Do you know what happened 50 years before \"The Blair Witch Project\"?A film archivist revisits the story of Rustin Parr, a hermit thought to have murdered seven children while under the possession of the Blair Witch.                                                                                                                                                                                                                             \n",
              "45461  False  ...  Rising and falling between a man and womanRising and falling between a man and woman.                                                                                                                                                                                                                                                                                                                                                               \n",
              "45463  False  ...  A deadly game of wits.When one of her hits goes wrong, a professional assassin ends up with a suitcase full of a million dollars belonging to a mob boss ...                                                                                                                                                                                                                                                                                        \n",
              "\n",
              "[20404 rows x 25 columns]"
            ]
          },
          "metadata": {
            "tags": []
          },
          "execution_count": 85
        }
      ]
    },
    {
      "cell_type": "markdown",
      "metadata": {
        "colab_type": "text",
        "id": "pihbAI1UqwXP"
      },
      "source": [
        "### Generate tf-idf matrix using the column `description`. Consider till 3-grams, with minimum document frequency as 0."
      ]
    },
    {
      "cell_type": "code",
      "metadata": {
        "colab_type": "code",
        "id": "CC8rJxwAqwXQ",
        "colab": {}
      },
      "source": [
        "tf_idf_vect = TfidfVectorizer(analyzer='word',ngram_range=(1,3),stop_words='english', min_df = 0)\n",
        "tf_idf_vect.fit(movie['description'])\n",
        "title_matrix = tf_idf_vect.transform(movie[\"description\"])"
      ],
      "execution_count": 0,
      "outputs": []
    },
    {
      "cell_type": "code",
      "metadata": {
        "id": "2QsHGLKeiNve",
        "colab_type": "code",
        "outputId": "8e0aabbb-fc31-4feb-a3ae-49c67f814f76",
        "colab": {
          "base_uri": "https://localhost:8080/",
          "height": 51
        }
      },
      "source": [
        "title_matrix"
      ],
      "execution_count": 87,
      "outputs": [
        {
          "output_type": "execute_result",
          "data": {
            "text/plain": [
              "<20404x1202356 sparse matrix of type '<class 'numpy.float64'>'\n",
              "\twith 1905258 stored elements in Compressed Sparse Row format>"
            ]
          },
          "metadata": {
            "tags": []
          },
          "execution_count": 87
        }
      ]
    },
    {
      "cell_type": "code",
      "metadata": {
        "id": "hFDOH9AYiNvl",
        "colab_type": "code",
        "outputId": "f062e532-2d55-488c-dcf5-cb72eba1dd06",
        "colab": {
          "base_uri": "https://localhost:8080/",
          "height": 884
        }
      },
      "source": [
        "print(title_matrix)"
      ],
      "execution_count": 88,
      "outputs": [
        {
          "output_type": "stream",
          "text": [
            "  (0, 1192603)\t0.10368949805420052\n",
            "  (0, 1192600)\t0.09440248709871014\n",
            "  (0, 1191346)\t0.03695673324891967\n",
            "  (0, 1183850)\t0.10368949805420052\n",
            "  (0, 1183849)\t0.10368949805420052\n",
            "  (0, 1180344)\t0.0314268611519634\n",
            "  (0, 1120172)\t0.10368949805420052\n",
            "  (0, 1120171)\t0.09957993023900759\n",
            "  (0, 1120123)\t0.06722915068598863\n",
            "  (0, 1116678)\t0.10368949805420052\n",
            "  (0, 1116677)\t0.10368949805420052\n",
            "  (0, 1116652)\t0.0712695343326798\n",
            "  (0, 1088910)\t0.10368949805420052\n",
            "  (0, 1088901)\t0.0808716621093798\n",
            "  (0, 1088719)\t0.05546617019508469\n",
            "  (0, 1056556)\t0.10368949805420052\n",
            "  (0, 1056503)\t0.05618721664064755\n",
            "  (0, 960312)\t0.10368949805420052\n",
            "  (0, 960311)\t0.10368949805420052\n",
            "  (0, 960283)\t0.07190988038345225\n",
            "  (0, 910839)\t0.10368949805420052\n",
            "  (0, 910838)\t0.10368949805420052\n",
            "  (0, 910714)\t0.058195187470428046\n",
            "  (0, 905169)\t0.10368949805420052\n",
            "  (0, 905168)\t0.10368949805420052\n",
            "  :\t:\n",
            "  (20403, 497556)\t0.18247919097440876\n",
            "  (20403, 497555)\t0.18247919097440876\n",
            "  (20403, 497503)\t0.11132777649826106\n",
            "  (20403, 446527)\t0.18247919097440876\n",
            "  (20403, 446511)\t0.1374278286406237\n",
            "  (20403, 445361)\t0.07631450981185535\n",
            "  (20403, 425620)\t0.18247919097440876\n",
            "  (20403, 425619)\t0.18247919097440876\n",
            "  (20403, 424722)\t0.08464699726874025\n",
            "  (20403, 329832)\t0.18247919097440876\n",
            "  (20403, 329831)\t0.18247919097440876\n",
            "  (20403, 329414)\t0.09446309566304052\n",
            "  (20403, 297921)\t0.18247919097440876\n",
            "  (20403, 297920)\t0.18247919097440876\n",
            "  (20403, 297907)\t0.11690510248661569\n",
            "  (20403, 254078)\t0.18247919097440876\n",
            "  (20403, 254058)\t0.13247571789466797\n",
            "  (20403, 253811)\t0.08599164700319677\n",
            "  (20403, 117428)\t0.09377092154616275\n",
            "  (20403, 96216)\t0.18247919097440876\n",
            "  (20403, 96215)\t0.1752469193920072\n",
            "  (20403, 96198)\t0.14232295219291538\n",
            "  (20403, 62358)\t0.18247919097440876\n",
            "  (20403, 62357)\t0.18247919097440876\n",
            "  (20403, 62301)\t0.11200094983949971\n"
          ],
          "name": "stdout"
        }
      ]
    },
    {
      "cell_type": "code",
      "metadata": {
        "id": "Pk-ydyL8iNvq",
        "colab_type": "code",
        "outputId": "6603f850-9719-4f80-96f1-0978a16d6600",
        "colab": {
          "base_uri": "https://localhost:8080/",
          "height": 34
        }
      },
      "source": [
        "title_matrix.shape"
      ],
      "execution_count": 89,
      "outputs": [
        {
          "output_type": "execute_result",
          "data": {
            "text/plain": [
              "(20404, 1202356)"
            ]
          },
          "metadata": {
            "tags": []
          },
          "execution_count": 89
        }
      ]
    },
    {
      "cell_type": "markdown",
      "metadata": {
        "colab_type": "text",
        "id": "H1UT-M3KqwXY"
      },
      "source": [
        "### create cosine similarity matrix"
      ]
    },
    {
      "cell_type": "code",
      "metadata": {
        "colab_type": "code",
        "id": "cnUwk3g2qwXc",
        "colab": {}
      },
      "source": [
        "cosine_sim = cosine_similarity(title_matrix)"
      ],
      "execution_count": 0,
      "outputs": []
    },
    {
      "cell_type": "code",
      "metadata": {
        "id": "mclypgVgiNvy",
        "colab_type": "code",
        "outputId": "1f50af52-9e92-4e8c-b74c-5a46dc1021b4",
        "colab": {
          "base_uri": "https://localhost:8080/",
          "height": 34
        }
      },
      "source": [
        "cosine_sim.shape"
      ],
      "execution_count": 91,
      "outputs": [
        {
          "output_type": "execute_result",
          "data": {
            "text/plain": [
              "(20404, 20404)"
            ]
          },
          "metadata": {
            "tags": []
          },
          "execution_count": 91
        }
      ]
    },
    {
      "cell_type": "code",
      "metadata": {
        "id": "CIaV5lAq38Sy",
        "colab_type": "code",
        "colab": {}
      },
      "source": [
        "movie=movie.reset_index()"
      ],
      "execution_count": 0,
      "outputs": []
    },
    {
      "cell_type": "code",
      "metadata": {
        "id": "YiRMac7t4GzE",
        "colab_type": "code",
        "colab": {}
      },
      "source": [
        "indices = pd.Series(movie.index, index=movie['title'])"
      ],
      "execution_count": 0,
      "outputs": []
    },
    {
      "cell_type": "markdown",
      "metadata": {
        "colab_type": "text",
        "id": "NhQ67SDMqwXu"
      },
      "source": [
        "### Write a function with name `recommend` which takes `title` as argument and returns a list of 10 recommended title names in the output based on the above cosine similarities"
      ]
    },
    {
      "cell_type": "code",
      "metadata": {
        "colab_type": "code",
        "id": "MVBDntGlqwXw",
        "colab": {}
      },
      "source": [
        "def recommend(title_id,cosine_sim):\n",
        "    indexx=indices[title_id]\n",
        "    top_n_idx = np.flip(np.argsort(cosine_sim[indexx,]),axis=0)[0:11]\n",
        "    top_n_sim_values = cosine_sim[indexx, top_n_idx]\n",
        "    return movie['title'].iloc[top_n_idx]"
      ],
      "execution_count": 0,
      "outputs": []
    },
    {
      "cell_type": "markdown",
      "metadata": {
        "colab_type": "text",
        "id": "u7qmxyLaqwX2"
      },
      "source": [
        "### Give the recommendations from above functions for movies `The Godfather` and `The Dark Knight Rises`"
      ]
    },
    {
      "cell_type": "code",
      "metadata": {
        "id": "B1_bYRHOiNwC",
        "colab_type": "code",
        "outputId": "30bfa389-22e4-4ec1-bb2e-9c36e0294e51",
        "colab": {
          "base_uri": "https://localhost:8080/",
          "height": 221
        }
      },
      "source": [
        "recommend('The Godfather',cosine_sim)"
      ],
      "execution_count": 95,
      "outputs": [
        {
          "output_type": "execute_result",
          "data": {
            "text/plain": [
              "611      The Godfather         \n",
              "865      The Godfather: Part II\n",
              "16565    Honor Thy Father      \n",
              "12436    The Family            \n",
              "13078    Blood Ties            \n",
              "3256     Made                  \n",
              "4047     Johnny Dangerously    \n",
              "19387    Live by Night         \n",
              "6008     Fury                  \n",
              "26       Shanghai Triad        \n",
              "19841    In Memory of My Father\n",
              "Name: title, dtype: object"
            ]
          },
          "metadata": {
            "tags": []
          },
          "execution_count": 95
        }
      ]
    },
    {
      "cell_type": "code",
      "metadata": {
        "id": "5IjPVch25nI_",
        "colab_type": "code",
        "outputId": "29e4d74d-7254-4466-fb2c-0fc21d73a143",
        "colab": {
          "base_uri": "https://localhost:8080/",
          "height": 221
        }
      },
      "source": [
        "recommend('The Dark Knight Rises',cosine_sim)"
      ],
      "execution_count": 96,
      "outputs": [
        {
          "output_type": "execute_result",
          "data": {
            "text/plain": [
              "10957    The Dark Knight Rises             \n",
              "8307     The Dark Knight                   \n",
              "112      Batman Forever                    \n",
              "988      Batman Returns                    \n",
              "2352     Batman: Mask of the Phantasm      \n",
              "451      Batman                            \n",
              "12323    Batman: Mystery of the Batwoman   \n",
              "9772     Batman: Under the Red Hood        \n",
              "6502     Batman Beyond: Return of the Joker\n",
              "14018    Batman vs Dracula                 \n",
              "10859    Batman: Year One                  \n",
              "Name: title, dtype: object"
            ]
          },
          "metadata": {
            "tags": []
          },
          "execution_count": 96
        }
      ]
    }
  ]
}