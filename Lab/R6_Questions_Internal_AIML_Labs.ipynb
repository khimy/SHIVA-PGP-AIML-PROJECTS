{
  "nbformat": 4,
  "nbformat_minor": 0,
  "metadata": {
    "colab": {
      "name": "Questions - Internal - R6 - AIML Labs.ipynb",
      "provenance": [],
      "collapsed_sections": []
    },
    "kernelspec": {
      "display_name": "Python 3",
      "language": "python",
      "name": "python3"
    },
    "language_info": {
      "codemirror_mode": {
        "name": "ipython",
        "version": 3
      },
      "file_extension": ".py",
      "mimetype": "text/x-python",
      "name": "python",
      "nbconvert_exporter": "python",
      "pygments_lexer": "ipython3",
      "version": "3.7.3"
    }
  },
  "cells": [
    {
      "cell_type": "markdown",
      "metadata": {
        "colab_type": "text",
        "id": "zUZjPnVXGz0Z"
      },
      "source": [
        "# The Iris Dataset\n",
        "The data set consists of 50 samples from each of three species of Iris (Iris setosa, Iris virginica and Iris versicolor). Four features were measured from each sample: the length and the width of the sepals and petals, in centimeters.\n",
        "\n",
        "The dataset contains a set of 150 records under five attributes - petal length, petal width, sepal length, sepal width and species."
      ]
    },
    {
      "cell_type": "markdown",
      "metadata": {
        "colab_type": "text",
        "id": "RMbmpriavLE9"
      },
      "source": [
        "### Specifying the TensorFlow version\n",
        "Running `import tensorflow` will import the default version (currently 1.x). You can use 2.x by running a cell with the `tensorflow_version` magic **before** you run `import tensorflow`."
      ]
    },
    {
      "cell_type": "code",
      "metadata": {
        "colab_type": "code",
        "id": "fu8bUU__oa7h",
        "colab": {}
      },
      "source": [
        "%tensorflow_version 2.x"
      ],
      "execution_count": 0,
      "outputs": []
    },
    {
      "cell_type": "markdown",
      "metadata": {
        "colab_type": "text",
        "id": "bLz1Ckvfvn6D"
      },
      "source": [
        "### Import TensorFlow\n",
        "Once you have specified a version via this magic, you can run `import tensorflow` as normal and verify which version was imported as follows:"
      ]
    },
    {
      "cell_type": "code",
      "metadata": {
        "colab_type": "code",
        "id": "CWrzVTLOvn6M",
        "colab": {
          "base_uri": "https://localhost:8080/",
          "height": 34
        },
        "outputId": "8cc8535d-7d99-4abf-b6cb-4b1b31e4da96"
      },
      "source": [
        "import tensorflow as tf\n",
        "print(tf.__version__)"
      ],
      "execution_count": 366,
      "outputs": [
        {
          "output_type": "stream",
          "text": [
            "2.0.0\n"
          ],
          "name": "stdout"
        }
      ]
    },
    {
      "cell_type": "markdown",
      "metadata": {
        "colab_type": "text",
        "id": "_uYeJgkNuXNC"
      },
      "source": [
        "### Set random seed"
      ]
    },
    {
      "cell_type": "code",
      "metadata": {
        "colab_type": "code",
        "id": "lcASNsewsfQX",
        "colab": {}
      },
      "source": [
        "tf.random.set_seed(42)"
      ],
      "execution_count": 0,
      "outputs": []
    },
    {
      "cell_type": "markdown",
      "metadata": {
        "colab_type": "text",
        "id": "5-vVQBBqg7DI"
      },
      "source": [
        "## Question 1"
      ]
    },
    {
      "cell_type": "markdown",
      "metadata": {
        "colab_type": "text",
        "id": "kE0EDKvQhEIe"
      },
      "source": [
        "### Import dataset\n",
        "- Import iris dataset\n",
        "- Import the dataset using sklearn library"
      ]
    },
    {
      "cell_type": "code",
      "metadata": {
        "colab_type": "code",
        "id": "IOOWpD26Haq3",
        "colab": {}
      },
      "source": [
        "from sklearn import datasets\n",
        "iris = datasets.load_iris()"
      ],
      "execution_count": 0,
      "outputs": []
    },
    {
      "cell_type": "code",
      "metadata": {
        "id": "I6dYuVemwo4g",
        "colab_type": "code",
        "colab": {}
      },
      "source": [
        "import numpy as np\n",
        "import pandas as pd"
      ],
      "execution_count": 0,
      "outputs": []
    },
    {
      "cell_type": "markdown",
      "metadata": {
        "colab_type": "text",
        "id": "ta8YqInTh5v5"
      },
      "source": [
        "## Question 2"
      ]
    },
    {
      "cell_type": "markdown",
      "metadata": {
        "colab_type": "text",
        "id": "HERt3drbhX0i"
      },
      "source": [
        "### Get features and label from the dataset in separate variable\n",
        "- you can get the features using .data method\n",
        "- you can get the features using .target method"
      ]
    },
    {
      "cell_type": "code",
      "metadata": {
        "colab_type": "code",
        "id": "0cV-_qHAHyvE",
        "colab": {}
      },
      "source": [
        "X= iris.data\n",
        "y=iris.target"
      ],
      "execution_count": 0,
      "outputs": []
    },
    {
      "cell_type": "markdown",
      "metadata": {
        "colab_type": "text",
        "id": "Qg1A2lkUjFak"
      },
      "source": [
        "## Question 3"
      ]
    },
    {
      "cell_type": "markdown",
      "metadata": {
        "colab_type": "text",
        "id": "3YErwYLCH0N_"
      },
      "source": [
        "### Create train and test data\n",
        "- use train_test_split to get train and test set\n",
        "- set a random_state\n",
        "- test_size: 0.25"
      ]
    },
    {
      "cell_type": "code",
      "metadata": {
        "colab_type": "code",
        "id": "TYKNJL85h7pQ",
        "colab": {}
      },
      "source": [
        "from sklearn.model_selection import train_test_split\n",
        "X_train, X_test, y_train, y_test = train_test_split(X, y, test_size=.25, random_state=42)"
      ],
      "execution_count": 0,
      "outputs": []
    },
    {
      "cell_type": "code",
      "metadata": {
        "id": "qHR8tIQH0TUM",
        "colab_type": "code",
        "colab": {
          "base_uri": "https://localhost:8080/",
          "height": 34
        },
        "outputId": "c6c0938a-d34d-49b3-b9af-3d833af68133"
      },
      "source": [
        "y_train.shape"
      ],
      "execution_count": 372,
      "outputs": [
        {
          "output_type": "execute_result",
          "data": {
            "text/plain": [
              "(112,)"
            ]
          },
          "metadata": {
            "tags": []
          },
          "execution_count": 372
        }
      ]
    },
    {
      "cell_type": "code",
      "metadata": {
        "id": "JC0PbgC60cqF",
        "colab_type": "code",
        "colab": {
          "base_uri": "https://localhost:8080/",
          "height": 119
        },
        "outputId": "fb0a8bfb-57e7-4c1d-aed9-5933dc6fa14b"
      },
      "source": [
        "y_train"
      ],
      "execution_count": 373,
      "outputs": [
        {
          "output_type": "execute_result",
          "data": {
            "text/plain": [
              "array([0, 0, 2, 1, 1, 0, 0, 1, 2, 2, 1, 2, 1, 2, 1, 0, 2, 1, 0, 0, 0, 1,\n",
              "       2, 0, 0, 0, 1, 0, 1, 2, 0, 1, 2, 0, 2, 2, 1, 1, 2, 1, 0, 1, 2, 0,\n",
              "       0, 1, 1, 0, 2, 0, 0, 1, 1, 2, 1, 2, 2, 1, 0, 0, 2, 2, 0, 0, 0, 1,\n",
              "       2, 0, 2, 2, 0, 1, 1, 2, 1, 2, 0, 2, 1, 2, 1, 1, 1, 0, 1, 1, 0, 1,\n",
              "       2, 2, 0, 1, 2, 2, 0, 2, 0, 1, 2, 2, 1, 2, 1, 1, 2, 2, 0, 1, 2, 0,\n",
              "       1, 2])"
            ]
          },
          "metadata": {
            "tags": []
          },
          "execution_count": 373
        }
      ]
    },
    {
      "cell_type": "markdown",
      "metadata": {
        "colab_type": "text",
        "id": "g0KVP17Ozaix"
      },
      "source": [
        "## Question 4"
      ]
    },
    {
      "cell_type": "markdown",
      "metadata": {
        "colab_type": "text",
        "id": "SIjqxbhWv1zv"
      },
      "source": [
        "### One-hot encode the labels\n",
        "- convert class vectors (integers) to binary class matrix\n",
        "- convert labels\n",
        "- number of classes: 3\n",
        "- we are doing this to use categorical_crossentropy as loss"
      ]
    },
    {
      "cell_type": "code",
      "metadata": {
        "colab_type": "code",
        "id": "R9vv-_gpyLY9",
        "colab": {}
      },
      "source": [
        "y_train = tf.keras.utils.to_categorical(y_train, num_classes=3)\n",
        "y_test = tf.keras.utils.to_categorical(y_test, num_classes=3)"
      ],
      "execution_count": 0,
      "outputs": []
    },
    {
      "cell_type": "code",
      "metadata": {
        "id": "7notvGDqzLwk",
        "colab_type": "code",
        "colab": {
          "base_uri": "https://localhost:8080/",
          "height": 34
        },
        "outputId": "18594536-1c5f-4ec0-8166-e3a4091a0182"
      },
      "source": [
        "print(y_train.shape)"
      ],
      "execution_count": 375,
      "outputs": [
        {
          "output_type": "stream",
          "text": [
            "(112, 3)\n"
          ],
          "name": "stdout"
        }
      ]
    },
    {
      "cell_type": "code",
      "metadata": {
        "id": "iBVvA9Z50ygl",
        "colab_type": "code",
        "colab": {
          "base_uri": "https://localhost:8080/",
          "height": 51
        },
        "outputId": "8be9d466-d2eb-4cd8-d9cf-c179a990518b"
      },
      "source": [
        "y_train[:2]"
      ],
      "execution_count": 376,
      "outputs": [
        {
          "output_type": "execute_result",
          "data": {
            "text/plain": [
              "array([[1., 0., 0.],\n",
              "       [1., 0., 0.]], dtype=float32)"
            ]
          },
          "metadata": {
            "tags": []
          },
          "execution_count": 376
        }
      ]
    },
    {
      "cell_type": "markdown",
      "metadata": {
        "colab_type": "text",
        "id": "ovjLyYzWkO9s"
      },
      "source": [
        "## Question 5"
      ]
    },
    {
      "cell_type": "markdown",
      "metadata": {
        "colab_type": "text",
        "id": "hbIFzoPNSyYo"
      },
      "source": [
        "### Initialize a sequential model\n",
        "- Define a sequential model"
      ]
    },
    {
      "cell_type": "code",
      "metadata": {
        "colab_type": "code",
        "id": "4FvSbf1UjHtl",
        "colab": {}
      },
      "source": [
        "model = tf.keras.models.Sequential()"
      ],
      "execution_count": 0,
      "outputs": []
    },
    {
      "cell_type": "markdown",
      "metadata": {
        "colab_type": "text",
        "id": "dGMy999vlacX"
      },
      "source": [
        "## Question 6"
      ]
    },
    {
      "cell_type": "markdown",
      "metadata": {
        "colab_type": "text",
        "id": "72ibK5Jxm8iL"
      },
      "source": [
        "### Add a layer\n",
        "- Use Dense Layer  with input shape of 4 (according to the feature set) and number of outputs set to 3\n",
        "- Apply Softmax on Dense Layer outputs"
      ]
    },
    {
      "cell_type": "code",
      "metadata": {
        "colab_type": "code",
        "id": "uZKrBNSRm_o9",
        "colab": {}
      },
      "source": [
        "model.add(tf.keras.layers.Dense(3,input_shape=(4,), activation='softmax'))"
      ],
      "execution_count": 0,
      "outputs": []
    },
    {
      "cell_type": "markdown",
      "metadata": {
        "colab_type": "text",
        "id": "i4uiTH8plmNX"
      },
      "source": [
        "## Question 7"
      ]
    },
    {
      "cell_type": "markdown",
      "metadata": {
        "colab_type": "text",
        "id": "yJL8n8vcSyYz"
      },
      "source": [
        "### Compile the model\n",
        "- Use SGD as Optimizer\n",
        "- Use categorical_crossentropy as loss function\n",
        "- Use accuracy as metrics"
      ]
    },
    {
      "cell_type": "code",
      "metadata": {
        "colab_type": "code",
        "id": "Tc_-fjIEk1ve",
        "colab": {}
      },
      "source": [
        "model.compile(optimizer='sgd', loss='categorical_crossentropy', metrics=['accuracy'])"
      ],
      "execution_count": 0,
      "outputs": []
    },
    {
      "cell_type": "markdown",
      "metadata": {
        "colab_type": "text",
        "id": "sihIGbRll_jT"
      },
      "source": [
        "## Question 8"
      ]
    },
    {
      "cell_type": "markdown",
      "metadata": {
        "colab_type": "text",
        "id": "54ZZCfNGlu0i"
      },
      "source": [
        "### Summarize the model\n",
        "- Check model layers\n",
        "- Understand number of trainable parameters"
      ]
    },
    {
      "cell_type": "code",
      "metadata": {
        "colab_type": "code",
        "id": "elER3F_4ln8n",
        "colab": {
          "base_uri": "https://localhost:8080/",
          "height": 187
        },
        "outputId": "bbb16cc4-d565-4b43-8057-3a8b637009f4"
      },
      "source": [
        "model.summary()"
      ],
      "execution_count": 380,
      "outputs": [
        {
          "output_type": "stream",
          "text": [
            "Model: \"sequential_7\"\n",
            "_________________________________________________________________\n",
            "Layer (type)                 Output Shape              Param #   \n",
            "=================================================================\n",
            "dense_7 (Dense)              (None, 3)                 15        \n",
            "=================================================================\n",
            "Total params: 15\n",
            "Trainable params: 15\n",
            "Non-trainable params: 0\n",
            "_________________________________________________________________\n"
          ],
          "name": "stdout"
        }
      ]
    },
    {
      "cell_type": "markdown",
      "metadata": {
        "colab_type": "text",
        "id": "2PiP7j3Vmj4p"
      },
      "source": [
        "## Question 9"
      ]
    },
    {
      "cell_type": "markdown",
      "metadata": {
        "colab_type": "text",
        "id": "rWdbfFCXmCHt"
      },
      "source": [
        "### Fit the model\n",
        "- Give train data as training features and labels\n",
        "- Epochs: 100\n",
        "- Give validation data as testing features and labels"
      ]
    },
    {
      "cell_type": "code",
      "metadata": {
        "colab_type": "code",
        "id": "cO1c-5tjmBVZ",
        "colab": {
          "base_uri": "https://localhost:8080/",
          "height": 1000
        },
        "outputId": "3692b15b-9923-47c0-d045-a9a592811dcf"
      },
      "source": [
        "model.fit(X_train,y_train, validation_data=(X_test, y_test), epochs=100)"
      ],
      "execution_count": 381,
      "outputs": [
        {
          "output_type": "stream",
          "text": [
            "Train on 112 samples, validate on 38 samples\n",
            "Epoch 1/100\n",
            "112/112 [==============================] - 0s 3ms/sample - loss: 2.7156 - accuracy: 0.3125 - val_loss: 1.7098 - val_accuracy: 0.3947\n",
            "Epoch 2/100\n",
            "112/112 [==============================] - 0s 227us/sample - loss: 1.6294 - accuracy: 0.2857 - val_loss: 1.3382 - val_accuracy: 0.1842\n",
            "Epoch 3/100\n",
            "112/112 [==============================] - 0s 232us/sample - loss: 1.3191 - accuracy: 0.1607 - val_loss: 1.2425 - val_accuracy: 0.2368\n",
            "Epoch 4/100\n",
            "112/112 [==============================] - 0s 219us/sample - loss: 1.2241 - accuracy: 0.2857 - val_loss: 1.1908 - val_accuracy: 0.1842\n",
            "Epoch 5/100\n",
            "112/112 [==============================] - 0s 238us/sample - loss: 1.1777 - accuracy: 0.2500 - val_loss: 1.1524 - val_accuracy: 0.2105\n",
            "Epoch 6/100\n",
            "112/112 [==============================] - 0s 214us/sample - loss: 1.1346 - accuracy: 0.2679 - val_loss: 1.1165 - val_accuracy: 0.2368\n",
            "Epoch 7/100\n",
            "112/112 [==============================] - 0s 222us/sample - loss: 1.1079 - accuracy: 0.2589 - val_loss: 1.0838 - val_accuracy: 0.2368\n",
            "Epoch 8/100\n",
            "112/112 [==============================] - 0s 213us/sample - loss: 1.0815 - accuracy: 0.2768 - val_loss: 1.0653 - val_accuracy: 0.2105\n",
            "Epoch 9/100\n",
            "112/112 [==============================] - 0s 245us/sample - loss: 1.0516 - accuracy: 0.2589 - val_loss: 1.0278 - val_accuracy: 0.2368\n",
            "Epoch 10/100\n",
            "112/112 [==============================] - 0s 250us/sample - loss: 1.0212 - accuracy: 0.2589 - val_loss: 0.9978 - val_accuracy: 0.2368\n",
            "Epoch 11/100\n",
            "112/112 [==============================] - 0s 297us/sample - loss: 0.9957 - accuracy: 0.2589 - val_loss: 0.9723 - val_accuracy: 0.2632\n",
            "Epoch 12/100\n",
            "112/112 [==============================] - 0s 243us/sample - loss: 0.9747 - accuracy: 0.2500 - val_loss: 0.9459 - val_accuracy: 0.2895\n",
            "Epoch 13/100\n",
            "112/112 [==============================] - 0s 232us/sample - loss: 0.9551 - accuracy: 0.3214 - val_loss: 0.9207 - val_accuracy: 0.3421\n",
            "Epoch 14/100\n",
            "112/112 [==============================] - 0s 236us/sample - loss: 0.9289 - accuracy: 0.3929 - val_loss: 0.9002 - val_accuracy: 0.5263\n",
            "Epoch 15/100\n",
            "112/112 [==============================] - 0s 220us/sample - loss: 0.9105 - accuracy: 0.5446 - val_loss: 0.8768 - val_accuracy: 0.5000\n",
            "Epoch 16/100\n",
            "112/112 [==============================] - 0s 199us/sample - loss: 0.8912 - accuracy: 0.5446 - val_loss: 0.8604 - val_accuracy: 0.5263\n",
            "Epoch 17/100\n",
            "112/112 [==============================] - 0s 211us/sample - loss: 0.8752 - accuracy: 0.5625 - val_loss: 0.8431 - val_accuracy: 0.6579\n",
            "Epoch 18/100\n",
            "112/112 [==============================] - 0s 249us/sample - loss: 0.8610 - accuracy: 0.5893 - val_loss: 0.8251 - val_accuracy: 0.6053\n",
            "Epoch 19/100\n",
            "112/112 [==============================] - 0s 194us/sample - loss: 0.8437 - accuracy: 0.6250 - val_loss: 0.8071 - val_accuracy: 0.6579\n",
            "Epoch 20/100\n",
            "112/112 [==============================] - 0s 242us/sample - loss: 0.8273 - accuracy: 0.6071 - val_loss: 0.7933 - val_accuracy: 0.6579\n",
            "Epoch 21/100\n",
            "112/112 [==============================] - 0s 243us/sample - loss: 0.8151 - accuracy: 0.6339 - val_loss: 0.7778 - val_accuracy: 0.7105\n",
            "Epoch 22/100\n",
            "112/112 [==============================] - 0s 220us/sample - loss: 0.8016 - accuracy: 0.6071 - val_loss: 0.7602 - val_accuracy: 0.6842\n",
            "Epoch 23/100\n",
            "112/112 [==============================] - 0s 223us/sample - loss: 0.7898 - accuracy: 0.6250 - val_loss: 0.7477 - val_accuracy: 0.6842\n",
            "Epoch 24/100\n",
            "112/112 [==============================] - 0s 235us/sample - loss: 0.7809 - accuracy: 0.6339 - val_loss: 0.7407 - val_accuracy: 0.6842\n",
            "Epoch 25/100\n",
            "112/112 [==============================] - 0s 246us/sample - loss: 0.7693 - accuracy: 0.6875 - val_loss: 0.7209 - val_accuracy: 0.7105\n",
            "Epoch 26/100\n",
            "112/112 [==============================] - 0s 268us/sample - loss: 0.7545 - accuracy: 0.6518 - val_loss: 0.7101 - val_accuracy: 0.6842\n",
            "Epoch 27/100\n",
            "112/112 [==============================] - 0s 216us/sample - loss: 0.7532 - accuracy: 0.6696 - val_loss: 0.6996 - val_accuracy: 0.7368\n",
            "Epoch 28/100\n",
            "112/112 [==============================] - 0s 208us/sample - loss: 0.7395 - accuracy: 0.7054 - val_loss: 0.6892 - val_accuracy: 0.7632\n",
            "Epoch 29/100\n",
            "112/112 [==============================] - 0s 232us/sample - loss: 0.7281 - accuracy: 0.6429 - val_loss: 0.6858 - val_accuracy: 0.7368\n",
            "Epoch 30/100\n",
            "112/112 [==============================] - 0s 234us/sample - loss: 0.7190 - accuracy: 0.7054 - val_loss: 0.6715 - val_accuracy: 0.7368\n",
            "Epoch 31/100\n",
            "112/112 [==============================] - 0s 237us/sample - loss: 0.7092 - accuracy: 0.7143 - val_loss: 0.6640 - val_accuracy: 0.7368\n",
            "Epoch 32/100\n",
            "112/112 [==============================] - 0s 230us/sample - loss: 0.7023 - accuracy: 0.6875 - val_loss: 0.6553 - val_accuracy: 0.7368\n",
            "Epoch 33/100\n",
            "112/112 [==============================] - 0s 297us/sample - loss: 0.6946 - accuracy: 0.7143 - val_loss: 0.6486 - val_accuracy: 0.7632\n",
            "Epoch 34/100\n",
            "112/112 [==============================] - 0s 209us/sample - loss: 0.6872 - accuracy: 0.7232 - val_loss: 0.6437 - val_accuracy: 0.7368\n",
            "Epoch 35/100\n",
            "112/112 [==============================] - 0s 238us/sample - loss: 0.6817 - accuracy: 0.7321 - val_loss: 0.6342 - val_accuracy: 0.7632\n",
            "Epoch 36/100\n",
            "112/112 [==============================] - 0s 236us/sample - loss: 0.6845 - accuracy: 0.7500 - val_loss: 0.6343 - val_accuracy: 0.7368\n",
            "Epoch 37/100\n",
            "112/112 [==============================] - 0s 307us/sample - loss: 0.6724 - accuracy: 0.7232 - val_loss: 0.6191 - val_accuracy: 0.7632\n",
            "Epoch 38/100\n",
            "112/112 [==============================] - 0s 247us/sample - loss: 0.6641 - accuracy: 0.6875 - val_loss: 0.6125 - val_accuracy: 0.7632\n",
            "Epoch 39/100\n",
            "112/112 [==============================] - 0s 219us/sample - loss: 0.6554 - accuracy: 0.7411 - val_loss: 0.6054 - val_accuracy: 0.7632\n",
            "Epoch 40/100\n",
            "112/112 [==============================] - 0s 234us/sample - loss: 0.6494 - accuracy: 0.7232 - val_loss: 0.5990 - val_accuracy: 0.7632\n",
            "Epoch 41/100\n",
            "112/112 [==============================] - 0s 241us/sample - loss: 0.6426 - accuracy: 0.7321 - val_loss: 0.5941 - val_accuracy: 0.7895\n",
            "Epoch 42/100\n",
            "112/112 [==============================] - 0s 231us/sample - loss: 0.6369 - accuracy: 0.7679 - val_loss: 0.5866 - val_accuracy: 0.7895\n",
            "Epoch 43/100\n",
            "112/112 [==============================] - 0s 254us/sample - loss: 0.6328 - accuracy: 0.7500 - val_loss: 0.5810 - val_accuracy: 0.7632\n",
            "Epoch 44/100\n",
            "112/112 [==============================] - 0s 180us/sample - loss: 0.6297 - accuracy: 0.7232 - val_loss: 0.5787 - val_accuracy: 0.7632\n",
            "Epoch 45/100\n",
            "112/112 [==============================] - 0s 224us/sample - loss: 0.6266 - accuracy: 0.6518 - val_loss: 0.5738 - val_accuracy: 0.7895\n",
            "Epoch 46/100\n",
            "112/112 [==============================] - 0s 264us/sample - loss: 0.6189 - accuracy: 0.7679 - val_loss: 0.5716 - val_accuracy: 0.7895\n",
            "Epoch 47/100\n",
            "112/112 [==============================] - 0s 237us/sample - loss: 0.6141 - accuracy: 0.7679 - val_loss: 0.5634 - val_accuracy: 0.7895\n",
            "Epoch 48/100\n",
            "112/112 [==============================] - 0s 214us/sample - loss: 0.6106 - accuracy: 0.7500 - val_loss: 0.5628 - val_accuracy: 0.7895\n",
            "Epoch 49/100\n",
            "112/112 [==============================] - 0s 221us/sample - loss: 0.6059 - accuracy: 0.7679 - val_loss: 0.5520 - val_accuracy: 0.8421\n",
            "Epoch 50/100\n",
            "112/112 [==============================] - 0s 284us/sample - loss: 0.5994 - accuracy: 0.7589 - val_loss: 0.5468 - val_accuracy: 0.8421\n",
            "Epoch 51/100\n",
            "112/112 [==============================] - 0s 223us/sample - loss: 0.5986 - accuracy: 0.7411 - val_loss: 0.5452 - val_accuracy: 0.7895\n",
            "Epoch 52/100\n",
            "112/112 [==============================] - 0s 251us/sample - loss: 0.5919 - accuracy: 0.7768 - val_loss: 0.5387 - val_accuracy: 0.7895\n",
            "Epoch 53/100\n",
            "112/112 [==============================] - 0s 282us/sample - loss: 0.5916 - accuracy: 0.7411 - val_loss: 0.5357 - val_accuracy: 0.8421\n",
            "Epoch 54/100\n",
            "112/112 [==============================] - 0s 210us/sample - loss: 0.5884 - accuracy: 0.7768 - val_loss: 0.5335 - val_accuracy: 0.7895\n",
            "Epoch 55/100\n",
            "112/112 [==============================] - 0s 201us/sample - loss: 0.5809 - accuracy: 0.8125 - val_loss: 0.5281 - val_accuracy: 0.8421\n",
            "Epoch 56/100\n",
            "112/112 [==============================] - 0s 236us/sample - loss: 0.5810 - accuracy: 0.7679 - val_loss: 0.5246 - val_accuracy: 0.8421\n",
            "Epoch 57/100\n",
            "112/112 [==============================] - 0s 261us/sample - loss: 0.5752 - accuracy: 0.7946 - val_loss: 0.5209 - val_accuracy: 0.8421\n",
            "Epoch 58/100\n",
            "112/112 [==============================] - 0s 236us/sample - loss: 0.5702 - accuracy: 0.8125 - val_loss: 0.5173 - val_accuracy: 0.8421\n",
            "Epoch 59/100\n",
            "112/112 [==============================] - 0s 200us/sample - loss: 0.5718 - accuracy: 0.7679 - val_loss: 0.5142 - val_accuracy: 0.8421\n",
            "Epoch 60/100\n",
            "112/112 [==============================] - 0s 233us/sample - loss: 0.5671 - accuracy: 0.7679 - val_loss: 0.5108 - val_accuracy: 0.8421\n",
            "Epoch 61/100\n",
            "112/112 [==============================] - 0s 245us/sample - loss: 0.5630 - accuracy: 0.7679 - val_loss: 0.5108 - val_accuracy: 0.7895\n",
            "Epoch 62/100\n",
            "112/112 [==============================] - 0s 232us/sample - loss: 0.5601 - accuracy: 0.7768 - val_loss: 0.5081 - val_accuracy: 0.8158\n",
            "Epoch 63/100\n",
            "112/112 [==============================] - 0s 235us/sample - loss: 0.5558 - accuracy: 0.7946 - val_loss: 0.5022 - val_accuracy: 0.8421\n",
            "Epoch 64/100\n",
            "112/112 [==============================] - 0s 238us/sample - loss: 0.5544 - accuracy: 0.8125 - val_loss: 0.5005 - val_accuracy: 0.7895\n",
            "Epoch 65/100\n",
            "112/112 [==============================] - 0s 233us/sample - loss: 0.5580 - accuracy: 0.7857 - val_loss: 0.4990 - val_accuracy: 0.7895\n",
            "Epoch 66/100\n",
            "112/112 [==============================] - 0s 228us/sample - loss: 0.5475 - accuracy: 0.8125 - val_loss: 0.4922 - val_accuracy: 0.8421\n",
            "Epoch 67/100\n",
            "112/112 [==============================] - 0s 240us/sample - loss: 0.5450 - accuracy: 0.8214 - val_loss: 0.4899 - val_accuracy: 0.8421\n",
            "Epoch 68/100\n",
            "112/112 [==============================] - 0s 314us/sample - loss: 0.5434 - accuracy: 0.8036 - val_loss: 0.4878 - val_accuracy: 0.8421\n",
            "Epoch 69/100\n",
            "112/112 [==============================] - 0s 210us/sample - loss: 0.5441 - accuracy: 0.7857 - val_loss: 0.4839 - val_accuracy: 0.8158\n",
            "Epoch 70/100\n",
            "112/112 [==============================] - 0s 208us/sample - loss: 0.5400 - accuracy: 0.7589 - val_loss: 0.4812 - val_accuracy: 0.8158\n",
            "Epoch 71/100\n",
            "112/112 [==============================] - 0s 215us/sample - loss: 0.5420 - accuracy: 0.7232 - val_loss: 0.4795 - val_accuracy: 0.8421\n",
            "Epoch 72/100\n",
            "112/112 [==============================] - 0s 218us/sample - loss: 0.5348 - accuracy: 0.8125 - val_loss: 0.4761 - val_accuracy: 0.8158\n",
            "Epoch 73/100\n",
            "112/112 [==============================] - 0s 231us/sample - loss: 0.5312 - accuracy: 0.7768 - val_loss: 0.4740 - val_accuracy: 0.8158\n",
            "Epoch 74/100\n",
            "112/112 [==============================] - 0s 272us/sample - loss: 0.5289 - accuracy: 0.7500 - val_loss: 0.4725 - val_accuracy: 0.8421\n",
            "Epoch 75/100\n",
            "112/112 [==============================] - 0s 264us/sample - loss: 0.5262 - accuracy: 0.8214 - val_loss: 0.4709 - val_accuracy: 0.8421\n",
            "Epoch 76/100\n",
            "112/112 [==============================] - 0s 260us/sample - loss: 0.5278 - accuracy: 0.7857 - val_loss: 0.4678 - val_accuracy: 0.8158\n",
            "Epoch 77/100\n",
            "112/112 [==============================] - 0s 292us/sample - loss: 0.5223 - accuracy: 0.7679 - val_loss: 0.4682 - val_accuracy: 0.8421\n",
            "Epoch 78/100\n",
            "112/112 [==============================] - 0s 227us/sample - loss: 0.5211 - accuracy: 0.8304 - val_loss: 0.4657 - val_accuracy: 0.8421\n",
            "Epoch 79/100\n",
            "112/112 [==============================] - 0s 218us/sample - loss: 0.5223 - accuracy: 0.8125 - val_loss: 0.4621 - val_accuracy: 0.8421\n",
            "Epoch 80/100\n",
            "112/112 [==============================] - 0s 236us/sample - loss: 0.5148 - accuracy: 0.8393 - val_loss: 0.4591 - val_accuracy: 0.8158\n",
            "Epoch 81/100\n",
            "112/112 [==============================] - 0s 236us/sample - loss: 0.5130 - accuracy: 0.7857 - val_loss: 0.4577 - val_accuracy: 0.8421\n",
            "Epoch 82/100\n",
            "112/112 [==============================] - 0s 255us/sample - loss: 0.5151 - accuracy: 0.8036 - val_loss: 0.4557 - val_accuracy: 0.8421\n",
            "Epoch 83/100\n",
            "112/112 [==============================] - 0s 211us/sample - loss: 0.5106 - accuracy: 0.8125 - val_loss: 0.4538 - val_accuracy: 0.8421\n",
            "Epoch 84/100\n",
            "112/112 [==============================] - 0s 232us/sample - loss: 0.5070 - accuracy: 0.8036 - val_loss: 0.4537 - val_accuracy: 0.8421\n",
            "Epoch 85/100\n",
            "112/112 [==============================] - 0s 229us/sample - loss: 0.5062 - accuracy: 0.8393 - val_loss: 0.4498 - val_accuracy: 0.8421\n",
            "Epoch 86/100\n",
            "112/112 [==============================] - 0s 262us/sample - loss: 0.5056 - accuracy: 0.8214 - val_loss: 0.4491 - val_accuracy: 0.8158\n",
            "Epoch 87/100\n",
            "112/112 [==============================] - 0s 237us/sample - loss: 0.5101 - accuracy: 0.7768 - val_loss: 0.4482 - val_accuracy: 0.8421\n",
            "Epoch 88/100\n",
            "112/112 [==============================] - 0s 247us/sample - loss: 0.5035 - accuracy: 0.7768 - val_loss: 0.4446 - val_accuracy: 0.8421\n",
            "Epoch 89/100\n",
            "112/112 [==============================] - 0s 231us/sample - loss: 0.5023 - accuracy: 0.8304 - val_loss: 0.4434 - val_accuracy: 0.8421\n",
            "Epoch 90/100\n",
            "112/112 [==============================] - 0s 242us/sample - loss: 0.4981 - accuracy: 0.7857 - val_loss: 0.4433 - val_accuracy: 0.8421\n",
            "Epoch 91/100\n",
            "112/112 [==============================] - 0s 288us/sample - loss: 0.4987 - accuracy: 0.8304 - val_loss: 0.4398 - val_accuracy: 0.8421\n",
            "Epoch 92/100\n",
            "112/112 [==============================] - 0s 268us/sample - loss: 0.4951 - accuracy: 0.8304 - val_loss: 0.4405 - val_accuracy: 0.8684\n",
            "Epoch 93/100\n",
            "112/112 [==============================] - 0s 249us/sample - loss: 0.4927 - accuracy: 0.8571 - val_loss: 0.4360 - val_accuracy: 0.8421\n",
            "Epoch 94/100\n",
            "112/112 [==============================] - 0s 240us/sample - loss: 0.4952 - accuracy: 0.8214 - val_loss: 0.4343 - val_accuracy: 0.8421\n",
            "Epoch 95/100\n",
            "112/112 [==============================] - 0s 221us/sample - loss: 0.4886 - accuracy: 0.8304 - val_loss: 0.4339 - val_accuracy: 0.8421\n",
            "Epoch 96/100\n",
            "112/112 [==============================] - 0s 240us/sample - loss: 0.4893 - accuracy: 0.8393 - val_loss: 0.4307 - val_accuracy: 0.8421\n",
            "Epoch 97/100\n",
            "112/112 [==============================] - 0s 209us/sample - loss: 0.4857 - accuracy: 0.8214 - val_loss: 0.4292 - val_accuracy: 0.8421\n",
            "Epoch 98/100\n",
            "112/112 [==============================] - 0s 265us/sample - loss: 0.4842 - accuracy: 0.8125 - val_loss: 0.4278 - val_accuracy: 0.8684\n",
            "Epoch 99/100\n",
            "112/112 [==============================] - 0s 242us/sample - loss: 0.4821 - accuracy: 0.8214 - val_loss: 0.4273 - val_accuracy: 0.8421\n",
            "Epoch 100/100\n",
            "112/112 [==============================] - 0s 232us/sample - loss: 0.4863 - accuracy: 0.8125 - val_loss: 0.4269 - val_accuracy: 0.8684\n"
          ],
          "name": "stdout"
        },
        {
          "output_type": "execute_result",
          "data": {
            "text/plain": [
              "<tensorflow.python.keras.callbacks.History at 0x7f1bdaaed518>"
            ]
          },
          "metadata": {
            "tags": []
          },
          "execution_count": 381
        }
      ]
    },
    {
      "cell_type": "markdown",
      "metadata": {
        "colab_type": "text",
        "id": "re9ItAR3yS3J"
      },
      "source": [
        "## Question 10"
      ]
    },
    {
      "cell_type": "markdown",
      "metadata": {
        "colab_type": "text",
        "id": "liw0IFf9yVqH"
      },
      "source": [
        "### Make predictions\n",
        "- Predict labels on one row"
      ]
    },
    {
      "cell_type": "code",
      "metadata": {
        "colab_type": "code",
        "id": "H5sBybi6mlLl",
        "colab": {}
      },
      "source": [
        "y_predict=model.predict(X_test[:3])"
      ],
      "execution_count": 0,
      "outputs": []
    },
    {
      "cell_type": "code",
      "metadata": {
        "id": "9H6xchpvBtIM",
        "colab_type": "code",
        "colab": {
          "base_uri": "https://localhost:8080/",
          "height": 68
        },
        "outputId": "6dbc9131-40b3-4799-c287-3eb758cf026b"
      },
      "source": [
        "y_predict[:3]"
      ],
      "execution_count": 383,
      "outputs": [
        {
          "output_type": "execute_result",
          "data": {
            "text/plain": [
              "array([[0.06132346, 0.5898395 , 0.348837  ],\n",
              "       [0.8763371 , 0.08446127, 0.03920166],\n",
              "       [0.0029739 , 0.52896696, 0.46805912]], dtype=float32)"
            ]
          },
          "metadata": {
            "tags": []
          },
          "execution_count": 383
        }
      ]
    },
    {
      "cell_type": "markdown",
      "metadata": {
        "colab_type": "text",
        "id": "hSUgMq3m0bG7"
      },
      "source": [
        "### Compare the prediction with actual label\n",
        "- Print the same row as done in the previous step but of actual labels"
      ]
    },
    {
      "cell_type": "code",
      "metadata": {
        "colab_type": "code",
        "id": "K5WbwVPyz-qQ",
        "colab": {
          "base_uri": "https://localhost:8080/",
          "height": 68
        },
        "outputId": "83c3ca66-92c1-46e4-8412-3803a9337ce5"
      },
      "source": [
        "print(y_test[:3])"
      ],
      "execution_count": 384,
      "outputs": [
        {
          "output_type": "stream",
          "text": [
            "[[0. 1. 0.]\n",
            " [1. 0. 0.]\n",
            " [0. 0. 1.]]\n"
          ],
          "name": "stdout"
        }
      ]
    },
    {
      "cell_type": "markdown",
      "metadata": {
        "colab_type": "text",
        "id": "FrTKwbgE7NFT"
      },
      "source": [
        "\n",
        "\n",
        "---\n",
        "\n"
      ]
    },
    {
      "cell_type": "markdown",
      "metadata": {
        "colab_type": "text",
        "id": "a1UBYPNp5Tn1"
      },
      "source": [
        "# Stock prices dataset\n",
        "The data is of tock exchange's stock listings for each trading day of 2010 to 2016.\n",
        "\n",
        "## Description\n",
        "A brief description of columns.\n",
        "- open: The opening market price of the equity symbol on the date\n",
        "- high: The highest market price of the equity symbol on the date\n",
        "- low: The lowest recorded market price of the equity symbol on the date\n",
        "- close: The closing recorded price of the equity symbol on the date\n",
        "- symbol: Symbol of the listed company\n",
        "- volume: Total traded volume of the equity symbol on the date\n",
        "- date: Date of record"
      ]
    },
    {
      "cell_type": "markdown",
      "metadata": {
        "colab_type": "text",
        "id": "ctH_ZW5g-M3g"
      },
      "source": [
        "### Specifying the TensorFlow version\n",
        "Running `import tensorflow` will import the default version (currently 1.x). You can use 2.x by running a cell with the `tensorflow_version` magic **before** you run `import tensorflow`."
      ]
    },
    {
      "cell_type": "code",
      "metadata": {
        "colab_type": "code",
        "id": "vQbdODpH-M3r",
        "colab": {}
      },
      "source": [
        "%tensorflow_version 2.x"
      ],
      "execution_count": 0,
      "outputs": []
    },
    {
      "cell_type": "markdown",
      "metadata": {
        "colab_type": "text",
        "id": "nFQWH1tj-M38"
      },
      "source": [
        "### Import TensorFlow\n",
        "Once you have specified a version via this magic, you can run `import tensorflow` as normal and verify which version was imported as follows:"
      ]
    },
    {
      "cell_type": "code",
      "metadata": {
        "colab_type": "code",
        "id": "Ho5n-xhd-M3_",
        "colab": {
          "base_uri": "https://localhost:8080/",
          "height": 34
        },
        "outputId": "627beda5-5ca3-4c0d-da3e-2fa4f3b04cb5"
      },
      "source": [
        "import tensorflow as tf\n",
        "print(tf.__version__)"
      ],
      "execution_count": 386,
      "outputs": [
        {
          "output_type": "stream",
          "text": [
            "2.0.0\n"
          ],
          "name": "stdout"
        }
      ]
    },
    {
      "cell_type": "markdown",
      "metadata": {
        "colab_type": "text",
        "id": "tgkl0qu6-M4F"
      },
      "source": [
        "### Set random seed"
      ]
    },
    {
      "cell_type": "code",
      "metadata": {
        "colab_type": "code",
        "id": "TKgTyuA3-M4G",
        "colab": {}
      },
      "source": [
        "tf.random.set_seed(42)"
      ],
      "execution_count": 0,
      "outputs": []
    },
    {
      "cell_type": "markdown",
      "metadata": {
        "colab_type": "text",
        "id": "_88voqAH-O6J"
      },
      "source": [
        "## Question 1"
      ]
    },
    {
      "cell_type": "markdown",
      "metadata": {
        "colab_type": "text",
        "id": "dRHCeJqP-evf"
      },
      "source": [
        "### Load the data\n",
        "- load the csv file and read it using pandas\n",
        "- file name is prices.csv"
      ]
    },
    {
      "cell_type": "code",
      "metadata": {
        "colab_type": "code",
        "id": "cKVH5v7r-RmC",
        "colab": {}
      },
      "source": [
        "# run this cell to upload file if you are using google colab\n",
        "#from google.colab import files\n",
        "#files.upload()"
      ],
      "execution_count": 0,
      "outputs": []
    },
    {
      "cell_type": "code",
      "metadata": {
        "colab_type": "code",
        "id": "-gDC6cSW_FSK",
        "colab": {}
      },
      "source": [
        "import pandas as pd\n",
        "price=pd.read_csv(\"prices.csv\")"
      ],
      "execution_count": 0,
      "outputs": []
    },
    {
      "cell_type": "code",
      "metadata": {
        "id": "WckwNuJmC47m",
        "colab_type": "code",
        "colab": {
          "base_uri": "https://localhost:8080/",
          "height": 221
        },
        "outputId": "0969c81c-1614-462c-80d0-da3d77f163d1"
      },
      "source": [
        "price.info()"
      ],
      "execution_count": 390,
      "outputs": [
        {
          "output_type": "stream",
          "text": [
            "<class 'pandas.core.frame.DataFrame'>\n",
            "RangeIndex: 104090 entries, 0 to 104089\n",
            "Data columns (total 7 columns):\n",
            "date      104090 non-null object\n",
            "symbol    104090 non-null object\n",
            "open      104090 non-null float64\n",
            "close     104090 non-null float64\n",
            "low       104090 non-null float64\n",
            "high      104090 non-null float64\n",
            "volume    104089 non-null float64\n",
            "dtypes: float64(5), object(2)\n",
            "memory usage: 5.6+ MB\n"
          ],
          "name": "stdout"
        }
      ]
    },
    {
      "cell_type": "markdown",
      "metadata": {
        "colab_type": "text",
        "id": "HlLKVPVH_BCT"
      },
      "source": [
        "## Question 2"
      ]
    },
    {
      "cell_type": "markdown",
      "metadata": {
        "colab_type": "text",
        "id": "9J4BlzVA_gZd"
      },
      "source": [
        "### Drop columnns\n",
        "- drop \"date\" and \"symbol\" column from the data"
      ]
    },
    {
      "cell_type": "code",
      "metadata": {
        "colab_type": "code",
        "id": "IKEK8aEE_Csx",
        "colab": {}
      },
      "source": [
        "price=price.drop([\"date\",\"symbol\"],axis=1)"
      ],
      "execution_count": 0,
      "outputs": []
    },
    {
      "cell_type": "code",
      "metadata": {
        "id": "cy0LElWRDA1G",
        "colab_type": "code",
        "colab": {
          "base_uri": "https://localhost:8080/",
          "height": 187
        },
        "outputId": "d224a76f-9216-4741-9f32-8e2a0310defd"
      },
      "source": [
        "price.info()"
      ],
      "execution_count": 392,
      "outputs": [
        {
          "output_type": "stream",
          "text": [
            "<class 'pandas.core.frame.DataFrame'>\n",
            "RangeIndex: 104090 entries, 0 to 104089\n",
            "Data columns (total 5 columns):\n",
            "open      104090 non-null float64\n",
            "close     104090 non-null float64\n",
            "low       104090 non-null float64\n",
            "high      104090 non-null float64\n",
            "volume    104089 non-null float64\n",
            "dtypes: float64(5)\n",
            "memory usage: 4.0 MB\n"
          ],
          "name": "stdout"
        }
      ]
    },
    {
      "cell_type": "code",
      "metadata": {
        "id": "AyDuQxDhEaJF",
        "colab_type": "code",
        "colab": {
          "base_uri": "https://localhost:8080/",
          "height": 34
        },
        "outputId": "48ff5649-91a0-4196-b913-3393b213f21a"
      },
      "source": [
        "price.shape"
      ],
      "execution_count": 393,
      "outputs": [
        {
          "output_type": "execute_result",
          "data": {
            "text/plain": [
              "(104090, 5)"
            ]
          },
          "metadata": {
            "tags": []
          },
          "execution_count": 393
        }
      ]
    },
    {
      "cell_type": "markdown",
      "metadata": {
        "colab_type": "text",
        "id": "cTPhO6v-AiZt"
      },
      "source": [
        "## Question 3"
      ]
    },
    {
      "cell_type": "markdown",
      "metadata": {
        "colab_type": "text",
        "id": "SsZXmF3NAkna"
      },
      "source": [
        "### Take initial rows\n",
        "- Take first 1000 rows from the data\n",
        "- This step is done to make the execution faster"
      ]
    },
    {
      "cell_type": "code",
      "metadata": {
        "colab_type": "code",
        "id": "aKs04iIHAjxN",
        "colab": {}
      },
      "source": [
        "price=price[:1000]"
      ],
      "execution_count": 0,
      "outputs": []
    },
    {
      "cell_type": "code",
      "metadata": {
        "id": "giVZ6fQBEvgP",
        "colab_type": "code",
        "colab": {
          "base_uri": "https://localhost:8080/",
          "height": 34
        },
        "outputId": "9e1552b6-86a8-482b-ee79-ef4fae3d15d7"
      },
      "source": [
        "price.shape"
      ],
      "execution_count": 395,
      "outputs": [
        {
          "output_type": "execute_result",
          "data": {
            "text/plain": [
              "(1000, 5)"
            ]
          },
          "metadata": {
            "tags": []
          },
          "execution_count": 395
        }
      ]
    },
    {
      "cell_type": "code",
      "metadata": {
        "id": "l0hqyAk_L6gJ",
        "colab_type": "code",
        "colab": {
          "base_uri": "https://localhost:8080/",
          "height": 204
        },
        "outputId": "ddc47bc5-4921-4df2-f334-0ece3aee2e7b"
      },
      "source": [
        "price.head()"
      ],
      "execution_count": 396,
      "outputs": [
        {
          "output_type": "execute_result",
          "data": {
            "text/html": [
              "<div>\n",
              "<style scoped>\n",
              "    .dataframe tbody tr th:only-of-type {\n",
              "        vertical-align: middle;\n",
              "    }\n",
              "\n",
              "    .dataframe tbody tr th {\n",
              "        vertical-align: top;\n",
              "    }\n",
              "\n",
              "    .dataframe thead th {\n",
              "        text-align: right;\n",
              "    }\n",
              "</style>\n",
              "<table border=\"1\" class=\"dataframe\">\n",
              "  <thead>\n",
              "    <tr style=\"text-align: right;\">\n",
              "      <th></th>\n",
              "      <th>open</th>\n",
              "      <th>close</th>\n",
              "      <th>low</th>\n",
              "      <th>high</th>\n",
              "      <th>volume</th>\n",
              "    </tr>\n",
              "  </thead>\n",
              "  <tbody>\n",
              "    <tr>\n",
              "      <th>0</th>\n",
              "      <td>123.430000</td>\n",
              "      <td>125.839996</td>\n",
              "      <td>122.309998</td>\n",
              "      <td>126.250000</td>\n",
              "      <td>2163600.0</td>\n",
              "    </tr>\n",
              "    <tr>\n",
              "      <th>1</th>\n",
              "      <td>125.239998</td>\n",
              "      <td>119.980003</td>\n",
              "      <td>119.940002</td>\n",
              "      <td>125.540001</td>\n",
              "      <td>2386400.0</td>\n",
              "    </tr>\n",
              "    <tr>\n",
              "      <th>2</th>\n",
              "      <td>116.379997</td>\n",
              "      <td>114.949997</td>\n",
              "      <td>114.930000</td>\n",
              "      <td>119.739998</td>\n",
              "      <td>2489500.0</td>\n",
              "    </tr>\n",
              "    <tr>\n",
              "      <th>3</th>\n",
              "      <td>115.480003</td>\n",
              "      <td>116.620003</td>\n",
              "      <td>113.500000</td>\n",
              "      <td>117.440002</td>\n",
              "      <td>2006300.0</td>\n",
              "    </tr>\n",
              "    <tr>\n",
              "      <th>4</th>\n",
              "      <td>117.010002</td>\n",
              "      <td>114.970001</td>\n",
              "      <td>114.089996</td>\n",
              "      <td>117.330002</td>\n",
              "      <td>1408600.0</td>\n",
              "    </tr>\n",
              "  </tbody>\n",
              "</table>\n",
              "</div>"
            ],
            "text/plain": [
              "         open       close         low        high     volume\n",
              "0  123.430000  125.839996  122.309998  126.250000  2163600.0\n",
              "1  125.239998  119.980003  119.940002  125.540001  2386400.0\n",
              "2  116.379997  114.949997  114.930000  119.739998  2489500.0\n",
              "3  115.480003  116.620003  113.500000  117.440002  2006300.0\n",
              "4  117.010002  114.970001  114.089996  117.330002  1408600.0"
            ]
          },
          "metadata": {
            "tags": []
          },
          "execution_count": 396
        }
      ]
    },
    {
      "cell_type": "markdown",
      "metadata": {
        "colab_type": "text",
        "id": "6vGtnapgBIJm"
      },
      "source": [
        "## Question 4"
      ]
    },
    {
      "cell_type": "markdown",
      "metadata": {
        "colab_type": "text",
        "id": "C8u_jlbABTip"
      },
      "source": [
        "### Get features and label from the dataset in separate variable\n",
        "- Take \"open\", \"close\", \"low\", \"high\" columns as features\n",
        "- Take \"volume\" column as label\n",
        "- Normalize label column by dividing it with 1000000"
      ]
    },
    {
      "cell_type": "code",
      "metadata": {
        "colab_type": "code",
        "id": "xQjCMzUXBJbg",
        "colab": {}
      },
      "source": [
        "X=price.drop([\"volume\"],axis=1)\n",
        "y=price[\"volume\"] / 1000000"
      ],
      "execution_count": 0,
      "outputs": []
    },
    {
      "cell_type": "code",
      "metadata": {
        "id": "IJJv3PytL-k2",
        "colab_type": "code",
        "colab": {
          "base_uri": "https://localhost:8080/",
          "height": 119
        },
        "outputId": "9157785d-eeaf-4cee-a90f-085f6e50ee9e"
      },
      "source": [
        "y.head()"
      ],
      "execution_count": 398,
      "outputs": [
        {
          "output_type": "execute_result",
          "data": {
            "text/plain": [
              "0    2.1636\n",
              "1    2.3864\n",
              "2    2.4895\n",
              "3    2.0063\n",
              "4    1.4086\n",
              "Name: volume, dtype: float64"
            ]
          },
          "metadata": {
            "tags": []
          },
          "execution_count": 398
        }
      ]
    },
    {
      "cell_type": "code",
      "metadata": {
        "id": "pwMiYW1aFB3g",
        "colab_type": "code",
        "colab": {
          "base_uri": "https://localhost:8080/",
          "height": 51
        },
        "outputId": "1c87bbd1-0ed8-4a9d-a58a-77bcacc9601f"
      },
      "source": [
        "print(X.shape)\n",
        "print(y.shape)"
      ],
      "execution_count": 399,
      "outputs": [
        {
          "output_type": "stream",
          "text": [
            "(1000, 4)\n",
            "(1000,)\n"
          ],
          "name": "stdout"
        }
      ]
    },
    {
      "cell_type": "markdown",
      "metadata": {
        "colab_type": "text",
        "id": "aTAKzlxZBz0z"
      },
      "source": [
        "## Question 5"
      ]
    },
    {
      "cell_type": "markdown",
      "metadata": {
        "colab_type": "text",
        "id": "IfY8Km1Zzyt2"
      },
      "source": [
        "### Convert data\n",
        "- Convert features and labels to numpy array\n",
        "- Convert their data type to \"float32\""
      ]
    },
    {
      "cell_type": "code",
      "metadata": {
        "colab_type": "code",
        "id": "Ko7nnQVbYENh",
        "colab": {}
      },
      "source": [
        "X=X.to_numpy().astype('float32')\n",
        "y=y.to_numpy().astype('float32')"
      ],
      "execution_count": 0,
      "outputs": []
    },
    {
      "cell_type": "code",
      "metadata": {
        "id": "-m2wIDPrGY91",
        "colab_type": "code",
        "colab": {
          "base_uri": "https://localhost:8080/",
          "height": 51
        },
        "outputId": "b7852eaa-e91f-4511-ea05-8dec4b36c5fa"
      },
      "source": [
        "print(X.shape)\n",
        "print(y.shape)"
      ],
      "execution_count": 401,
      "outputs": [
        {
          "output_type": "stream",
          "text": [
            "(1000, 4)\n",
            "(1000,)\n"
          ],
          "name": "stdout"
        }
      ]
    },
    {
      "cell_type": "markdown",
      "metadata": {
        "colab_type": "text",
        "id": "3TWpN0nVTpUx"
      },
      "source": [
        "## Question 6"
      ]
    },
    {
      "cell_type": "markdown",
      "metadata": {
        "colab_type": "text",
        "id": "WQ1FKEs-4btX"
      },
      "source": [
        "### Normalize data\n",
        "- Normalize features\n",
        "- Use tf.math.l2_normalize to normalize features\n",
        "- You can read more about it here https://www.tensorflow.org/api_docs/python/tf/math/l2_normalize"
      ]
    },
    {
      "cell_type": "code",
      "metadata": {
        "colab_type": "code",
        "id": "V0Tfe00X78wB",
        "colab": {}
      },
      "source": [
        "X = tf.math.l2_normalize(X)"
      ],
      "execution_count": 0,
      "outputs": []
    },
    {
      "cell_type": "markdown",
      "metadata": {
        "colab_type": "text",
        "id": "wmXUGc2oTspa"
      },
      "source": [
        "## Question 7"
      ]
    },
    {
      "cell_type": "markdown",
      "metadata": {
        "colab_type": "text",
        "id": "VJelDMpzxs0L"
      },
      "source": [
        "### Define weight and bias\n",
        "- Initialize weight and bias with tf.zeros\n",
        "- tf.zeros is an initializer that generates tensors initialized to 0\n",
        "- Specify the value for shape"
      ]
    },
    {
      "cell_type": "code",
      "metadata": {
        "colab_type": "code",
        "id": "8o9RPWVTxs0O",
        "colab": {}
      },
      "source": [
        "W = tf.zeros(shape=(4, 1))\n",
        "b = tf.zeros(shape=(1))"
      ],
      "execution_count": 0,
      "outputs": []
    },
    {
      "cell_type": "markdown",
      "metadata": {
        "colab_type": "text",
        "id": "8a0wr94aTyjg"
      },
      "source": [
        "## Question 8"
      ]
    },
    {
      "cell_type": "markdown",
      "metadata": {
        "colab_type": "text",
        "id": "zMXXYdOSxs0Q"
      },
      "source": [
        "### Get prediction\n",
        "- Define a function to get prediction\n",
        "- Approach: prediction = (X * W) + b; here is X is features"
      ]
    },
    {
      "cell_type": "code",
      "metadata": {
        "colab_type": "code",
        "id": "U8Cty1y0xs0S",
        "colab": {}
      },
      "source": [
        "@tf.function\n",
        "def prediction(X, W, b):\n",
        "    y_pred = tf.add(tf.matmul(X, W), b)\n",
        "    return y_pred"
      ],
      "execution_count": 0,
      "outputs": []
    },
    {
      "cell_type": "markdown",
      "metadata": {
        "colab_type": "text",
        "id": "lQmS3Tauxs0V"
      },
      "source": [
        "### Calculate loss\n",
        "- Calculate loss using predictions\n",
        "- Define a function to calculate loss\n",
        "- We are calculating mean squared error"
      ]
    },
    {
      "cell_type": "code",
      "metadata": {
        "colab_type": "code",
        "id": "-FRXmDd5xs0X",
        "colab": {}
      },
      "source": [
        "@tf.function\n",
        "def loss(y_actual, y_predicted):\n",
        "    diff = y_actual - y_predicted\n",
        "    sqr = tf.square(diff)\n",
        "    avg = tf.reduce_mean(sqr)\n",
        "    return avg"
      ],
      "execution_count": 0,
      "outputs": []
    },
    {
      "cell_type": "markdown",
      "metadata": {
        "colab_type": "text",
        "id": "ZbBpnOtfT0wd"
      },
      "source": [
        "## Question 9"
      ]
    },
    {
      "cell_type": "markdown",
      "metadata": {
        "colab_type": "text",
        "id": "bkOzAUUsTmF_"
      },
      "source": [
        "### Define a function to train the model\n",
        "1.   Record all the mathematical steps to calculate Loss\n",
        "2.   Calculate Gradients of Loss w.r.t weights and bias\n",
        "3.   Update Weights and Bias based on gradients and learning rate to minimize loss"
      ]
    },
    {
      "cell_type": "code",
      "metadata": {
        "colab_type": "code",
        "id": "2R4uieGYLYtM",
        "colab": {}
      },
      "source": [
        "@tf.function\n",
        "def train(x, y_actual, W, b, learning_rate=0.01):\n",
        "    \n",
        "    # Record mathematical operations on 'tape' to calculate loss\n",
        "    with tf.GradientTape() as t:\n",
        "        t.watch([W,b])\n",
        "        current_prediction = prediction(x, W, b)\n",
        "        current_loss = loss(y_actual, current_prediction)\n",
        "    \n",
        "    # Calculate Gradients for Loss with respect to Weights and Bias\n",
        "    dw, db = t.gradient(current_loss,[W, b])\n",
        "    \n",
        "    # Update Weights and Bias\n",
        "    W = W - learning_rate * dw\n",
        "    b = b - learning_rate * db\n",
        "    \n",
        "    return W, b"
      ],
      "execution_count": 0,
      "outputs": []
    },
    {
      "cell_type": "markdown",
      "metadata": {
        "colab_type": "text",
        "id": "AW4SEP8kT2ls"
      },
      "source": [
        "## Question 10"
      ]
    },
    {
      "cell_type": "markdown",
      "metadata": {
        "colab_type": "text",
        "id": "yeN0deOvT81N"
      },
      "source": [
        "### Train the model for 100 epochs \n",
        "- Observe the training loss at every iteration"
      ]
    },
    {
      "cell_type": "code",
      "metadata": {
        "colab_type": "code",
        "id": "Jjkn4gUgLevE",
        "colab": {
          "base_uri": "https://localhost:8080/",
          "height": 1000
        },
        "outputId": "2b24b827-9b74-489d-f566-eba3177721a4"
      },
      "source": [
        "for i in range(100):    \n",
        "    W, b = train(X, y, W, b)\n",
        "    print('Current Training Loss on iteration', i, loss(y, prediction(X, W, b)).numpy())"
      ],
      "execution_count": 407,
      "outputs": [
        {
          "output_type": "stream",
          "text": [
            "Current Training Loss on iteration 0 236.16759\n",
            "Current Training Loss on iteration 1 235.09299\n",
            "Current Training Loss on iteration 2 234.06102\n",
            "Current Training Loss on iteration 3 233.06998\n",
            "Current Training Loss on iteration 4 232.11781\n",
            "Current Training Loss on iteration 5 231.20381\n",
            "Current Training Loss on iteration 6 230.32585\n",
            "Current Training Loss on iteration 7 229.48265\n",
            "Current Training Loss on iteration 8 228.67297\n",
            "Current Training Loss on iteration 9 227.89539\n",
            "Current Training Loss on iteration 10 227.14832\n",
            "Current Training Loss on iteration 11 226.43114\n",
            "Current Training Loss on iteration 12 225.74234\n",
            "Current Training Loss on iteration 13 225.0808\n",
            "Current Training Loss on iteration 14 224.44553\n",
            "Current Training Loss on iteration 15 223.835\n",
            "Current Training Loss on iteration 16 223.24931\n",
            "Current Training Loss on iteration 17 222.68655\n",
            "Current Training Loss on iteration 18 222.14595\n",
            "Current Training Loss on iteration 19 221.62688\n",
            "Current Training Loss on iteration 20 221.12842\n",
            "Current Training Loss on iteration 21 220.6498\n",
            "Current Training Loss on iteration 22 220.18993\n",
            "Current Training Loss on iteration 23 219.74841\n",
            "Current Training Loss on iteration 24 219.32425\n",
            "Current Training Loss on iteration 25 218.91705\n",
            "Current Training Loss on iteration 26 218.52579\n",
            "Current Training Loss on iteration 27 218.15027\n",
            "Current Training Loss on iteration 28 217.78957\n",
            "Current Training Loss on iteration 29 217.44315\n",
            "Current Training Loss on iteration 30 217.11034\n",
            "Current Training Loss on iteration 31 216.79077\n",
            "Current Training Loss on iteration 32 216.48412\n",
            "Current Training Loss on iteration 33 216.18932\n",
            "Current Training Loss on iteration 34 215.90611\n",
            "Current Training Loss on iteration 35 215.63437\n",
            "Current Training Loss on iteration 36 215.37334\n",
            "Current Training Loss on iteration 37 215.12263\n",
            "Current Training Loss on iteration 38 214.88185\n",
            "Current Training Loss on iteration 39 214.65053\n",
            "Current Training Loss on iteration 40 214.42859\n",
            "Current Training Loss on iteration 41 214.21527\n",
            "Current Training Loss on iteration 42 214.01044\n",
            "Current Training Loss on iteration 43 213.81369\n",
            "Current Training Loss on iteration 44 213.62482\n",
            "Current Training Loss on iteration 45 213.44333\n",
            "Current Training Loss on iteration 46 213.2691\n",
            "Current Training Loss on iteration 47 213.10179\n",
            "Current Training Loss on iteration 48 212.94106\n",
            "Current Training Loss on iteration 49 212.78687\n",
            "Current Training Loss on iteration 50 212.63857\n",
            "Current Training Loss on iteration 51 212.4961\n",
            "Current Training Loss on iteration 52 212.35948\n",
            "Current Training Loss on iteration 53 212.22816\n",
            "Current Training Loss on iteration 54 212.10205\n",
            "Current Training Loss on iteration 55 211.98093\n",
            "Current Training Loss on iteration 56 211.86461\n",
            "Current Training Loss on iteration 57 211.75293\n",
            "Current Training Loss on iteration 58 211.64558\n",
            "Current Training Loss on iteration 59 211.54266\n",
            "Current Training Loss on iteration 60 211.44374\n",
            "Current Training Loss on iteration 61 211.34874\n",
            "Current Training Loss on iteration 62 211.2575\n",
            "Current Training Loss on iteration 63 211.16982\n",
            "Current Training Loss on iteration 64 211.08572\n",
            "Current Training Loss on iteration 65 211.00484\n",
            "Current Training Loss on iteration 66 210.92729\n",
            "Current Training Loss on iteration 67 210.85278\n",
            "Current Training Loss on iteration 68 210.78104\n",
            "Current Training Loss on iteration 69 210.71225\n",
            "Current Training Loss on iteration 70 210.64633\n",
            "Current Training Loss on iteration 71 210.58289\n",
            "Current Training Loss on iteration 72 210.52199\n",
            "Current Training Loss on iteration 73 210.46347\n",
            "Current Training Loss on iteration 74 210.4073\n",
            "Current Training Loss on iteration 75 210.3533\n",
            "Current Training Loss on iteration 76 210.30153\n",
            "Current Training Loss on iteration 77 210.2518\n",
            "Current Training Loss on iteration 78 210.204\n",
            "Current Training Loss on iteration 79 210.15811\n",
            "Current Training Loss on iteration 80 210.1141\n",
            "Current Training Loss on iteration 81 210.0717\n",
            "Current Training Loss on iteration 82 210.03108\n",
            "Current Training Loss on iteration 83 209.99205\n",
            "Current Training Loss on iteration 84 209.95453\n",
            "Current Training Loss on iteration 85 209.91852\n",
            "Current Training Loss on iteration 86 209.88396\n",
            "Current Training Loss on iteration 87 209.85075\n",
            "Current Training Loss on iteration 88 209.81891\n",
            "Current Training Loss on iteration 89 209.78818\n",
            "Current Training Loss on iteration 90 209.75874\n",
            "Current Training Loss on iteration 91 209.73053\n",
            "Current Training Loss on iteration 92 209.70349\n",
            "Current Training Loss on iteration 93 209.67744\n",
            "Current Training Loss on iteration 94 209.65225\n",
            "Current Training Loss on iteration 95 209.62833\n",
            "Current Training Loss on iteration 96 209.6052\n",
            "Current Training Loss on iteration 97 209.58302\n",
            "Current Training Loss on iteration 98 209.56174\n",
            "Current Training Loss on iteration 99 209.5413\n"
          ],
          "name": "stdout"
        }
      ]
    },
    {
      "cell_type": "markdown",
      "metadata": {
        "colab_type": "text",
        "id": "vanvD93FV0_k"
      },
      "source": [
        "### Observe values of Weight\n",
        "- Print the updated values"
      ]
    },
    {
      "cell_type": "code",
      "metadata": {
        "colab_type": "code",
        "id": "QSqpy4gtWaOD",
        "colab": {
          "base_uri": "https://localhost:8080/",
          "height": 85
        },
        "outputId": "50b388de-fcdc-49b2-f72b-228a7e737d1c"
      },
      "source": [
        "W.numpy()"
      ],
      "execution_count": 408,
      "outputs": [
        {
          "output_type": "execute_result",
          "data": {
            "text/plain": [
              "array([[0.0547828 ],\n",
              "       [0.05488191],\n",
              "       [0.05422735],\n",
              "       [0.05533117]], dtype=float32)"
            ]
          },
          "metadata": {
            "tags": []
          },
          "execution_count": 408
        }
      ]
    },
    {
      "cell_type": "markdown",
      "metadata": {
        "colab_type": "text",
        "id": "y9KpRupYUEwy"
      },
      "source": [
        "### Observe values of Bias\n",
        "- Print the updated values"
      ]
    },
    {
      "cell_type": "code",
      "metadata": {
        "colab_type": "code",
        "id": "bhEWkGqHWohg",
        "colab": {
          "base_uri": "https://localhost:8080/",
          "height": 34
        },
        "outputId": "0b76fff8-1fd8-472a-8b22-fb8d19ad56d3"
      },
      "source": [
        "b.numpy()"
      ],
      "execution_count": 409,
      "outputs": [
        {
          "output_type": "execute_result",
          "data": {
            "text/plain": [
              "array([4.607657], dtype=float32)"
            ]
          },
          "metadata": {
            "tags": []
          },
          "execution_count": 409
        }
      ]
    }
  ]
}