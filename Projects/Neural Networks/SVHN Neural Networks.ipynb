{
 "cells": [
  {
   "cell_type": "code",
   "execution_count": 2,
   "metadata": {
    "colab": {
     "base_uri": "https://localhost:8080/",
     "height": 51
    },
    "colab_type": "code",
    "id": "IDwVRezR48a0",
    "outputId": "8ba995c1-6b8d-4156-b70e-f4c79de3b98e"
   },
   "outputs": [
    {
     "name": "stdout",
     "output_type": "stream",
     "text": [
      "TensorFlow 2.x selected.\n",
      "2.1.0-rc1\n"
     ]
    }
   ],
   "source": [
    "## Loading the tensorflow versions   \n",
    "%tensorflow_version 2.x\n",
    "import tensorflow as tf\n",
    "print(tf.__version__)"
   ]
  },
  {
   "cell_type": "code",
   "execution_count": 0,
   "metadata": {
    "colab": {},
    "colab_type": "code",
    "id": "6o0J4mrPmqg0"
   },
   "outputs": [],
   "source": [
    "## Setting a random seed\n",
    "tf.random.set_seed(42)"
   ]
  },
  {
   "cell_type": "code",
   "execution_count": 4,
   "metadata": {
    "colab": {
     "base_uri": "https://localhost:8080/",
     "height": 122
    },
    "colab_type": "code",
    "id": "T5Ue06nWnO7D",
    "outputId": "051d63f9-d6cd-4c44-8cf5-a1301129c2b5"
   },
   "outputs": [
    {
     "name": "stdout",
     "output_type": "stream",
     "text": [
      "Go to this URL in a browser: https://accounts.google.com/o/oauth2/auth?client_id=947318989803-6bn6qk8qdgf4n4g3pfee6491hc0brc4i.apps.googleusercontent.com&redirect_uri=urn%3aietf%3awg%3aoauth%3a2.0%3aoob&response_type=code&scope=email%20https%3a%2f%2fwww.googleapis.com%2fauth%2fdocs.test%20https%3a%2f%2fwww.googleapis.com%2fauth%2fdrive%20https%3a%2f%2fwww.googleapis.com%2fauth%2fdrive.photos.readonly%20https%3a%2f%2fwww.googleapis.com%2fauth%2fpeopleapi.readonly\n",
      "\n",
      "Enter your authorization code:\n",
      "··········\n",
      "Mounted at /content/gdrive\n"
     ]
    }
   ],
   "source": [
    "## Mounting the drive to access the files\n",
    "from google.colab import drive\n",
    "drive.mount('/content/gdrive')"
   ]
  },
  {
   "cell_type": "code",
   "execution_count": 0,
   "metadata": {
    "colab": {},
    "colab_type": "code",
    "id": "-gOH7TitoJ5O"
   },
   "outputs": [],
   "source": [
    "## Loading the necessary library packages\n",
    "import numpy as np\n",
    "import pandas as pd\n",
    "%matplotlib inline\n",
    "import matplotlib.pyplot as plt\n",
    "import seaborn as sns\n",
    "from sklearn.metrics import confusion_matrix\n",
    "from sklearn.model_selection import RandomizedSearchCV\n",
    "from sklearn.model_selection import GridSearchCV\n",
    "from sklearn.neighbors import KNeighborsClassifier\n",
    "from sklearn.metrics import classification_report\n",
    "from sklearn.model_selection import train_test_split\n",
    "from scipy.stats import zscore\n",
    "from sklearn.metrics import accuracy_score\n",
    "from sklearn import metrics\n",
    "import h5py"
   ]
  },
  {
   "cell_type": "code",
   "execution_count": 0,
   "metadata": {
    "colab": {},
    "colab_type": "code",
    "id": "aLlzQu6QqdTV"
   },
   "outputs": [],
   "source": [
    "## Opening the h5 file to load the com=ntents \n",
    "svhn= h5py.File('/content/gdrive/My Drive/AIML/SVHN_single_grey1.h5','r')"
   ]
  },
  {
   "cell_type": "code",
   "execution_count": 7,
   "metadata": {
    "colab": {
     "base_uri": "https://localhost:8080/",
     "height": 34
    },
    "colab_type": "code",
    "id": "LdBa1E7pqzvt",
    "outputId": "9faeb3db-5a5c-4a2c-d2b0-16a18af4ee2f"
   },
   "outputs": [
    {
     "name": "stdout",
     "output_type": "stream",
     "text": [
      "['X_test', 'X_train', 'X_val', 'y_test', 'y_train', 'y_val']\n"
     ]
    }
   ],
   "source": [
    "## Displaying the key columns in the file\n",
    "print(list(svhn.keys()))"
   ]
  },
  {
   "cell_type": "code",
   "execution_count": 0,
   "metadata": {
    "colab": {},
    "colab_type": "code",
    "id": "lFfnJBU3q8ZO"
   },
   "outputs": [],
   "source": [
    "## Loading the keys into respective Train, test and Validation set for our analysis\n",
    "X_train=svhn['X_train'][:]\n",
    "X_test=svhn['X_test'][:]\n",
    "y_train=svhn['y_train'][:]\n",
    "y_test=svhn['y_test'][:]\n",
    "X_val=svhn['X_val'][:]\n",
    "y_val=svhn['y_val'][:]"
   ]
  },
  {
   "cell_type": "code",
   "execution_count": 0,
   "metadata": {
    "colab": {},
    "colab_type": "code",
    "id": "QC_ZlmN3rfKX"
   },
   "outputs": [],
   "source": [
    "## Closing the h5 file as we have loaded the items\n",
    "svhn.close()"
   ]
  },
  {
   "cell_type": "code",
   "execution_count": 10,
   "metadata": {
    "colab": {
     "base_uri": "https://localhost:8080/",
     "height": 119
    },
    "colab_type": "code",
    "id": "9zzTJb0ZroEp",
    "outputId": "fe054efa-4c97-410a-c62b-483ca9005737"
   },
   "outputs": [
    {
     "name": "stdout",
     "output_type": "stream",
     "text": [
      "X_train Dimensions: (42000, 32, 32)\n",
      "y_train Dimensions: (42000,)\n",
      "X_test Dimensions: (18000, 32, 32)\n",
      "y_test Dimensions: (18000,)\n",
      "X_val Dimensions: (60000, 32, 32)\n",
      "y_val Dimensions: (60000,)\n"
     ]
    }
   ],
   "source": [
    "## Printing the shape of Train, test and Validation set\n",
    "print('X_train Dimensions:',X_train.shape)\n",
    "print('y_train Dimensions:',y_train.shape)\n",
    "print('X_test Dimensions:',X_test.shape)\n",
    "print('y_test Dimensions:',y_test.shape)\n",
    "print('X_val Dimensions:',X_val.shape)\n",
    "print('y_val Dimensions:',y_val.shape)"
   ]
  },
  {
   "cell_type": "code",
   "execution_count": 11,
   "metadata": {
    "colab": {
     "base_uri": "https://localhost:8080/",
     "height": 238
    },
    "colab_type": "code",
    "id": "mUm7ffzjtPl7",
    "outputId": "8dd79a3c-1f6c-4683-8d1e-0cbc85b4874a"
   },
   "outputs": [
    {
     "data": {
      "text/plain": [
       "array([[[ 33.0704,  30.2601,  26.852 , ...,  71.4471,  58.2204,\n",
       "          42.9939],\n",
       "        [ 25.2283,  25.5533,  29.9765, ..., 113.0209, 103.3639,\n",
       "          84.2949],\n",
       "        [ 26.2775,  22.6137,  40.4763, ..., 113.3028, 121.775 ,\n",
       "         115.4228],\n",
       "        ...,\n",
       "        [ 28.5502,  36.212 ,  45.0801, ...,  24.1359,  25.0927,\n",
       "          26.0603],\n",
       "        [ 38.4352,  26.4733,  23.2717, ...,  28.1094,  29.4683,\n",
       "          30.0661],\n",
       "        [ 50.2984,  26.0773,  24.0389, ...,  49.6682,  50.853 ,\n",
       "          53.0377]]], dtype=float32)"
      ]
     },
     "execution_count": 11,
     "metadata": {
      "tags": []
     },
     "output_type": "execute_result"
    }
   ],
   "source": [
    "X_train[0:1]"
   ]
  },
  {
   "cell_type": "code",
   "execution_count": 12,
   "metadata": {
    "colab": {
     "base_uri": "https://localhost:8080/",
     "height": 34
    },
    "colab_type": "code",
    "id": "s8QRaRQCtj-a",
    "outputId": "139790fc-e870-4dca-eae8-eb5545eccd69"
   },
   "outputs": [
    {
     "data": {
      "text/plain": [
       "array([2, 6], dtype=uint8)"
      ]
     },
     "execution_count": 12,
     "metadata": {
      "tags": []
     },
     "output_type": "execute_result"
    }
   ],
   "source": [
    "y_train[0:2]"
   ]
  },
  {
   "cell_type": "code",
   "execution_count": 0,
   "metadata": {
    "colab": {},
    "colab_type": "code",
    "id": "ytTzDbfZNySB"
   },
   "outputs": [],
   "source": [
    "## Doing a train test split in ratio of 70:30 as training and validation set\n",
    "xtrain,xval,ytrain,yval = train_test_split(X_train, y_train, test_size=0.30, random_state=50)"
   ]
  },
  {
   "cell_type": "code",
   "execution_count": 14,
   "metadata": {
    "colab": {
     "base_uri": "https://localhost:8080/",
     "height": 85
    },
    "colab_type": "code",
    "id": "Jf9wupOnQV-O",
    "outputId": "2850a324-79a2-4376-dfd7-826c91fb71c7"
   },
   "outputs": [
    {
     "name": "stdout",
     "output_type": "stream",
     "text": [
      "xtrain Dimensions: (29400, 32, 32)\n",
      "ytrain Dimensions: (29400,)\n",
      "xval Dimensions: (12600, 32, 32)\n",
      "yval Dimensions: (12600,)\n"
     ]
    }
   ],
   "source": [
    "print('xtrain Dimensions:',xtrain.shape)\n",
    "print('ytrain Dimensions:',ytrain.shape)\n",
    "print('xval Dimensions:',xval.shape)\n",
    "print('yval Dimensions:',yval.shape)"
   ]
  },
  {
   "cell_type": "code",
   "execution_count": 0,
   "metadata": {
    "colab": {},
    "colab_type": "code",
    "id": "5UXJ_xBzYa04"
   },
   "outputs": [],
   "source": [
    "## Normalising the features to be around to 0 to 1\n",
    "xtrain = xtrain / 255\n",
    "X_test = X_test / 255\n",
    "xval = xval / 255"
   ]
  },
  {
   "cell_type": "code",
   "execution_count": 0,
   "metadata": {
    "colab": {},
    "colab_type": "code",
    "id": "3p5vPyyZgDY3"
   },
   "outputs": [],
   "source": [
    "## Reshaping the data from 3D to 2D\n",
    "xtrain=np.reshape(xtrain,(-1,1024))\n",
    "X_test=np.reshape(X_test,(-1,1024))\n",
    "xval=np.reshape(xval,(-1,1024))"
   ]
  },
  {
   "cell_type": "code",
   "execution_count": 17,
   "metadata": {
    "colab": {
     "base_uri": "https://localhost:8080/",
     "height": 68
    },
    "colab_type": "code",
    "id": "NEfxNwfSRs7Z",
    "outputId": "4510cf07-1150-4a73-de88-8d082c72d8cf"
   },
   "outputs": [
    {
     "name": "stdout",
     "output_type": "stream",
     "text": [
      "xtrain Dimensions: (29400, 1024)\n",
      "X_test Dimensions: (18000, 1024)\n",
      "xval Dimensions: (12600, 1024)\n"
     ]
    }
   ],
   "source": [
    "print('xtrain Dimensions:',xtrain.shape)\n",
    "print('X_test Dimensions:',X_test.shape)\n",
    "print('xval Dimensions:',xval.shape)"
   ]
  },
  {
   "cell_type": "markdown",
   "metadata": {
    "colab_type": "text",
    "id": "QlgOEE2ubo-x"
   },
   "source": [
    "# Build the KNN model using Train Dataset\n"
   ]
  },
  {
   "cell_type": "code",
   "execution_count": 18,
   "metadata": {
    "colab": {
     "base_uri": "https://localhost:8080/",
     "height": 68
    },
    "colab_type": "code",
    "id": "DIXA1OgRbmKn",
    "outputId": "cf38aee8-51b9-47e2-944e-d9c6c7d77ca3"
   },
   "outputs": [
    {
     "data": {
      "text/plain": [
       "KNeighborsClassifier(algorithm='auto', leaf_size=30, metric='minkowski',\n",
       "                     metric_params=None, n_jobs=None, n_neighbors=5, p=2,\n",
       "                     weights='uniform')"
      ]
     },
     "execution_count": 18,
     "metadata": {
      "tags": []
     },
     "output_type": "execute_result"
    }
   ],
   "source": [
    "## Defining KNN Model\n",
    "KNN=KNeighborsClassifier()\n",
    "KNN"
   ]
  },
  {
   "cell_type": "code",
   "execution_count": 19,
   "metadata": {
    "colab": {
     "base_uri": "https://localhost:8080/",
     "height": 68
    },
    "colab_type": "code",
    "id": "ZvffCi1Rb0Fu",
    "outputId": "090a199d-f6f7-41b1-dbc3-d678763dcebc"
   },
   "outputs": [
    {
     "data": {
      "text/plain": [
       "KNeighborsClassifier(algorithm='auto', leaf_size=30, metric='minkowski',\n",
       "                     metric_params=None, n_jobs=None, n_neighbors=5, p=2,\n",
       "                     weights='uniform')"
      ]
     },
     "execution_count": 19,
     "metadata": {
      "tags": []
     },
     "output_type": "execute_result"
    }
   ],
   "source": [
    "# Call Nearest Neighbour algorithm and is being build on Train dataset\n",
    "KNN.fit(xtrain, ytrain)"
   ]
  },
  {
   "cell_type": "code",
   "execution_count": 0,
   "metadata": {
    "colab": {},
    "colab_type": "code",
    "id": "LyD31TAwolbq"
   },
   "outputs": [],
   "source": [
    "maximum_k=int(np.sqrt(xval.shape[0]))"
   ]
  },
  {
   "cell_type": "code",
   "execution_count": 22,
   "metadata": {
    "colab": {
     "base_uri": "https://localhost:8080/",
     "height": 34
    },
    "colab_type": "code",
    "id": "ja4kAN5josX1",
    "outputId": "4dec3ad6-5e6e-4466-baae-3406b1ffe6cb"
   },
   "outputs": [
    {
     "name": "stdout",
     "output_type": "stream",
     "text": [
      "(3, 0.6481746031746032)\n"
     ]
    }
   ],
   "source": [
    "## Trying to find optimal K value\n",
    "optimalK = 3\n",
    "a=[3,5,7,9,11]\n",
    "optimalAccuracy = 0\n",
    "for k_i in a:\n",
    "    if(((k_i % 2) != 0) & (k_i > 1)):\n",
    "        KNN = KNeighborsClassifier(n_neighbors=k_i)\n",
    "        KNN.fit(xval, yval)\n",
    "        if(KNN.score(xval, yval) > optimalAccuracy):\n",
    "            optimalK = k_i\n",
    "            optimalAccuracy = KNN.score(xval, yval)\n",
    "print((optimalK, optimalAccuracy))"
   ]
  },
  {
   "cell_type": "code",
   "execution_count": 21,
   "metadata": {
    "colab": {
     "base_uri": "https://localhost:8080/",
     "height": 51
    },
    "colab_type": "code",
    "id": "j04BorpltKpR",
    "outputId": "b429563c-e058-498f-9a3a-04130b9dcc29"
   },
   "outputs": [
    {
     "name": "stdout",
     "output_type": "stream",
     "text": [
      "Validation Set Score: 0.43857142857142856\n",
      "Test Set Score: 0.4383888888888889\n"
     ]
    }
   ],
   "source": [
    "#K-Neighbours algorithm is being build on with neighbors=3 and accuracy is tested on test data.\n",
    "KNN = KNeighborsClassifier(n_neighbors=3)\n",
    "KNN.fit(xtrain, ytrain)\n",
    "print('Validation Set Score:' ,KNN.score(xval, yval))\n",
    "print('Test Set Score:' , KNN.score(X_test, y_test))"
   ]
  },
  {
   "cell_type": "code",
   "execution_count": 23,
   "metadata": {
    "colab": {
     "base_uri": "https://localhost:8080/",
     "height": 357
    },
    "colab_type": "code",
    "id": "ykaObbtvtLoi",
    "outputId": "1d54bab7-9e98-4174-bebf-4edaa3cd508c"
   },
   "outputs": [
    {
     "name": "stdout",
     "output_type": "stream",
     "text": [
      "Validation Confusion matrix : [[789  44  32  38  29  32  78  32  48  89]\n",
      " [ 80 888  53  44  72  24  28  51  14  26]\n",
      " [100 153 684  96  37  36  26  85  45  48]\n",
      " [128 200 117 520  35 100  40  44  59  46]\n",
      " [100 189  46  53 733  23  28  10  24  41]\n",
      " [164 134  54 191  37 436 112  16  79  63]\n",
      " [277  82  25  36  95  96 400  16 136  45]\n",
      " [ 91 187  98  68  21  21  25 677  19  38]\n",
      " [265  91  60  86  57  90 170  15 355  76]\n",
      " [303  96  56  78  51  57  58  37 100 423]]\n",
      "Test Confusion matrix : [[1192   60   48   36   50   53  117   36  102  120]\n",
      " [ 121 1240   74   83  100   33   38   71   24   44]\n",
      " [ 139  251  903  137   54   33   30  119   52   85]\n",
      " [ 174  252  166  669   65  140   43   52   89   69]\n",
      " [ 135  266   72   71 1069   25   58   24   45   47]\n",
      " [ 213  170   97  270   58  576  142   41  110   91]\n",
      " [ 378  116   52   78  137  136  659   19  197   60]\n",
      " [ 126  245  157   98   39   30   24 1000   39   50]\n",
      " [ 347  136   80  145   84  112  240   25  531  112]\n",
      " [ 415  138   85  110   60  103   77   65  149  602]]\n"
     ]
    }
   ],
   "source": [
    "print('Validation Confusion matrix :', metrics.confusion_matrix(yval, KNN.predict(xval)))\n",
    "print('Test Confusion matrix :', metrics.confusion_matrix(y_test, KNN.predict(X_test)))"
   ]
  },
  {
   "cell_type": "code",
   "execution_count": 24,
   "metadata": {
    "colab": {
     "base_uri": "https://localhost:8080/",
     "height": 595
    },
    "colab_type": "code",
    "id": "nycZDqaptUhx",
    "outputId": "1bba4b83-533a-4bd0-bba6-d0854eb84a98"
   },
   "outputs": [
    {
     "name": "stdout",
     "output_type": "stream",
     "text": [
      "              precision    recall  f1-score   support\n",
      "\n",
      "           0       0.34      0.65      0.45      1211\n",
      "           1       0.43      0.69      0.53      1280\n",
      "           2       0.56      0.52      0.54      1310\n",
      "           3       0.43      0.40      0.42      1289\n",
      "           4       0.63      0.59      0.61      1247\n",
      "           5       0.48      0.34      0.40      1286\n",
      "           6       0.41      0.33      0.37      1208\n",
      "           7       0.69      0.54      0.61      1245\n",
      "           8       0.40      0.28      0.33      1265\n",
      "           9       0.47      0.34      0.39      1259\n",
      "\n",
      "    accuracy                           0.47     12600\n",
      "   macro avg       0.48      0.47      0.46     12600\n",
      "weighted avg       0.49      0.47      0.46     12600\n",
      "\n",
      "              precision    recall  f1-score   support\n",
      "\n",
      "           0       0.37      0.66      0.47      1814\n",
      "           1       0.43      0.68      0.53      1828\n",
      "           2       0.52      0.50      0.51      1803\n",
      "           3       0.39      0.39      0.39      1719\n",
      "           4       0.62      0.59      0.61      1812\n",
      "           5       0.46      0.33      0.38      1768\n",
      "           6       0.46      0.36      0.40      1832\n",
      "           7       0.69      0.55      0.61      1808\n",
      "           8       0.40      0.29      0.34      1812\n",
      "           9       0.47      0.33      0.39      1804\n",
      "\n",
      "    accuracy                           0.47     18000\n",
      "   macro avg       0.48      0.47      0.46     18000\n",
      "weighted avg       0.48      0.47      0.46     18000\n",
      "\n"
     ]
    }
   ],
   "source": [
    "print(classification_report(yval, (KNN.predict(xval)).astype(int)))\n",
    "print(classification_report(y_test, (KNN.predict(X_test)).astype(int)))"
   ]
  },
  {
   "cell_type": "markdown",
   "metadata": {
    "colab_type": "text",
    "id": "Ve5ChnSatdyi"
   },
   "source": [
    "## **Neural Network Model**\n",
    "\n"
   ]
  },
  {
   "cell_type": "code",
   "execution_count": 21,
   "metadata": {
    "colab": {
     "base_uri": "https://localhost:8080/",
     "height": 34
    },
    "colab_type": "code",
    "id": "4t3n1XE925T_",
    "outputId": "3b912884-bad5-43de-c6c8-af15d5bd55c9"
   },
   "outputs": [
    {
     "data": {
      "text/plain": [
       "array([0, 1, 2, 3, 4, 5, 6, 7, 8, 9], dtype=uint8)"
      ]
     },
     "execution_count": 21,
     "metadata": {
      "tags": []
     },
     "output_type": "execute_result"
    }
   ],
   "source": [
    "np.unique(ytrain)"
   ]
  },
  {
   "cell_type": "code",
   "execution_count": 0,
   "metadata": {
    "colab": {},
    "colab_type": "code",
    "id": "P5jBupGOuDyL"
   },
   "outputs": [],
   "source": [
    "ytrain = tf.keras.utils.to_categorical(ytrain, num_classes=10)\n",
    "yval = tf.keras.utils.to_categorical(yval, num_classes=10)"
   ]
  },
  {
   "cell_type": "code",
   "execution_count": 23,
   "metadata": {
    "colab": {
     "base_uri": "https://localhost:8080/",
     "height": 34
    },
    "colab_type": "code",
    "id": "c5WtAatwwiUR",
    "outputId": "ada186aa-5f99-4d4c-a52e-627efb81474f"
   },
   "outputs": [
    {
     "data": {
      "text/plain": [
       "(29400, 10)"
      ]
     },
     "execution_count": 23,
     "metadata": {
      "tags": []
     },
     "output_type": "execute_result"
    }
   ],
   "source": [
    "ytrain.shape"
   ]
  },
  {
   "cell_type": "markdown",
   "metadata": {
    "colab_type": "text",
    "id": "vATSMTfBFhuy"
   },
   "source": [
    "Simple Neural Network with Sigmoid activation and sgd optimiser\n",
    "\n"
   ]
  },
  {
   "cell_type": "code",
   "execution_count": 29,
   "metadata": {
    "colab": {
     "base_uri": "https://localhost:8080/",
     "height": 1000
    },
    "colab_type": "code",
    "id": "fSLCrjGyEvLQ",
    "outputId": "e40436c7-fddb-437e-d71b-40ff6252f5f4"
   },
   "outputs": [
    {
     "name": "stdout",
     "output_type": "stream",
     "text": [
      "Model: \"sequential_2\"\n",
      "_________________________________________________________________\n",
      "Layer (type)                 Output Shape              Param #   \n",
      "=================================================================\n",
      "dense_6 (Dense)              (None, 110)               112750    \n",
      "_________________________________________________________________\n",
      "dropout_2 (Dropout)          (None, 110)               0         \n",
      "_________________________________________________________________\n",
      "dense_7 (Dense)              (None, 50)                5550      \n",
      "_________________________________________________________________\n",
      "dense_8 (Dense)              (None, 10)                510       \n",
      "=================================================================\n",
      "Total params: 118,810\n",
      "Trainable params: 118,810\n",
      "Non-trainable params: 0\n",
      "_________________________________________________________________\n",
      "Train on 29400 samples, validate on 12600 samples\n",
      "Epoch 1/50\n",
      "29400/29400 [==============================] - 4s 121us/sample - loss: 2.3107 - accuracy: 0.0979 - val_loss: 2.3027 - val_accuracy: 0.1006\n",
      "Epoch 2/50\n",
      "29400/29400 [==============================] - 3s 109us/sample - loss: 2.3033 - accuracy: 0.0992 - val_loss: 2.3030 - val_accuracy: 0.1036\n",
      "Epoch 3/50\n",
      "29400/29400 [==============================] - 3s 115us/sample - loss: 2.3030 - accuracy: 0.1027 - val_loss: 2.3026 - val_accuracy: 0.1022\n",
      "Epoch 4/50\n",
      "29400/29400 [==============================] - 3s 117us/sample - loss: 2.3031 - accuracy: 0.0975 - val_loss: 2.3028 - val_accuracy: 0.1045\n",
      "Epoch 5/50\n",
      "29400/29400 [==============================] - 3s 107us/sample - loss: 2.3030 - accuracy: 0.1024 - val_loss: 2.3031 - val_accuracy: 0.1014\n",
      "Epoch 6/50\n",
      "29400/29400 [==============================] - 3s 110us/sample - loss: 2.3031 - accuracy: 0.0989 - val_loss: 2.3030 - val_accuracy: 0.0959\n",
      "Epoch 7/50\n",
      "29400/29400 [==============================] - 3s 111us/sample - loss: 2.3027 - accuracy: 0.1004 - val_loss: 2.3029 - val_accuracy: 0.1040\n",
      "Epoch 8/50\n",
      "29400/29400 [==============================] - 3s 104us/sample - loss: 2.3030 - accuracy: 0.0963 - val_loss: 2.3027 - val_accuracy: 0.1022\n",
      "Epoch 9/50\n",
      "29400/29400 [==============================] - 3s 116us/sample - loss: 2.3028 - accuracy: 0.1026 - val_loss: 2.3024 - val_accuracy: 0.1027\n",
      "Epoch 10/50\n",
      "29400/29400 [==============================] - 3s 118us/sample - loss: 2.3026 - accuracy: 0.1033 - val_loss: 2.3025 - val_accuracy: 0.1036\n",
      "Epoch 11/50\n",
      "29400/29400 [==============================] - 3s 115us/sample - loss: 2.3026 - accuracy: 0.1022 - val_loss: 2.3027 - val_accuracy: 0.1087\n",
      "Epoch 12/50\n",
      "29400/29400 [==============================] - 3s 112us/sample - loss: 2.3028 - accuracy: 0.0995 - val_loss: 2.3024 - val_accuracy: 0.1040\n",
      "Epoch 13/50\n",
      "29400/29400 [==============================] - 3s 107us/sample - loss: 2.3025 - accuracy: 0.1027 - val_loss: 2.3029 - val_accuracy: 0.1012\n",
      "Epoch 14/50\n",
      "29400/29400 [==============================] - 3s 112us/sample - loss: 2.3025 - accuracy: 0.1059 - val_loss: 2.3024 - val_accuracy: 0.1037\n",
      "Epoch 15/50\n",
      "29400/29400 [==============================] - 3s 113us/sample - loss: 2.3023 - accuracy: 0.1028 - val_loss: 2.3022 - val_accuracy: 0.1094\n",
      "Epoch 16/50\n",
      "29400/29400 [==============================] - 4s 124us/sample - loss: 2.3027 - accuracy: 0.1020 - val_loss: 2.3023 - val_accuracy: 0.1094\n",
      "Epoch 17/50\n",
      "29400/29400 [==============================] - 3s 114us/sample - loss: 2.3023 - accuracy: 0.1036 - val_loss: 2.3025 - val_accuracy: 0.1061\n",
      "Epoch 18/50\n",
      "29400/29400 [==============================] - 3s 108us/sample - loss: 2.3022 - accuracy: 0.1045 - val_loss: 2.3024 - val_accuracy: 0.0992\n",
      "Epoch 19/50\n",
      "29400/29400 [==============================] - 3s 109us/sample - loss: 2.3023 - accuracy: 0.1037 - val_loss: 2.3023 - val_accuracy: 0.1002\n",
      "Epoch 20/50\n",
      "29400/29400 [==============================] - 3s 108us/sample - loss: 2.3024 - accuracy: 0.1021 - val_loss: 2.3025 - val_accuracy: 0.1000\n",
      "Epoch 21/50\n",
      "29400/29400 [==============================] - 3s 108us/sample - loss: 2.3022 - accuracy: 0.1042 - val_loss: 2.3023 - val_accuracy: 0.1025\n",
      "Epoch 22/50\n",
      "29400/29400 [==============================] - 3s 113us/sample - loss: 2.3022 - accuracy: 0.1033 - val_loss: 2.3023 - val_accuracy: 0.1041\n",
      "Epoch 23/50\n",
      "29400/29400 [==============================] - 3s 115us/sample - loss: 2.3023 - accuracy: 0.1024 - val_loss: 2.3022 - val_accuracy: 0.1013\n",
      "Epoch 24/50\n",
      "29400/29400 [==============================] - 3s 115us/sample - loss: 2.3020 - accuracy: 0.1039 - val_loss: 2.3021 - val_accuracy: 0.1109\n",
      "Epoch 25/50\n",
      "29400/29400 [==============================] - 3s 111us/sample - loss: 2.3019 - accuracy: 0.1091 - val_loss: 2.3025 - val_accuracy: 0.1071\n",
      "Epoch 26/50\n",
      "29400/29400 [==============================] - 3s 113us/sample - loss: 2.3019 - accuracy: 0.1077 - val_loss: 2.3021 - val_accuracy: 0.1105\n",
      "Epoch 27/50\n",
      "29400/29400 [==============================] - 3s 112us/sample - loss: 2.3019 - accuracy: 0.1056 - val_loss: 2.3018 - val_accuracy: 0.1141\n",
      "Epoch 28/50\n",
      "29400/29400 [==============================] - 3s 110us/sample - loss: 2.3020 - accuracy: 0.1063 - val_loss: 2.3019 - val_accuracy: 0.1140\n",
      "Epoch 29/50\n",
      "29400/29400 [==============================] - 3s 115us/sample - loss: 2.3018 - accuracy: 0.1066 - val_loss: 2.3020 - val_accuracy: 0.1147\n",
      "Epoch 30/50\n",
      "29400/29400 [==============================] - 3s 110us/sample - loss: 2.3017 - accuracy: 0.1054 - val_loss: 2.3018 - val_accuracy: 0.1032\n",
      "Epoch 31/50\n",
      "29400/29400 [==============================] - 4s 119us/sample - loss: 2.3018 - accuracy: 0.1069 - val_loss: 2.3018 - val_accuracy: 0.1044\n",
      "Epoch 32/50\n",
      "29400/29400 [==============================] - 4s 120us/sample - loss: 2.3017 - accuracy: 0.1131 - val_loss: 2.3020 - val_accuracy: 0.1094\n",
      "Epoch 33/50\n",
      "29400/29400 [==============================] - 3s 111us/sample - loss: 2.3017 - accuracy: 0.1077 - val_loss: 2.3027 - val_accuracy: 0.1062\n",
      "Epoch 34/50\n",
      "29400/29400 [==============================] - 3s 114us/sample - loss: 2.3016 - accuracy: 0.1094 - val_loss: 2.3015 - val_accuracy: 0.1127\n",
      "Epoch 35/50\n",
      "29400/29400 [==============================] - 3s 116us/sample - loss: 2.3017 - accuracy: 0.1072 - val_loss: 2.3019 - val_accuracy: 0.1056\n",
      "Epoch 36/50\n",
      "29400/29400 [==============================] - 4s 119us/sample - loss: 2.3015 - accuracy: 0.1080 - val_loss: 2.3017 - val_accuracy: 0.1216\n",
      "Epoch 37/50\n",
      "29400/29400 [==============================] - 3s 115us/sample - loss: 2.3017 - accuracy: 0.1087 - val_loss: 2.3018 - val_accuracy: 0.1180\n",
      "Epoch 38/50\n",
      "29400/29400 [==============================] - 3s 114us/sample - loss: 2.3013 - accuracy: 0.1107 - val_loss: 2.3015 - val_accuracy: 0.1184\n",
      "Epoch 39/50\n",
      "29400/29400 [==============================] - 3s 106us/sample - loss: 2.3013 - accuracy: 0.1130 - val_loss: 2.3015 - val_accuracy: 0.1136\n",
      "Epoch 40/50\n",
      "29400/29400 [==============================] - 3s 109us/sample - loss: 2.3012 - accuracy: 0.1122 - val_loss: 2.3016 - val_accuracy: 0.1065\n",
      "Epoch 41/50\n",
      "29400/29400 [==============================] - 3s 115us/sample - loss: 2.3012 - accuracy: 0.1105 - val_loss: 2.3013 - val_accuracy: 0.1085\n",
      "Epoch 42/50\n",
      "29400/29400 [==============================] - 4s 120us/sample - loss: 2.3012 - accuracy: 0.1076 - val_loss: 2.3015 - val_accuracy: 0.1166\n",
      "Epoch 43/50\n",
      "29400/29400 [==============================] - 3s 113us/sample - loss: 2.3009 - accuracy: 0.1111 - val_loss: 2.3019 - val_accuracy: 0.1079\n",
      "Epoch 44/50\n",
      "29400/29400 [==============================] - 3s 105us/sample - loss: 2.3011 - accuracy: 0.1082 - val_loss: 2.3013 - val_accuracy: 0.1144\n",
      "Epoch 45/50\n",
      "29400/29400 [==============================] - 3s 110us/sample - loss: 2.3013 - accuracy: 0.1097 - val_loss: 2.3012 - val_accuracy: 0.1124\n",
      "Epoch 46/50\n",
      "29400/29400 [==============================] - 3s 112us/sample - loss: 2.3008 - accuracy: 0.1121 - val_loss: 2.3013 - val_accuracy: 0.1200\n",
      "Epoch 47/50\n",
      "29400/29400 [==============================] - 3s 113us/sample - loss: 2.3009 - accuracy: 0.1140 - val_loss: 2.3011 - val_accuracy: 0.1216\n",
      "Epoch 48/50\n",
      "29400/29400 [==============================] - 3s 111us/sample - loss: 2.3009 - accuracy: 0.1140 - val_loss: 2.3014 - val_accuracy: 0.1097\n",
      "Epoch 49/50\n",
      "29400/29400 [==============================] - 3s 108us/sample - loss: 2.3008 - accuracy: 0.1123 - val_loss: 2.3014 - val_accuracy: 0.1168\n",
      "Epoch 50/50\n",
      "29400/29400 [==============================] - 3s 110us/sample - loss: 2.3007 - accuracy: 0.1133 - val_loss: 2.3011 - val_accuracy: 0.1290\n"
     ]
    },
    {
     "data": {
      "text/plain": [
       "<tensorflow.python.keras.callbacks.History at 0x7fdb1dabbf60>"
      ]
     },
     "execution_count": 29,
     "metadata": {
      "tags": []
     },
     "output_type": "execute_result"
    }
   ],
   "source": [
    "## Creating a sequential model\n",
    "model = tf.keras.models.Sequential()\n",
    "\n",
    "# Add another Dense Layer which has 110 neurons and applying sigmoid activation\n",
    "model.add(tf.keras.layers.Dense(110, input_shape=(1024,), activation='sigmoid'))\n",
    "\n",
    "## Adding a droupout rate of 5% so that during each epoch some neurons are dropped so that each and every neuron are trained with the data atleast once\n",
    "model.add(tf.keras.layers.Dropout(rate=0.05))\n",
    "\n",
    "# Add another Dense Layer which has 110 neurons and applying sigmoid activation\n",
    "model.add(tf.keras.layers.Dense(50, activation='sigmoid'))\n",
    "\n",
    "# Add output Dense Layer which has 1 neuron which provides final binary output and applying sigmoid activation\n",
    "model.add(tf.keras.layers.Dense(10, activation='sigmoid'))\n",
    "\n",
    "## Summarising the model\n",
    "model.summary()\n",
    "\n",
    "## Fitting the model on train data and validating it on the test data with 50 epochs\n",
    "model.compile(optimizer='sgd', loss='categorical_crossentropy', metrics=['accuracy'])\n",
    "model.fit(xtrain, ytrain, validation_data=(xval, yval),epochs=50)"
   ]
  },
  {
   "cell_type": "markdown",
   "metadata": {
    "colab_type": "text",
    "id": "W3-RySSBHN_n"
   },
   "source": [
    "Simple Neural Network with Sigmoid activation and adam optimiser"
   ]
  },
  {
   "cell_type": "code",
   "execution_count": 30,
   "metadata": {
    "colab": {
     "base_uri": "https://localhost:8080/",
     "height": 1000
    },
    "colab_type": "code",
    "id": "LoT-TbdpFfzT",
    "outputId": "283e0d84-1b27-4869-d7d6-dd7a9a9fba2f"
   },
   "outputs": [
    {
     "name": "stdout",
     "output_type": "stream",
     "text": [
      "Model: \"sequential_3\"\n",
      "_________________________________________________________________\n",
      "Layer (type)                 Output Shape              Param #   \n",
      "=================================================================\n",
      "dense_9 (Dense)              (None, 220)               225500    \n",
      "_________________________________________________________________\n",
      "dense_10 (Dense)             (None, 110)               24310     \n",
      "_________________________________________________________________\n",
      "dropout_3 (Dropout)          (None, 110)               0         \n",
      "_________________________________________________________________\n",
      "dense_11 (Dense)             (None, 50)                5550      \n",
      "_________________________________________________________________\n",
      "dropout_4 (Dropout)          (None, 50)                0         \n",
      "_________________________________________________________________\n",
      "dense_12 (Dense)             (None, 10)                510       \n",
      "=================================================================\n",
      "Total params: 255,870\n",
      "Trainable params: 255,870\n",
      "Non-trainable params: 0\n",
      "_________________________________________________________________\n",
      "Train on 29400 samples, validate on 12600 samples\n",
      "Epoch 1/50\n",
      "29400/29400 [==============================] - 6s 194us/sample - loss: 2.3030 - accuracy: 0.1065 - val_loss: 2.2661 - val_accuracy: 0.1303\n",
      "Epoch 2/50\n",
      "29400/29400 [==============================] - 5s 166us/sample - loss: 2.0885 - accuracy: 0.2044 - val_loss: 1.8897 - val_accuracy: 0.2955\n",
      "Epoch 3/50\n",
      "29400/29400 [==============================] - 5s 165us/sample - loss: 1.7938 - accuracy: 0.3276 - val_loss: 1.6778 - val_accuracy: 0.3763\n",
      "Epoch 4/50\n",
      "29400/29400 [==============================] - 5s 159us/sample - loss: 1.6473 - accuracy: 0.3886 - val_loss: 1.5506 - val_accuracy: 0.4283\n",
      "Epoch 5/50\n",
      "29400/29400 [==============================] - 5s 158us/sample - loss: 1.5357 - accuracy: 0.4489 - val_loss: 1.5379 - val_accuracy: 0.4355\n",
      "Epoch 6/50\n",
      "29400/29400 [==============================] - 5s 172us/sample - loss: 1.4117 - accuracy: 0.5135 - val_loss: 1.3108 - val_accuracy: 0.5615\n",
      "Epoch 7/50\n",
      "29400/29400 [==============================] - 5s 168us/sample - loss: 1.3097 - accuracy: 0.5516 - val_loss: 1.2388 - val_accuracy: 0.5809\n",
      "Epoch 8/50\n",
      "29400/29400 [==============================] - 5s 159us/sample - loss: 1.2390 - accuracy: 0.5799 - val_loss: 1.2119 - val_accuracy: 0.5955\n",
      "Epoch 9/50\n",
      "29400/29400 [==============================] - 5s 162us/sample - loss: 1.1847 - accuracy: 0.5998 - val_loss: 1.1674 - val_accuracy: 0.6030\n",
      "Epoch 10/50\n",
      "29400/29400 [==============================] - 5s 169us/sample - loss: 1.1478 - accuracy: 0.6132 - val_loss: 1.0953 - val_accuracy: 0.6363\n",
      "Epoch 11/50\n",
      "29400/29400 [==============================] - 5s 174us/sample - loss: 1.1135 - accuracy: 0.6268 - val_loss: 1.0546 - val_accuracy: 0.6506\n",
      "Epoch 12/50\n",
      "29400/29400 [==============================] - 5s 163us/sample - loss: 1.0770 - accuracy: 0.6405 - val_loss: 1.1867 - val_accuracy: 0.5992\n",
      "Epoch 13/50\n",
      "29400/29400 [==============================] - 5s 166us/sample - loss: 1.0485 - accuracy: 0.6469 - val_loss: 1.0382 - val_accuracy: 0.6562\n",
      "Epoch 14/50\n",
      "29400/29400 [==============================] - 5s 161us/sample - loss: 1.0262 - accuracy: 0.6580 - val_loss: 1.0082 - val_accuracy: 0.6644\n",
      "Epoch 15/50\n",
      "29400/29400 [==============================] - 5s 167us/sample - loss: 0.9986 - accuracy: 0.6672 - val_loss: 0.9781 - val_accuracy: 0.6744\n",
      "Epoch 16/50\n",
      "29400/29400 [==============================] - 5s 169us/sample - loss: 0.9742 - accuracy: 0.6764 - val_loss: 1.0321 - val_accuracy: 0.6554\n",
      "Epoch 17/50\n",
      "29400/29400 [==============================] - 5s 162us/sample - loss: 0.9562 - accuracy: 0.6819 - val_loss: 0.9564 - val_accuracy: 0.6816\n",
      "Epoch 18/50\n",
      "29400/29400 [==============================] - 5s 164us/sample - loss: 0.9404 - accuracy: 0.6905 - val_loss: 0.9144 - val_accuracy: 0.6958\n",
      "Epoch 19/50\n",
      "29400/29400 [==============================] - 5s 165us/sample - loss: 0.9135 - accuracy: 0.6999 - val_loss: 0.9184 - val_accuracy: 0.6995\n",
      "Epoch 20/50\n",
      "29400/29400 [==============================] - 5s 166us/sample - loss: 0.9013 - accuracy: 0.7040 - val_loss: 0.8792 - val_accuracy: 0.7183\n",
      "Epoch 21/50\n",
      "29400/29400 [==============================] - 5s 171us/sample - loss: 0.8867 - accuracy: 0.7092 - val_loss: 0.9148 - val_accuracy: 0.6982\n",
      "Epoch 22/50\n",
      "29400/29400 [==============================] - 5s 164us/sample - loss: 0.8679 - accuracy: 0.7170 - val_loss: 0.8870 - val_accuracy: 0.7092\n",
      "Epoch 23/50\n",
      "29400/29400 [==============================] - 5s 164us/sample - loss: 0.8548 - accuracy: 0.7192 - val_loss: 0.8517 - val_accuracy: 0.7266\n",
      "Epoch 24/50\n",
      "29400/29400 [==============================] - 5s 161us/sample - loss: 0.8333 - accuracy: 0.7283 - val_loss: 0.8414 - val_accuracy: 0.7303\n",
      "Epoch 25/50\n",
      "29400/29400 [==============================] - 5s 165us/sample - loss: 0.8183 - accuracy: 0.7332 - val_loss: 0.8676 - val_accuracy: 0.7244\n",
      "Epoch 26/50\n",
      "29400/29400 [==============================] - 5s 163us/sample - loss: 0.8063 - accuracy: 0.7385 - val_loss: 0.8531 - val_accuracy: 0.7233\n",
      "Epoch 27/50\n",
      "29400/29400 [==============================] - 5s 161us/sample - loss: 0.7958 - accuracy: 0.7411 - val_loss: 0.8958 - val_accuracy: 0.7022\n",
      "Epoch 28/50\n",
      "29400/29400 [==============================] - 5s 170us/sample - loss: 0.7879 - accuracy: 0.7431 - val_loss: 0.7865 - val_accuracy: 0.7512\n",
      "Epoch 29/50\n",
      "29400/29400 [==============================] - 5s 172us/sample - loss: 0.7667 - accuracy: 0.7520 - val_loss: 0.8193 - val_accuracy: 0.7355\n",
      "Epoch 30/50\n",
      "29400/29400 [==============================] - 5s 166us/sample - loss: 0.7494 - accuracy: 0.7596 - val_loss: 0.8114 - val_accuracy: 0.7463\n",
      "Epoch 31/50\n",
      "29400/29400 [==============================] - 5s 162us/sample - loss: 0.7425 - accuracy: 0.7624 - val_loss: 0.7985 - val_accuracy: 0.7440\n",
      "Epoch 32/50\n",
      "29400/29400 [==============================] - 5s 169us/sample - loss: 0.7288 - accuracy: 0.7624 - val_loss: 0.7827 - val_accuracy: 0.7502\n",
      "Epoch 33/50\n",
      "29400/29400 [==============================] - 5s 161us/sample - loss: 0.7163 - accuracy: 0.7697 - val_loss: 0.7721 - val_accuracy: 0.7598\n",
      "Epoch 34/50\n",
      "29400/29400 [==============================] - 5s 174us/sample - loss: 0.7098 - accuracy: 0.7715 - val_loss: 0.7550 - val_accuracy: 0.7650\n",
      "Epoch 35/50\n",
      "29400/29400 [==============================] - 5s 172us/sample - loss: 0.6980 - accuracy: 0.7760 - val_loss: 0.8346 - val_accuracy: 0.7306\n",
      "Epoch 36/50\n",
      "29400/29400 [==============================] - 5s 165us/sample - loss: 0.6897 - accuracy: 0.7806 - val_loss: 0.7694 - val_accuracy: 0.7566\n",
      "Epoch 37/50\n",
      "29400/29400 [==============================] - 5s 164us/sample - loss: 0.6801 - accuracy: 0.7826 - val_loss: 0.8082 - val_accuracy: 0.7467\n",
      "Epoch 38/50\n",
      "29400/29400 [==============================] - 5s 167us/sample - loss: 0.6756 - accuracy: 0.7838 - val_loss: 0.7387 - val_accuracy: 0.7670\n",
      "Epoch 39/50\n",
      "29400/29400 [==============================] - 5s 159us/sample - loss: 0.6653 - accuracy: 0.7858 - val_loss: 0.7264 - val_accuracy: 0.7742\n",
      "Epoch 40/50\n",
      "29400/29400 [==============================] - 5s 162us/sample - loss: 0.6510 - accuracy: 0.7904 - val_loss: 0.7855 - val_accuracy: 0.7521\n",
      "Epoch 41/50\n",
      "29400/29400 [==============================] - 5s 176us/sample - loss: 0.6465 - accuracy: 0.7932 - val_loss: 0.7251 - val_accuracy: 0.7740\n",
      "Epoch 42/50\n",
      "29400/29400 [==============================] - 5s 168us/sample - loss: 0.6432 - accuracy: 0.7946 - val_loss: 0.7500 - val_accuracy: 0.7698\n",
      "Epoch 43/50\n",
      "29400/29400 [==============================] - 5s 162us/sample - loss: 0.6255 - accuracy: 0.7988 - val_loss: 0.7728 - val_accuracy: 0.7598\n",
      "Epoch 44/50\n",
      "29400/29400 [==============================] - 5s 166us/sample - loss: 0.6258 - accuracy: 0.7995 - val_loss: 0.7408 - val_accuracy: 0.7683\n",
      "Epoch 45/50\n",
      "29400/29400 [==============================] - 5s 160us/sample - loss: 0.6143 - accuracy: 0.8039 - val_loss: 0.7075 - val_accuracy: 0.7857\n",
      "Epoch 46/50\n",
      "29400/29400 [==============================] - 5s 173us/sample - loss: 0.6036 - accuracy: 0.8068 - val_loss: 0.7328 - val_accuracy: 0.7713\n",
      "Epoch 47/50\n",
      "29400/29400 [==============================] - 5s 164us/sample - loss: 0.5967 - accuracy: 0.8085 - val_loss: 0.6994 - val_accuracy: 0.7899\n",
      "Epoch 48/50\n",
      "29400/29400 [==============================] - 5s 166us/sample - loss: 0.5971 - accuracy: 0.8075 - val_loss: 0.7423 - val_accuracy: 0.7709\n",
      "Epoch 49/50\n",
      "29400/29400 [==============================] - 5s 162us/sample - loss: 0.5877 - accuracy: 0.8127 - val_loss: 0.7316 - val_accuracy: 0.7754\n",
      "Epoch 50/50\n",
      "29400/29400 [==============================] - 5s 164us/sample - loss: 0.5866 - accuracy: 0.8144 - val_loss: 0.7302 - val_accuracy: 0.7755\n"
     ]
    },
    {
     "data": {
      "text/plain": [
       "<tensorflow.python.keras.callbacks.History at 0x7fdb1c130d30>"
      ]
     },
     "execution_count": 30,
     "metadata": {
      "tags": []
     },
     "output_type": "execute_result"
    }
   ],
   "source": [
    "## Creating a sequential model\n",
    "Model = tf.keras.models.Sequential()\n",
    "\n",
    "# Add Dense Layer which has 110 neurons and applying sigmoid activation \n",
    "Model.add(tf.keras.layers.Dense(220,input_shape=(1024,), activation='sigmoid'))\n",
    "\n",
    "# Add another Dense Layer which has 110 neurons and applying sigmoid activation\n",
    "Model.add(tf.keras.layers.Dense(110, activation='sigmoid'))\n",
    "\n",
    "## Adding a droupout rate of 5% so that during each epoch some neurons are dropped so that each and every neuron are trained with the data atleast once\n",
    "Model.add(tf.keras.layers.Dropout(rate=0.05))\n",
    "\n",
    "# Add another Dense Layer which has 110 neurons and applying sigmoid activation\n",
    "Model.add(tf.keras.layers.Dense(50, activation='sigmoid'))\n",
    "\n",
    "## Adding a droupout rate of 5% so that during each epoch some neurons are dropped so that each and every neuron are trained with the data atleast once\n",
    "Model.add(tf.keras.layers.Dropout(rate=0.05))\n",
    "\n",
    "# Add output Dense Layer which has 10 neuron which provides final binary output and applying sigmoid activation\n",
    "Model.add(tf.keras.layers.Dense(10, activation='sigmoid'))\n",
    "\n",
    "## Summarising the model\n",
    "Model.summary()\n",
    "\n",
    "## Fitting the model on train data and validating it on the test data with 50 epochs\n",
    "Model.compile(optimizer='adam', loss='categorical_crossentropy', metrics=['accuracy'])\n",
    "Model.fit(xtrain, ytrain, validation_data=(xval, yval),epochs=50)"
   ]
  },
  {
   "cell_type": "markdown",
   "metadata": {
    "colab_type": "text",
    "id": "VaMhdWGpHSjj"
   },
   "source": [
    "Deep Neural Network with Relu activation and sgd optimiser with learning rate"
   ]
  },
  {
   "cell_type": "code",
   "execution_count": 0,
   "metadata": {
    "colab": {},
    "colab_type": "code",
    "id": "0YD-Iop45Fie"
   },
   "outputs": [],
   "source": [
    "## Creating a sequential model\n",
    "model1 = tf.keras.models.Sequential()\n",
    "# Add Dense Layer which has 110 neurons and applying relu activation\n",
    "model1.add(tf.keras.layers.Dense(220,input_shape=(1024,), activation='relu'))\n",
    "\n",
    "# Normalize the data\n",
    "model1.add(tf.keras.layers.BatchNormalization())\n",
    "\n",
    "## Adding a droupout rate of 5% so that during each epoch some neurons are dropped so that each and every neuron are trained with the data atleast once\n",
    "model1.add(tf.keras.layers.Dropout(rate=0.05))\n",
    "\n",
    "# Add another Dense Layer which has 110 neurons and applying relu activation\n",
    "model1.add(tf.keras.layers.Dense(110, activation='relu'))\n",
    "\n",
    "## Adding a droupout rate of 5% so that during each epoch some neurons are dropped so that each and every neuron are trained with the data atleast once\n",
    "model1.add(tf.keras.layers.Dropout(rate=0.05))\n",
    "\n",
    "# Add another Dense Layer which has 110 neurons and applying relu activation\n",
    "model1.add(tf.keras.layers.Dense(50, activation='relu'))\n",
    "\n",
    "\n",
    "## Adding a droupout rate of 5% so that during each epoch some neurons are dropped so that each and every neuron are trained with the data atleast once\n",
    "model1.add(tf.keras.layers.Dropout(rate=0.05))\n",
    "\n",
    "# Add output Dense Layer which has 1 neuron which provides final binary output and applying sigmoid activation\n",
    "model1.add(tf.keras.layers.Dense(10, activation='sigmoid'))"
   ]
  },
  {
   "cell_type": "code",
   "execution_count": 32,
   "metadata": {
    "colab": {
     "base_uri": "https://localhost:8080/",
     "height": 425
    },
    "colab_type": "code",
    "id": "mAMIYvAd5Uef",
    "outputId": "8efb0e78-6437-47f5-cc89-58f6a4655ba7"
   },
   "outputs": [
    {
     "name": "stdout",
     "output_type": "stream",
     "text": [
      "Model: \"sequential_4\"\n",
      "_________________________________________________________________\n",
      "Layer (type)                 Output Shape              Param #   \n",
      "=================================================================\n",
      "dense_13 (Dense)             (None, 220)               225500    \n",
      "_________________________________________________________________\n",
      "batch_normalization (BatchNo (None, 220)               880       \n",
      "_________________________________________________________________\n",
      "dropout_5 (Dropout)          (None, 220)               0         \n",
      "_________________________________________________________________\n",
      "dense_14 (Dense)             (None, 110)               24310     \n",
      "_________________________________________________________________\n",
      "dropout_6 (Dropout)          (None, 110)               0         \n",
      "_________________________________________________________________\n",
      "dense_15 (Dense)             (None, 50)                5550      \n",
      "_________________________________________________________________\n",
      "dropout_7 (Dropout)          (None, 50)                0         \n",
      "_________________________________________________________________\n",
      "dense_16 (Dense)             (None, 10)                510       \n",
      "=================================================================\n",
      "Total params: 256,750\n",
      "Trainable params: 256,310\n",
      "Non-trainable params: 440\n",
      "_________________________________________________________________\n"
     ]
    }
   ],
   "source": [
    "## Summarising the model\n",
    "model1.summary()"
   ]
  },
  {
   "cell_type": "code",
   "execution_count": 0,
   "metadata": {
    "colab": {},
    "colab_type": "code",
    "id": "Qdcx0-1b6-NO"
   },
   "outputs": [],
   "source": [
    "## Initialising a learning rate to have a optimal gradient descent ( acceptable range of minimium error)\n",
    "from tensorflow.keras.optimizers import SGD\n",
    "learning_rate=0.03\n",
    "sgd = SGD(lr=learning_rate)"
   ]
  },
  {
   "cell_type": "code",
   "execution_count": 34,
   "metadata": {
    "colab": {
     "base_uri": "https://localhost:8080/",
     "height": 1000
    },
    "colab_type": "code",
    "id": "Ja1bD2Jt7CjM",
    "outputId": "79ef426b-c190-4492-aad2-2b9315288dc2"
   },
   "outputs": [
    {
     "name": "stdout",
     "output_type": "stream",
     "text": [
      "Train on 29400 samples, validate on 12600 samples\n",
      "Epoch 1/50\n",
      "29400/29400 [==============================] - 6s 209us/sample - loss: 2.0124 - accuracy: 0.2900 - val_loss: 1.7950 - val_accuracy: 0.3586\n",
      "Epoch 2/50\n",
      "29400/29400 [==============================] - 5s 160us/sample - loss: 1.6058 - accuracy: 0.4546 - val_loss: 2.8096 - val_accuracy: 0.2378\n",
      "Epoch 3/50\n",
      "29400/29400 [==============================] - 5s 172us/sample - loss: 1.5477 - accuracy: 0.4768 - val_loss: 1.6678 - val_accuracy: 0.4446\n",
      "Epoch 4/50\n",
      "29400/29400 [==============================] - 5s 179us/sample - loss: 1.4284 - accuracy: 0.5296 - val_loss: 3.2298 - val_accuracy: 0.2418\n",
      "Epoch 5/50\n",
      "29400/29400 [==============================] - 5s 173us/sample - loss: 1.3325 - accuracy: 0.5700 - val_loss: 2.6691 - val_accuracy: 0.3097\n",
      "Epoch 6/50\n",
      "29400/29400 [==============================] - 5s 171us/sample - loss: 1.3300 - accuracy: 0.5725 - val_loss: 1.5992 - val_accuracy: 0.4761\n",
      "Epoch 7/50\n",
      "29400/29400 [==============================] - 5s 169us/sample - loss: 1.2659 - accuracy: 0.5937 - val_loss: 1.3011 - val_accuracy: 0.5952\n",
      "Epoch 8/50\n",
      "29400/29400 [==============================] - 5s 172us/sample - loss: 1.2574 - accuracy: 0.5985 - val_loss: 1.6402 - val_accuracy: 0.4844\n",
      "Epoch 9/50\n",
      "29400/29400 [==============================] - 5s 177us/sample - loss: 1.2258 - accuracy: 0.6049 - val_loss: 1.2104 - val_accuracy: 0.6164\n",
      "Epoch 10/50\n",
      "29400/29400 [==============================] - 5s 170us/sample - loss: 1.1985 - accuracy: 0.6181 - val_loss: 1.3619 - val_accuracy: 0.5692\n",
      "Epoch 11/50\n",
      "29400/29400 [==============================] - 5s 165us/sample - loss: 1.1902 - accuracy: 0.6208 - val_loss: 1.1300 - val_accuracy: 0.6460\n",
      "Epoch 12/50\n",
      "29400/29400 [==============================] - 5s 177us/sample - loss: 1.1847 - accuracy: 0.6226 - val_loss: 1.1128 - val_accuracy: 0.6537\n",
      "Epoch 13/50\n",
      "29400/29400 [==============================] - 5s 176us/sample - loss: 1.1621 - accuracy: 0.6279 - val_loss: 1.2722 - val_accuracy: 0.5775\n",
      "Epoch 14/50\n",
      "29400/29400 [==============================] - 5s 173us/sample - loss: 1.1668 - accuracy: 0.6287 - val_loss: 1.1484 - val_accuracy: 0.6315\n",
      "Epoch 15/50\n",
      "29400/29400 [==============================] - 5s 168us/sample - loss: 1.1620 - accuracy: 0.6295 - val_loss: 1.2994 - val_accuracy: 0.5802\n",
      "Epoch 16/50\n",
      "29400/29400 [==============================] - 5s 167us/sample - loss: 1.1486 - accuracy: 0.6308 - val_loss: 1.1688 - val_accuracy: 0.6289\n",
      "Epoch 17/50\n",
      "29400/29400 [==============================] - 5s 165us/sample - loss: 1.1389 - accuracy: 0.6342 - val_loss: 1.3518 - val_accuracy: 0.5700\n",
      "Epoch 18/50\n",
      "29400/29400 [==============================] - 5s 177us/sample - loss: 1.1452 - accuracy: 0.6323 - val_loss: 1.0694 - val_accuracy: 0.6677\n",
      "Epoch 19/50\n",
      "29400/29400 [==============================] - 5s 171us/sample - loss: 1.1268 - accuracy: 0.6409 - val_loss: 1.1328 - val_accuracy: 0.6446\n",
      "Epoch 20/50\n",
      "29400/29400 [==============================] - 5s 167us/sample - loss: 1.1276 - accuracy: 0.6378 - val_loss: 1.0045 - val_accuracy: 0.6789\n",
      "Epoch 21/50\n",
      "29400/29400 [==============================] - 5s 165us/sample - loss: 1.1242 - accuracy: 0.6394 - val_loss: 1.1597 - val_accuracy: 0.6296\n",
      "Epoch 22/50\n",
      "29400/29400 [==============================] - 5s 162us/sample - loss: 1.1141 - accuracy: 0.6427 - val_loss: 1.1104 - val_accuracy: 0.6396\n",
      "Epoch 23/50\n",
      "29400/29400 [==============================] - 5s 156us/sample - loss: 1.1157 - accuracy: 0.6420 - val_loss: 1.0721 - val_accuracy: 0.6556\n",
      "Epoch 24/50\n",
      "29400/29400 [==============================] - 5s 165us/sample - loss: 1.1088 - accuracy: 0.6462 - val_loss: 0.9487 - val_accuracy: 0.6987\n",
      "Epoch 25/50\n",
      "29400/29400 [==============================] - 5s 176us/sample - loss: 1.0992 - accuracy: 0.6471 - val_loss: 1.0214 - val_accuracy: 0.6737\n",
      "Epoch 26/50\n",
      "29400/29400 [==============================] - 5s 176us/sample - loss: 1.0871 - accuracy: 0.6549 - val_loss: 0.9990 - val_accuracy: 0.6813\n",
      "Epoch 27/50\n",
      "29400/29400 [==============================] - 5s 166us/sample - loss: 1.0889 - accuracy: 0.6517 - val_loss: 1.0682 - val_accuracy: 0.6566\n",
      "Epoch 28/50\n",
      "29400/29400 [==============================] - 5s 168us/sample - loss: 1.0742 - accuracy: 0.6560 - val_loss: 0.9597 - val_accuracy: 0.6979\n",
      "Epoch 29/50\n",
      "29400/29400 [==============================] - 5s 162us/sample - loss: 1.0650 - accuracy: 0.6586 - val_loss: 0.9443 - val_accuracy: 0.7029\n",
      "Epoch 30/50\n",
      "29400/29400 [==============================] - 5s 162us/sample - loss: 1.0636 - accuracy: 0.6604 - val_loss: 1.0373 - val_accuracy: 0.6775\n",
      "Epoch 31/50\n",
      "29400/29400 [==============================] - 5s 166us/sample - loss: 1.0484 - accuracy: 0.6622 - val_loss: 1.0092 - val_accuracy: 0.6785\n",
      "Epoch 32/50\n",
      "29400/29400 [==============================] - 5s 162us/sample - loss: 1.0363 - accuracy: 0.6665 - val_loss: 1.0446 - val_accuracy: 0.6670\n",
      "Epoch 33/50\n",
      "29400/29400 [==============================] - 5s 184us/sample - loss: 1.0348 - accuracy: 0.6684 - val_loss: 1.0421 - val_accuracy: 0.6717\n",
      "Epoch 34/50\n",
      "29400/29400 [==============================] - 6s 188us/sample - loss: 1.0320 - accuracy: 0.6696 - val_loss: 1.0123 - val_accuracy: 0.6787\n",
      "Epoch 35/50\n",
      "29400/29400 [==============================] - 5s 171us/sample - loss: 1.0271 - accuracy: 0.6706 - val_loss: 0.9338 - val_accuracy: 0.7042\n",
      "Epoch 36/50\n",
      "29400/29400 [==============================] - 5s 171us/sample - loss: 1.0333 - accuracy: 0.6691 - val_loss: 1.0059 - val_accuracy: 0.6784\n",
      "Epoch 37/50\n",
      "29400/29400 [==============================] - 5s 173us/sample - loss: 1.0305 - accuracy: 0.6693 - val_loss: 1.0556 - val_accuracy: 0.6619\n",
      "Epoch 38/50\n",
      "29400/29400 [==============================] - 5s 177us/sample - loss: 1.0393 - accuracy: 0.6666 - val_loss: 0.9836 - val_accuracy: 0.6888\n",
      "Epoch 39/50\n",
      "29400/29400 [==============================] - 5s 170us/sample - loss: 1.0416 - accuracy: 0.6636 - val_loss: 0.9711 - val_accuracy: 0.7008\n",
      "Epoch 40/50\n",
      "29400/29400 [==============================] - 5s 175us/sample - loss: 1.0206 - accuracy: 0.6712 - val_loss: 0.8992 - val_accuracy: 0.7187\n",
      "Epoch 41/50\n",
      "29400/29400 [==============================] - 5s 170us/sample - loss: 1.0183 - accuracy: 0.6731 - val_loss: 0.9857 - val_accuracy: 0.6817\n",
      "Epoch 42/50\n",
      "29400/29400 [==============================] - 5s 170us/sample - loss: 1.0177 - accuracy: 0.6754 - val_loss: 1.0356 - val_accuracy: 0.6796\n",
      "Epoch 43/50\n",
      "29400/29400 [==============================] - 5s 170us/sample - loss: 1.0119 - accuracy: 0.6750 - val_loss: 0.9679 - val_accuracy: 0.6902\n",
      "Epoch 44/50\n",
      "29400/29400 [==============================] - 5s 178us/sample - loss: 1.0062 - accuracy: 0.6746 - val_loss: 0.9137 - val_accuracy: 0.7133\n",
      "Epoch 45/50\n",
      "29400/29400 [==============================] - 5s 180us/sample - loss: 1.0036 - accuracy: 0.6809 - val_loss: 0.9043 - val_accuracy: 0.7167\n",
      "Epoch 46/50\n",
      "29400/29400 [==============================] - 5s 180us/sample - loss: 0.9941 - accuracy: 0.6801 - val_loss: 0.9544 - val_accuracy: 0.6991\n",
      "Epoch 47/50\n",
      "29400/29400 [==============================] - 5s 177us/sample - loss: 0.9846 - accuracy: 0.6855 - val_loss: 1.0043 - val_accuracy: 0.6812\n",
      "Epoch 48/50\n",
      "29400/29400 [==============================] - 6s 188us/sample - loss: 0.9893 - accuracy: 0.6824 - val_loss: 0.8899 - val_accuracy: 0.7221\n",
      "Epoch 49/50\n",
      "29400/29400 [==============================] - 5s 185us/sample - loss: 0.9816 - accuracy: 0.6847 - val_loss: 0.9580 - val_accuracy: 0.6954\n",
      "Epoch 50/50\n",
      "29400/29400 [==============================] - 5s 175us/sample - loss: 0.9651 - accuracy: 0.6896 - val_loss: 0.8783 - val_accuracy: 0.7271\n"
     ]
    }
   ],
   "source": [
    "## Fitting the model on train data and validating it on the test data with 50 epochs\n",
    "model1.compile(optimizer=sgd, loss='categorical_crossentropy', metrics=['accuracy'])\n",
    "history=model1.fit(xtrain, ytrain, validation_data=(xval, yval),epochs=50)"
   ]
  },
  {
   "cell_type": "code",
   "execution_count": 35,
   "metadata": {
    "colab": {
     "base_uri": "https://localhost:8080/",
     "height": 295
    },
    "colab_type": "code",
    "id": "0f930hwO7Q0g",
    "outputId": "bcb03eac-8e56-4d96-8e9d-e66f6910a25d"
   },
   "outputs": [
    {
     "data": {
      "image/png": "[encoded data removed]",
      "text/plain": [
       "<Figure size 432x288 with 1 Axes>"
      ]
     },
     "metadata": {
      "tags": []
     },
     "output_type": "display_data"
    }
   ],
   "source": [
    "plt.plot(np.array(history.history['accuracy']) * 100)\n",
    "plt.plot(np.array(history.history['val_accuracy']) * 100)\n",
    "plt.ylabel('accuracy')\n",
    "plt.xlabel('epochs')\n",
    "plt.legend(['train', 'test'])\n",
    "plt.title('Accuracy over epochs')\n",
    "plt.show()\n"
   ]
  },
  {
   "cell_type": "code",
   "execution_count": 0,
   "metadata": {
    "colab": {},
    "colab_type": "code",
    "id": "SFCOwmbu7mAg"
   },
   "outputs": [],
   "source": [
    "## Predicting the values of target variable using the model built\n",
    "y_pred = model1.predict(X_test)"
   ]
  },
  {
   "cell_type": "code",
   "execution_count": 37,
   "metadata": {
    "colab": {
     "base_uri": "https://localhost:8080/",
     "height": 238
    },
    "colab_type": "code",
    "id": "TS3D6nQTz25a",
    "outputId": "ba248877-59e9-4388-d160-87038d9e0148"
   },
   "outputs": [
    {
     "data": {
      "text/plain": [
       "array([[2.8017797e-02, 1.7978473e-02, 5.6344657e-03, ..., 2.1410011e-02,\n",
       "        1.7380819e-02, 1.0603510e-02],\n",
       "       [5.3916137e-05, 8.4833933e-05, 1.0220905e-02, ..., 1.5678641e-03,\n",
       "        4.7757101e-05, 1.4554093e-05],\n",
       "       [9.2310336e-05, 1.1590973e-04, 8.0328897e-02, ..., 2.1196659e-04,\n",
       "        2.3077744e-04, 1.5132247e-04],\n",
       "       ...,\n",
       "       [6.0126692e-04, 1.2009291e-02, 1.4514205e-03, ..., 6.8800166e-02,\n",
       "        1.3758823e-04, 4.7939637e-04],\n",
       "       [3.0034690e-03, 5.5485880e-03, 3.8863590e-03, ..., 3.6012582e-03,\n",
       "        2.9917255e-02, 1.3249975e-01],\n",
       "       [1.2373332e-04, 3.3234315e-05, 5.4767128e-02, ..., 1.4897849e-04,\n",
       "        3.9910701e-05, 1.9012448e-05]], dtype=float32)"
      ]
     },
     "execution_count": 37,
     "metadata": {
      "tags": []
     },
     "output_type": "execute_result"
    }
   ],
   "source": [
    "y_pred"
   ]
  },
  {
   "cell_type": "code",
   "execution_count": 38,
   "metadata": {
    "colab": {
     "base_uri": "https://localhost:8080/",
     "height": 537
    },
    "colab_type": "code",
    "id": "NEt7Ba9p7W6p",
    "outputId": "0f42e137-c224-4211-9600-30e6a64928d9"
   },
   "outputs": [
    {
     "name": "stdout",
     "output_type": "stream",
     "text": [
      "[[1371   97   20   16   58   11   70   45   30   96]\n",
      " [  68 1478   25   45   64   23   17   62   18   28]\n",
      " [  25   99 1302   34   51   30   26  143   35   58]\n",
      " [  42  170   37 1131   44  126   15   81   34   39]\n",
      " [  58   84   35   28 1440   23   60   19   23   42]\n",
      " [  68  109   39  128   38 1170   76   41   45   54]\n",
      " [  80   58   32   23  102   69 1319   31   80   38]\n",
      " [  32  146   93   25   27   17   22 1401   13   32]\n",
      " [  62  118   29   39   82   60  119   40 1176   87]\n",
      " [  98   94   48   55   67   48   18   48   77 1251]]\n"
     ]
    },
    {
     "data": {
      "text/plain": [
       "Text(0.5, 24.0, 'Predicted')"
      ]
     },
     "execution_count": 38,
     "metadata": {
      "tags": []
     },
     "output_type": "execute_result"
    },
    {
     "data": {
      "image/png": "[encoded data removed]",
      "text/plain": [
       "<Figure size 360x360 with 2 Axes>"
      ]
     },
     "metadata": {
      "tags": []
     },
     "output_type": "display_data"
    }
   ],
   "source": [
    "## Printing the confusion matrix to find the total number of correctly predicted results\n",
    "cm = confusion_matrix(y_test, y_pred.argmax(axis=1))\n",
    "print(cm)\n",
    "plt.figure(figsize = (5,5))\n",
    "plt.title(\"Confusion Matrix\")\n",
    "sns.heatmap(cm,annot=True,fmt='g')\n",
    "plt.ylabel(\"Actual\")\n",
    "plt.xlabel(\"Predicted\")"
   ]
  },
  {
   "cell_type": "code",
   "execution_count": 39,
   "metadata": {
    "colab": {
     "base_uri": "https://localhost:8080/",
     "height": 306
    },
    "colab_type": "code",
    "id": "vuodpOim7cOg",
    "outputId": "f3dc5b48-b3c7-4bc3-8184-8d3fe70cbd33"
   },
   "outputs": [
    {
     "name": "stdout",
     "output_type": "stream",
     "text": [
      "              precision    recall  f1-score   support\n",
      "\n",
      "           0       0.72      0.76      0.74      1814\n",
      "           1       0.60      0.81      0.69      1828\n",
      "           2       0.78      0.72      0.75      1803\n",
      "           3       0.74      0.66      0.70      1719\n",
      "           4       0.73      0.79      0.76      1812\n",
      "           5       0.74      0.66      0.70      1768\n",
      "           6       0.76      0.72      0.74      1832\n",
      "           7       0.73      0.77      0.75      1808\n",
      "           8       0.77      0.65      0.70      1812\n",
      "           9       0.73      0.69      0.71      1804\n",
      "\n",
      "    accuracy                           0.72     18000\n",
      "   macro avg       0.73      0.72      0.72     18000\n",
      "weighted avg       0.73      0.72      0.72     18000\n",
      "\n"
     ]
    }
   ],
   "source": [
    "from sklearn.metrics import classification_report\n",
    "print(classification_report(y_test, y_pred.argmax(axis=1)))"
   ]
  },
  {
   "cell_type": "markdown",
   "metadata": {
    "colab_type": "text",
    "id": "V1LWGYLNHmeq"
   },
   "source": [
    "**From the above two models being analysed on the dataset**\n",
    "\n",
    "It is observed that\n",
    "\n",
    "1) Traditional models like KNN are taking a very longer time to execute the image type datsets and accuracy is found to be very low of 44% compared to the neural networks.\n",
    "\n",
    "2) Speed and computational capability are high for neural networks and accuracy is found to be around 72%.\n",
    "\n"
   ]
  }
 ],
 "metadata": {
  "accelerator": "TPU",
  "colab": {
   "name": "NeuralNetworks(INNDL)_R7_Project2_SVHN.ipynb",
   "provenance": []
  },
  "kernelspec": {
   "display_name": "Python 3",
   "language": "python",
   "name": "python3"
  },
  "language_info": {
   "codemirror_mode": {
    "name": "ipython",
    "version": 3
   },
   "file_extension": ".py",
   "mimetype": "text/x-python",
   "name": "python",
   "nbconvert_exporter": "python",
   "pygments_lexer": "ipython3",
   "version": "3.7.3"
  }
 },
 "nbformat": 4,
 "nbformat_minor": 1
}
