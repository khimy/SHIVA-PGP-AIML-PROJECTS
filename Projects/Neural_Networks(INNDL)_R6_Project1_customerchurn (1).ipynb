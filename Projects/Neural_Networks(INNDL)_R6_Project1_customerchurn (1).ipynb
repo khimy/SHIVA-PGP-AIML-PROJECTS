{
  "nbformat": 4,
  "nbformat_minor": 0,
  "metadata": {
    "kernelspec": {
      "display_name": "Python 3",
      "language": "python",
      "name": "python3"
    },
    "language_info": {
      "codemirror_mode": {
        "name": "ipython",
        "version": 3
      },
      "file_extension": ".py",
      "mimetype": "text/x-python",
      "name": "python",
      "nbconvert_exporter": "python",
      "pygments_lexer": "ipython3",
      "version": "3.7.3"
    },
    "colab": {
      "name": "Neural Networks(INNDL)_R6_Project1_customerchurn.ipynb",
      "provenance": [],
      "collapsed_sections": []
    }
  },
  "cells": [
    {
      "cell_type": "markdown",
      "metadata": {
        "id": "Emms8XOjLVBj",
        "colab_type": "text"
      },
      "source": [
        "Mounting the drive with colab to access the files"
      ]
    },
    {
      "cell_type": "code",
      "metadata": {
        "id": "uLhBGZ6bVYvT",
        "colab_type": "code",
        "outputId": "e73519de-c54f-4550-a094-489c6d76210c",
        "colab": {
          "base_uri": "https://localhost:8080/",
          "height": 34
        }
      },
      "source": [
        "from google.colab import drive\n",
        "drive.mount('/content/gdrive')"
      ],
      "execution_count": 52,
      "outputs": [
        {
          "output_type": "stream",
          "text": [
            "Drive already mounted at /content/gdrive; to attempt to forcibly remount, call drive.mount(\"/content/gdrive\", force_remount=True).\n"
          ],
          "name": "stdout"
        }
      ]
    },
    {
      "cell_type": "markdown",
      "metadata": {
        "id": "8PELiLgxWaUM",
        "colab_type": "text"
      },
      "source": [
        "### **Customer churn prediction using Neural Networks**\n"
      ]
    },
    {
      "cell_type": "markdown",
      "metadata": {
        "id": "bMRyPKT0WJgA",
        "colab_type": "text"
      },
      "source": [
        "**Importing the necessary libraries**"
      ]
    },
    {
      "cell_type": "code",
      "metadata": {
        "id": "9KWjSbX5WIG_",
        "colab_type": "code",
        "colab": {}
      },
      "source": [
        "import pandas as pd\n",
        "import numpy as np\n",
        "import matplotlib.pyplot as plt   \n",
        "import seaborn as sns\n",
        "sns.set()\n",
        "%matplotlib inline \n",
        "from sklearn import metrics\n",
        "from sklearn.metrics import accuracy_score, confusion_matrix, recall_score, precision_score, f1_score, auc, roc_curve\n",
        "from sklearn.preprocessing import LabelEncoder, OneHotEncoder, StandardScaler"
      ],
      "execution_count": 0,
      "outputs": []
    },
    {
      "cell_type": "code",
      "metadata": {
        "id": "CR5WtVrxPDeL",
        "colab_type": "code",
        "colab": {}
      },
      "source": [
        "## Reading the CSV file from drive\n",
        "churn=pd.read_csv(\"gdrive/My Drive/AIML/bank.csv\")"
      ],
      "execution_count": 0,
      "outputs": []
    },
    {
      "cell_type": "code",
      "metadata": {
        "id": "Cniev_WoWDeq",
        "colab_type": "code",
        "outputId": "10e251a4-a89e-41ef-8bd4-6607d5587fa2",
        "colab": {
          "base_uri": "https://localhost:8080/",
          "height": 34
        }
      },
      "source": [
        "## Checking the dimension of the dataset\n",
        "churn.shape"
      ],
      "execution_count": 55,
      "outputs": [
        {
          "output_type": "execute_result",
          "data": {
            "text/plain": [
              "(10000, 14)"
            ]
          },
          "metadata": {
            "tags": []
          },
          "execution_count": 55
        }
      ]
    },
    {
      "cell_type": "code",
      "metadata": {
        "id": "BUCE61MqURly",
        "colab_type": "code",
        "outputId": "bc37ffc9-0fa1-4890-e56e-9ecdc10ed01a",
        "colab": {
          "base_uri": "https://localhost:8080/",
          "height": 340
        }
      },
      "source": [
        "## Getting the info about the datatypes and null/non-null value counts in each column\n",
        "churn.info()"
      ],
      "execution_count": 56,
      "outputs": [
        {
          "output_type": "stream",
          "text": [
            "<class 'pandas.core.frame.DataFrame'>\n",
            "RangeIndex: 10000 entries, 0 to 9999\n",
            "Data columns (total 14 columns):\n",
            "RowNumber          10000 non-null int64\n",
            "CustomerId         10000 non-null int64\n",
            "Surname            10000 non-null object\n",
            "CreditScore        10000 non-null int64\n",
            "Geography          10000 non-null object\n",
            "Gender             10000 non-null object\n",
            "Age                10000 non-null int64\n",
            "Tenure             10000 non-null int64\n",
            "Balance            10000 non-null float64\n",
            "NumOfProducts      10000 non-null int64\n",
            "HasCrCard          10000 non-null int64\n",
            "IsActiveMember     10000 non-null int64\n",
            "EstimatedSalary    10000 non-null float64\n",
            "Exited             10000 non-null int64\n",
            "dtypes: float64(2), int64(9), object(3)\n",
            "memory usage: 1.1+ MB\n"
          ],
          "name": "stdout"
        }
      ]
    },
    {
      "cell_type": "code",
      "metadata": {
        "id": "IQbVrrwtU2hP",
        "colab_type": "code",
        "outputId": "c54adea2-16b2-49d6-864b-d6745ab41eda",
        "colab": {
          "base_uri": "https://localhost:8080/",
          "height": 204
        }
      },
      "source": [
        "## Displaying the first few columns of the dataset\n",
        "churn.head()"
      ],
      "execution_count": 57,
      "outputs": [
        {
          "output_type": "execute_result",
          "data": {
            "text/html": [
              "<div>\n",
              "<style scoped>\n",
              "    .dataframe tbody tr th:only-of-type {\n",
              "        vertical-align: middle;\n",
              "    }\n",
              "\n",
              "    .dataframe tbody tr th {\n",
              "        vertical-align: top;\n",
              "    }\n",
              "\n",
              "    .dataframe thead th {\n",
              "        text-align: right;\n",
              "    }\n",
              "</style>\n",
              "<table border=\"1\" class=\"dataframe\">\n",
              "  <thead>\n",
              "    <tr style=\"text-align: right;\">\n",
              "      <th></th>\n",
              "      <th>RowNumber</th>\n",
              "      <th>CustomerId</th>\n",
              "      <th>Surname</th>\n",
              "      <th>CreditScore</th>\n",
              "      <th>Geography</th>\n",
              "      <th>Gender</th>\n",
              "      <th>Age</th>\n",
              "      <th>Tenure</th>\n",
              "      <th>Balance</th>\n",
              "      <th>NumOfProducts</th>\n",
              "      <th>HasCrCard</th>\n",
              "      <th>IsActiveMember</th>\n",
              "      <th>EstimatedSalary</th>\n",
              "      <th>Exited</th>\n",
              "    </tr>\n",
              "  </thead>\n",
              "  <tbody>\n",
              "    <tr>\n",
              "      <th>0</th>\n",
              "      <td>1</td>\n",
              "      <td>15634602</td>\n",
              "      <td>Hargrave</td>\n",
              "      <td>619</td>\n",
              "      <td>France</td>\n",
              "      <td>Female</td>\n",
              "      <td>42</td>\n",
              "      <td>2</td>\n",
              "      <td>0.00</td>\n",
              "      <td>1</td>\n",
              "      <td>1</td>\n",
              "      <td>1</td>\n",
              "      <td>101348.88</td>\n",
              "      <td>1</td>\n",
              "    </tr>\n",
              "    <tr>\n",
              "      <th>1</th>\n",
              "      <td>2</td>\n",
              "      <td>15647311</td>\n",
              "      <td>Hill</td>\n",
              "      <td>608</td>\n",
              "      <td>Spain</td>\n",
              "      <td>Female</td>\n",
              "      <td>41</td>\n",
              "      <td>1</td>\n",
              "      <td>83807.86</td>\n",
              "      <td>1</td>\n",
              "      <td>0</td>\n",
              "      <td>1</td>\n",
              "      <td>112542.58</td>\n",
              "      <td>0</td>\n",
              "    </tr>\n",
              "    <tr>\n",
              "      <th>2</th>\n",
              "      <td>3</td>\n",
              "      <td>15619304</td>\n",
              "      <td>Onio</td>\n",
              "      <td>502</td>\n",
              "      <td>France</td>\n",
              "      <td>Female</td>\n",
              "      <td>42</td>\n",
              "      <td>8</td>\n",
              "      <td>159660.80</td>\n",
              "      <td>3</td>\n",
              "      <td>1</td>\n",
              "      <td>0</td>\n",
              "      <td>113931.57</td>\n",
              "      <td>1</td>\n",
              "    </tr>\n",
              "    <tr>\n",
              "      <th>3</th>\n",
              "      <td>4</td>\n",
              "      <td>15701354</td>\n",
              "      <td>Boni</td>\n",
              "      <td>699</td>\n",
              "      <td>France</td>\n",
              "      <td>Female</td>\n",
              "      <td>39</td>\n",
              "      <td>1</td>\n",
              "      <td>0.00</td>\n",
              "      <td>2</td>\n",
              "      <td>0</td>\n",
              "      <td>0</td>\n",
              "      <td>93826.63</td>\n",
              "      <td>0</td>\n",
              "    </tr>\n",
              "    <tr>\n",
              "      <th>4</th>\n",
              "      <td>5</td>\n",
              "      <td>15737888</td>\n",
              "      <td>Mitchell</td>\n",
              "      <td>850</td>\n",
              "      <td>Spain</td>\n",
              "      <td>Female</td>\n",
              "      <td>43</td>\n",
              "      <td>2</td>\n",
              "      <td>125510.82</td>\n",
              "      <td>1</td>\n",
              "      <td>1</td>\n",
              "      <td>1</td>\n",
              "      <td>79084.10</td>\n",
              "      <td>0</td>\n",
              "    </tr>\n",
              "  </tbody>\n",
              "</table>\n",
              "</div>"
            ],
            "text/plain": [
              "   RowNumber  CustomerId   Surname  ...  IsActiveMember EstimatedSalary Exited\n",
              "0          1    15634602  Hargrave  ...               1       101348.88      1\n",
              "1          2    15647311      Hill  ...               1       112542.58      0\n",
              "2          3    15619304      Onio  ...               0       113931.57      1\n",
              "3          4    15701354      Boni  ...               0        93826.63      0\n",
              "4          5    15737888  Mitchell  ...               1        79084.10      0\n",
              "\n",
              "[5 rows x 14 columns]"
            ]
          },
          "metadata": {
            "tags": []
          },
          "execution_count": 57
        }
      ]
    },
    {
      "cell_type": "code",
      "metadata": {
        "id": "MLZlXJOmV0cb",
        "colab_type": "code",
        "colab": {}
      },
      "source": [
        "## Dropping the columns that are not needed for the analysis\n",
        "churn=churn.drop(['RowNumber','CustomerId','Surname'],axis=1)"
      ],
      "execution_count": 0,
      "outputs": []
    },
    {
      "cell_type": "code",
      "metadata": {
        "id": "D9U352HeWLET",
        "colab_type": "code",
        "outputId": "e60e2a11-32bf-47a7-f3ab-48fd556e9d6c",
        "colab": {
          "base_uri": "https://localhost:8080/",
          "height": 34
        }
      },
      "source": [
        "## Checking the dimension after dropping columns\n",
        "churn.shape"
      ],
      "execution_count": 59,
      "outputs": [
        {
          "output_type": "execute_result",
          "data": {
            "text/plain": [
              "(10000, 11)"
            ]
          },
          "metadata": {
            "tags": []
          },
          "execution_count": 59
        }
      ]
    },
    {
      "cell_type": "code",
      "metadata": {
        "id": "A8XclHEXYOle",
        "colab_type": "code",
        "outputId": "f52a8790-bf59-4a66-f19f-f05b150ec2ac",
        "colab": {
          "base_uri": "https://localhost:8080/",
          "height": 289
        }
      },
      "source": [
        "## Checking the info on datatype and null value after columns drop\n",
        "churn.info()"
      ],
      "execution_count": 60,
      "outputs": [
        {
          "output_type": "stream",
          "text": [
            "<class 'pandas.core.frame.DataFrame'>\n",
            "RangeIndex: 10000 entries, 0 to 9999\n",
            "Data columns (total 11 columns):\n",
            "CreditScore        10000 non-null int64\n",
            "Geography          10000 non-null object\n",
            "Gender             10000 non-null object\n",
            "Age                10000 non-null int64\n",
            "Tenure             10000 non-null int64\n",
            "Balance            10000 non-null float64\n",
            "NumOfProducts      10000 non-null int64\n",
            "HasCrCard          10000 non-null int64\n",
            "IsActiveMember     10000 non-null int64\n",
            "EstimatedSalary    10000 non-null float64\n",
            "Exited             10000 non-null int64\n",
            "dtypes: float64(2), int64(7), object(2)\n",
            "memory usage: 859.5+ KB\n"
          ],
          "name": "stdout"
        }
      ]
    },
    {
      "cell_type": "code",
      "metadata": {
        "id": "Ia68Fy-dWQjU",
        "colab_type": "code",
        "colab": {}
      },
      "source": [
        "## Splitting the target and independent variables\n",
        "X= churn.drop(['Exited'],axis=1)\n",
        "y=churn['Exited']"
      ],
      "execution_count": 0,
      "outputs": []
    },
    {
      "cell_type": "code",
      "metadata": {
        "id": "eZd5S46sW6J-",
        "colab_type": "code",
        "outputId": "3f9a502b-5533-4988-ed16-fe8fd25ef175",
        "colab": {
          "base_uri": "https://localhost:8080/",
          "height": 51
        }
      },
      "source": [
        "print(X.shape)\n",
        "print(y.shape)"
      ],
      "execution_count": 62,
      "outputs": [
        {
          "output_type": "stream",
          "text": [
            "(10000, 10)\n",
            "(10000,)\n"
          ],
          "name": "stdout"
        }
      ]
    },
    {
      "cell_type": "code",
      "metadata": {
        "id": "wWhKEGZgZ_Oy",
        "colab_type": "code",
        "colab": {}
      },
      "source": [
        "## One-hot encoding the categorical columns in the independent variables and dropping the first column as string values cannot be analysed \n",
        "## and these categorical columns are considered important in this analysis\n",
        "X = pd.get_dummies(X, prefix_sep='_', drop_first=True)"
      ],
      "execution_count": 0,
      "outputs": []
    },
    {
      "cell_type": "code",
      "metadata": {
        "id": "sla2KqO2aCR-",
        "colab_type": "code",
        "outputId": "e254243b-581b-4730-c007-f4953b76b21e",
        "colab": {
          "base_uri": "https://localhost:8080/",
          "height": 204
        }
      },
      "source": [
        "X.head()"
      ],
      "execution_count": 64,
      "outputs": [
        {
          "output_type": "execute_result",
          "data": {
            "text/html": [
              "<div>\n",
              "<style scoped>\n",
              "    .dataframe tbody tr th:only-of-type {\n",
              "        vertical-align: middle;\n",
              "    }\n",
              "\n",
              "    .dataframe tbody tr th {\n",
              "        vertical-align: top;\n",
              "    }\n",
              "\n",
              "    .dataframe thead th {\n",
              "        text-align: right;\n",
              "    }\n",
              "</style>\n",
              "<table border=\"1\" class=\"dataframe\">\n",
              "  <thead>\n",
              "    <tr style=\"text-align: right;\">\n",
              "      <th></th>\n",
              "      <th>CreditScore</th>\n",
              "      <th>Age</th>\n",
              "      <th>Tenure</th>\n",
              "      <th>Balance</th>\n",
              "      <th>NumOfProducts</th>\n",
              "      <th>HasCrCard</th>\n",
              "      <th>IsActiveMember</th>\n",
              "      <th>EstimatedSalary</th>\n",
              "      <th>Geography_Germany</th>\n",
              "      <th>Geography_Spain</th>\n",
              "      <th>Gender_Male</th>\n",
              "    </tr>\n",
              "  </thead>\n",
              "  <tbody>\n",
              "    <tr>\n",
              "      <th>0</th>\n",
              "      <td>619</td>\n",
              "      <td>42</td>\n",
              "      <td>2</td>\n",
              "      <td>0.00</td>\n",
              "      <td>1</td>\n",
              "      <td>1</td>\n",
              "      <td>1</td>\n",
              "      <td>101348.88</td>\n",
              "      <td>0</td>\n",
              "      <td>0</td>\n",
              "      <td>0</td>\n",
              "    </tr>\n",
              "    <tr>\n",
              "      <th>1</th>\n",
              "      <td>608</td>\n",
              "      <td>41</td>\n",
              "      <td>1</td>\n",
              "      <td>83807.86</td>\n",
              "      <td>1</td>\n",
              "      <td>0</td>\n",
              "      <td>1</td>\n",
              "      <td>112542.58</td>\n",
              "      <td>0</td>\n",
              "      <td>1</td>\n",
              "      <td>0</td>\n",
              "    </tr>\n",
              "    <tr>\n",
              "      <th>2</th>\n",
              "      <td>502</td>\n",
              "      <td>42</td>\n",
              "      <td>8</td>\n",
              "      <td>159660.80</td>\n",
              "      <td>3</td>\n",
              "      <td>1</td>\n",
              "      <td>0</td>\n",
              "      <td>113931.57</td>\n",
              "      <td>0</td>\n",
              "      <td>0</td>\n",
              "      <td>0</td>\n",
              "    </tr>\n",
              "    <tr>\n",
              "      <th>3</th>\n",
              "      <td>699</td>\n",
              "      <td>39</td>\n",
              "      <td>1</td>\n",
              "      <td>0.00</td>\n",
              "      <td>2</td>\n",
              "      <td>0</td>\n",
              "      <td>0</td>\n",
              "      <td>93826.63</td>\n",
              "      <td>0</td>\n",
              "      <td>0</td>\n",
              "      <td>0</td>\n",
              "    </tr>\n",
              "    <tr>\n",
              "      <th>4</th>\n",
              "      <td>850</td>\n",
              "      <td>43</td>\n",
              "      <td>2</td>\n",
              "      <td>125510.82</td>\n",
              "      <td>1</td>\n",
              "      <td>1</td>\n",
              "      <td>1</td>\n",
              "      <td>79084.10</td>\n",
              "      <td>0</td>\n",
              "      <td>1</td>\n",
              "      <td>0</td>\n",
              "    </tr>\n",
              "  </tbody>\n",
              "</table>\n",
              "</div>"
            ],
            "text/plain": [
              "   CreditScore  Age  Tenure  ...  Geography_Germany  Geography_Spain  Gender_Male\n",
              "0          619   42       2  ...                  0                0            0\n",
              "1          608   41       1  ...                  0                1            0\n",
              "2          502   42       8  ...                  0                0            0\n",
              "3          699   39       1  ...                  0                0            0\n",
              "4          850   43       2  ...                  0                1            0\n",
              "\n",
              "[5 rows x 11 columns]"
            ]
          },
          "metadata": {
            "tags": []
          },
          "execution_count": 64
        }
      ]
    },
    {
      "cell_type": "code",
      "metadata": {
        "id": "aFvIKL59KFp7",
        "colab_type": "code",
        "outputId": "16f08e2c-b3c4-47ab-d6ae-203f888b4547",
        "colab": {
          "base_uri": "https://localhost:8080/",
          "height": 119
        }
      },
      "source": [
        "y.head()"
      ],
      "execution_count": 65,
      "outputs": [
        {
          "output_type": "execute_result",
          "data": {
            "text/plain": [
              "0    1\n",
              "1    0\n",
              "2    1\n",
              "3    0\n",
              "4    0\n",
              "Name: Exited, dtype: int64"
            ]
          },
          "metadata": {
            "tags": []
          },
          "execution_count": 65
        }
      ]
    },
    {
      "cell_type": "code",
      "metadata": {
        "id": "v-OWQy9satTc",
        "colab_type": "code",
        "colab": {}
      },
      "source": [
        "## Spliiting into train and test data at ratio of 70:30\n",
        "from sklearn.model_selection import train_test_split\n",
        "X_train, X_test, y_train, y_test = train_test_split(X,y, test_size = 0.3, random_state=50)"
      ],
      "execution_count": 0,
      "outputs": []
    },
    {
      "cell_type": "code",
      "metadata": {
        "id": "8H2PnL-9b5US",
        "colab_type": "code",
        "outputId": "a6b45bc3-31c7-4505-f6e1-88a527afc578",
        "colab": {
          "base_uri": "https://localhost:8080/",
          "height": 317
        }
      },
      "source": [
        "X_train.describe()"
      ],
      "execution_count": 67,
      "outputs": [
        {
          "output_type": "execute_result",
          "data": {
            "text/html": [
              "<div>\n",
              "<style scoped>\n",
              "    .dataframe tbody tr th:only-of-type {\n",
              "        vertical-align: middle;\n",
              "    }\n",
              "\n",
              "    .dataframe tbody tr th {\n",
              "        vertical-align: top;\n",
              "    }\n",
              "\n",
              "    .dataframe thead th {\n",
              "        text-align: right;\n",
              "    }\n",
              "</style>\n",
              "<table border=\"1\" class=\"dataframe\">\n",
              "  <thead>\n",
              "    <tr style=\"text-align: right;\">\n",
              "      <th></th>\n",
              "      <th>CreditScore</th>\n",
              "      <th>Age</th>\n",
              "      <th>Tenure</th>\n",
              "      <th>Balance</th>\n",
              "      <th>NumOfProducts</th>\n",
              "      <th>HasCrCard</th>\n",
              "      <th>IsActiveMember</th>\n",
              "      <th>EstimatedSalary</th>\n",
              "      <th>Geography_Germany</th>\n",
              "      <th>Geography_Spain</th>\n",
              "      <th>Gender_Male</th>\n",
              "    </tr>\n",
              "  </thead>\n",
              "  <tbody>\n",
              "    <tr>\n",
              "      <th>count</th>\n",
              "      <td>7000.000000</td>\n",
              "      <td>7000.000000</td>\n",
              "      <td>7000.000000</td>\n",
              "      <td>7000.000000</td>\n",
              "      <td>7000.000000</td>\n",
              "      <td>7000.000000</td>\n",
              "      <td>7000.000000</td>\n",
              "      <td>7000.000000</td>\n",
              "      <td>7000.000000</td>\n",
              "      <td>7000.000000</td>\n",
              "      <td>7000.000000</td>\n",
              "    </tr>\n",
              "    <tr>\n",
              "      <th>mean</th>\n",
              "      <td>648.893143</td>\n",
              "      <td>38.712714</td>\n",
              "      <td>5.007429</td>\n",
              "      <td>75908.694407</td>\n",
              "      <td>1.530143</td>\n",
              "      <td>0.703571</td>\n",
              "      <td>0.514714</td>\n",
              "      <td>100057.818634</td>\n",
              "      <td>0.249429</td>\n",
              "      <td>0.247571</td>\n",
              "      <td>0.550571</td>\n",
              "    </tr>\n",
              "    <tr>\n",
              "      <th>std</th>\n",
              "      <td>97.073946</td>\n",
              "      <td>10.401960</td>\n",
              "      <td>2.888399</td>\n",
              "      <td>62490.258613</td>\n",
              "      <td>0.580637</td>\n",
              "      <td>0.456715</td>\n",
              "      <td>0.499819</td>\n",
              "      <td>57560.085944</td>\n",
              "      <td>0.432713</td>\n",
              "      <td>0.431632</td>\n",
              "      <td>0.497471</td>\n",
              "    </tr>\n",
              "    <tr>\n",
              "      <th>min</th>\n",
              "      <td>350.000000</td>\n",
              "      <td>18.000000</td>\n",
              "      <td>0.000000</td>\n",
              "      <td>0.000000</td>\n",
              "      <td>1.000000</td>\n",
              "      <td>0.000000</td>\n",
              "      <td>0.000000</td>\n",
              "      <td>11.580000</td>\n",
              "      <td>0.000000</td>\n",
              "      <td>0.000000</td>\n",
              "      <td>0.000000</td>\n",
              "    </tr>\n",
              "    <tr>\n",
              "      <th>25%</th>\n",
              "      <td>582.000000</td>\n",
              "      <td>32.000000</td>\n",
              "      <td>2.000000</td>\n",
              "      <td>0.000000</td>\n",
              "      <td>1.000000</td>\n",
              "      <td>0.000000</td>\n",
              "      <td>0.000000</td>\n",
              "      <td>50743.832500</td>\n",
              "      <td>0.000000</td>\n",
              "      <td>0.000000</td>\n",
              "      <td>0.000000</td>\n",
              "    </tr>\n",
              "    <tr>\n",
              "      <th>50%</th>\n",
              "      <td>650.000000</td>\n",
              "      <td>37.000000</td>\n",
              "      <td>5.000000</td>\n",
              "      <td>96600.990000</td>\n",
              "      <td>1.000000</td>\n",
              "      <td>1.000000</td>\n",
              "      <td>1.000000</td>\n",
              "      <td>100561.895000</td>\n",
              "      <td>0.000000</td>\n",
              "      <td>0.000000</td>\n",
              "      <td>1.000000</td>\n",
              "    </tr>\n",
              "    <tr>\n",
              "      <th>75%</th>\n",
              "      <td>715.000000</td>\n",
              "      <td>44.000000</td>\n",
              "      <td>7.000000</td>\n",
              "      <td>127304.595000</td>\n",
              "      <td>2.000000</td>\n",
              "      <td>1.000000</td>\n",
              "      <td>1.000000</td>\n",
              "      <td>149458.040000</td>\n",
              "      <td>0.000000</td>\n",
              "      <td>0.000000</td>\n",
              "      <td>1.000000</td>\n",
              "    </tr>\n",
              "    <tr>\n",
              "      <th>max</th>\n",
              "      <td>850.000000</td>\n",
              "      <td>92.000000</td>\n",
              "      <td>10.000000</td>\n",
              "      <td>250898.090000</td>\n",
              "      <td>4.000000</td>\n",
              "      <td>1.000000</td>\n",
              "      <td>1.000000</td>\n",
              "      <td>199970.740000</td>\n",
              "      <td>1.000000</td>\n",
              "      <td>1.000000</td>\n",
              "      <td>1.000000</td>\n",
              "    </tr>\n",
              "  </tbody>\n",
              "</table>\n",
              "</div>"
            ],
            "text/plain": [
              "       CreditScore          Age  ...  Geography_Spain  Gender_Male\n",
              "count  7000.000000  7000.000000  ...      7000.000000  7000.000000\n",
              "mean    648.893143    38.712714  ...         0.247571     0.550571\n",
              "std      97.073946    10.401960  ...         0.431632     0.497471\n",
              "min     350.000000    18.000000  ...         0.000000     0.000000\n",
              "25%     582.000000    32.000000  ...         0.000000     0.000000\n",
              "50%     650.000000    37.000000  ...         0.000000     1.000000\n",
              "75%     715.000000    44.000000  ...         0.000000     1.000000\n",
              "max     850.000000    92.000000  ...         1.000000     1.000000\n",
              "\n",
              "[8 rows x 11 columns]"
            ]
          },
          "metadata": {
            "tags": []
          },
          "execution_count": 67
        }
      ]
    },
    {
      "cell_type": "code",
      "metadata": {
        "id": "fr5Fk9Q7efHT",
        "colab_type": "code",
        "outputId": "e5ee78bb-9745-4c0e-b5ae-8e4fc156200a",
        "colab": {
          "base_uri": "https://localhost:8080/",
          "height": 317
        }
      },
      "source": [
        "X_test.describe()"
      ],
      "execution_count": 68,
      "outputs": [
        {
          "output_type": "execute_result",
          "data": {
            "text/html": [
              "<div>\n",
              "<style scoped>\n",
              "    .dataframe tbody tr th:only-of-type {\n",
              "        vertical-align: middle;\n",
              "    }\n",
              "\n",
              "    .dataframe tbody tr th {\n",
              "        vertical-align: top;\n",
              "    }\n",
              "\n",
              "    .dataframe thead th {\n",
              "        text-align: right;\n",
              "    }\n",
              "</style>\n",
              "<table border=\"1\" class=\"dataframe\">\n",
              "  <thead>\n",
              "    <tr style=\"text-align: right;\">\n",
              "      <th></th>\n",
              "      <th>CreditScore</th>\n",
              "      <th>Age</th>\n",
              "      <th>Tenure</th>\n",
              "      <th>Balance</th>\n",
              "      <th>NumOfProducts</th>\n",
              "      <th>HasCrCard</th>\n",
              "      <th>IsActiveMember</th>\n",
              "      <th>EstimatedSalary</th>\n",
              "      <th>Geography_Germany</th>\n",
              "      <th>Geography_Spain</th>\n",
              "      <th>Gender_Male</th>\n",
              "    </tr>\n",
              "  </thead>\n",
              "  <tbody>\n",
              "    <tr>\n",
              "      <th>count</th>\n",
              "      <td>3000.000000</td>\n",
              "      <td>3000.000000</td>\n",
              "      <td>3000.000000</td>\n",
              "      <td>3000.000000</td>\n",
              "      <td>3000.000000</td>\n",
              "      <td>3000.000000</td>\n",
              "      <td>3000.000000</td>\n",
              "      <td>3000.000000</td>\n",
              "      <td>3000.000000</td>\n",
              "      <td>3000.000000</td>\n",
              "      <td>3000.000000</td>\n",
              "    </tr>\n",
              "    <tr>\n",
              "      <th>mean</th>\n",
              "      <td>654.345333</td>\n",
              "      <td>39.409667</td>\n",
              "      <td>5.025333</td>\n",
              "      <td>77832.677343</td>\n",
              "      <td>1.530333</td>\n",
              "      <td>0.710000</td>\n",
              "      <td>0.516000</td>\n",
              "      <td>100165.889457</td>\n",
              "      <td>0.254333</td>\n",
              "      <td>0.248000</td>\n",
              "      <td>0.534333</td>\n",
              "    </tr>\n",
              "    <tr>\n",
              "      <th>std</th>\n",
              "      <td>95.571848</td>\n",
              "      <td>10.671260</td>\n",
              "      <td>2.901407</td>\n",
              "      <td>62169.761924</td>\n",
              "      <td>0.584118</td>\n",
              "      <td>0.453838</td>\n",
              "      <td>0.499827</td>\n",
              "      <td>57404.122377</td>\n",
              "      <td>0.435558</td>\n",
              "      <td>0.431924</td>\n",
              "      <td>0.498903</td>\n",
              "    </tr>\n",
              "    <tr>\n",
              "      <th>min</th>\n",
              "      <td>350.000000</td>\n",
              "      <td>18.000000</td>\n",
              "      <td>0.000000</td>\n",
              "      <td>0.000000</td>\n",
              "      <td>1.000000</td>\n",
              "      <td>0.000000</td>\n",
              "      <td>0.000000</td>\n",
              "      <td>106.670000</td>\n",
              "      <td>0.000000</td>\n",
              "      <td>0.000000</td>\n",
              "      <td>0.000000</td>\n",
              "    </tr>\n",
              "    <tr>\n",
              "      <th>25%</th>\n",
              "      <td>588.000000</td>\n",
              "      <td>32.000000</td>\n",
              "      <td>3.000000</td>\n",
              "      <td>0.000000</td>\n",
              "      <td>1.000000</td>\n",
              "      <td>0.000000</td>\n",
              "      <td>0.000000</td>\n",
              "      <td>51834.342500</td>\n",
              "      <td>0.000000</td>\n",
              "      <td>0.000000</td>\n",
              "      <td>0.000000</td>\n",
              "    </tr>\n",
              "    <tr>\n",
              "      <th>50%</th>\n",
              "      <td>655.000000</td>\n",
              "      <td>38.000000</td>\n",
              "      <td>5.000000</td>\n",
              "      <td>98439.220000</td>\n",
              "      <td>1.000000</td>\n",
              "      <td>1.000000</td>\n",
              "      <td>1.000000</td>\n",
              "      <td>98772.465000</td>\n",
              "      <td>0.000000</td>\n",
              "      <td>0.000000</td>\n",
              "      <td>1.000000</td>\n",
              "    </tr>\n",
              "    <tr>\n",
              "      <th>75%</th>\n",
              "      <td>722.000000</td>\n",
              "      <td>45.000000</td>\n",
              "      <td>8.000000</td>\n",
              "      <td>128492.590000</td>\n",
              "      <td>2.000000</td>\n",
              "      <td>1.000000</td>\n",
              "      <td>1.000000</td>\n",
              "      <td>148782.695000</td>\n",
              "      <td>1.000000</td>\n",
              "      <td>0.000000</td>\n",
              "      <td>1.000000</td>\n",
              "    </tr>\n",
              "    <tr>\n",
              "      <th>max</th>\n",
              "      <td>850.000000</td>\n",
              "      <td>92.000000</td>\n",
              "      <td>10.000000</td>\n",
              "      <td>238387.560000</td>\n",
              "      <td>4.000000</td>\n",
              "      <td>1.000000</td>\n",
              "      <td>1.000000</td>\n",
              "      <td>199992.480000</td>\n",
              "      <td>1.000000</td>\n",
              "      <td>1.000000</td>\n",
              "      <td>1.000000</td>\n",
              "    </tr>\n",
              "  </tbody>\n",
              "</table>\n",
              "</div>"
            ],
            "text/plain": [
              "       CreditScore          Age  ...  Geography_Spain  Gender_Male\n",
              "count  3000.000000  3000.000000  ...      3000.000000  3000.000000\n",
              "mean    654.345333    39.409667  ...         0.248000     0.534333\n",
              "std      95.571848    10.671260  ...         0.431924     0.498903\n",
              "min     350.000000    18.000000  ...         0.000000     0.000000\n",
              "25%     588.000000    32.000000  ...         0.000000     0.000000\n",
              "50%     655.000000    38.000000  ...         0.000000     1.000000\n",
              "75%     722.000000    45.000000  ...         0.000000     1.000000\n",
              "max     850.000000    92.000000  ...         1.000000     1.000000\n",
              "\n",
              "[8 rows x 11 columns]"
            ]
          },
          "metadata": {
            "tags": []
          },
          "execution_count": 68
        }
      ]
    },
    {
      "cell_type": "code",
      "metadata": {
        "id": "2ljn4xRta5uv",
        "colab_type": "code",
        "colab": {}
      },
      "source": [
        "## Standardising and Normalizing the data before going into the actual analysis so that mean is 0 and std.deviation is 1 approximately.\n",
        "## To ensure that there is no huge variation in values between independent variables as the result will be biased towards the variable with greater values\n",
        "scaler = StandardScaler()\n",
        "X_train1 = scaler.fit_transform( X_train )\n",
        "X_test1 = scaler.transform( X_test )"
      ],
      "execution_count": 0,
      "outputs": []
    },
    {
      "cell_type": "code",
      "metadata": {
        "id": "qbdFxdqCdbRi",
        "colab_type": "code",
        "colab": {}
      },
      "source": [
        "## Imputing the standardised values into X.\n",
        "X_train=pd.DataFrame(X_train1,index=X_train.index,columns=X_train.columns)\n",
        "X_test=pd.DataFrame(X_test1,index=X_test.index,columns=X_test.columns)"
      ],
      "execution_count": 0,
      "outputs": []
    },
    {
      "cell_type": "code",
      "metadata": {
        "id": "G9aJmtWId8tL",
        "colab_type": "code",
        "outputId": "be435ac9-48fd-42bc-acb9-f5e7835887eb",
        "colab": {
          "base_uri": "https://localhost:8080/",
          "height": 317
        }
      },
      "source": [
        "X_train.describe()"
      ],
      "execution_count": 71,
      "outputs": [
        {
          "output_type": "execute_result",
          "data": {
            "text/html": [
              "<div>\n",
              "<style scoped>\n",
              "    .dataframe tbody tr th:only-of-type {\n",
              "        vertical-align: middle;\n",
              "    }\n",
              "\n",
              "    .dataframe tbody tr th {\n",
              "        vertical-align: top;\n",
              "    }\n",
              "\n",
              "    .dataframe thead th {\n",
              "        text-align: right;\n",
              "    }\n",
              "</style>\n",
              "<table border=\"1\" class=\"dataframe\">\n",
              "  <thead>\n",
              "    <tr style=\"text-align: right;\">\n",
              "      <th></th>\n",
              "      <th>CreditScore</th>\n",
              "      <th>Age</th>\n",
              "      <th>Tenure</th>\n",
              "      <th>Balance</th>\n",
              "      <th>NumOfProducts</th>\n",
              "      <th>HasCrCard</th>\n",
              "      <th>IsActiveMember</th>\n",
              "      <th>EstimatedSalary</th>\n",
              "      <th>Geography_Germany</th>\n",
              "      <th>Geography_Spain</th>\n",
              "      <th>Gender_Male</th>\n",
              "    </tr>\n",
              "  </thead>\n",
              "  <tbody>\n",
              "    <tr>\n",
              "      <th>count</th>\n",
              "      <td>7.000000e+03</td>\n",
              "      <td>7.000000e+03</td>\n",
              "      <td>7.000000e+03</td>\n",
              "      <td>7.000000e+03</td>\n",
              "      <td>7.000000e+03</td>\n",
              "      <td>7.000000e+03</td>\n",
              "      <td>7.000000e+03</td>\n",
              "      <td>7.000000e+03</td>\n",
              "      <td>7.000000e+03</td>\n",
              "      <td>7.000000e+03</td>\n",
              "      <td>7.000000e+03</td>\n",
              "    </tr>\n",
              "    <tr>\n",
              "      <th>mean</th>\n",
              "      <td>2.447566e-16</td>\n",
              "      <td>1.243093e-16</td>\n",
              "      <td>5.054687e-17</td>\n",
              "      <td>-1.973342e-16</td>\n",
              "      <td>9.072108e-18</td>\n",
              "      <td>-6.186797e-16</td>\n",
              "      <td>-9.773135e-17</td>\n",
              "      <td>-1.256455e-16</td>\n",
              "      <td>5.544137e-16</td>\n",
              "      <td>4.808852e-16</td>\n",
              "      <td>-1.196820e-16</td>\n",
              "    </tr>\n",
              "    <tr>\n",
              "      <th>std</th>\n",
              "      <td>1.000071e+00</td>\n",
              "      <td>1.000071e+00</td>\n",
              "      <td>1.000071e+00</td>\n",
              "      <td>1.000071e+00</td>\n",
              "      <td>1.000071e+00</td>\n",
              "      <td>1.000071e+00</td>\n",
              "      <td>1.000071e+00</td>\n",
              "      <td>1.000071e+00</td>\n",
              "      <td>1.000071e+00</td>\n",
              "      <td>1.000071e+00</td>\n",
              "      <td>1.000071e+00</td>\n",
              "    </tr>\n",
              "    <tr>\n",
              "      <th>min</th>\n",
              "      <td>-3.079245e+00</td>\n",
              "      <td>-1.991374e+00</td>\n",
              "      <td>-1.733758e+00</td>\n",
              "      <td>-1.214815e+00</td>\n",
              "      <td>-9.131015e-01</td>\n",
              "      <td>-1.540615e+00</td>\n",
              "      <td>-1.029875e+00</td>\n",
              "      <td>-1.738242e+00</td>\n",
              "      <td>-5.764705e-01</td>\n",
              "      <td>-5.736112e-01</td>\n",
              "      <td>-1.106819e+00</td>\n",
              "    </tr>\n",
              "    <tr>\n",
              "      <th>25%</th>\n",
              "      <td>-6.891439e-01</td>\n",
              "      <td>-6.453777e-01</td>\n",
              "      <td>-1.041284e+00</td>\n",
              "      <td>-1.214815e+00</td>\n",
              "      <td>-9.131015e-01</td>\n",
              "      <td>-1.540615e+00</td>\n",
              "      <td>-1.029875e+00</td>\n",
              "      <td>-8.568005e-01</td>\n",
              "      <td>-5.764705e-01</td>\n",
              "      <td>-5.736112e-01</td>\n",
              "      <td>-1.106819e+00</td>\n",
              "    </tr>\n",
              "    <tr>\n",
              "      <th>50%</th>\n",
              "      <td>1.140302e-02</td>\n",
              "      <td>-1.646648e-01</td>\n",
              "      <td>-2.572048e-03</td>\n",
              "      <td>3.311520e-01</td>\n",
              "      <td>-9.131015e-01</td>\n",
              "      <td>6.490915e-01</td>\n",
              "      <td>9.709920e-01</td>\n",
              "      <td>8.758020e-03</td>\n",
              "      <td>-5.764705e-01</td>\n",
              "      <td>-5.736112e-01</td>\n",
              "      <td>9.034903e-01</td>\n",
              "    </tr>\n",
              "    <tr>\n",
              "      <th>75%</th>\n",
              "      <td>6.810435e-01</td>\n",
              "      <td>5.083334e-01</td>\n",
              "      <td>6.899024e-01</td>\n",
              "      <td>8.225214e-01</td>\n",
              "      <td>8.092673e-01</td>\n",
              "      <td>6.490915e-01</td>\n",
              "      <td>9.709920e-01</td>\n",
              "      <td>8.582988e-01</td>\n",
              "      <td>-5.764705e-01</td>\n",
              "      <td>-5.736112e-01</td>\n",
              "      <td>9.034903e-01</td>\n",
              "    </tr>\n",
              "    <tr>\n",
              "      <th>max</th>\n",
              "      <td>2.071835e+00</td>\n",
              "      <td>5.123178e+00</td>\n",
              "      <td>1.728614e+00</td>\n",
              "      <td>2.800467e+00</td>\n",
              "      <td>4.254005e+00</td>\n",
              "      <td>6.490915e-01</td>\n",
              "      <td>9.709920e-01</td>\n",
              "      <td>1.735926e+00</td>\n",
              "      <td>1.734694e+00</td>\n",
              "      <td>1.743341e+00</td>\n",
              "      <td>9.034903e-01</td>\n",
              "    </tr>\n",
              "  </tbody>\n",
              "</table>\n",
              "</div>"
            ],
            "text/plain": [
              "        CreditScore           Age  ...  Geography_Spain   Gender_Male\n",
              "count  7.000000e+03  7.000000e+03  ...     7.000000e+03  7.000000e+03\n",
              "mean   2.447566e-16  1.243093e-16  ...     4.808852e-16 -1.196820e-16\n",
              "std    1.000071e+00  1.000071e+00  ...     1.000071e+00  1.000071e+00\n",
              "min   -3.079245e+00 -1.991374e+00  ...    -5.736112e-01 -1.106819e+00\n",
              "25%   -6.891439e-01 -6.453777e-01  ...    -5.736112e-01 -1.106819e+00\n",
              "50%    1.140302e-02 -1.646648e-01  ...    -5.736112e-01  9.034903e-01\n",
              "75%    6.810435e-01  5.083334e-01  ...    -5.736112e-01  9.034903e-01\n",
              "max    2.071835e+00  5.123178e+00  ...     1.743341e+00  9.034903e-01\n",
              "\n",
              "[8 rows x 11 columns]"
            ]
          },
          "metadata": {
            "tags": []
          },
          "execution_count": 71
        }
      ]
    },
    {
      "cell_type": "code",
      "metadata": {
        "id": "tzBzGOavelyE",
        "colab_type": "code",
        "outputId": "3d5049ac-20e1-4bba-d846-dc7b01f1d263",
        "colab": {
          "base_uri": "https://localhost:8080/",
          "height": 317
        }
      },
      "source": [
        "X_test.describe()"
      ],
      "execution_count": 72,
      "outputs": [
        {
          "output_type": "execute_result",
          "data": {
            "text/html": [
              "<div>\n",
              "<style scoped>\n",
              "    .dataframe tbody tr th:only-of-type {\n",
              "        vertical-align: middle;\n",
              "    }\n",
              "\n",
              "    .dataframe tbody tr th {\n",
              "        vertical-align: top;\n",
              "    }\n",
              "\n",
              "    .dataframe thead th {\n",
              "        text-align: right;\n",
              "    }\n",
              "</style>\n",
              "<table border=\"1\" class=\"dataframe\">\n",
              "  <thead>\n",
              "    <tr style=\"text-align: right;\">\n",
              "      <th></th>\n",
              "      <th>CreditScore</th>\n",
              "      <th>Age</th>\n",
              "      <th>Tenure</th>\n",
              "      <th>Balance</th>\n",
              "      <th>NumOfProducts</th>\n",
              "      <th>HasCrCard</th>\n",
              "      <th>IsActiveMember</th>\n",
              "      <th>EstimatedSalary</th>\n",
              "      <th>Geography_Germany</th>\n",
              "      <th>Geography_Spain</th>\n",
              "      <th>Gender_Male</th>\n",
              "    </tr>\n",
              "  </thead>\n",
              "  <tbody>\n",
              "    <tr>\n",
              "      <th>count</th>\n",
              "      <td>3000.000000</td>\n",
              "      <td>3000.000000</td>\n",
              "      <td>3000.000000</td>\n",
              "      <td>3000.000000</td>\n",
              "      <td>3000.000000</td>\n",
              "      <td>3000.000000</td>\n",
              "      <td>3000.000000</td>\n",
              "      <td>3000.000000</td>\n",
              "      <td>3000.000000</td>\n",
              "      <td>3000.000000</td>\n",
              "      <td>3000.000000</td>\n",
              "    </tr>\n",
              "    <tr>\n",
              "      <th>mean</th>\n",
              "      <td>0.056169</td>\n",
              "      <td>0.067007</td>\n",
              "      <td>0.006199</td>\n",
              "      <td>0.030791</td>\n",
              "      <td>0.000328</td>\n",
              "      <td>0.014077</td>\n",
              "      <td>0.002573</td>\n",
              "      <td>0.001878</td>\n",
              "      <td>0.011336</td>\n",
              "      <td>0.000993</td>\n",
              "      <td>-0.032644</td>\n",
              "    </tr>\n",
              "    <tr>\n",
              "      <th>std</th>\n",
              "      <td>0.984597</td>\n",
              "      <td>1.025963</td>\n",
              "      <td>1.004575</td>\n",
              "      <td>0.994942</td>\n",
              "      <td>1.006066</td>\n",
              "      <td>0.993771</td>\n",
              "      <td>1.000088</td>\n",
              "      <td>0.997362</td>\n",
              "      <td>1.006647</td>\n",
              "      <td>1.000747</td>\n",
              "      <td>1.002949</td>\n",
              "    </tr>\n",
              "    <tr>\n",
              "      <th>min</th>\n",
              "      <td>-3.079245</td>\n",
              "      <td>-1.991374</td>\n",
              "      <td>-1.733758</td>\n",
              "      <td>-1.214815</td>\n",
              "      <td>-0.913102</td>\n",
              "      <td>-1.540615</td>\n",
              "      <td>-1.029875</td>\n",
              "      <td>-1.736590</td>\n",
              "      <td>-0.576470</td>\n",
              "      <td>-0.573611</td>\n",
              "      <td>-1.106819</td>\n",
              "    </tr>\n",
              "    <tr>\n",
              "      <th>25%</th>\n",
              "      <td>-0.627331</td>\n",
              "      <td>-0.645378</td>\n",
              "      <td>-0.695047</td>\n",
              "      <td>-1.214815</td>\n",
              "      <td>-0.913102</td>\n",
              "      <td>-1.540615</td>\n",
              "      <td>-1.029875</td>\n",
              "      <td>-0.837854</td>\n",
              "      <td>-0.576470</td>\n",
              "      <td>-0.573611</td>\n",
              "      <td>-1.106819</td>\n",
              "    </tr>\n",
              "    <tr>\n",
              "      <th>50%</th>\n",
              "      <td>0.062914</td>\n",
              "      <td>-0.068522</td>\n",
              "      <td>-0.002572</td>\n",
              "      <td>0.360570</td>\n",
              "      <td>-0.913102</td>\n",
              "      <td>0.649092</td>\n",
              "      <td>0.970992</td>\n",
              "      <td>-0.022332</td>\n",
              "      <td>-0.576470</td>\n",
              "      <td>-0.573611</td>\n",
              "      <td>0.903490</td>\n",
              "    </tr>\n",
              "    <tr>\n",
              "      <th>75%</th>\n",
              "      <td>0.753159</td>\n",
              "      <td>0.604476</td>\n",
              "      <td>1.036140</td>\n",
              "      <td>0.841534</td>\n",
              "      <td>0.809267</td>\n",
              "      <td>0.649092</td>\n",
              "      <td>0.970992</td>\n",
              "      <td>0.846565</td>\n",
              "      <td>1.734694</td>\n",
              "      <td>-0.573611</td>\n",
              "      <td>0.903490</td>\n",
              "    </tr>\n",
              "    <tr>\n",
              "      <th>max</th>\n",
              "      <td>2.071835</td>\n",
              "      <td>5.123178</td>\n",
              "      <td>1.728614</td>\n",
              "      <td>2.600253</td>\n",
              "      <td>4.254005</td>\n",
              "      <td>0.649092</td>\n",
              "      <td>0.970992</td>\n",
              "      <td>1.736304</td>\n",
              "      <td>1.734694</td>\n",
              "      <td>1.743341</td>\n",
              "      <td>0.903490</td>\n",
              "    </tr>\n",
              "  </tbody>\n",
              "</table>\n",
              "</div>"
            ],
            "text/plain": [
              "       CreditScore          Age  ...  Geography_Spain  Gender_Male\n",
              "count  3000.000000  3000.000000  ...      3000.000000  3000.000000\n",
              "mean      0.056169     0.067007  ...         0.000993    -0.032644\n",
              "std       0.984597     1.025963  ...         1.000747     1.002949\n",
              "min      -3.079245    -1.991374  ...        -0.573611    -1.106819\n",
              "25%      -0.627331    -0.645378  ...        -0.573611    -1.106819\n",
              "50%       0.062914    -0.068522  ...        -0.573611     0.903490\n",
              "75%       0.753159     0.604476  ...        -0.573611     0.903490\n",
              "max       2.071835     5.123178  ...         1.743341     0.903490\n",
              "\n",
              "[8 rows x 11 columns]"
            ]
          },
          "metadata": {
            "tags": []
          },
          "execution_count": 72
        }
      ]
    },
    {
      "cell_type": "code",
      "metadata": {
        "id": "ESYE80OlbR2z",
        "colab_type": "code",
        "outputId": "ffba15ab-4419-4ad4-c24c-5796998fef88",
        "colab": {
          "base_uri": "https://localhost:8080/",
          "height": 51
        }
      },
      "source": [
        "## Checking the dimesnion of train and test data\n",
        "print('training shapes:', {X_train.shape}, {y_train.shape})\n",
        "print('testing shapes:' ,{X_test.shape}, {y_test.shape})"
      ],
      "execution_count": 73,
      "outputs": [
        {
          "output_type": "stream",
          "text": [
            "training shapes: {(7000, 11)} {(7000,)}\n",
            "testing shapes: {(3000, 11)} {(3000,)}\n"
          ],
          "name": "stdout"
        }
      ]
    },
    {
      "cell_type": "markdown",
      "metadata": {
        "id": "X7JNdatFHCs7",
        "colab_type": "text"
      },
      "source": [
        "# **Initialising and Building Model**"
      ]
    },
    {
      "cell_type": "code",
      "metadata": {
        "id": "2wA7cdXMHZYJ",
        "colab_type": "code",
        "outputId": "881901bc-21db-480c-c484-69558c554483",
        "colab": {
          "base_uri": "https://localhost:8080/",
          "height": 34
        }
      },
      "source": [
        "## Initialising the latest tensorflow version\n",
        "%tensorflow_version 2.x\n",
        "import tensorflow as tf\n",
        "print(tf.__version__)\n",
        "tf.random.set_seed(42)"
      ],
      "execution_count": 74,
      "outputs": [
        {
          "output_type": "stream",
          "text": [
            "2.1.0-rc1\n"
          ],
          "name": "stdout"
        }
      ]
    },
    {
      "cell_type": "markdown",
      "metadata": {
        "id": "oEVyROrsQZgr",
        "colab_type": "text"
      },
      "source": [
        "# **Defining a Sequential Model**"
      ]
    },
    {
      "cell_type": "code",
      "metadata": {
        "id": "h4He91HWMUTw",
        "colab_type": "code",
        "colab": {}
      },
      "source": [
        "## Initialising a sequential model\n",
        "model = tf.keras.models.Sequential()"
      ],
      "execution_count": 0,
      "outputs": []
    },
    {
      "cell_type": "markdown",
      "metadata": {
        "id": "aFIfX73oQ3Se",
        "colab_type": "text"
      },
      "source": [
        "**Adding the output layer to the model**\n"
      ]
    },
    {
      "cell_type": "code",
      "metadata": {
        "id": "ZHMe6IWtMe1E",
        "colab_type": "code",
        "colab": {}
      },
      "source": [
        "## Adding the output layer to the model with a single neuron , input shape as 11 as there are only 11 inputs and keeping activation as Sigmoid as its a binary classifier\n",
        "model.add(tf.keras.layers.Dense(1,input_shape=(11,), activation='sigmoid'))"
      ],
      "execution_count": 0,
      "outputs": []
    },
    {
      "cell_type": "markdown",
      "metadata": {
        "id": "9dXoHOSLQ8K-",
        "colab_type": "text"
      },
      "source": [
        "**Compiling the model**"
      ]
    },
    {
      "cell_type": "code",
      "metadata": {
        "id": "3WgFxvR_Q_PF",
        "colab_type": "code",
        "colab": {}
      },
      "source": [
        "## Compiling model with SGD optimizer, binary crossentropy loss function as its a binary classification, and measuring metric is accuracy score.\n",
        "model.compile(optimizer='sgd', loss='binary_crossentropy', metrics=['accuracy'])"
      ],
      "execution_count": 0,
      "outputs": []
    },
    {
      "cell_type": "markdown",
      "metadata": {
        "id": "OihXbYe9RIL2",
        "colab_type": "text"
      },
      "source": [
        "**Summarize the model**"
      ]
    },
    {
      "cell_type": "code",
      "metadata": {
        "id": "bGy17vuoRLoA",
        "colab_type": "code",
        "outputId": "6c94b8c1-8296-4c6b-f73f-396988605307",
        "colab": {
          "base_uri": "https://localhost:8080/",
          "height": 187
        }
      },
      "source": [
        "## Displaying the summary statistics of the model to check total no of trainanble and non-trainable parameters.\n",
        "model.summary()"
      ],
      "execution_count": 78,
      "outputs": [
        {
          "output_type": "stream",
          "text": [
            "Model: \"sequential_2\"\n",
            "_________________________________________________________________\n",
            "Layer (type)                 Output Shape              Param #   \n",
            "=================================================================\n",
            "dense_4 (Dense)              (None, 1)                 12        \n",
            "=================================================================\n",
            "Total params: 12\n",
            "Trainable params: 12\n",
            "Non-trainable params: 0\n",
            "_________________________________________________________________\n"
          ],
          "name": "stdout"
        }
      ]
    },
    {
      "cell_type": "code",
      "metadata": {
        "id": "SpvyzABiRVtn",
        "colab_type": "code",
        "outputId": "44972906-7dbf-4d03-8e1c-bd30423dbc71",
        "colab": {
          "base_uri": "https://localhost:8080/",
          "height": 1000
        }
      },
      "source": [
        "## Fitting the model on train data and validating it on the test data with 50 epochs\n",
        "model.fit(X_train,y_train, validation_data=(X_test, y_test), epochs=50)"
      ],
      "execution_count": 79,
      "outputs": [
        {
          "output_type": "stream",
          "text": [
            "Train on 7000 samples, validate on 3000 samples\n",
            "Epoch 1/50\n",
            "7000/7000 [==============================] - 1s 114us/sample - loss: 0.7155 - accuracy: 0.5814 - val_loss: 0.6210 - val_accuracy: 0.6747\n",
            "Epoch 2/50\n",
            "7000/7000 [==============================] - 1s 72us/sample - loss: 0.5540 - accuracy: 0.7457 - val_loss: 0.5206 - val_accuracy: 0.7817\n",
            "Epoch 3/50\n",
            "7000/7000 [==============================] - 0s 67us/sample - loss: 0.4894 - accuracy: 0.7951 - val_loss: 0.4782 - val_accuracy: 0.8050\n",
            "Epoch 4/50\n",
            "7000/7000 [==============================] - 0s 64us/sample - loss: 0.4613 - accuracy: 0.8039 - val_loss: 0.4578 - val_accuracy: 0.8127\n",
            "Epoch 5/50\n",
            "7000/7000 [==============================] - 0s 62us/sample - loss: 0.4474 - accuracy: 0.8056 - val_loss: 0.4470 - val_accuracy: 0.8177\n",
            "Epoch 6/50\n",
            "7000/7000 [==============================] - 0s 65us/sample - loss: 0.4400 - accuracy: 0.8059 - val_loss: 0.4410 - val_accuracy: 0.8177\n",
            "Epoch 7/50\n",
            "7000/7000 [==============================] - 0s 66us/sample - loss: 0.4356 - accuracy: 0.8073 - val_loss: 0.4372 - val_accuracy: 0.8180\n",
            "Epoch 8/50\n",
            "7000/7000 [==============================] - 0s 64us/sample - loss: 0.4330 - accuracy: 0.8083 - val_loss: 0.4350 - val_accuracy: 0.8167\n",
            "Epoch 9/50\n",
            "7000/7000 [==============================] - 0s 62us/sample - loss: 0.4314 - accuracy: 0.8080 - val_loss: 0.4335 - val_accuracy: 0.8157\n",
            "Epoch 10/50\n",
            "7000/7000 [==============================] - 0s 70us/sample - loss: 0.4302 - accuracy: 0.8089 - val_loss: 0.4325 - val_accuracy: 0.8170\n",
            "Epoch 11/50\n",
            "7000/7000 [==============================] - 0s 65us/sample - loss: 0.4295 - accuracy: 0.8081 - val_loss: 0.4319 - val_accuracy: 0.8170\n",
            "Epoch 12/50\n",
            "7000/7000 [==============================] - 0s 65us/sample - loss: 0.4290 - accuracy: 0.8087 - val_loss: 0.4314 - val_accuracy: 0.8173\n",
            "Epoch 13/50\n",
            "7000/7000 [==============================] - 0s 66us/sample - loss: 0.4286 - accuracy: 0.8097 - val_loss: 0.4311 - val_accuracy: 0.8190\n",
            "Epoch 14/50\n",
            "7000/7000 [==============================] - 0s 68us/sample - loss: 0.4284 - accuracy: 0.8080 - val_loss: 0.4308 - val_accuracy: 0.8187\n",
            "Epoch 15/50\n",
            "7000/7000 [==============================] - 0s 66us/sample - loss: 0.4282 - accuracy: 0.8084 - val_loss: 0.4307 - val_accuracy: 0.8187\n",
            "Epoch 16/50\n",
            "7000/7000 [==============================] - 0s 64us/sample - loss: 0.4281 - accuracy: 0.8083 - val_loss: 0.4306 - val_accuracy: 0.8180\n",
            "Epoch 17/50\n",
            "7000/7000 [==============================] - 0s 64us/sample - loss: 0.4280 - accuracy: 0.8077 - val_loss: 0.4305 - val_accuracy: 0.8177\n",
            "Epoch 18/50\n",
            "7000/7000 [==============================] - 0s 64us/sample - loss: 0.4280 - accuracy: 0.8074 - val_loss: 0.4305 - val_accuracy: 0.8177\n",
            "Epoch 19/50\n",
            "7000/7000 [==============================] - 0s 64us/sample - loss: 0.4279 - accuracy: 0.8074 - val_loss: 0.4305 - val_accuracy: 0.8173\n",
            "Epoch 20/50\n",
            "7000/7000 [==============================] - 0s 66us/sample - loss: 0.4279 - accuracy: 0.8074 - val_loss: 0.4305 - val_accuracy: 0.8173\n",
            "Epoch 21/50\n",
            "7000/7000 [==============================] - 0s 65us/sample - loss: 0.4279 - accuracy: 0.8076 - val_loss: 0.4304 - val_accuracy: 0.8173\n",
            "Epoch 22/50\n",
            "7000/7000 [==============================] - 0s 65us/sample - loss: 0.4278 - accuracy: 0.8070 - val_loss: 0.4304 - val_accuracy: 0.8173\n",
            "Epoch 23/50\n",
            "7000/7000 [==============================] - 0s 65us/sample - loss: 0.4278 - accuracy: 0.8076 - val_loss: 0.4305 - val_accuracy: 0.8177\n",
            "Epoch 24/50\n",
            "7000/7000 [==============================] - 0s 67us/sample - loss: 0.4278 - accuracy: 0.8073 - val_loss: 0.4304 - val_accuracy: 0.8173\n",
            "Epoch 25/50\n",
            "7000/7000 [==============================] - 0s 64us/sample - loss: 0.4278 - accuracy: 0.8071 - val_loss: 0.4304 - val_accuracy: 0.8173\n",
            "Epoch 26/50\n",
            "7000/7000 [==============================] - 0s 66us/sample - loss: 0.4278 - accuracy: 0.8087 - val_loss: 0.4304 - val_accuracy: 0.8173\n",
            "Epoch 27/50\n",
            "7000/7000 [==============================] - 0s 64us/sample - loss: 0.4278 - accuracy: 0.8087 - val_loss: 0.4304 - val_accuracy: 0.8173\n",
            "Epoch 28/50\n",
            "7000/7000 [==============================] - 0s 70us/sample - loss: 0.4278 - accuracy: 0.8074 - val_loss: 0.4304 - val_accuracy: 0.8160\n",
            "Epoch 29/50\n",
            "7000/7000 [==============================] - 0s 62us/sample - loss: 0.4278 - accuracy: 0.8074 - val_loss: 0.4303 - val_accuracy: 0.8173\n",
            "Epoch 30/50\n",
            "7000/7000 [==============================] - 0s 60us/sample - loss: 0.4278 - accuracy: 0.8080 - val_loss: 0.4304 - val_accuracy: 0.8177\n",
            "Epoch 31/50\n",
            "7000/7000 [==============================] - 0s 62us/sample - loss: 0.4278 - accuracy: 0.8074 - val_loss: 0.4304 - val_accuracy: 0.8177\n",
            "Epoch 32/50\n",
            "7000/7000 [==============================] - 0s 62us/sample - loss: 0.4278 - accuracy: 0.8089 - val_loss: 0.4304 - val_accuracy: 0.8177\n",
            "Epoch 33/50\n",
            "7000/7000 [==============================] - 1s 72us/sample - loss: 0.4278 - accuracy: 0.8079 - val_loss: 0.4305 - val_accuracy: 0.8173\n",
            "Epoch 34/50\n",
            "7000/7000 [==============================] - 0s 64us/sample - loss: 0.4278 - accuracy: 0.8067 - val_loss: 0.4304 - val_accuracy: 0.8163\n",
            "Epoch 35/50\n",
            "7000/7000 [==============================] - 0s 64us/sample - loss: 0.4278 - accuracy: 0.8086 - val_loss: 0.4305 - val_accuracy: 0.8167\n",
            "Epoch 36/50\n",
            "7000/7000 [==============================] - 0s 66us/sample - loss: 0.4278 - accuracy: 0.8074 - val_loss: 0.4304 - val_accuracy: 0.8170\n",
            "Epoch 37/50\n",
            "7000/7000 [==============================] - 0s 65us/sample - loss: 0.4278 - accuracy: 0.8079 - val_loss: 0.4304 - val_accuracy: 0.8167\n",
            "Epoch 38/50\n",
            "7000/7000 [==============================] - 0s 64us/sample - loss: 0.4278 - accuracy: 0.8077 - val_loss: 0.4304 - val_accuracy: 0.8163\n",
            "Epoch 39/50\n",
            "7000/7000 [==============================] - 0s 64us/sample - loss: 0.4278 - accuracy: 0.8079 - val_loss: 0.4304 - val_accuracy: 0.8160\n",
            "Epoch 40/50\n",
            "7000/7000 [==============================] - 0s 67us/sample - loss: 0.4278 - accuracy: 0.8079 - val_loss: 0.4303 - val_accuracy: 0.8167\n",
            "Epoch 41/50\n",
            "7000/7000 [==============================] - 0s 66us/sample - loss: 0.4278 - accuracy: 0.8076 - val_loss: 0.4303 - val_accuracy: 0.8163\n",
            "Epoch 42/50\n",
            "7000/7000 [==============================] - 0s 63us/sample - loss: 0.4278 - accuracy: 0.8073 - val_loss: 0.4304 - val_accuracy: 0.8163\n",
            "Epoch 43/50\n",
            "7000/7000 [==============================] - 0s 64us/sample - loss: 0.4278 - accuracy: 0.8077 - val_loss: 0.4304 - val_accuracy: 0.8163\n",
            "Epoch 44/50\n",
            "7000/7000 [==============================] - 0s 68us/sample - loss: 0.4278 - accuracy: 0.8080 - val_loss: 0.4304 - val_accuracy: 0.8170\n",
            "Epoch 45/50\n",
            "7000/7000 [==============================] - 0s 65us/sample - loss: 0.4278 - accuracy: 0.8074 - val_loss: 0.4303 - val_accuracy: 0.8170\n",
            "Epoch 46/50\n",
            "7000/7000 [==============================] - 0s 62us/sample - loss: 0.4278 - accuracy: 0.8077 - val_loss: 0.4303 - val_accuracy: 0.8167\n",
            "Epoch 47/50\n",
            "7000/7000 [==============================] - 0s 64us/sample - loss: 0.4278 - accuracy: 0.8083 - val_loss: 0.4304 - val_accuracy: 0.8160\n",
            "Epoch 48/50\n",
            "7000/7000 [==============================] - 0s 67us/sample - loss: 0.4278 - accuracy: 0.8086 - val_loss: 0.4305 - val_accuracy: 0.8160\n",
            "Epoch 49/50\n",
            "7000/7000 [==============================] - 0s 65us/sample - loss: 0.4278 - accuracy: 0.8071 - val_loss: 0.4304 - val_accuracy: 0.8163\n",
            "Epoch 50/50\n",
            "7000/7000 [==============================] - 0s 64us/sample - loss: 0.4278 - accuracy: 0.8079 - val_loss: 0.4304 - val_accuracy: 0.8173\n"
          ],
          "name": "stdout"
        },
        {
          "output_type": "execute_result",
          "data": {
            "text/plain": [
              "<tensorflow.python.keras.callbacks.History at 0x7feb7d9bb5f8>"
            ]
          },
          "metadata": {
            "tags": []
          },
          "execution_count": 79
        }
      ]
    },
    {
      "cell_type": "markdown",
      "metadata": {
        "id": "ddrB3iKZrSsT",
        "colab_type": "text"
      },
      "source": [
        "Loss is found to be more and accuracy is somewhat lesser. Inorder to have a better accuracy and less loss, trying to optimise the model using more hidden layers and making use of learning rate and dropout rates."
      ]
    },
    {
      "cell_type": "code",
      "metadata": {
        "id": "eA-6_GHS9B91",
        "colab_type": "code",
        "colab": {
          "base_uri": "https://localhost:8080/",
          "height": 170
        },
        "outputId": "7ad4a2ae-5b16-4cbb-910f-3fd2cf24ae11"
      },
      "source": [
        "from sklearn.metrics import classification_report\n",
        "print(classification_report(y_test, (model.predict(X_test)>0.5).astype(int)))"
      ],
      "execution_count": 82,
      "outputs": [
        {
          "output_type": "stream",
          "text": [
            "              precision    recall  f1-score   support\n",
            "\n",
            "           0       0.84      0.96      0.89      2401\n",
            "           1       0.60      0.25      0.35       599\n",
            "\n",
            "    accuracy                           0.82      3000\n",
            "   macro avg       0.72      0.60      0.62      3000\n",
            "weighted avg       0.79      0.82      0.79      3000\n",
            "\n"
          ],
          "name": "stdout"
        }
      ]
    },
    {
      "cell_type": "markdown",
      "metadata": {
        "id": "_bx6YfHERhdh",
        "colab_type": "text"
      },
      "source": [
        "## **Optimizing the model by adding a hidden layer and using learning rate**"
      ]
    },
    {
      "cell_type": "code",
      "metadata": {
        "id": "zjOl2r4IRr0L",
        "colab_type": "code",
        "colab": {}
      },
      "source": [
        "## Creating a sequential model\n",
        "model1 = tf.keras.models.Sequential()"
      ],
      "execution_count": 0,
      "outputs": []
    },
    {
      "cell_type": "code",
      "metadata": {
        "id": "d3JGloh2R2WW",
        "colab_type": "code",
        "colab": {}
      },
      "source": [
        "# Add Dense Layer which has 110 neurons and applying sigmoid activation with 11 inputs\n",
        "model1.add(tf.keras.layers.Dense(110,input_shape=(11,), activation='sigmoid'))\n",
        "\n",
        "# Normalize the data\n",
        "model1.add(tf.keras.layers.BatchNormalization())\n",
        "\n",
        "## Adding a droupout rate of 5% so that during each epoch some neurons are dropped so that each and every neuron are trained with the data atleast once\n",
        "model1.add(tf.keras.layers.Dropout(rate=0.05))\n",
        "\n",
        "# Add another Dense Layer which has 110 neurons and applying sigmoid activation\n",
        "model1.add(tf.keras.layers.Dense(110, activation='sigmoid'))\n",
        "\n",
        "## Adding a droupout rate of 5% so that during each epoch some neurons are dropped so that each and every neuron are trained with the data atleast once\n",
        "model1.add(tf.keras.layers.Dropout(rate=0.05))\n",
        "\n",
        "# Add output Dense Layer which has 1 neuron which provides final binary output and applying sigmoid activation\n",
        "model1.add(tf.keras.layers.Dense(1, activation='sigmoid'))"
      ],
      "execution_count": 0,
      "outputs": []
    },
    {
      "cell_type": "code",
      "metadata": {
        "id": "dt-MEPbGShw4",
        "colab_type": "code",
        "outputId": "3d2e66ea-be02-4324-b808-06cb1a5748f5",
        "colab": {
          "base_uri": "https://localhost:8080/",
          "height": 357
        }
      },
      "source": [
        "## Displaying the summary of the model created\n",
        "model1.summary()"
      ],
      "execution_count": 85,
      "outputs": [
        {
          "output_type": "stream",
          "text": [
            "Model: \"sequential_3\"\n",
            "_________________________________________________________________\n",
            "Layer (type)                 Output Shape              Param #   \n",
            "=================================================================\n",
            "dense_5 (Dense)              (None, 110)               1320      \n",
            "_________________________________________________________________\n",
            "batch_normalization_1 (Batch (None, 110)               440       \n",
            "_________________________________________________________________\n",
            "dropout_2 (Dropout)          (None, 110)               0         \n",
            "_________________________________________________________________\n",
            "dense_6 (Dense)              (None, 110)               12210     \n",
            "_________________________________________________________________\n",
            "dropout_3 (Dropout)          (None, 110)               0         \n",
            "_________________________________________________________________\n",
            "dense_7 (Dense)              (None, 1)                 111       \n",
            "=================================================================\n",
            "Total params: 14,081\n",
            "Trainable params: 13,861\n",
            "Non-trainable params: 220\n",
            "_________________________________________________________________\n"
          ],
          "name": "stdout"
        }
      ]
    },
    {
      "cell_type": "code",
      "metadata": {
        "id": "I1IhrlbWdA2V",
        "colab_type": "code",
        "colab": {}
      },
      "source": [
        "## Initialising a learning rate to have a optimal gradient descent ( acceptable range of minimium error)\n",
        "from tensorflow.keras.optimizers import SGD\n",
        "learning_rate=0.03\n",
        "sgd = SGD(lr=learning_rate)"
      ],
      "execution_count": 0,
      "outputs": []
    },
    {
      "cell_type": "code",
      "metadata": {
        "id": "McmQmNT5S2fP",
        "colab_type": "code",
        "outputId": "fe3d62ac-f5c8-44c4-a464-8b96d3ffb342",
        "colab": {
          "base_uri": "https://localhost:8080/",
          "height": 1000
        }
      },
      "source": [
        "## Compiling model with SGD optimizer, binary crossentropy loss function as its a binary classification, and measuring metric is accuracy score.\n",
        "## Fitting the model on train data and validating it on the test data with 50 epochs\n",
        "model1.compile(optimizer=sgd, loss='binary_crossentropy', metrics=['accuracy'])\n",
        "history=model1.fit(X_train, y_train, validation_data=(X_test, y_test),epochs=50)"
      ],
      "execution_count": 87,
      "outputs": [
        {
          "output_type": "stream",
          "text": [
            "Train on 7000 samples, validate on 3000 samples\n",
            "Epoch 1/50\n",
            "7000/7000 [==============================] - 1s 186us/sample - loss: 0.4736 - accuracy: 0.7909 - val_loss: 0.4703 - val_accuracy: 0.8003\n",
            "Epoch 2/50\n",
            "7000/7000 [==============================] - 1s 87us/sample - loss: 0.4312 - accuracy: 0.8079 - val_loss: 0.4343 - val_accuracy: 0.8107\n",
            "Epoch 3/50\n",
            "7000/7000 [==============================] - 1s 90us/sample - loss: 0.4306 - accuracy: 0.8071 - val_loss: 0.4268 - val_accuracy: 0.8190\n",
            "Epoch 4/50\n",
            "7000/7000 [==============================] - 1s 85us/sample - loss: 0.4286 - accuracy: 0.8084 - val_loss: 0.4244 - val_accuracy: 0.8203\n",
            "Epoch 5/50\n",
            "7000/7000 [==============================] - 1s 90us/sample - loss: 0.4268 - accuracy: 0.8097 - val_loss: 0.4224 - val_accuracy: 0.8227\n",
            "Epoch 6/50\n",
            "7000/7000 [==============================] - 1s 89us/sample - loss: 0.4261 - accuracy: 0.8103 - val_loss: 0.4194 - val_accuracy: 0.8267\n",
            "Epoch 7/50\n",
            "7000/7000 [==============================] - 1s 86us/sample - loss: 0.4219 - accuracy: 0.8124 - val_loss: 0.4160 - val_accuracy: 0.8290\n",
            "Epoch 8/50\n",
            "7000/7000 [==============================] - 1s 89us/sample - loss: 0.4164 - accuracy: 0.8184 - val_loss: 0.4255 - val_accuracy: 0.8177\n",
            "Epoch 9/50\n",
            "7000/7000 [==============================] - 1s 91us/sample - loss: 0.4123 - accuracy: 0.8220 - val_loss: 0.4117 - val_accuracy: 0.8303\n",
            "Epoch 10/50\n",
            "7000/7000 [==============================] - 1s 89us/sample - loss: 0.4087 - accuracy: 0.8209 - val_loss: 0.4029 - val_accuracy: 0.8373\n",
            "Epoch 11/50\n",
            "7000/7000 [==============================] - 1s 91us/sample - loss: 0.4012 - accuracy: 0.8287 - val_loss: 0.4009 - val_accuracy: 0.8400\n",
            "Epoch 12/50\n",
            "7000/7000 [==============================] - 1s 89us/sample - loss: 0.4004 - accuracy: 0.8294 - val_loss: 0.3949 - val_accuracy: 0.8430\n",
            "Epoch 13/50\n",
            "7000/7000 [==============================] - 1s 91us/sample - loss: 0.3934 - accuracy: 0.8306 - val_loss: 0.3911 - val_accuracy: 0.8450\n",
            "Epoch 14/50\n",
            "7000/7000 [==============================] - 1s 85us/sample - loss: 0.3921 - accuracy: 0.8349 - val_loss: 0.3866 - val_accuracy: 0.8433\n",
            "Epoch 15/50\n",
            "7000/7000 [==============================] - 1s 92us/sample - loss: 0.3876 - accuracy: 0.8366 - val_loss: 0.3887 - val_accuracy: 0.8430\n",
            "Epoch 16/50\n",
            "7000/7000 [==============================] - 1s 88us/sample - loss: 0.3850 - accuracy: 0.8366 - val_loss: 0.3806 - val_accuracy: 0.8490\n",
            "Epoch 17/50\n",
            "7000/7000 [==============================] - 1s 83us/sample - loss: 0.3814 - accuracy: 0.8399 - val_loss: 0.3794 - val_accuracy: 0.8497\n",
            "Epoch 18/50\n",
            "7000/7000 [==============================] - 1s 94us/sample - loss: 0.3783 - accuracy: 0.8419 - val_loss: 0.3770 - val_accuracy: 0.8497\n",
            "Epoch 19/50\n",
            "7000/7000 [==============================] - 1s 89us/sample - loss: 0.3788 - accuracy: 0.8406 - val_loss: 0.3777 - val_accuracy: 0.8503\n",
            "Epoch 20/50\n",
            "7000/7000 [==============================] - 1s 86us/sample - loss: 0.3749 - accuracy: 0.8426 - val_loss: 0.3738 - val_accuracy: 0.8513\n",
            "Epoch 21/50\n",
            "7000/7000 [==============================] - 1s 89us/sample - loss: 0.3748 - accuracy: 0.8449 - val_loss: 0.3792 - val_accuracy: 0.8473\n",
            "Epoch 22/50\n",
            "7000/7000 [==============================] - 1s 88us/sample - loss: 0.3709 - accuracy: 0.8450 - val_loss: 0.3711 - val_accuracy: 0.8557\n",
            "Epoch 23/50\n",
            "7000/7000 [==============================] - 1s 84us/sample - loss: 0.3688 - accuracy: 0.8477 - val_loss: 0.3882 - val_accuracy: 0.8413\n",
            "Epoch 24/50\n",
            "7000/7000 [==============================] - 1s 98us/sample - loss: 0.3742 - accuracy: 0.8460 - val_loss: 0.3726 - val_accuracy: 0.8497\n",
            "Epoch 25/50\n",
            "7000/7000 [==============================] - 1s 88us/sample - loss: 0.3698 - accuracy: 0.8487 - val_loss: 0.3680 - val_accuracy: 0.8557\n",
            "Epoch 26/50\n",
            "7000/7000 [==============================] - 1s 88us/sample - loss: 0.3701 - accuracy: 0.8486 - val_loss: 0.3686 - val_accuracy: 0.8523\n",
            "Epoch 27/50\n",
            "7000/7000 [==============================] - 1s 90us/sample - loss: 0.3719 - accuracy: 0.8480 - val_loss: 0.3662 - val_accuracy: 0.8557\n",
            "Epoch 28/50\n",
            "7000/7000 [==============================] - 1s 94us/sample - loss: 0.3690 - accuracy: 0.8516 - val_loss: 0.3684 - val_accuracy: 0.8513\n",
            "Epoch 29/50\n",
            "7000/7000 [==============================] - 1s 87us/sample - loss: 0.3670 - accuracy: 0.8461 - val_loss: 0.3640 - val_accuracy: 0.8563\n",
            "Epoch 30/50\n",
            "7000/7000 [==============================] - 1s 88us/sample - loss: 0.3667 - accuracy: 0.8480 - val_loss: 0.3657 - val_accuracy: 0.8537\n",
            "Epoch 31/50\n",
            "7000/7000 [==============================] - 1s 88us/sample - loss: 0.3696 - accuracy: 0.8490 - val_loss: 0.3659 - val_accuracy: 0.8533\n",
            "Epoch 32/50\n",
            "7000/7000 [==============================] - 1s 89us/sample - loss: 0.3651 - accuracy: 0.8474 - val_loss: 0.3639 - val_accuracy: 0.8540\n",
            "Epoch 33/50\n",
            "7000/7000 [==============================] - 1s 82us/sample - loss: 0.3663 - accuracy: 0.8471 - val_loss: 0.3687 - val_accuracy: 0.8507\n",
            "Epoch 34/50\n",
            "7000/7000 [==============================] - 1s 86us/sample - loss: 0.3657 - accuracy: 0.8486 - val_loss: 0.3654 - val_accuracy: 0.8543\n",
            "Epoch 35/50\n",
            "7000/7000 [==============================] - 1s 87us/sample - loss: 0.3670 - accuracy: 0.8494 - val_loss: 0.3667 - val_accuracy: 0.8503\n",
            "Epoch 36/50\n",
            "7000/7000 [==============================] - 1s 86us/sample - loss: 0.3618 - accuracy: 0.8500 - val_loss: 0.3706 - val_accuracy: 0.8497\n",
            "Epoch 37/50\n",
            "7000/7000 [==============================] - 1s 91us/sample - loss: 0.3682 - accuracy: 0.8471 - val_loss: 0.3628 - val_accuracy: 0.8563\n",
            "Epoch 38/50\n",
            "7000/7000 [==============================] - 1s 89us/sample - loss: 0.3648 - accuracy: 0.8514 - val_loss: 0.3604 - val_accuracy: 0.8553\n",
            "Epoch 39/50\n",
            "7000/7000 [==============================] - 1s 85us/sample - loss: 0.3613 - accuracy: 0.8530 - val_loss: 0.3616 - val_accuracy: 0.8560\n",
            "Epoch 40/50\n",
            "7000/7000 [==============================] - 1s 95us/sample - loss: 0.3647 - accuracy: 0.8487 - val_loss: 0.3626 - val_accuracy: 0.8547\n",
            "Epoch 41/50\n",
            "7000/7000 [==============================] - 1s 93us/sample - loss: 0.3642 - accuracy: 0.8494 - val_loss: 0.3605 - val_accuracy: 0.8563\n",
            "Epoch 42/50\n",
            "7000/7000 [==============================] - 1s 98us/sample - loss: 0.3580 - accuracy: 0.8534 - val_loss: 0.3627 - val_accuracy: 0.8533\n",
            "Epoch 43/50\n",
            "7000/7000 [==============================] - 1s 94us/sample - loss: 0.3661 - accuracy: 0.8489 - val_loss: 0.3637 - val_accuracy: 0.8527\n",
            "Epoch 44/50\n",
            "7000/7000 [==============================] - 1s 87us/sample - loss: 0.3570 - accuracy: 0.8529 - val_loss: 0.3616 - val_accuracy: 0.8553\n",
            "Epoch 45/50\n",
            "7000/7000 [==============================] - 1s 83us/sample - loss: 0.3624 - accuracy: 0.8556 - val_loss: 0.3619 - val_accuracy: 0.8550\n",
            "Epoch 46/50\n",
            "7000/7000 [==============================] - 1s 92us/sample - loss: 0.3612 - accuracy: 0.8521 - val_loss: 0.3595 - val_accuracy: 0.8580\n",
            "Epoch 47/50\n",
            "7000/7000 [==============================] - 1s 84us/sample - loss: 0.3607 - accuracy: 0.8461 - val_loss: 0.3592 - val_accuracy: 0.8573\n",
            "Epoch 48/50\n",
            "7000/7000 [==============================] - 1s 86us/sample - loss: 0.3642 - accuracy: 0.8491 - val_loss: 0.3639 - val_accuracy: 0.8520\n",
            "Epoch 49/50\n",
            "7000/7000 [==============================] - 1s 95us/sample - loss: 0.3579 - accuracy: 0.8521 - val_loss: 0.3582 - val_accuracy: 0.8583\n",
            "Epoch 50/50\n",
            "7000/7000 [==============================] - 1s 88us/sample - loss: 0.3642 - accuracy: 0.8513 - val_loss: 0.3572 - val_accuracy: 0.8610\n"
          ],
          "name": "stdout"
        }
      ]
    },
    {
      "cell_type": "markdown",
      "metadata": {
        "id": "xSspEi3liBVv",
        "colab_type": "text"
      },
      "source": [
        "# **Plotting the accuracy scores obtained for train and validation data**"
      ]
    },
    {
      "cell_type": "code",
      "metadata": {
        "id": "CaTvqWYgiA6V",
        "colab_type": "code",
        "outputId": "f84645c5-77cd-4412-bfaa-4c0f8454be19",
        "colab": {
          "base_uri": "https://localhost:8080/",
          "height": 301
        }
      },
      "source": [
        "plt.plot(np.array(history.history['accuracy']) * 100)\n",
        "plt.plot(np.array(history.history['val_accuracy']) * 100)\n",
        "plt.ylabel('accuracy')\n",
        "plt.xlabel('epochs')\n",
        "plt.legend(['train', 'test'])\n",
        "plt.title('Accuracy over epochs')\n",
        "plt.show()\n"
      ],
      "execution_count": 88,
      "outputs": [
        {
          "output_type": "display_data",
          "data": {
            "image/png": "[encoded data removed]",
            "text/plain": [
              "<Figure size 432x288 with 1 Axes>"
            ]
          },
          "metadata": {
            "tags": []
          }
        }
      ]
    },
    {
      "cell_type": "code",
      "metadata": {
        "id": "X49neFTClqeI",
        "colab_type": "code",
        "outputId": "7afee399-bc89-4a5d-ae4c-b98103e540eb",
        "colab": {
          "base_uri": "https://localhost:8080/",
          "height": 187
        }
      },
      "source": [
        "## Predicting the values of target variable customer churn or not using the model built\n",
        "y_pred = model1.predict(X_test)\n",
        "print(y_pred[:10])"
      ],
      "execution_count": 89,
      "outputs": [
        {
          "output_type": "stream",
          "text": [
            "[[0.5478967 ]\n",
            " [0.02477037]\n",
            " [0.42569783]\n",
            " [0.18109392]\n",
            " [0.05010019]\n",
            " [0.0797213 ]\n",
            " [0.00734061]\n",
            " [0.14944384]\n",
            " [0.8395234 ]\n",
            " [0.01731607]]\n"
          ],
          "name": "stdout"
        }
      ]
    },
    {
      "cell_type": "markdown",
      "metadata": {
        "id": "V0oevMfpwvNB",
        "colab_type": "text"
      },
      "source": [
        "# **Predicted the results using 0.5 as a threshold**"
      ]
    },
    {
      "cell_type": "code",
      "metadata": {
        "id": "e0SQLRBHmBLC",
        "colab_type": "code",
        "outputId": "0befd914-ef94-485a-b625-1dc821281daa",
        "colab": {
          "base_uri": "https://localhost:8080/",
          "height": 187
        }
      },
      "source": [
        "y_pred = (y_pred > 0.5).astype(int)\n",
        "print(y_pred[:10])"
      ],
      "execution_count": 90,
      "outputs": [
        {
          "output_type": "stream",
          "text": [
            "[[1]\n",
            " [0]\n",
            " [0]\n",
            " [0]\n",
            " [0]\n",
            " [0]\n",
            " [0]\n",
            " [0]\n",
            " [1]\n",
            " [0]]\n"
          ],
          "name": "stdout"
        }
      ]
    },
    {
      "cell_type": "markdown",
      "metadata": {
        "id": "mEVH-YPVx7JV",
        "colab_type": "text"
      },
      "source": [
        "## **Printing the Accuracy score and confusion matrix**"
      ]
    },
    {
      "cell_type": "code",
      "metadata": {
        "id": "sHfBU0cqmMqB",
        "colab_type": "code",
        "outputId": "e1ac81e0-654f-42db-8d07-a9515b941fe8",
        "colab": {
          "base_uri": "https://localhost:8080/",
          "height": 406
        }
      },
      "source": [
        "## Printing the confusion matrix to find the total number of correctly predicted results\n",
        "cm = confusion_matrix(y_test, y_pred)\n",
        "print(cm)\n",
        "plt.figure(figsize = (5,5))\n",
        "plt.title(\"Confusion Matrix\")\n",
        "sns.heatmap(cm,annot=True,fmt='g')\n",
        "plt.ylabel(\"Actual\")\n",
        "plt.xlabel(\"Predicted\")"
      ],
      "execution_count": 91,
      "outputs": [
        {
          "output_type": "stream",
          "text": [
            "[[2319   82]\n",
            " [ 335  264]]\n"
          ],
          "name": "stdout"
        },
        {
          "output_type": "execute_result",
          "data": {
            "text/plain": [
              "Text(0.5, 21.5, 'Predicted')"
            ]
          },
          "metadata": {
            "tags": []
          },
          "execution_count": 91
        },
        {
          "output_type": "display_data",
          "data": {
            "image/png": "[encoded data removed]",
            "text/plain": [
              "<Figure size 360x360 with 2 Axes>"
            ]
          },
          "metadata": {
            "tags": []
          }
        }
      ]
    },
    {
      "cell_type": "markdown",
      "metadata": {
        "id": "6AXWC01kxV-Y",
        "colab_type": "text"
      },
      "source": [
        "Out of the 3000 values, 2583 values are being correctly classified by the above initialised Neural Networks model."
      ]
    },
    {
      "cell_type": "code",
      "metadata": {
        "id": "k4Bc1bPXmbZK",
        "colab_type": "code",
        "outputId": "e81cc2db-53c5-4048-b836-499084a42349",
        "colab": {
          "base_uri": "https://localhost:8080/",
          "height": 34
        }
      },
      "source": [
        "## Printing the accuracy score of the model on predictions made on test data.\n",
        "print((metrics.accuracy_score(y_test,y_pred)*100),'% of testing data was classified correctly')"
      ],
      "execution_count": 92,
      "outputs": [
        {
          "output_type": "stream",
          "text": [
            "86.1 % of testing data was classified correctly\n"
          ],
          "name": "stdout"
        }
      ]
    },
    {
      "cell_type": "code",
      "metadata": {
        "id": "XnhYlDmqvnH1",
        "colab_type": "code",
        "colab": {
          "base_uri": "https://localhost:8080/",
          "height": 170
        },
        "outputId": "f1724f73-8487-4286-a75d-21864218bb21"
      },
      "source": [
        "from sklearn.metrics import classification_report\n",
        "print(classification_report(y_test, y_pred))"
      ],
      "execution_count": 93,
      "outputs": [
        {
          "output_type": "stream",
          "text": [
            "              precision    recall  f1-score   support\n",
            "\n",
            "           0       0.87      0.97      0.92      2401\n",
            "           1       0.76      0.44      0.56       599\n",
            "\n",
            "    accuracy                           0.86      3000\n",
            "   macro avg       0.82      0.70      0.74      3000\n",
            "weighted avg       0.85      0.86      0.85      3000\n",
            "\n"
          ],
          "name": "stdout"
        }
      ]
    },
    {
      "cell_type": "markdown",
      "metadata": {
        "id": "zcUOf3IvO-KO",
        "colab_type": "text"
      },
      "source": [
        "**Comparing the classification report obtained from the above two models, it is evident that,**\n",
        "\n",
        "**Precision, recall, f1score and accuracy are more for the optimised model and its able to predict the results in a better way comparitively in a model with only one neuron.**\n",
        "\n",
        "**The more number of hidden layers, dropout and learning rate help in achieving the better model parameters.** "
      ]
    }
  ]
}