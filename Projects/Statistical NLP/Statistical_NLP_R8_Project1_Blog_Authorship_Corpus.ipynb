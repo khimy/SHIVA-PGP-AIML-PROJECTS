{
 "cells": [
  {
   "cell_type": "markdown",
   "metadata": {
    "colab_type": "text",
    "id": "q-Q6Jv7nDiGR"
   },
   "source": [
    "# **Load Dataset Files**"
   ]
  },
  {
   "cell_type": "code",
   "execution_count": 36,
   "metadata": {
    "colab": {
     "base_uri": "https://localhost:8080/",
     "height": 34
    },
    "colab_type": "code",
    "id": "tgI_PtncCNRX",
    "outputId": "d8a9c63c-4155-47b5-a798-1b27cd82d81e"
   },
   "outputs": [
    {
     "name": "stdout",
     "output_type": "stream",
     "text": [
      "1.15.0\n"
     ]
    }
   ],
   "source": [
    "## Importing the tensorflow version\n",
    "import tensorflow as tf\n",
    "print(tf.__version__)\n",
    "tf.set_random_seed(42)"
   ]
  },
  {
   "cell_type": "code",
   "execution_count": 37,
   "metadata": {
    "colab": {
     "base_uri": "https://localhost:8080/",
     "height": 34
    },
    "colab_type": "code",
    "id": "CuiFPWDiDrKi",
    "outputId": "ba6e4001-e100-4f7e-c4cf-ce17c7be8c40"
   },
   "outputs": [
    {
     "name": "stdout",
     "output_type": "stream",
     "text": [
      "Drive already mounted at /content/gdrive; to attempt to forcibly remount, call drive.mount(\"/content/gdrive\", force_remount=True).\n"
     ]
    }
   ],
   "source": [
    "## Mounting the drive\n",
    "from google.colab import drive\n",
    "drive.mount('/content/gdrive')"
   ]
  },
  {
   "cell_type": "code",
   "execution_count": 0,
   "metadata": {
    "colab": {},
    "colab_type": "code",
    "id": "KYDZr5AWD2Xm"
   },
   "outputs": [],
   "source": [
    "import warnings\n",
    "warnings.filterwarnings('ignore')"
   ]
  },
  {
   "cell_type": "code",
   "execution_count": 39,
   "metadata": {
    "colab": {
     "base_uri": "https://localhost:8080/",
     "height": 102
    },
    "colab_type": "code",
    "id": "bToIvl7gD7lJ",
    "outputId": "61e2bd87-e7ec-4cad-fe58-ff115d1ee247"
   },
   "outputs": [
    {
     "name": "stdout",
     "output_type": "stream",
     "text": [
      "[nltk_data] Downloading package punkt to /root/nltk_data...\n",
      "[nltk_data]   Package punkt is already up-to-date!\n",
      "[nltk_data] Downloading package wordnet to /root/nltk_data...\n",
      "[nltk_data]   Package wordnet is already up-to-date!\n"
     ]
    },
    {
     "data": {
      "text/plain": [
       "True"
      ]
     },
     "execution_count": 39,
     "metadata": {
      "tags": []
     },
     "output_type": "execute_result"
    }
   ],
   "source": [
    "import pandas as pd\n",
    "import numpy as np\n",
    "import scipy as sp\n",
    "from sklearn.model_selection import train_test_split\n",
    "from sklearn.feature_extraction.text import CountVectorizer, TfidfVectorizer\n",
    "from sklearn.naive_bayes import MultinomialNB\n",
    "from sklearn.linear_model import LogisticRegression\n",
    "from sklearn import metrics\n",
    "from textblob import TextBlob, Word\n",
    "from nltk.stem.snowball import SnowballStemmer\n",
    "%matplotlib inline\n",
    "import nltk\n",
    "nltk.download('punkt')\n",
    "nltk.download('wordnet')"
   ]
  },
  {
   "cell_type": "code",
   "execution_count": 0,
   "metadata": {
    "colab": {},
    "colab_type": "code",
    "id": "hfxz2JZMEF04"
   },
   "outputs": [],
   "source": [
    "blog=pd.read_csv(\"/content/gdrive/My Drive/AIML/blogtext.csv\")"
   ]
  },
  {
   "cell_type": "code",
   "execution_count": 41,
   "metadata": {
    "colab": {
     "base_uri": "https://localhost:8080/",
     "height": 34
    },
    "colab_type": "code",
    "id": "85owfyoeE9Wx",
    "outputId": "002face5-88d4-424a-db71-657f1704ba2d"
   },
   "outputs": [
    {
     "data": {
      "text/plain": [
       "(681284, 7)"
      ]
     },
     "execution_count": 41,
     "metadata": {
      "tags": []
     },
     "output_type": "execute_result"
    }
   ],
   "source": [
    "blog.shape"
   ]
  },
  {
   "cell_type": "code",
   "execution_count": 42,
   "metadata": {
    "colab": {
     "base_uri": "https://localhost:8080/",
     "height": 153
    },
    "colab_type": "code",
    "id": "0dxatGx2FEEC",
    "outputId": "2c1d8030-341e-42ed-9a8e-a54f8ac3c98d"
   },
   "outputs": [
    {
     "data": {
      "text/plain": [
       "id         int64\n",
       "gender    object\n",
       "age        int64\n",
       "topic     object\n",
       "sign      object\n",
       "date      object\n",
       "text      object\n",
       "dtype: object"
      ]
     },
     "execution_count": 42,
     "metadata": {
      "tags": []
     },
     "output_type": "execute_result"
    }
   ],
   "source": [
    "blog.dtypes"
   ]
  },
  {
   "cell_type": "code",
   "execution_count": 0,
   "metadata": {
    "colab": {},
    "colab_type": "code",
    "id": "dYxfZZoxFJkV"
   },
   "outputs": [],
   "source": [
    "corp=blog.head(20000)"
   ]
  },
  {
   "cell_type": "code",
   "execution_count": 44,
   "metadata": {
    "colab": {
     "base_uri": "https://localhost:8080/",
     "height": 34
    },
    "colab_type": "code",
    "id": "6YBWhkcRu-d-",
    "outputId": "797a0490-61b6-436a-b6af-e7c0e9623a60"
   },
   "outputs": [
    {
     "data": {
      "text/plain": [
       "(20000, 7)"
      ]
     },
     "execution_count": 44,
     "metadata": {
      "tags": []
     },
     "output_type": "execute_result"
    }
   ],
   "source": [
    "corp.shape"
   ]
  },
  {
   "cell_type": "code",
   "execution_count": 45,
   "metadata": {
    "colab": {
     "base_uri": "https://localhost:8080/",
     "height": 204
    },
    "colab_type": "code",
    "id": "caabUzATyioB",
    "outputId": "0896ab05-d040-46e7-f150-b08c01560790"
   },
   "outputs": [
    {
     "data": {
      "text/html": [
       "<div>\n",
       "<style scoped>\n",
       "    .dataframe tbody tr th:only-of-type {\n",
       "        vertical-align: middle;\n",
       "    }\n",
       "\n",
       "    .dataframe tbody tr th {\n",
       "        vertical-align: top;\n",
       "    }\n",
       "\n",
       "    .dataframe thead th {\n",
       "        text-align: right;\n",
       "    }\n",
       "</style>\n",
       "<table border=\"1\" class=\"dataframe\">\n",
       "  <thead>\n",
       "    <tr style=\"text-align: right;\">\n",
       "      <th></th>\n",
       "      <th>id</th>\n",
       "      <th>gender</th>\n",
       "      <th>age</th>\n",
       "      <th>topic</th>\n",
       "      <th>sign</th>\n",
       "      <th>date</th>\n",
       "      <th>text</th>\n",
       "    </tr>\n",
       "  </thead>\n",
       "  <tbody>\n",
       "    <tr>\n",
       "      <th>0</th>\n",
       "      <td>2059027</td>\n",
       "      <td>male</td>\n",
       "      <td>15</td>\n",
       "      <td>Student</td>\n",
       "      <td>Leo</td>\n",
       "      <td>14,May,2004</td>\n",
       "      <td>Info has been found (+/- 100 pages,...</td>\n",
       "    </tr>\n",
       "    <tr>\n",
       "      <th>1</th>\n",
       "      <td>2059027</td>\n",
       "      <td>male</td>\n",
       "      <td>15</td>\n",
       "      <td>Student</td>\n",
       "      <td>Leo</td>\n",
       "      <td>13,May,2004</td>\n",
       "      <td>These are the team members:   Drewe...</td>\n",
       "    </tr>\n",
       "    <tr>\n",
       "      <th>2</th>\n",
       "      <td>2059027</td>\n",
       "      <td>male</td>\n",
       "      <td>15</td>\n",
       "      <td>Student</td>\n",
       "      <td>Leo</td>\n",
       "      <td>12,May,2004</td>\n",
       "      <td>In het kader van kernfusie op aarde...</td>\n",
       "    </tr>\n",
       "    <tr>\n",
       "      <th>3</th>\n",
       "      <td>2059027</td>\n",
       "      <td>male</td>\n",
       "      <td>15</td>\n",
       "      <td>Student</td>\n",
       "      <td>Leo</td>\n",
       "      <td>12,May,2004</td>\n",
       "      <td>testing!!!  testing!!!</td>\n",
       "    </tr>\n",
       "    <tr>\n",
       "      <th>4</th>\n",
       "      <td>3581210</td>\n",
       "      <td>male</td>\n",
       "      <td>33</td>\n",
       "      <td>InvestmentBanking</td>\n",
       "      <td>Aquarius</td>\n",
       "      <td>11,June,2004</td>\n",
       "      <td>Thanks to Yahoo!'s Toolbar I can ...</td>\n",
       "    </tr>\n",
       "  </tbody>\n",
       "</table>\n",
       "</div>"
      ],
      "text/plain": [
       "        id  ...                                               text\n",
       "0  2059027  ...             Info has been found (+/- 100 pages,...\n",
       "1  2059027  ...             These are the team members:   Drewe...\n",
       "2  2059027  ...             In het kader van kernfusie op aarde...\n",
       "3  2059027  ...                   testing!!!  testing!!!          \n",
       "4  3581210  ...               Thanks to Yahoo!'s Toolbar I can ...\n",
       "\n",
       "[5 rows x 7 columns]"
      ]
     },
     "execution_count": 45,
     "metadata": {
      "tags": []
     },
     "output_type": "execute_result"
    }
   ],
   "source": [
    "corp.head()"
   ]
  },
  {
   "cell_type": "markdown",
   "metadata": {
    "colab_type": "text",
    "id": "O4sbLbFqxNO-"
   },
   "source": [
    "**Preprocess rows of the “text” column**\n",
    "\n",
    "**a. Remove unwanted characters**\n",
    "\n",
    "**b. Convert text to lowercase**\n",
    "\n",
    "**c. Remove unwanted spaces**\n",
    "\n",
    "**d. Remove stopwords**\n"
   ]
  },
  {
   "cell_type": "code",
   "execution_count": 46,
   "metadata": {
    "colab": {
     "base_uri": "https://localhost:8080/",
     "height": 51
    },
    "colab_type": "code",
    "id": "RNERwZ2f0woh",
    "outputId": "04ed7876-7dac-4cf9-ccce-22c228fc8ef3"
   },
   "outputs": [
    {
     "name": "stdout",
     "output_type": "stream",
     "text": [
      "[nltk_data] Downloading package stopwords to /root/nltk_data...\n",
      "[nltk_data]   Package stopwords is already up-to-date!\n"
     ]
    }
   ],
   "source": [
    "nltk.download(\"stopwords\")\n",
    "from nltk.corpus import stopwords\n",
    "stop = set(stopwords.words('english'))"
   ]
  },
  {
   "cell_type": "code",
   "execution_count": 0,
   "metadata": {
    "colab": {},
    "colab_type": "code",
    "id": "l1lqMGGxxMnL"
   },
   "outputs": [],
   "source": [
    "import re\n",
    "corp['text']=corp['text'].apply(lambda s: s.lower())\n",
    "corp['text']=corp['text'].apply(lambda s: re.sub('[^0-9a-z #+_]',\" \",s))\n",
    "corp['text']=corp['text'].apply(lambda s: s.strip())"
   ]
  },
  {
   "cell_type": "code",
   "execution_count": 0,
   "metadata": {
    "colab": {},
    "colab_type": "code",
    "id": "Rv4Ai9XF7Klj"
   },
   "outputs": [],
   "source": [
    "re_stop = re.compile(r\"\\b(\" + \"|\".join(stop) + \")\\\\W\", re.I)\n",
    "def removeStopWords(sentence):\n",
    "    global re_stop\n",
    "    return re_stop.sub(\" \", sentence)\n",
    "corp['text'] = corp['text'].apply(removeStopWords)"
   ]
  },
  {
   "cell_type": "code",
   "execution_count": 49,
   "metadata": {
    "colab": {
     "base_uri": "https://localhost:8080/",
     "height": 204
    },
    "colab_type": "code",
    "id": "0Pl3QApNz3UM",
    "outputId": "e2c2bfb4-4dc8-435e-8176-f4476098842c"
   },
   "outputs": [
    {
     "data": {
      "text/html": [
       "<div>\n",
       "<style scoped>\n",
       "    .dataframe tbody tr th:only-of-type {\n",
       "        vertical-align: middle;\n",
       "    }\n",
       "\n",
       "    .dataframe tbody tr th {\n",
       "        vertical-align: top;\n",
       "    }\n",
       "\n",
       "    .dataframe thead th {\n",
       "        text-align: right;\n",
       "    }\n",
       "</style>\n",
       "<table border=\"1\" class=\"dataframe\">\n",
       "  <thead>\n",
       "    <tr style=\"text-align: right;\">\n",
       "      <th></th>\n",
       "      <th>id</th>\n",
       "      <th>gender</th>\n",
       "      <th>age</th>\n",
       "      <th>topic</th>\n",
       "      <th>sign</th>\n",
       "      <th>date</th>\n",
       "      <th>text</th>\n",
       "    </tr>\n",
       "  </thead>\n",
       "  <tbody>\n",
       "    <tr>\n",
       "      <th>0</th>\n",
       "      <td>2059027</td>\n",
       "      <td>male</td>\n",
       "      <td>15</td>\n",
       "      <td>Student</td>\n",
       "      <td>Leo</td>\n",
       "      <td>14,May,2004</td>\n",
       "      <td>info   found  +   100 pages   4 5 mb   pdf fil...</td>\n",
       "    </tr>\n",
       "    <tr>\n",
       "      <th>1</th>\n",
       "      <td>2059027</td>\n",
       "      <td>male</td>\n",
       "      <td>15</td>\n",
       "      <td>Student</td>\n",
       "      <td>Leo</td>\n",
       "      <td>13,May,2004</td>\n",
       "      <td>team members    drewes van der laag        ...</td>\n",
       "    </tr>\n",
       "    <tr>\n",
       "      <th>2</th>\n",
       "      <td>2059027</td>\n",
       "      <td>male</td>\n",
       "      <td>15</td>\n",
       "      <td>Student</td>\n",
       "      <td>Leo</td>\n",
       "      <td>12,May,2004</td>\n",
       "      <td>het kader van kernfusie op aarde   maak je ei...</td>\n",
       "    </tr>\n",
       "    <tr>\n",
       "      <th>3</th>\n",
       "      <td>2059027</td>\n",
       "      <td>male</td>\n",
       "      <td>15</td>\n",
       "      <td>Student</td>\n",
       "      <td>Leo</td>\n",
       "      <td>12,May,2004</td>\n",
       "      <td>testing     testing</td>\n",
       "    </tr>\n",
       "    <tr>\n",
       "      <th>4</th>\n",
       "      <td>3581210</td>\n",
       "      <td>male</td>\n",
       "      <td>33</td>\n",
       "      <td>InvestmentBanking</td>\n",
       "      <td>Aquarius</td>\n",
       "      <td>11,June,2004</td>\n",
       "      <td>thanks  yahoo   toolbar     capture   urls  po...</td>\n",
       "    </tr>\n",
       "  </tbody>\n",
       "</table>\n",
       "</div>"
      ],
      "text/plain": [
       "        id  ...                                               text\n",
       "0  2059027  ...  info   found  +   100 pages   4 5 mb   pdf fil...\n",
       "1  2059027  ...     team members    drewes van der laag        ...\n",
       "2  2059027  ...   het kader van kernfusie op aarde   maak je ei...\n",
       "3  2059027  ...                                testing     testing\n",
       "4  3581210  ...  thanks  yahoo   toolbar     capture   urls  po...\n",
       "\n",
       "[5 rows x 7 columns]"
      ]
     },
     "execution_count": 49,
     "metadata": {
      "tags": []
     },
     "output_type": "execute_result"
    }
   ],
   "source": [
    "corp.head()"
   ]
  },
  {
   "cell_type": "code",
   "execution_count": 0,
   "metadata": {
    "colab": {},
    "colab_type": "code",
    "id": "UrbG61PZYyBW"
   },
   "outputs": [],
   "source": [
    "corp['age']=corp.age.astype('str')"
   ]
  },
  {
   "cell_type": "code",
   "execution_count": 51,
   "metadata": {
    "colab": {
     "base_uri": "https://localhost:8080/",
     "height": 153
    },
    "colab_type": "code",
    "id": "61rIg-AaY60N",
    "outputId": "2280a5d1-1618-4bd6-c67a-8b07c051dd0a"
   },
   "outputs": [
    {
     "data": {
      "text/plain": [
       "id         int64\n",
       "gender    object\n",
       "age       object\n",
       "topic     object\n",
       "sign      object\n",
       "date      object\n",
       "text      object\n",
       "dtype: object"
      ]
     },
     "execution_count": 51,
     "metadata": {
      "tags": []
     },
     "output_type": "execute_result"
    }
   ],
   "source": [
    "corp.dtypes"
   ]
  },
  {
   "cell_type": "markdown",
   "metadata": {
    "colab_type": "text",
    "id": "hY5RtpOUa_EW"
   },
   "source": [
    "As we want to make this into a multi-label classification problem, you are required to merge all the label columns together, so that we have all the labels together for a particular sentence\n",
    "\n",
    "a. Label columns to merge: “gender”, “age”, “topic”, “sign”\n",
    "\n",
    "b. After completing the previous step, there should be only two columns in your dataframe i.e. “text” and “labels” as shown in the below image"
   ]
  },
  {
   "cell_type": "code",
   "execution_count": 0,
   "metadata": {
    "colab": {},
    "colab_type": "code",
    "id": "4nXaS_bqZwP3"
   },
   "outputs": [],
   "source": [
    "corp['labels']= corp[['gender','age','topic','sign']].values.tolist()\n"
   ]
  },
  {
   "cell_type": "code",
   "execution_count": 53,
   "metadata": {
    "colab": {
     "base_uri": "https://localhost:8080/",
     "height": 204
    },
    "colab_type": "code",
    "id": "x9bYTuvGVXa5",
    "outputId": "39492983-b3dc-454c-cbf6-5b240932bee1"
   },
   "outputs": [
    {
     "data": {
      "text/html": [
       "<div>\n",
       "<style scoped>\n",
       "    .dataframe tbody tr th:only-of-type {\n",
       "        vertical-align: middle;\n",
       "    }\n",
       "\n",
       "    .dataframe tbody tr th {\n",
       "        vertical-align: top;\n",
       "    }\n",
       "\n",
       "    .dataframe thead th {\n",
       "        text-align: right;\n",
       "    }\n",
       "</style>\n",
       "<table border=\"1\" class=\"dataframe\">\n",
       "  <thead>\n",
       "    <tr style=\"text-align: right;\">\n",
       "      <th></th>\n",
       "      <th>id</th>\n",
       "      <th>gender</th>\n",
       "      <th>age</th>\n",
       "      <th>topic</th>\n",
       "      <th>sign</th>\n",
       "      <th>date</th>\n",
       "      <th>text</th>\n",
       "      <th>labels</th>\n",
       "    </tr>\n",
       "  </thead>\n",
       "  <tbody>\n",
       "    <tr>\n",
       "      <th>0</th>\n",
       "      <td>2059027</td>\n",
       "      <td>male</td>\n",
       "      <td>15</td>\n",
       "      <td>Student</td>\n",
       "      <td>Leo</td>\n",
       "      <td>14,May,2004</td>\n",
       "      <td>info   found  +   100 pages   4 5 mb   pdf fil...</td>\n",
       "      <td>[male, 15, Student, Leo]</td>\n",
       "    </tr>\n",
       "    <tr>\n",
       "      <th>1</th>\n",
       "      <td>2059027</td>\n",
       "      <td>male</td>\n",
       "      <td>15</td>\n",
       "      <td>Student</td>\n",
       "      <td>Leo</td>\n",
       "      <td>13,May,2004</td>\n",
       "      <td>team members    drewes van der laag        ...</td>\n",
       "      <td>[male, 15, Student, Leo]</td>\n",
       "    </tr>\n",
       "    <tr>\n",
       "      <th>2</th>\n",
       "      <td>2059027</td>\n",
       "      <td>male</td>\n",
       "      <td>15</td>\n",
       "      <td>Student</td>\n",
       "      <td>Leo</td>\n",
       "      <td>12,May,2004</td>\n",
       "      <td>het kader van kernfusie op aarde   maak je ei...</td>\n",
       "      <td>[male, 15, Student, Leo]</td>\n",
       "    </tr>\n",
       "    <tr>\n",
       "      <th>3</th>\n",
       "      <td>2059027</td>\n",
       "      <td>male</td>\n",
       "      <td>15</td>\n",
       "      <td>Student</td>\n",
       "      <td>Leo</td>\n",
       "      <td>12,May,2004</td>\n",
       "      <td>testing     testing</td>\n",
       "      <td>[male, 15, Student, Leo]</td>\n",
       "    </tr>\n",
       "    <tr>\n",
       "      <th>4</th>\n",
       "      <td>3581210</td>\n",
       "      <td>male</td>\n",
       "      <td>33</td>\n",
       "      <td>InvestmentBanking</td>\n",
       "      <td>Aquarius</td>\n",
       "      <td>11,June,2004</td>\n",
       "      <td>thanks  yahoo   toolbar     capture   urls  po...</td>\n",
       "      <td>[male, 33, InvestmentBanking, Aquarius]</td>\n",
       "    </tr>\n",
       "  </tbody>\n",
       "</table>\n",
       "</div>"
      ],
      "text/plain": [
       "        id  ...                                   labels\n",
       "0  2059027  ...                 [male, 15, Student, Leo]\n",
       "1  2059027  ...                 [male, 15, Student, Leo]\n",
       "2  2059027  ...                 [male, 15, Student, Leo]\n",
       "3  2059027  ...                 [male, 15, Student, Leo]\n",
       "4  3581210  ...  [male, 33, InvestmentBanking, Aquarius]\n",
       "\n",
       "[5 rows x 8 columns]"
      ]
     },
     "execution_count": 53,
     "metadata": {
      "tags": []
     },
     "output_type": "execute_result"
    }
   ],
   "source": [
    "corp.head()"
   ]
  },
  {
   "cell_type": "markdown",
   "metadata": {
    "colab_type": "text",
    "id": "0x9hO5hmqWIM"
   },
   "source": [
    "**Separate features and labels, and split the data into training and testing**"
   ]
  },
  {
   "cell_type": "code",
   "execution_count": 0,
   "metadata": {
    "colab": {},
    "colab_type": "code",
    "id": "8JxW2c_dqbdE"
   },
   "outputs": [],
   "source": [
    "X=corp['text']\n",
    "y=corp['labels']"
   ]
  },
  {
   "cell_type": "code",
   "execution_count": 0,
   "metadata": {
    "colab": {},
    "colab_type": "code",
    "id": "gbDrPTPeqlUf"
   },
   "outputs": [],
   "source": [
    "xtrain,xtest,ytrain,ytest=train_test_split(X,y,test_size=0.30,random_state=100)"
   ]
  },
  {
   "cell_type": "code",
   "execution_count": 56,
   "metadata": {
    "colab": {
     "base_uri": "https://localhost:8080/",
     "height": 51
    },
    "colab_type": "code",
    "id": "rC7ZQDIjq4kh",
    "outputId": "e6e84b68-75bd-46f7-a465-3ef7b15dd79a"
   },
   "outputs": [
    {
     "name": "stdout",
     "output_type": "stream",
     "text": [
      "Train data shape: (14000,) (14000,)\n",
      "Test Data shape: (6000,) (6000,)\n"
     ]
    }
   ],
   "source": [
    "print(\"Train data shape:\",xtrain.shape,ytrain.shape)\n",
    "print(\"Test Data shape:\",xtest.shape,ytest.shape)"
   ]
  },
  {
   "cell_type": "markdown",
   "metadata": {
    "colab_type": "text",
    "id": "nk-BJxAErRR2"
   },
   "source": [
    "**Vectorize the features**\n",
    "\n",
    "**a. Create a Bag of Words using count vectorizer**\n",
    "\n",
    "**i. Use ngram_range=(1, 2)**\n",
    "\n",
    "**ii. Vectorize training and testing features**\n",
    "\n",
    "**b. Print the term-document matrix**"
   ]
  },
  {
   "cell_type": "code",
   "execution_count": 0,
   "metadata": {
    "colab": {},
    "colab_type": "code",
    "id": "F2ubfUqkrk_a"
   },
   "outputs": [],
   "source": [
    "vect = CountVectorizer(ngram_range=(1,2))"
   ]
  },
  {
   "cell_type": "code",
   "execution_count": 0,
   "metadata": {
    "colab": {},
    "colab_type": "code",
    "id": "rUy8D-5Dr07X"
   },
   "outputs": [],
   "source": [
    "X_train_dtm = vect.fit_transform(xtrain)\n",
    "X_test_dtm = vect.transform(xtest)"
   ]
  },
  {
   "cell_type": "code",
   "execution_count": 59,
   "metadata": {
    "colab": {
     "base_uri": "https://localhost:8080/",
     "height": 1000
    },
    "colab_type": "code",
    "id": "LiYJj4zhsQsM",
    "outputId": "9a3ccdc9-ab69-4bb4-decd-50cd7e9932a0"
   },
   "outputs": [
    {
     "name": "stdout",
     "output_type": "stream",
     "text": [
      "Train term-document Matrix:   (0, 44474)\t1\n",
      "  (0, 75297)\t1\n",
      "  (0, 751107)\t1\n",
      "  (0, 577776)\t1\n",
      "  (0, 914978)\t2\n",
      "  (0, 44478)\t1\n",
      "  (0, 75361)\t1\n",
      "  (0, 752345)\t1\n",
      "  (0, 580128)\t1\n",
      "  (0, 918413)\t1\n",
      "  (1, 751107)\t1\n",
      "  (1, 979706)\t1\n",
      "  (1, 477466)\t1\n",
      "  (1, 259177)\t1\n",
      "  (1, 721366)\t1\n",
      "  (1, 718607)\t1\n",
      "  (1, 987895)\t1\n",
      "  (1, 755050)\t2\n",
      "  (1, 798583)\t1\n",
      "  (1, 506657)\t1\n",
      "  (1, 485888)\t2\n",
      "  (1, 951013)\t2\n",
      "  (1, 144553)\t2\n",
      "  (1, 132259)\t2\n",
      "  (1, 631234)\t1\n",
      "  :\t:\n",
      "  (13999, 804050)\t1\n",
      "  (13999, 158587)\t1\n",
      "  (13999, 218625)\t1\n",
      "  (13999, 540380)\t1\n",
      "  (13999, 616048)\t1\n",
      "  (13999, 419679)\t1\n",
      "  (13999, 631303)\t1\n",
      "  (13999, 179404)\t1\n",
      "  (13999, 628515)\t1\n",
      "  (13999, 137576)\t1\n",
      "  (13999, 422892)\t1\n",
      "  (13999, 53556)\t1\n",
      "  (13999, 461214)\t1\n",
      "  (13999, 115667)\t2\n",
      "  (13999, 826021)\t1\n",
      "  (13999, 184567)\t1\n",
      "  (13999, 982842)\t1\n",
      "  (13999, 568378)\t1\n",
      "  (13999, 156962)\t1\n",
      "  (13999, 378963)\t1\n",
      "  (13999, 615022)\t1\n",
      "  (13999, 318655)\t1\n",
      "  (13999, 826053)\t1\n",
      "  (13999, 716310)\t1\n",
      "  (13999, 553622)\t1\n",
      "\n",
      "\n",
      "Test term-document Matrix: \n",
      "   (0, 371585)\t1\n",
      "  (1, 33450)\t1\n",
      "  (1, 53241)\t1\n",
      "  (1, 91022)\t1\n",
      "  (1, 137714)\t1\n",
      "  (1, 153113)\t1\n",
      "  (1, 175297)\t1\n",
      "  (1, 181689)\t1\n",
      "  (1, 201282)\t1\n",
      "  (1, 201286)\t1\n",
      "  (1, 206353)\t1\n",
      "  (1, 206525)\t1\n",
      "  (1, 330351)\t1\n",
      "  (1, 361778)\t2\n",
      "  (1, 362685)\t1\n",
      "  (1, 500370)\t1\n",
      "  (1, 508016)\t2\n",
      "  (1, 508362)\t1\n",
      "  (1, 508589)\t1\n",
      "  (1, 509326)\t1\n",
      "  (1, 512960)\t1\n",
      "  (1, 513050)\t1\n",
      "  (1, 523507)\t1\n",
      "  (1, 524713)\t1\n",
      "  (1, 585189)\t1\n",
      "  :\t:\n",
      "  (5998, 498286)\t1\n",
      "  (5998, 526754)\t1\n",
      "  (5998, 527101)\t1\n",
      "  (5998, 599553)\t1\n",
      "  (5998, 606847)\t1\n",
      "  (5998, 607202)\t1\n",
      "  (5998, 631234)\t1\n",
      "  (5998, 679608)\t1\n",
      "  (5998, 682484)\t1\n",
      "  (5998, 692672)\t1\n",
      "  (5998, 692806)\t1\n",
      "  (5998, 694848)\t1\n",
      "  (5998, 772507)\t1\n",
      "  (5998, 839613)\t1\n",
      "  (5998, 858983)\t1\n",
      "  (5998, 900208)\t1\n",
      "  (5998, 914978)\t1\n",
      "  (5998, 936512)\t1\n",
      "  (5998, 974270)\t1\n",
      "  (5998, 982893)\t1\n",
      "  (5998, 983497)\t1\n",
      "  (5999, 577776)\t1\n",
      "  (5999, 580128)\t1\n",
      "  (5999, 914978)\t2\n",
      "  (5999, 917229)\t1\n"
     ]
    }
   ],
   "source": [
    "print(\"Train term-document Matrix:\",X_train_dtm)\n",
    "print('\\n')\n",
    "print(\"Test term-document Matrix:\",\"\\n\",X_test_dtm)"
   ]
  },
  {
   "cell_type": "markdown",
   "metadata": {
    "colab_type": "text",
    "id": "3H4dQDm29Qsl"
   },
   "source": [
    "**Create a dictionary to get the count of every label i.e. the key will be label name and value willbe the total count of the label.**"
   ]
  },
  {
   "cell_type": "code",
   "execution_count": 60,
   "metadata": {
    "colab": {
     "base_uri": "https://localhost:8080/",
     "height": 34
    },
    "colab_type": "code",
    "id": "57d1f7op9TkE",
    "outputId": "750bc3a6-34bc-43ca-d899-90a6a0c4f99e"
   },
   "outputs": [
    {
     "data": {
      "text/plain": [
       "530"
      ]
     },
     "execution_count": 60,
     "metadata": {
      "tags": []
     },
     "output_type": "execute_result"
    }
   ],
   "source": [
    "corp['id'].nunique()"
   ]
  },
  {
   "cell_type": "code",
   "execution_count": 0,
   "metadata": {
    "colab": {},
    "colab_type": "code",
    "id": "LIYLrrOZBplY"
   },
   "outputs": [],
   "source": [
    "corp_unique=corp.groupby('id').first().reset_index()"
   ]
  },
  {
   "cell_type": "code",
   "execution_count": 0,
   "metadata": {
    "colab": {},
    "colab_type": "code",
    "id": "6IsuH7PuBxwZ"
   },
   "outputs": [],
   "source": [
    "corp_unique=corp_unique.drop(['gender','age','topic','sign','date'],axis=1)"
   ]
  },
  {
   "cell_type": "code",
   "execution_count": 63,
   "metadata": {
    "colab": {
     "base_uri": "https://localhost:8080/",
     "height": 204
    },
    "colab_type": "code",
    "id": "Vaoib5xGCR18",
    "outputId": "958a0d66-e10f-4d98-8d23-2658b8ea040d"
   },
   "outputs": [
    {
     "data": {
      "text/html": [
       "<div>\n",
       "<style scoped>\n",
       "    .dataframe tbody tr th:only-of-type {\n",
       "        vertical-align: middle;\n",
       "    }\n",
       "\n",
       "    .dataframe tbody tr th {\n",
       "        vertical-align: top;\n",
       "    }\n",
       "\n",
       "    .dataframe thead th {\n",
       "        text-align: right;\n",
       "    }\n",
       "</style>\n",
       "<table border=\"1\" class=\"dataframe\">\n",
       "  <thead>\n",
       "    <tr style=\"text-align: right;\">\n",
       "      <th></th>\n",
       "      <th>id</th>\n",
       "      <th>text</th>\n",
       "      <th>labels</th>\n",
       "    </tr>\n",
       "  </thead>\n",
       "  <tbody>\n",
       "    <tr>\n",
       "      <th>0</th>\n",
       "      <td>23191</td>\n",
       "      <td>twenty something    call    quarter life cris...</td>\n",
       "      <td>[female, 23, Advertising, Taurus]</td>\n",
       "    </tr>\n",
       "    <tr>\n",
       "      <th>1</th>\n",
       "      <td>72355</td>\n",
       "      <td>saw  show  discovery   komodo dragon    menti...</td>\n",
       "      <td>[male, 27, indUnk, Leo]</td>\n",
       "    </tr>\n",
       "    <tr>\n",
       "      <th>2</th>\n",
       "      <td>467705</td>\n",
       "      <td>starting anew   ditching  password protected...</td>\n",
       "      <td>[female, 25, indUnk, Libra]</td>\n",
       "    </tr>\n",
       "    <tr>\n",
       "      <th>3</th>\n",
       "      <td>468786</td>\n",
       "      <td>hi       leave messages      fun sharing thing...</td>\n",
       "      <td>[male, 45, Religion, Aries]</td>\n",
       "    </tr>\n",
       "    <tr>\n",
       "      <th>4</th>\n",
       "      <td>480727</td>\n",
       "      <td>inner conscious tells      open  others    me...</td>\n",
       "      <td>[male, 23, indUnk, Pisces]</td>\n",
       "    </tr>\n",
       "  </tbody>\n",
       "</table>\n",
       "</div>"
      ],
      "text/plain": [
       "       id  ...                             labels\n",
       "0   23191  ...  [female, 23, Advertising, Taurus]\n",
       "1   72355  ...            [male, 27, indUnk, Leo]\n",
       "2  467705  ...        [female, 25, indUnk, Libra]\n",
       "3  468786  ...        [male, 45, Religion, Aries]\n",
       "4  480727  ...         [male, 23, indUnk, Pisces]\n",
       "\n",
       "[5 rows x 3 columns]"
      ]
     },
     "execution_count": 63,
     "metadata": {
      "tags": []
     },
     "output_type": "execute_result"
    }
   ],
   "source": [
    "corp_unique.head()"
   ]
  },
  {
   "cell_type": "code",
   "execution_count": 0,
   "metadata": {
    "colab": {},
    "colab_type": "code",
    "id": "JHne3csECf6K"
   },
   "outputs": [],
   "source": [
    "label_counts=dict()\n",
    "\n",
    "for labels in corp_unique.labels.values:\n",
    "  for label in labels:\n",
    "    if label in label_counts:\n",
    "      label_counts[label] +=1\n",
    "    else:\n",
    "      label_counts[label]=1"
   ]
  },
  {
   "cell_type": "code",
   "execution_count": 65,
   "metadata": {
    "colab": {
     "base_uri": "https://localhost:8080/",
     "height": 1000
    },
    "colab_type": "code",
    "id": "l_WqILzSC5sL",
    "outputId": "d2cb4299-7b79-4be2-f0ec-3317e49357ea"
   },
   "outputs": [
    {
     "data": {
      "text/plain": [
       "{'13': 13,\n",
       " '14': 35,\n",
       " '15': 48,\n",
       " '16': 57,\n",
       " '17': 59,\n",
       " '23': 62,\n",
       " '24': 45,\n",
       " '25': 51,\n",
       " '26': 37,\n",
       " '27': 33,\n",
       " '33': 22,\n",
       " '34': 9,\n",
       " '35': 15,\n",
       " '36': 7,\n",
       " '37': 5,\n",
       " '38': 3,\n",
       " '39': 5,\n",
       " '40': 1,\n",
       " '41': 4,\n",
       " '42': 4,\n",
       " '43': 1,\n",
       " '44': 2,\n",
       " '45': 5,\n",
       " '46': 5,\n",
       " '47': 1,\n",
       " '48': 1,\n",
       " 'Accounting': 4,\n",
       " 'Advertising': 4,\n",
       " 'Agriculture': 1,\n",
       " 'Aquarius': 43,\n",
       " 'Architecture': 2,\n",
       " 'Aries': 51,\n",
       " 'Arts': 18,\n",
       " 'Automotive': 2,\n",
       " 'Banking': 5,\n",
       " 'Biotech': 1,\n",
       " 'BusinessServices': 10,\n",
       " 'Cancer': 52,\n",
       " 'Capricorn': 41,\n",
       " 'Communications-Media': 7,\n",
       " 'Construction': 1,\n",
       " 'Consulting': 8,\n",
       " 'Education': 28,\n",
       " 'Engineering': 7,\n",
       " 'Fashion': 2,\n",
       " 'Gemini': 41,\n",
       " 'Government': 6,\n",
       " 'HumanResources': 3,\n",
       " 'Internet': 15,\n",
       " 'InvestmentBanking': 2,\n",
       " 'Law': 5,\n",
       " 'LawEnforcement-Security': 3,\n",
       " 'Leo': 46,\n",
       " 'Libra': 36,\n",
       " 'Manufacturing': 1,\n",
       " 'Marketing': 4,\n",
       " 'Military': 3,\n",
       " 'Museums-Libraries': 4,\n",
       " 'Non-Profit': 12,\n",
       " 'Pisces': 37,\n",
       " 'Publishing': 3,\n",
       " 'RealEstate': 2,\n",
       " 'Religion': 7,\n",
       " 'Sagittarius': 64,\n",
       " 'Science': 6,\n",
       " 'Scorpio': 39,\n",
       " 'Sports-Recreation': 5,\n",
       " 'Student': 132,\n",
       " 'Taurus': 42,\n",
       " 'Technology': 23,\n",
       " 'Telecommunications': 3,\n",
       " 'Transportation': 1,\n",
       " 'Virgo': 38,\n",
       " 'female': 269,\n",
       " 'indUnk': 190,\n",
       " 'male': 261}"
      ]
     },
     "execution_count": 65,
     "metadata": {
      "tags": []
     },
     "output_type": "execute_result"
    }
   ],
   "source": [
    "label_counts"
   ]
  },
  {
   "cell_type": "markdown",
   "metadata": {
    "colab_type": "text",
    "id": "ILtsTYthDupX"
   },
   "source": [
    "**Transform the labels**\n",
    "\n",
    "**As we have noticed before, in this task each example can have multiple tags. To deal withsuch kind of prediction, we need to transform labels in a binary form and the prediction will be a mask of 0s and 1s.** \n",
    "\n",
    "**For this purpose, it is convenient to use MultiLabelBinarizer from sklearn**\n",
    "\n",
    "**a. Convert your train and test labels using MultiLabelBinarizer**"
   ]
  },
  {
   "cell_type": "code",
   "execution_count": 0,
   "metadata": {
    "colab": {},
    "colab_type": "code",
    "id": "MeK40j6xEXvF"
   },
   "outputs": [],
   "source": [
    "from sklearn.preprocessing import MultiLabelBinarizer\n",
    "mlb = MultiLabelBinarizer()"
   ]
  },
  {
   "cell_type": "code",
   "execution_count": 0,
   "metadata": {
    "colab": {},
    "colab_type": "code",
    "id": "a5MuRgQ5HZ98"
   },
   "outputs": [],
   "source": [
    "y_train_dtm=pd.DataFrame(mlb.fit_transform(ytrain),columns=mlb.classes_)"
   ]
  },
  {
   "cell_type": "code",
   "execution_count": 0,
   "metadata": {
    "colab": {},
    "colab_type": "code",
    "id": "idssQO-gKnaY"
   },
   "outputs": [],
   "source": [
    "y_test_dtm=pd.DataFrame(mlb.transform(ytest),columns=mlb.classes_)"
   ]
  },
  {
   "cell_type": "markdown",
   "metadata": {
    "colab_type": "text",
    "id": "yvzHX3bPLG0G"
   },
   "source": [
    "# **Choose a classifier**\n",
    "\n",
    "**In this task, we suggest using the One-vs-Rest approach, which is implemented in OneVsRestClassifier class. In this approach k classifiers (= number of tags) are trained. As a basic classifier, use LogisticRegression.**\n",
    "\n",
    "**It is one of the simplest methods, but often it performs good enough in text classification tasks. It might take some time because the number of classifiers to train is large.**\n",
    "\n",
    "**a. Use a linear classifier of your choice, wrap it up in OneVsRestClassifier to train it on every label**\n",
    "\n",
    "**b. As One-vs-Rest approach might not have been discussed in the sessions, we are providing you the code for that**"
   ]
  },
  {
   "cell_type": "code",
   "execution_count": 0,
   "metadata": {
    "colab": {},
    "colab_type": "code",
    "id": "gQfi7cYLLl8Z"
   },
   "outputs": [],
   "source": [
    "from sklearn.multiclass import OneVsRestClassifier\n",
    "from sklearn.linear_model import LogisticRegression\n",
    "\n",
    "classifier=LogisticRegression(solver='lbfgs')\n",
    "classifier=OneVsRestClassifier(classifier)"
   ]
  },
  {
   "cell_type": "markdown",
   "metadata": {
    "colab_type": "text",
    "id": "lNGL4NC8Mdl4"
   },
   "source": [
    "# **Fit the classifier, make predictions and get the accuracy**\n",
    "\n",
    "**a. Print the following**\n",
    "\n",
    "**i. Accuracy score**\n",
    "\n",
    "**ii. F1 score**\n",
    "\n",
    "**iii. Average precision score**\n",
    "\n",
    "**iv. Average recall score**\n",
    "\n",
    "**v. Tip: Make sure you are familiar with all of them. How would you expect the things to work for the multi-label scenario? Read about micro/macro/weighted averaging**"
   ]
  },
  {
   "cell_type": "code",
   "execution_count": 70,
   "metadata": {
    "colab": {
     "base_uri": "https://localhost:8080/",
     "height": 187
    },
    "colab_type": "code",
    "id": "7uZxrJvHMa9A",
    "outputId": "16911175-50de-491a-95e8-2730a9c04a0f"
   },
   "outputs": [
    {
     "data": {
      "text/plain": [
       "OneVsRestClassifier(estimator=LogisticRegression(C=1.0, class_weight=None,\n",
       "                                                 dual=False, fit_intercept=True,\n",
       "                                                 intercept_scaling=1,\n",
       "                                                 l1_ratio=None, max_iter=100,\n",
       "                                                 multi_class='auto',\n",
       "                                                 n_jobs=None, penalty='l2',\n",
       "                                                 random_state=None,\n",
       "                                                 solver='lbfgs', tol=0.0001,\n",
       "                                                 verbose=0, warm_start=False),\n",
       "                    n_jobs=None)"
      ]
     },
     "execution_count": 70,
     "metadata": {
      "tags": []
     },
     "output_type": "execute_result"
    }
   ],
   "source": [
    "classifier.fit(X_train_dtm,y_train_dtm)"
   ]
  },
  {
   "cell_type": "code",
   "execution_count": 0,
   "metadata": {
    "colab": {},
    "colab_type": "code",
    "id": "Yw02fC1eM4U0"
   },
   "outputs": [],
   "source": [
    "y_train_pred=classifier.predict(X_train_dtm)\n",
    "y_test_pred=classifier.predict(X_test_dtm)"
   ]
  },
  {
   "cell_type": "code",
   "execution_count": 72,
   "metadata": {
    "colab": {
     "base_uri": "https://localhost:8080/",
     "height": 51
    },
    "colab_type": "code",
    "id": "GKs-OzRnOmhh",
    "outputId": "2b6dcbf0-575c-4cef-88bb-9c8ff520090e"
   },
   "outputs": [
    {
     "name": "stdout",
     "output_type": "stream",
     "text": [
      "Train Accuracy: 0.9367857142857143\n",
      "Test Accuracy: 0.16033333333333333\n"
     ]
    }
   ],
   "source": [
    "print(\"Train Accuracy:\",metrics.accuracy_score(y_train_dtm,y_train_pred))\n",
    "print(\"Test Accuracy:\",metrics.accuracy_score(y_test_dtm,y_test_pred))"
   ]
  },
  {
   "cell_type": "code",
   "execution_count": 73,
   "metadata": {
    "colab": {
     "base_uri": "https://localhost:8080/",
     "height": 1000
    },
    "colab_type": "code",
    "id": "ILQAs4oyHl5K",
    "outputId": "74202c93-3274-45ad-fa21-92baba8567f1"
   },
   "outputs": [
    {
     "name": "stdout",
     "output_type": "stream",
     "text": [
      "Train Accuracy: \n",
      "\n",
      "              precision    recall  f1-score   support\n",
      "\n",
      "           0       1.00      0.93      0.96        84\n",
      "           1       1.00      0.96      0.98       559\n",
      "           2       1.00      0.91      0.96       769\n",
      "           3       1.00      0.95      0.98       875\n",
      "           4       1.00      0.94      0.97      1378\n",
      "           5       1.00      0.91      0.95      1381\n",
      "           6       1.00      0.96      0.98      1073\n",
      "           7       1.00      0.95      0.97       841\n",
      "           8       1.00      0.90      0.95       675\n",
      "           9       1.00      0.97      0.98      1652\n",
      "          10       1.00      0.94      0.97       522\n",
      "          11       1.00      0.97      0.98       622\n",
      "          12       1.00      0.96      0.98      1708\n",
      "          13       1.00      0.96      0.98      1198\n",
      "          14       1.00      0.96      0.98        97\n",
      "          15       1.00      1.00      1.00        58\n",
      "          16       1.00      0.96      0.98        77\n",
      "          17       1.00      1.00      1.00         1\n",
      "          18       1.00      1.00      1.00        56\n",
      "          19       1.00      0.97      0.98        31\n",
      "          20       1.00      0.80      0.89         5\n",
      "          21       1.00      0.83      0.91         6\n",
      "          22       1.00      0.98      0.99        50\n",
      "          23       1.00      0.86      0.93       116\n",
      "          24       1.00      1.00      1.00         3\n",
      "          25       0.99      0.85      0.91       163\n",
      "          26       1.00      0.96      0.98        27\n",
      "          27       1.00      0.97      0.98        29\n",
      "          28       1.00      0.54      0.70        35\n",
      "          29       1.00      0.96      0.98       910\n",
      "          30       1.00      0.73      0.84        33\n",
      "          31       1.00      0.99      0.99      3607\n",
      "          32       1.00      0.98      0.99       257\n",
      "          33       1.00      1.00      1.00        71\n",
      "          34       1.00      0.94      0.97        69\n",
      "          35       1.00      1.00      1.00        28\n",
      "          36       1.00      0.92      0.96       133\n",
      "          37       1.00      0.95      0.98      1072\n",
      "          38       1.00      0.97      0.98       628\n",
      "          39       1.00      0.88      0.93       281\n",
      "          40       1.00      0.90      0.95        10\n",
      "          41       1.00      0.70      0.83       115\n",
      "          42       1.00      0.96      0.98       542\n",
      "          43       1.00      0.90      0.95       240\n",
      "          44       1.00      0.95      0.98      1130\n",
      "          45       1.00      0.95      0.97       533\n",
      "          46       1.00      0.78      0.88       128\n",
      "          47       1.00      1.00      1.00        11\n",
      "          48       1.00      0.84      0.91       544\n",
      "          49       1.00      0.98      0.99        49\n",
      "          50       1.00      1.00      1.00        34\n",
      "          51       1.00      0.89      0.94        63\n",
      "          52       1.00      0.89      0.94      1205\n",
      "          53       1.00      0.95      0.98       717\n",
      "          54       1.00      0.99      0.99        72\n",
      "          55       1.00      0.93      0.96       142\n",
      "          56       1.00      0.92      0.96        13\n",
      "          57       1.00      0.86      0.92        42\n",
      "          58       1.00      0.92      0.96       146\n",
      "          59       1.00      0.97      0.99      1197\n",
      "          60       1.00      0.87      0.93        47\n",
      "          61       1.00      1.00      1.00         6\n",
      "          62       1.00      0.98      0.99       122\n",
      "          63       1.00      0.95      0.97      1531\n",
      "          64       1.00      0.91      0.95        67\n",
      "          65       1.00      0.91      0.96      1023\n",
      "          66       1.00      0.99      0.99        77\n",
      "          67       1.00      0.96      0.98      1856\n",
      "          68       1.00      0.94      0.97       974\n",
      "          69       1.00      0.96      0.98      2038\n",
      "          70       1.00      0.83      0.91         6\n",
      "          71       1.00      0.91      0.95        32\n",
      "          72       1.00      0.97      0.98       603\n",
      "          73       1.00      0.98      0.99      6081\n",
      "          74       1.00      0.97      0.99      5505\n",
      "          75       0.99      1.00      0.99      7919\n",
      "\n",
      "   micro avg       1.00      0.96      0.98     56000\n",
      "   macro avg       1.00      0.93      0.96     56000\n",
      "weighted avg       1.00      0.96      0.98     56000\n",
      " samples avg       0.99      0.96      0.97     56000\n",
      "\n",
      "Test Accuracy: \n",
      "\n",
      "              precision    recall  f1-score   support\n",
      "\n",
      "           0       1.00      0.21      0.34        29\n",
      "           1       0.81      0.18      0.30       252\n",
      "           2       0.74      0.14      0.24       328\n",
      "           3       0.56      0.18      0.27       361\n",
      "           4       0.65      0.24      0.35       583\n",
      "           5       0.71      0.18      0.28       582\n",
      "           6       0.84      0.26      0.40       484\n",
      "           7       0.70      0.17      0.27       349\n",
      "           8       0.70      0.12      0.21       244\n",
      "           9       0.73      0.33      0.46       668\n",
      "          10       0.88      0.19      0.31       247\n",
      "          11       0.99      0.54      0.70       249\n",
      "          12       0.77      0.35      0.48       786\n",
      "          13       0.95      0.43      0.59       528\n",
      "          14       0.43      0.09      0.15        33\n",
      "          15       1.00      0.11      0.20        27\n",
      "          16       0.67      0.07      0.13        28\n",
      "          17       0.00      0.00      0.00         0\n",
      "          18       0.40      0.08      0.13        26\n",
      "          19       0.00      0.00      0.00        16\n",
      "          20       0.00      0.00      0.00         1\n",
      "          21       0.00      0.00      0.00         3\n",
      "          22       0.00      0.00      0.00        22\n",
      "          23       0.62      0.07      0.12        72\n",
      "          24       0.00      0.00      0.00         5\n",
      "          25       0.80      0.31      0.45        77\n",
      "          26       0.00      0.00      0.00         8\n",
      "          27       1.00      0.15      0.27        13\n",
      "          28       0.33      0.09      0.14        11\n",
      "          29       0.75      0.24      0.36       403\n",
      "          30       0.00      0.00      0.00        12\n",
      "          31       0.77      0.49      0.60      1602\n",
      "          32       0.64      0.07      0.13       101\n",
      "          33       0.75      0.23      0.35        40\n",
      "          34       0.00      0.00      0.00        20\n",
      "          35       0.40      0.25      0.31         8\n",
      "          36       0.67      0.12      0.20        51\n",
      "          37       0.67      0.12      0.21       464\n",
      "          38       0.52      0.09      0.15       302\n",
      "          39       0.69      0.18      0.29       133\n",
      "          40       1.00      0.09      0.17        11\n",
      "          41       0.33      0.02      0.04        51\n",
      "          42       0.77      0.18      0.30       217\n",
      "          43       0.69      0.09      0.17       117\n",
      "          44       0.96      0.46      0.62       492\n",
      "          45       0.77      0.11      0.19       247\n",
      "          46       0.00      0.00      0.00        59\n",
      "          47       0.00      0.00      0.00         4\n",
      "          48       0.76      0.12      0.21       234\n",
      "          49       0.89      0.36      0.52        22\n",
      "          50       0.33      0.08      0.12        13\n",
      "          51       0.00      0.00      0.00        27\n",
      "          52       0.64      0.12      0.20       527\n",
      "          53       0.69      0.13      0.22       266\n",
      "          54       0.57      0.19      0.29        21\n",
      "          55       0.93      0.20      0.33        65\n",
      "          56       0.00      0.00      0.00         6\n",
      "          57       1.00      0.12      0.21        25\n",
      "          58       0.67      0.07      0.12        58\n",
      "          59       0.83      0.28      0.42       481\n",
      "          60       0.50      0.04      0.08        23\n",
      "          61       0.00      0.00      0.00         1\n",
      "          62       0.65      0.18      0.29        60\n",
      "          63       0.87      0.32      0.47       622\n",
      "          64       0.50      0.05      0.09        20\n",
      "          65       0.66      0.12      0.20       462\n",
      "          66       0.80      0.19      0.30        43\n",
      "          67       0.66      0.25      0.36       781\n",
      "          68       0.54      0.14      0.23       356\n",
      "          69       0.75      0.36      0.49       951\n",
      "          70       0.00      0.00      0.00         4\n",
      "          71       0.00      0.00      0.00        14\n",
      "          72       0.83      0.13      0.22       268\n",
      "          73       0.75      0.63      0.69      2565\n",
      "          74       0.70      0.52      0.60      2284\n",
      "          75       0.76      0.85      0.80      3435\n",
      "\n",
      "   micro avg       0.75      0.41      0.53     24000\n",
      "   macro avg       0.56      0.17      0.24     24000\n",
      "weighted avg       0.74      0.41      0.49     24000\n",
      " samples avg       0.72      0.41      0.48     24000\n",
      "\n"
     ]
    }
   ],
   "source": [
    "print(\"Train Accuracy:\",\"\\n\")\n",
    "print(metrics.classification_report(y_train_dtm,y_train_pred))\n",
    "print(\"Test Accuracy:\",\"\\n\")\n",
    "print(metrics.classification_report(y_test_dtm,y_test_pred))"
   ]
  },
  {
   "cell_type": "markdown",
   "metadata": {
    "colab_type": "text",
    "id": "CPT3-GtdPPIA"
   },
   "source": [
    "**Print true label and predicted label for any five examples**"
   ]
  },
  {
   "cell_type": "code",
   "execution_count": 74,
   "metadata": {
    "colab": {
     "base_uri": "https://localhost:8080/",
     "height": 510
    },
    "colab_type": "code",
    "id": "uwe3h60JPTnK",
    "outputId": "55d54ed4-ed1d-43ad-e739-1317be15f344"
   },
   "outputs": [
    {
     "name": "stdout",
     "output_type": "stream",
     "text": [
      "True Test Label: \n",
      "\n",
      "   13  14  15  16  17  ...  Transportation  Virgo  female  indUnk  male\n",
      "0   0   0   0   0   0  ...               0      0       0       0     1\n",
      "1   0   0   0   0   0  ...               0      0       0       0     1\n",
      "2   0   0   0   0   0  ...               0      0       0       0     1\n",
      "3   0   0   0   0   0  ...               0      0       0       0     1\n",
      "4   0   0   0   0   0  ...               0      0       1       1     0\n",
      "\n",
      "[5 rows x 76 columns]\n",
      "\n",
      "\n",
      "Predicted Test Label: \n",
      "\n",
      "[[0 0 0 0 0 0 0 0 0 0 0 0 0 0 0 0 0 0 0 0 0 0 0 0 0 0 0 0 0 0 0 0 0 0 0 0\n",
      "  0 0 0 0 0 0 0 0 0 0 0 0 0 0 0 0 0 0 0 0 0 0 0 0 0 0 0 0 0 0 0 0 0 0 0 0\n",
      "  0 0 0 1]\n",
      " [0 0 0 0 0 0 0 0 0 0 0 0 0 0 0 0 0 0 0 0 0 0 0 0 0 0 0 0 0 0 0 0 0 0 0 0\n",
      "  0 0 0 0 0 0 0 0 0 0 0 0 0 0 0 0 0 0 0 0 0 0 0 0 0 0 0 0 0 0 0 0 0 0 0 0\n",
      "  0 0 0 1]\n",
      " [0 0 0 0 0 0 0 0 0 0 0 0 0 0 0 0 0 0 0 0 0 0 0 0 0 0 0 0 0 0 0 0 0 0 0 0\n",
      "  0 0 0 0 0 0 0 0 0 0 0 0 0 0 0 0 0 0 0 0 0 0 0 0 0 0 0 0 0 0 0 1 0 0 0 0\n",
      "  0 0 0 1]\n",
      " [0 0 0 0 0 0 0 0 0 0 0 0 1 0 0 0 0 0 0 0 0 0 0 0 0 0 0 0 0 0 0 1 0 0 0 0\n",
      "  0 0 0 0 0 0 0 0 0 0 0 0 0 0 0 0 0 0 0 0 0 0 0 0 0 0 0 0 0 0 0 0 0 1 0 0\n",
      "  0 0 0 1]\n",
      " [0 0 0 0 0 0 0 0 0 0 0 0 0 0 0 0 0 0 0 0 0 0 0 0 0 0 0 0 0 0 0 0 0 0 0 0\n",
      "  0 0 0 0 0 0 0 0 0 0 0 0 0 0 0 0 0 0 0 0 0 0 0 0 0 0 0 0 0 0 0 0 0 0 0 0\n",
      "  0 1 0 0]]\n"
     ]
    }
   ],
   "source": [
    "print(\"True Test Label:\",\"\\n\")\n",
    "print(y_test_dtm.head())\n",
    "print(\"\\n\")\n",
    "print(\"Predicted Test Label:\",\"\\n\")\n",
    "print(y_test_pred[0:5])"
   ]
  },
  {
   "cell_type": "code",
   "execution_count": 0,
   "metadata": {
    "colab": {},
    "colab_type": "code",
    "id": "7ZK6ffl5x5Ej"
   },
   "outputs": [],
   "source": [
    "y_test_pred_inverse=mlb.inverse_transform(y_test_pred)"
   ]
  },
  {
   "cell_type": "code",
   "execution_count": 84,
   "metadata": {
    "colab": {
     "base_uri": "https://localhost:8080/",
     "height": 238
    },
    "colab_type": "code",
    "id": "alV_q0Xaxyef",
    "outputId": "11cfa713-e769-42ef-ef19-26284aad0f9a"
   },
   "outputs": [
    {
     "name": "stdout",
     "output_type": "stream",
     "text": [
      "True Test Label: \n",
      "\n",
      "2917      [male, 35, Technology, Aries]\n",
      "2234      [male, 35, Technology, Aries]\n",
      "14396    [male, 46, Technology, Gemini]\n",
      "1781      [male, 35, Technology, Aries]\n",
      "11102      [female, 33, indUnk, Cancer]\n",
      "Name: labels, dtype: object\n",
      "\n",
      "\n",
      "Predicted Test Label: \n",
      "\n",
      "[('male',), ('male',), ('Student', 'male'), ('35', 'Aries', 'Technology', 'male'), ('female',)]\n"
     ]
    }
   ],
   "source": [
    "print(\"True Test Label:\",\"\\n\")\n",
    "print(ytest.head(5))\n",
    "print(\"\\n\")\n",
    "print(\"Predicted Test Label:\",\"\\n\")\n",
    "print(y_test_pred_inverse[0:5])"
   ]
  }
 ],
 "metadata": {
  "colab": {
   "name": "Statistical NLP_R8_Project1_Blog Authorship Corpus.ipynb",
   "provenance": []
  },
  "kernelspec": {
   "display_name": "Python 3",
   "language": "python",
   "name": "python3"
  },
  "language_info": {
   "codemirror_mode": {
    "name": "ipython",
    "version": 3
   },
   "file_extension": ".py",
   "mimetype": "text/x-python",
   "name": "python",
   "nbconvert_exporter": "python",
   "pygments_lexer": "ipython3",
   "version": "3.7.3"
  }
 },
 "nbformat": 4,
 "nbformat_minor": 1
}
