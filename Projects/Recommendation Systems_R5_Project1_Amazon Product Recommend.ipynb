{
 "cells": [
  {
   "cell_type": "code",
   "execution_count": 181,
   "metadata": {},
   "outputs": [],
   "source": [
    "from IPython.core.interactiveshell import InteractiveShell\n",
    "InteractiveShell.ast_node_interactivity = \"all\""
   ]
  },
  {
   "cell_type": "markdown",
   "metadata": {},
   "source": [
    "# Load Data"
   ]
  },
  {
   "cell_type": "code",
   "execution_count": 182,
   "metadata": {},
   "outputs": [],
   "source": [
    "## Importing the necessary libraries and loading the dataset into a dataframe\n",
    "import pandas as pd\n",
    "import numpy as np\n",
    "import matplotlib.pyplot as plt\n",
    "import seaborn as sns\n",
    "amazon=pd.read_csv('ratings_Electronics.csv',names=['userID','productID','ratings','timestamp'],header=None)"
   ]
  },
  {
   "cell_type": "code",
   "execution_count": 183,
   "metadata": {},
   "outputs": [
    {
     "data": {
      "text/html": [
       "<div>\n",
       "<style scoped>\n",
       "    .dataframe tbody tr th:only-of-type {\n",
       "        vertical-align: middle;\n",
       "    }\n",
       "\n",
       "    .dataframe tbody tr th {\n",
       "        vertical-align: top;\n",
       "    }\n",
       "\n",
       "    .dataframe thead th {\n",
       "        text-align: right;\n",
       "    }\n",
       "</style>\n",
       "<table border=\"1\" class=\"dataframe\">\n",
       "  <thead>\n",
       "    <tr style=\"text-align: right;\">\n",
       "      <th></th>\n",
       "      <th>userID</th>\n",
       "      <th>productID</th>\n",
       "      <th>ratings</th>\n",
       "      <th>timestamp</th>\n",
       "    </tr>\n",
       "  </thead>\n",
       "  <tbody>\n",
       "    <tr>\n",
       "      <th>0</th>\n",
       "      <td>AKM1MP6P0OYPR</td>\n",
       "      <td>132793040</td>\n",
       "      <td>5</td>\n",
       "      <td>1365811200</td>\n",
       "    </tr>\n",
       "    <tr>\n",
       "      <th>1</th>\n",
       "      <td>A2CX7LUOHB2NDG</td>\n",
       "      <td>321732944</td>\n",
       "      <td>5</td>\n",
       "      <td>1341100800</td>\n",
       "    </tr>\n",
       "    <tr>\n",
       "      <th>2</th>\n",
       "      <td>A2NWSAGRHCP8N5</td>\n",
       "      <td>439886341</td>\n",
       "      <td>1</td>\n",
       "      <td>1367193600</td>\n",
       "    </tr>\n",
       "    <tr>\n",
       "      <th>3</th>\n",
       "      <td>A2WNBOD3WNDNKT</td>\n",
       "      <td>439886341</td>\n",
       "      <td>3</td>\n",
       "      <td>1374451200</td>\n",
       "    </tr>\n",
       "    <tr>\n",
       "      <th>4</th>\n",
       "      <td>A1GI0U4ZRJA8WN</td>\n",
       "      <td>439886341</td>\n",
       "      <td>1</td>\n",
       "      <td>1334707200</td>\n",
       "    </tr>\n",
       "  </tbody>\n",
       "</table>\n",
       "</div>"
      ],
      "text/plain": [
       "           userID  productID  ratings   timestamp\n",
       "0   AKM1MP6P0OYPR  132793040        5  1365811200\n",
       "1  A2CX7LUOHB2NDG  321732944        5  1341100800\n",
       "2  A2NWSAGRHCP8N5  439886341        1  1367193600\n",
       "3  A2WNBOD3WNDNKT  439886341        3  1374451200\n",
       "4  A1GI0U4ZRJA8WN  439886341        1  1334707200"
      ]
     },
     "execution_count": 183,
     "metadata": {},
     "output_type": "execute_result"
    }
   ],
   "source": [
    "## Visualizing the first few records in the dataset\n",
    "amazon.head()"
   ]
  },
  {
   "cell_type": "code",
   "execution_count": 184,
   "metadata": {},
   "outputs": [],
   "source": [
    "## Removing the timestamp column as it would be of no use ini the analysis\n",
    "amazon=amazon.drop('timestamp',axis=1)"
   ]
  },
  {
   "cell_type": "code",
   "execution_count": 185,
   "metadata": {},
   "outputs": [
    {
     "data": {
      "text/html": [
       "<div>\n",
       "<style scoped>\n",
       "    .dataframe tbody tr th:only-of-type {\n",
       "        vertical-align: middle;\n",
       "    }\n",
       "\n",
       "    .dataframe tbody tr th {\n",
       "        vertical-align: top;\n",
       "    }\n",
       "\n",
       "    .dataframe thead th {\n",
       "        text-align: right;\n",
       "    }\n",
       "</style>\n",
       "<table border=\"1\" class=\"dataframe\">\n",
       "  <thead>\n",
       "    <tr style=\"text-align: right;\">\n",
       "      <th></th>\n",
       "      <th>userID</th>\n",
       "      <th>productID</th>\n",
       "      <th>ratings</th>\n",
       "    </tr>\n",
       "  </thead>\n",
       "  <tbody>\n",
       "    <tr>\n",
       "      <th>0</th>\n",
       "      <td>AKM1MP6P0OYPR</td>\n",
       "      <td>132793040</td>\n",
       "      <td>5</td>\n",
       "    </tr>\n",
       "    <tr>\n",
       "      <th>1</th>\n",
       "      <td>A2CX7LUOHB2NDG</td>\n",
       "      <td>321732944</td>\n",
       "      <td>5</td>\n",
       "    </tr>\n",
       "    <tr>\n",
       "      <th>2</th>\n",
       "      <td>A2NWSAGRHCP8N5</td>\n",
       "      <td>439886341</td>\n",
       "      <td>1</td>\n",
       "    </tr>\n",
       "    <tr>\n",
       "      <th>3</th>\n",
       "      <td>A2WNBOD3WNDNKT</td>\n",
       "      <td>439886341</td>\n",
       "      <td>3</td>\n",
       "    </tr>\n",
       "    <tr>\n",
       "      <th>4</th>\n",
       "      <td>A1GI0U4ZRJA8WN</td>\n",
       "      <td>439886341</td>\n",
       "      <td>1</td>\n",
       "    </tr>\n",
       "  </tbody>\n",
       "</table>\n",
       "</div>"
      ],
      "text/plain": [
       "           userID  productID  ratings\n",
       "0   AKM1MP6P0OYPR  132793040        5\n",
       "1  A2CX7LUOHB2NDG  321732944        5\n",
       "2  A2NWSAGRHCP8N5  439886341        1\n",
       "3  A2WNBOD3WNDNKT  439886341        3\n",
       "4  A1GI0U4ZRJA8WN  439886341        1"
      ]
     },
     "execution_count": 185,
     "metadata": {},
     "output_type": "execute_result"
    }
   ],
   "source": [
    "amazon.head()"
   ]
  },
  {
   "cell_type": "code",
   "execution_count": 186,
   "metadata": {},
   "outputs": [
    {
     "data": {
      "text/plain": [
       "(1048576, 3)"
      ]
     },
     "execution_count": 186,
     "metadata": {},
     "output_type": "execute_result"
    }
   ],
   "source": [
    "## Displaying the no of rows and columns in the dataset\n",
    "amazon.shape\n",
    "## There are nearly 10.5 lakhs records "
   ]
  },
  {
   "cell_type": "code",
   "execution_count": 187,
   "metadata": {},
   "outputs": [
    {
     "name": "stdout",
     "output_type": "stream",
     "text": [
      "<class 'pandas.core.frame.DataFrame'>\n",
      "RangeIndex: 1048576 entries, 0 to 1048575\n",
      "Data columns (total 3 columns):\n",
      "userID       1048576 non-null object\n",
      "productID    1048576 non-null object\n",
      "ratings      1048576 non-null int64\n",
      "dtypes: int64(1), object(2)\n",
      "memory usage: 24.0+ MB\n"
     ]
    }
   ],
   "source": [
    "amazon.info()\n",
    "## Checking for the datatypes and any null or NA values being present."
   ]
  },
  {
   "cell_type": "code",
   "execution_count": 188,
   "metadata": {},
   "outputs": [
    {
     "data": {
      "text/html": [
       "<div>\n",
       "<style scoped>\n",
       "    .dataframe tbody tr th:only-of-type {\n",
       "        vertical-align: middle;\n",
       "    }\n",
       "\n",
       "    .dataframe tbody tr th {\n",
       "        vertical-align: top;\n",
       "    }\n",
       "\n",
       "    .dataframe thead th {\n",
       "        text-align: right;\n",
       "    }\n",
       "</style>\n",
       "<table border=\"1\" class=\"dataframe\">\n",
       "  <thead>\n",
       "    <tr style=\"text-align: right;\">\n",
       "      <th></th>\n",
       "      <th>ratings</th>\n",
       "    </tr>\n",
       "  </thead>\n",
       "  <tbody>\n",
       "    <tr>\n",
       "      <th>count</th>\n",
       "      <td>1.048576e+06</td>\n",
       "    </tr>\n",
       "    <tr>\n",
       "      <th>mean</th>\n",
       "      <td>3.973380e+00</td>\n",
       "    </tr>\n",
       "    <tr>\n",
       "      <th>std</th>\n",
       "      <td>1.399329e+00</td>\n",
       "    </tr>\n",
       "    <tr>\n",
       "      <th>min</th>\n",
       "      <td>1.000000e+00</td>\n",
       "    </tr>\n",
       "    <tr>\n",
       "      <th>25%</th>\n",
       "      <td>3.000000e+00</td>\n",
       "    </tr>\n",
       "    <tr>\n",
       "      <th>50%</th>\n",
       "      <td>5.000000e+00</td>\n",
       "    </tr>\n",
       "    <tr>\n",
       "      <th>75%</th>\n",
       "      <td>5.000000e+00</td>\n",
       "    </tr>\n",
       "    <tr>\n",
       "      <th>max</th>\n",
       "      <td>5.000000e+00</td>\n",
       "    </tr>\n",
       "  </tbody>\n",
       "</table>\n",
       "</div>"
      ],
      "text/plain": [
       "            ratings\n",
       "count  1.048576e+06\n",
       "mean   3.973380e+00\n",
       "std    1.399329e+00\n",
       "min    1.000000e+00\n",
       "25%    3.000000e+00\n",
       "50%    5.000000e+00\n",
       "75%    5.000000e+00\n",
       "max    5.000000e+00"
      ]
     },
     "execution_count": 188,
     "metadata": {},
     "output_type": "execute_result"
    }
   ],
   "source": [
    "amazon.describe()\n",
    "## Since only one integer variable is present in the dataset, the descriptive statistics of ratings alone is displayed .\n",
    "## From the table it is evident that standard deviation is in acceptable region of 1"
   ]
  },
  {
   "cell_type": "code",
   "execution_count": 189,
   "metadata": {},
   "outputs": [
    {
     "data": {
      "text/plain": [
       "array([5, 1, 3, 2, 4], dtype=int64)"
      ]
     },
     "execution_count": 189,
     "metadata": {},
     "output_type": "execute_result"
    },
    {
     "name": "stdout",
     "output_type": "stream",
     "text": [
      "Unique Users: 786330\n",
      "Unique Products: 61894\n",
      "Unique Ratings: 5\n"
     ]
    }
   ],
   "source": [
    "amazon[\"ratings\"].unique()\n",
    "print(\"Unique Users:\",len(amazon[\"userID\"].unique()))\n",
    "print(\"Unique Products:\",len(amazon[\"productID\"].unique()))\n",
    "print(\"Unique Ratings:\",len(amazon[\"ratings\"].unique()))\n",
    "## Unique Values in each column of dataset are being identified"
   ]
  },
  {
   "cell_type": "code",
   "execution_count": 261,
   "metadata": {},
   "outputs": [
    {
     "data": {
      "text/plain": [
       "A5JLAU2ARJ0BO     412\n",
       "A231WM2Z2JL0U3    249\n",
       "A25HBO5V8S8SEA    164\n",
       "A6FIAB28IS79      146\n",
       "AT6CZDCP4TRGA     128\n",
       "AKT8TGIT6VVZ5     122\n",
       "A11D1KHM7DVOQK    112\n",
       "A2B7BUH8834Y6M    103\n",
       "A3OXHLG6DIBRW8     95\n",
       "A203OCQQ12MAVT     90\n",
       "A2R6RA8FRBS608     88\n",
       "A2AEZQ3DGBBLPR     85\n",
       "A680RUE1FDO8B      78\n",
       "A1F9Z42CFF9IAY     76\n",
       "A1FR68QH6Z4YZM     75\n",
       "AGHZXQL9F94T9      75\n",
       "A1MJMYLRTZ76ZX     74\n",
       "A1JWSDDIH5Z7DV     72\n",
       "A7Y6AVS576M03      70\n",
       "A1435P5AMCPB3X     69\n",
       "A149RNR5RH19YY     68\n",
       "A12DLJESJKM1OQ     65\n",
       "AWPODHOB4GFWL      64\n",
       "ABH9D1TEOJ56E      64\n",
       "A2CL818RN52NWN     64\n",
       "A2AY4YUOX2N1BQ     63\n",
       "A2XRMQA6PJ5ZJ8     63\n",
       "A1RPTVW5VEOSI      63\n",
       "A38QEATH3NODFM     61\n",
       "A1ODOGXEYECQQ8     60\n",
       "AGXV8E7XK9J6H      59\n",
       "AT2J7H5TRZM8Z      57\n",
       "A1VQHH85U7PX0      57\n",
       "A2BGZ52M908MJY     54\n",
       "A3NCIN6TNL0MGA     54\n",
       "A15QYHQH80W30L     54\n",
       "ALUNVOQRXOZIA      53\n",
       "A250AXLRBVYKB4     50\n",
       "A11KZ906QD08C5     49\n",
       "A1EKSETIBS9ETQ     49\n",
       "A1KD8NJPZ01R37     48\n",
       "A2PSD2R9A1CXG7     47\n",
       "ARBKYIVNYWK3C      47\n",
       "A1UEL5C1N6E5SE     47\n",
       "AD0J5KK4WQXNS      47\n",
       "A2JRDFIGWTX50J     46\n",
       "A1NNMOD9H36Q8E     46\n",
       "A7QMQBGJ2TCQG      46\n",
       "A3E68EBGXTWDNP     46\n",
       "A32QOZWIKQDNZX     45\n",
       "Name: userID, dtype: int64"
      ]
     },
     "execution_count": 261,
     "metadata": {},
     "output_type": "execute_result"
    }
   ],
   "source": [
    "amazon.userID.value_counts().head(50)"
   ]
  },
  {
   "cell_type": "code",
   "execution_count": 260,
   "metadata": {},
   "outputs": [
    {
     "data": {
      "text/plain": [
       "B0002L5R78    9487\n",
       "B0001FTVEK    5345\n",
       "B000I68BD4    4903\n",
       "B000BQ7GW8    4275\n",
       "B00007E7JU    3523\n",
       "B000BKJZ9Q    3219\n",
       "B000B9RI14    2996\n",
       "B000A6PPOK    2828\n",
       "B00007M1TZ    2608\n",
       "B00004ZCJE    2547\n",
       "Name: productID, dtype: int64"
      ]
     },
     "execution_count": 260,
     "metadata": {},
     "output_type": "execute_result"
    }
   ],
   "source": [
    "amazon.productID.value_counts().head(10)"
   ]
  },
  {
   "cell_type": "code",
   "execution_count": 192,
   "metadata": {},
   "outputs": [
    {
     "data": {
      "text/plain": [
       "(array([128251.,      0.,  62644.,      0.,      0.,  83509.,      0.,\n",
       "        208535.,      0., 565637.]),\n",
       " array([1. , 1.4, 1.8, 2.2, 2.6, 3. , 3.4, 3.8, 4.2, 4.6, 5. ]),\n",
       " <a list of 10 Patch objects>)"
      ]
     },
     "execution_count": 192,
     "metadata": {},
     "output_type": "execute_result"
    },
    {
     "data": {
      "image/png": "[encoded data removed]",
      "text/plain": [
       "<Figure size 432x288 with 1 Axes>"
      ]
     },
     "metadata": {
      "needs_background": "light"
     },
     "output_type": "display_data"
    }
   ],
   "source": [
    "plt.hist(amazon[\"ratings\"])"
   ]
  },
  {
   "cell_type": "code",
   "execution_count": 193,
   "metadata": {},
   "outputs": [
    {
     "data": {
      "text/plain": [
       "<matplotlib.axes._subplots.AxesSubplot at 0x24d2297a470>"
      ]
     },
     "execution_count": 193,
     "metadata": {},
     "output_type": "execute_result"
    },
    {
     "data": {
      "image/png": "[encoded data removed]",
      "text/plain": [
       "<Figure size 432x288 with 1 Axes>"
      ]
     },
     "metadata": {
      "needs_background": "light"
     },
     "output_type": "display_data"
    }
   ],
   "source": [
    "sns.countplot(x='ratings',data=amazon)"
   ]
  },
  {
   "cell_type": "markdown",
   "metadata": {},
   "source": [
    "From the histogram and countplot it is evident that ratings 5 has highest number of user review and ratings 2 has the least number of user reviews. "
   ]
  },
  {
   "cell_type": "markdown",
   "metadata": {},
   "source": [
    "# Popularity based Model"
   ]
  },
  {
   "cell_type": "markdown",
   "metadata": {},
   "source": [
    "# Using the whole dataset to find the top 5 products based on the maximum ratings they have got"
   ]
  },
  {
   "cell_type": "code",
   "execution_count": 194,
   "metadata": {},
   "outputs": [],
   "source": [
    "## Grouping by productID and find the mean of the ratings\n",
    "amazon_popular=pd.DataFrame(amazon.groupby(['productID'])['ratings'].mean())"
   ]
  },
  {
   "cell_type": "code",
   "execution_count": 195,
   "metadata": {},
   "outputs": [],
   "source": [
    "## Storing the data related to how many times a product is being rated.\n",
    "amazon_popular['rating_counts']=pd.DataFrame(amazon.groupby(['productID'])['ratings'].count())"
   ]
  },
  {
   "cell_type": "code",
   "execution_count": 196,
   "metadata": {},
   "outputs": [
    {
     "data": {
      "text/html": [
       "<div>\n",
       "<style scoped>\n",
       "    .dataframe tbody tr th:only-of-type {\n",
       "        vertical-align: middle;\n",
       "    }\n",
       "\n",
       "    .dataframe tbody tr th {\n",
       "        vertical-align: top;\n",
       "    }\n",
       "\n",
       "    .dataframe thead th {\n",
       "        text-align: right;\n",
       "    }\n",
       "</style>\n",
       "<table border=\"1\" class=\"dataframe\">\n",
       "  <thead>\n",
       "    <tr style=\"text-align: right;\">\n",
       "      <th></th>\n",
       "      <th>ratings</th>\n",
       "      <th>rating_counts</th>\n",
       "    </tr>\n",
       "    <tr>\n",
       "      <th>productID</th>\n",
       "      <th></th>\n",
       "      <th></th>\n",
       "    </tr>\n",
       "  </thead>\n",
       "  <tbody>\n",
       "    <tr>\n",
       "      <th>B0002L5R78</th>\n",
       "      <td>4.448614</td>\n",
       "      <td>9487</td>\n",
       "    </tr>\n",
       "    <tr>\n",
       "      <th>B0001FTVEK</th>\n",
       "      <td>4.007109</td>\n",
       "      <td>5345</td>\n",
       "    </tr>\n",
       "    <tr>\n",
       "      <th>B000I68BD4</th>\n",
       "      <td>3.501530</td>\n",
       "      <td>4903</td>\n",
       "    </tr>\n",
       "    <tr>\n",
       "      <th>B000BQ7GW8</th>\n",
       "      <td>4.553216</td>\n",
       "      <td>4275</td>\n",
       "    </tr>\n",
       "    <tr>\n",
       "      <th>B00007E7JU</th>\n",
       "      <td>4.565995</td>\n",
       "      <td>3523</td>\n",
       "    </tr>\n",
       "  </tbody>\n",
       "</table>\n",
       "</div>"
      ],
      "text/plain": [
       "             ratings  rating_counts\n",
       "productID                          \n",
       "B0002L5R78  4.448614           9487\n",
       "B0001FTVEK  4.007109           5345\n",
       "B000I68BD4  3.501530           4903\n",
       "B000BQ7GW8  4.553216           4275\n",
       "B00007E7JU  4.565995           3523"
      ]
     },
     "execution_count": 196,
     "metadata": {},
     "output_type": "execute_result"
    }
   ],
   "source": [
    "## Sorting as per rating counts in descending order to find the top 5 most popular products based on ratings.\n",
    "amazon_popular.sort_values('rating_counts',ascending=False).head(5)"
   ]
  },
  {
   "cell_type": "markdown",
   "metadata": {},
   "source": [
    "# Creating a subset of the dataset based on user and product ratings > 50"
   ]
  },
  {
   "cell_type": "markdown",
   "metadata": {},
   "source": [
    "To avoid memory issues,Subsetting the overall dataset based on ratings which are above 50 for user and product"
   ]
  },
  {
   "cell_type": "code",
   "execution_count": 197,
   "metadata": {},
   "outputs": [],
   "source": [
    "amazon_user = amazon['userID'].value_counts() >50\n",
    "amazon_user = amazon_user[amazon_user].index.tolist()"
   ]
  },
  {
   "cell_type": "code",
   "execution_count": 198,
   "metadata": {},
   "outputs": [],
   "source": [
    "amazon_pdct = amazon['productID'].value_counts() >50\n",
    "amazon_pdct = amazon_pdct[amazon_pdct].index.tolist()"
   ]
  },
  {
   "cell_type": "code",
   "execution_count": 199,
   "metadata": {},
   "outputs": [],
   "source": [
    "ratings=amazon[(amazon['userID'].isin(amazon_user)) & (amazon['productID'].isin(amazon_pdct))]"
   ]
  },
  {
   "cell_type": "code",
   "execution_count": 200,
   "metadata": {},
   "outputs": [
    {
     "name": "stdout",
     "output_type": "stream",
     "text": [
      "<class 'pandas.core.frame.DataFrame'>\n",
      "Int64Index: 1294 entries, 2162 to 1048158\n",
      "Data columns (total 3 columns):\n",
      "userID       1294 non-null object\n",
      "productID    1294 non-null object\n",
      "ratings      1294 non-null int64\n",
      "dtypes: int64(1), object(2)\n",
      "memory usage: 40.4+ KB\n"
     ]
    }
   ],
   "source": [
    "ratings.info()"
   ]
  },
  {
   "cell_type": "code",
   "execution_count": 201,
   "metadata": {},
   "outputs": [
    {
     "name": "stdout",
     "output_type": "stream",
     "text": [
      "Unique Users: 37\n",
      "Unique Products: 955\n",
      "Unique Ratings: 5\n"
     ]
    }
   ],
   "source": [
    "print(\"Unique Users:\",len(ratings[\"userID\"].unique()))\n",
    "print(\"Unique Products:\",len(ratings[\"productID\"].unique()))\n",
    "print(\"Unique Ratings:\",len(ratings[\"ratings\"].unique()))"
   ]
  },
  {
   "cell_type": "code",
   "execution_count": 202,
   "metadata": {},
   "outputs": [
    {
     "data": {
      "text/html": [
       "<div>\n",
       "<style scoped>\n",
       "    .dataframe tbody tr th:only-of-type {\n",
       "        vertical-align: middle;\n",
       "    }\n",
       "\n",
       "    .dataframe tbody tr th {\n",
       "        vertical-align: top;\n",
       "    }\n",
       "\n",
       "    .dataframe thead th {\n",
       "        text-align: right;\n",
       "    }\n",
       "</style>\n",
       "<table border=\"1\" class=\"dataframe\">\n",
       "  <thead>\n",
       "    <tr style=\"text-align: right;\">\n",
       "      <th></th>\n",
       "      <th>userID</th>\n",
       "      <th>productID</th>\n",
       "      <th>ratings</th>\n",
       "    </tr>\n",
       "  </thead>\n",
       "  <tbody>\n",
       "    <tr>\n",
       "      <th>2162</th>\n",
       "      <td>A5JLAU2ARJ0BO</td>\n",
       "      <td>1400532655</td>\n",
       "      <td>1</td>\n",
       "    </tr>\n",
       "    <tr>\n",
       "      <th>3050</th>\n",
       "      <td>ALUNVOQRXOZIA</td>\n",
       "      <td>1400599997</td>\n",
       "      <td>1</td>\n",
       "    </tr>\n",
       "    <tr>\n",
       "      <th>7748</th>\n",
       "      <td>A680RUE1FDO8B</td>\n",
       "      <td>B000001OMI</td>\n",
       "      <td>5</td>\n",
       "    </tr>\n",
       "    <tr>\n",
       "      <th>8350</th>\n",
       "      <td>A3NCIN6TNL0MGA</td>\n",
       "      <td>B00000DM9W</td>\n",
       "      <td>5</td>\n",
       "    </tr>\n",
       "    <tr>\n",
       "      <th>8732</th>\n",
       "      <td>A6FIAB28IS79</td>\n",
       "      <td>B00000J05A</td>\n",
       "      <td>3</td>\n",
       "    </tr>\n",
       "  </tbody>\n",
       "</table>\n",
       "</div>"
      ],
      "text/plain": [
       "              userID   productID  ratings\n",
       "2162   A5JLAU2ARJ0BO  1400532655        1\n",
       "3050   ALUNVOQRXOZIA  1400599997        1\n",
       "7748   A680RUE1FDO8B  B000001OMI        5\n",
       "8350  A3NCIN6TNL0MGA  B00000DM9W        5\n",
       "8732    A6FIAB28IS79  B00000J05A        3"
      ]
     },
     "execution_count": 202,
     "metadata": {},
     "output_type": "execute_result"
    }
   ],
   "source": [
    "ratings.head()"
   ]
  },
  {
   "cell_type": "code",
   "execution_count": 203,
   "metadata": {},
   "outputs": [
    {
     "data": {
      "text/plain": [
       "<matplotlib.axes._subplots.AxesSubplot at 0x24d229ec128>"
      ]
     },
     "execution_count": 203,
     "metadata": {},
     "output_type": "execute_result"
    },
    {
     "data": {
      "image/png": "[encoded data removed]",
      "text/plain": [
       "<Figure size 432x288 with 1 Axes>"
      ]
     },
     "metadata": {
      "needs_background": "light"
     },
     "output_type": "display_data"
    }
   ],
   "source": [
    "sns.countplot(x='ratings',data=ratings)"
   ]
  },
  {
   "cell_type": "markdown",
   "metadata": {},
   "source": [
    "From the countplot it is evident that ratings 5 has highest number of user review and ratings 1 & 2 has the least number of user reviews. "
   ]
  },
  {
   "cell_type": "code",
   "execution_count": 204,
   "metadata": {},
   "outputs": [
    {
     "data": {
      "text/plain": [
       "B00004SB92    7\n",
       "B0009RKL5S    5\n",
       "B00004ZCJE    5\n",
       "B000BKJZ9Q    5\n",
       "B00008OE6I    5\n",
       "B00007KDVI    5\n",
       "B000BY52NK    4\n",
       "B00008OE5G    4\n",
       "B0007QKMQY    4\n",
       "B00007EDM8    4\n",
       "Name: productID, dtype: int64"
      ]
     },
     "execution_count": 204,
     "metadata": {},
     "output_type": "execute_result"
    }
   ],
   "source": [
    "ratings.productID.value_counts().head(10)"
   ]
  },
  {
   "cell_type": "markdown",
   "metadata": {},
   "source": [
    "# Popularity based model on subset of original dataset where dataset has data related to users ratings more than 50 using Group by on Products "
   ]
  },
  {
   "cell_type": "code",
   "execution_count": 205,
   "metadata": {},
   "outputs": [],
   "source": [
    "## Grouping by productID and find the mean of the ratings\n",
    "amazon_sub_popular=pd.DataFrame(ratings.groupby(['productID'])['ratings'].mean())"
   ]
  },
  {
   "cell_type": "code",
   "execution_count": 206,
   "metadata": {},
   "outputs": [],
   "source": [
    "## Storing the data related to how many times a product is being rated.\n",
    "amazon_sub_popular['ratings_count']=pd.DataFrame(ratings.groupby(['productID'])['ratings'].count())"
   ]
  },
  {
   "cell_type": "code",
   "execution_count": 207,
   "metadata": {},
   "outputs": [
    {
     "data": {
      "text/html": [
       "<div>\n",
       "<style scoped>\n",
       "    .dataframe tbody tr th:only-of-type {\n",
       "        vertical-align: middle;\n",
       "    }\n",
       "\n",
       "    .dataframe tbody tr th {\n",
       "        vertical-align: top;\n",
       "    }\n",
       "\n",
       "    .dataframe thead th {\n",
       "        text-align: right;\n",
       "    }\n",
       "</style>\n",
       "<table border=\"1\" class=\"dataframe\">\n",
       "  <thead>\n",
       "    <tr style=\"text-align: right;\">\n",
       "      <th></th>\n",
       "      <th>ratings</th>\n",
       "      <th>ratings_count</th>\n",
       "    </tr>\n",
       "    <tr>\n",
       "      <th>productID</th>\n",
       "      <th></th>\n",
       "      <th></th>\n",
       "    </tr>\n",
       "  </thead>\n",
       "  <tbody>\n",
       "    <tr>\n",
       "      <th>B00004SB92</th>\n",
       "      <td>4.0</td>\n",
       "      <td>7</td>\n",
       "    </tr>\n",
       "    <tr>\n",
       "      <th>B00007KDVI</th>\n",
       "      <td>3.0</td>\n",
       "      <td>5</td>\n",
       "    </tr>\n",
       "    <tr>\n",
       "      <th>B000BKJZ9Q</th>\n",
       "      <td>4.2</td>\n",
       "      <td>5</td>\n",
       "    </tr>\n",
       "    <tr>\n",
       "      <th>B00004ZCJE</th>\n",
       "      <td>4.6</td>\n",
       "      <td>5</td>\n",
       "    </tr>\n",
       "    <tr>\n",
       "      <th>B00008OE6I</th>\n",
       "      <td>4.6</td>\n",
       "      <td>5</td>\n",
       "    </tr>\n",
       "  </tbody>\n",
       "</table>\n",
       "</div>"
      ],
      "text/plain": [
       "            ratings  ratings_count\n",
       "productID                         \n",
       "B00004SB92      4.0              7\n",
       "B00007KDVI      3.0              5\n",
       "B000BKJZ9Q      4.2              5\n",
       "B00004ZCJE      4.6              5\n",
       "B00008OE6I      4.6              5"
      ]
     },
     "execution_count": 207,
     "metadata": {},
     "output_type": "execute_result"
    }
   ],
   "source": [
    "## Sorting as per rating counts in descending order to find the top 5 most popular products based on ratings.\n",
    "amazon_sub_popular.sort_values('ratings_count',ascending=False).head(5)"
   ]
  },
  {
   "cell_type": "markdown",
   "metadata": {},
   "source": [
    "# Transforming Data To surprise format"
   ]
  },
  {
   "cell_type": "code",
   "execution_count": 208,
   "metadata": {},
   "outputs": [],
   "source": [
    "from surprise import Dataset,Reader\n",
    "reader = Reader(rating_scale=(1, 5))"
   ]
  },
  {
   "cell_type": "code",
   "execution_count": 209,
   "metadata": {},
   "outputs": [],
   "source": [
    "data = Dataset.load_from_df(ratings[['userID', 'productID', 'ratings']], reader)"
   ]
  },
  {
   "cell_type": "code",
   "execution_count": 210,
   "metadata": {},
   "outputs": [
    {
     "data": {
      "text/plain": [
       "<surprise.dataset.DatasetAutoFolds at 0x24d22a4a6d8>"
      ]
     },
     "execution_count": 210,
     "metadata": {},
     "output_type": "execute_result"
    }
   ],
   "source": [
    "data"
   ]
  },
  {
   "cell_type": "code",
   "execution_count": 211,
   "metadata": {},
   "outputs": [],
   "source": [
    "# Split data to train and test\n",
    "from surprise.model_selection import train_test_split\n",
    "trainset, testset = train_test_split(data, test_size=.30,random_state=100)"
   ]
  },
  {
   "cell_type": "code",
   "execution_count": 212,
   "metadata": {},
   "outputs": [
    {
     "data": {
      "text/plain": [
       "surprise.trainset.Trainset"
      ]
     },
     "execution_count": 212,
     "metadata": {},
     "output_type": "execute_result"
    }
   ],
   "source": [
    "type(trainset)"
   ]
  },
  {
   "cell_type": "markdown",
   "metadata": {},
   "source": [
    "# Training the model"
   ]
  },
  {
   "cell_type": "code",
   "execution_count": 213,
   "metadata": {},
   "outputs": [],
   "source": [
    "from surprise import KNNWithMeans\n",
    "from surprise import accuracy"
   ]
  },
  {
   "cell_type": "code",
   "execution_count": 214,
   "metadata": {},
   "outputs": [
    {
     "name": "stdout",
     "output_type": "stream",
     "text": [
      "Estimating biases using als...\n",
      "Computing the pearson_baseline similarity matrix...\n",
      "Done computing similarity matrix.\n"
     ]
    },
    {
     "data": {
      "text/plain": [
       "<surprise.prediction_algorithms.knns.KNNWithMeans at 0x24d22a88748>"
      ]
     },
     "execution_count": 214,
     "metadata": {},
     "output_type": "execute_result"
    }
   ],
   "source": [
    "amaz = KNNWithMeans(k=5, sim_options={'name': 'pearson_baseline', 'user_based': False})\n",
    "amaz.fit(trainset)\n"
   ]
  },
  {
   "cell_type": "markdown",
   "metadata": {},
   "source": [
    "# Evaluating Model Performance"
   ]
  },
  {
   "cell_type": "code",
   "execution_count": 215,
   "metadata": {},
   "outputs": [
    {
     "data": {
      "text/plain": [
       "389"
      ]
     },
     "execution_count": 215,
     "metadata": {},
     "output_type": "execute_result"
    },
    {
     "name": "stdout",
     "output_type": "stream",
     "text": [
      "Type: <class 'list'>\n"
     ]
    }
   ],
   "source": [
    "len(testset)\n",
    "print(\"Type:\",type(testset))"
   ]
  },
  {
   "cell_type": "code",
   "execution_count": 216,
   "metadata": {},
   "outputs": [
    {
     "data": {
      "text/plain": [
       "[('A3OXHLG6DIBRW8', 'B0009PAYY8', 5.0),\n",
       " ('ABH9D1TEOJ56E', 'B00008PVXA', 3.0),\n",
       " ('AT2J7H5TRZM8Z', 'B0000645C8', 5.0),\n",
       " ('A231WM2Z2JL0U3', 'B00004XO1V', 5.0),\n",
       " ('A6FIAB28IS79', 'B00067OF80', 5.0)]"
      ]
     },
     "execution_count": 216,
     "metadata": {},
     "output_type": "execute_result"
    }
   ],
   "source": [
    "testset[0:5]"
   ]
  },
  {
   "cell_type": "code",
   "execution_count": 217,
   "metadata": {},
   "outputs": [],
   "source": [
    "test_pred = amaz.test(testset)"
   ]
  },
  {
   "cell_type": "code",
   "execution_count": 218,
   "metadata": {},
   "outputs": [
    {
     "data": {
      "text/plain": [
       "389"
      ]
     },
     "execution_count": 218,
     "metadata": {},
     "output_type": "execute_result"
    }
   ],
   "source": [
    "len(test_pred)"
   ]
  },
  {
   "cell_type": "code",
   "execution_count": 219,
   "metadata": {},
   "outputs": [
    {
     "data": {
      "text/plain": [
       "Prediction(uid='A3OXHLG6DIBRW8', iid='B0009PAYY8', r_ui=5.0, est=4.235359116022099, details={'was_impossible': True, 'reason': 'User and/or item is unkown.'})"
      ]
     },
     "execution_count": 219,
     "metadata": {},
     "output_type": "execute_result"
    }
   ],
   "source": [
    "test_pred[0]"
   ]
  },
  {
   "cell_type": "code",
   "execution_count": 220,
   "metadata": {},
   "outputs": [
    {
     "name": "stdout",
     "output_type": "stream",
     "text": [
      "RMSE: 1.2850\n"
     ]
    },
    {
     "data": {
      "text/plain": [
       "1.2849629715471567"
      ]
     },
     "execution_count": 220,
     "metadata": {},
     "output_type": "execute_result"
    }
   ],
   "source": [
    "accuracy.rmse(test_pred)"
   ]
  },
  {
   "cell_type": "markdown",
   "metadata": {},
   "source": [
    "# SVD MODEL"
   ]
  },
  {
   "cell_type": "code",
   "execution_count": 243,
   "metadata": {},
   "outputs": [
    {
     "data": {
      "text/plain": [
       "<surprise.prediction_algorithms.matrix_factorization.SVD at 0x24d22a88b00>"
      ]
     },
     "execution_count": 243,
     "metadata": {},
     "output_type": "execute_result"
    }
   ],
   "source": [
    "from surprise import SVD\n",
    "svd_model = SVD(n_factors=40,biased=False)\n",
    "svd_model.fit(trainset)"
   ]
  },
  {
   "cell_type": "code",
   "execution_count": 245,
   "metadata": {},
   "outputs": [],
   "source": [
    "test_pred1 = svd_model.test(testset)"
   ]
  },
  {
   "cell_type": "code",
   "execution_count": 246,
   "metadata": {},
   "outputs": [
    {
     "name": "stdout",
     "output_type": "stream",
     "text": [
      "RMSE: 2.1383\n"
     ]
    },
    {
     "data": {
      "text/plain": [
       "2.1383068121487656"
      ]
     },
     "execution_count": 246,
     "metadata": {},
     "output_type": "execute_result"
    }
   ],
   "source": [
    "accuracy.rmse(test_pred1)"
   ]
  },
  {
   "cell_type": "markdown",
   "metadata": {},
   "source": [
    "# Parameter tuning the SVD Model using Gridsearch"
   ]
  },
  {
   "cell_type": "code",
   "execution_count": 247,
   "metadata": {},
   "outputs": [],
   "source": [
    "from surprise.model_selection import GridSearchCV\n",
    "param_grid = {'n_factors' : [5,10,15,20,25,30,35,40,45,50], \"reg_all\":[0.01,0.02,0.03,0.04,0.05]}\n",
    "gs = GridSearchCV(SVD, param_grid, measures=['rmse'], cv=3,refit = True)"
   ]
  },
  {
   "cell_type": "code",
   "execution_count": 248,
   "metadata": {},
   "outputs": [],
   "source": [
    "gs.fit(data)"
   ]
  },
  {
   "cell_type": "code",
   "execution_count": 249,
   "metadata": {},
   "outputs": [
    {
     "data": {
      "text/plain": [
       "{'rmse': {'n_factors': 40, 'reg_all': 0.02}}"
      ]
     },
     "execution_count": 249,
     "metadata": {},
     "output_type": "execute_result"
    }
   ],
   "source": [
    "gs.best_params"
   ]
  },
  {
   "cell_type": "code",
   "execution_count": 250,
   "metadata": {},
   "outputs": [
    {
     "name": "stdout",
     "output_type": "stream",
     "text": [
      "RMSE: 0.8373\n"
     ]
    },
    {
     "data": {
      "text/plain": [
       "0.837260903431201"
      ]
     },
     "execution_count": 250,
     "metadata": {},
     "output_type": "execute_result"
    }
   ],
   "source": [
    "accuracy.rmse(gs.test(testset))"
   ]
  },
  {
   "cell_type": "markdown",
   "metadata": {},
   "source": [
    "From the above three models KNNwithmeans, SVD, Parameter tuned SVD.\n",
    "Parameter tuned SVD Model is found to have a better and lower RMSE value.\n",
    "\n",
    "So this model is being used to find the top recommendations for each user."
   ]
  },
  {
   "cell_type": "markdown",
   "metadata": {},
   "source": [
    "# Generating top n recommendations\n"
   ]
  },
  {
   "cell_type": "code",
   "execution_count": 251,
   "metadata": {},
   "outputs": [],
   "source": [
    "## Building a anti_testset using trainset\n",
    "testset_new = trainset.build_anti_testset()"
   ]
  },
  {
   "cell_type": "code",
   "execution_count": 252,
   "metadata": {},
   "outputs": [
    {
     "data": {
      "text/plain": [
       "25772"
      ]
     },
     "execution_count": 252,
     "metadata": {},
     "output_type": "execute_result"
    }
   ],
   "source": [
    "len(testset_new)"
   ]
  },
  {
   "cell_type": "code",
   "execution_count": 253,
   "metadata": {},
   "outputs": [
    {
     "data": {
      "text/plain": [
       "[('A231WM2Z2JL0U3', 'B0007Y79B2', 4.235359116022099),\n",
       " ('A231WM2Z2JL0U3', 'B000026D8E', 4.235359116022099),\n",
       " ('A231WM2Z2JL0U3', 'B000233YDK', 4.235359116022099),\n",
       " ('A231WM2Z2JL0U3', 'B0002SQ2P2', 4.235359116022099),\n",
       " ('A231WM2Z2JL0U3', 'B0009HN57E', 4.235359116022099)]"
      ]
     },
     "execution_count": 253,
     "metadata": {},
     "output_type": "execute_result"
    }
   ],
   "source": [
    "testset_new[0:5]"
   ]
  },
  {
   "cell_type": "code",
   "execution_count": 254,
   "metadata": {},
   "outputs": [],
   "source": [
    "## Making predictions usinf Parameter tuned SVD Model.\n",
    "predictions = gs.test(testset_new)"
   ]
  },
  {
   "cell_type": "code",
   "execution_count": 255,
   "metadata": {},
   "outputs": [],
   "source": [
    "## Creating a dataframe and storing user id, item id and estimated ratings \n",
    "predictions_df = pd.DataFrame([[x.uid,x.iid,x.est] for x in predictions])"
   ]
  },
  {
   "cell_type": "code",
   "execution_count": 256,
   "metadata": {},
   "outputs": [],
   "source": [
    "predictions_df.columns = [\"userId\",\"iid\",\"est_rating\"]\n",
    "predictions_df.sort_values(by = [\"userId\", \"est_rating\"],ascending=False,inplace=True)"
   ]
  },
  {
   "cell_type": "code",
   "execution_count": 257,
   "metadata": {},
   "outputs": [
    {
     "data": {
      "text/html": [
       "<div>\n",
       "<style scoped>\n",
       "    .dataframe tbody tr th:only-of-type {\n",
       "        vertical-align: middle;\n",
       "    }\n",
       "\n",
       "    .dataframe tbody tr th {\n",
       "        vertical-align: top;\n",
       "    }\n",
       "\n",
       "    .dataframe thead th {\n",
       "        text-align: right;\n",
       "    }\n",
       "</style>\n",
       "<table border=\"1\" class=\"dataframe\">\n",
       "  <thead>\n",
       "    <tr style=\"text-align: right;\">\n",
       "      <th></th>\n",
       "      <th>userId</th>\n",
       "      <th>iid</th>\n",
       "      <th>est_rating</th>\n",
       "    </tr>\n",
       "  </thead>\n",
       "  <tbody>\n",
       "    <tr>\n",
       "      <th>4058</th>\n",
       "      <td>AWPODHOB4GFWL</td>\n",
       "      <td>B0007QKMQY</td>\n",
       "      <td>4.587989</td>\n",
       "    </tr>\n",
       "    <tr>\n",
       "      <th>4498</th>\n",
       "      <td>AWPODHOB4GFWL</td>\n",
       "      <td>B00005LENO</td>\n",
       "      <td>4.568055</td>\n",
       "    </tr>\n",
       "    <tr>\n",
       "      <th>4096</th>\n",
       "      <td>AWPODHOB4GFWL</td>\n",
       "      <td>B000EXRSVM</td>\n",
       "      <td>4.561234</td>\n",
       "    </tr>\n",
       "    <tr>\n",
       "      <th>4416</th>\n",
       "      <td>AWPODHOB4GFWL</td>\n",
       "      <td>B000G1D8HU</td>\n",
       "      <td>4.551572</td>\n",
       "    </tr>\n",
       "    <tr>\n",
       "      <th>4441</th>\n",
       "      <td>AWPODHOB4GFWL</td>\n",
       "      <td>B0000645C8</td>\n",
       "      <td>4.541817</td>\n",
       "    </tr>\n",
       "  </tbody>\n",
       "</table>\n",
       "</div>"
      ],
      "text/plain": [
       "             userId         iid  est_rating\n",
       "4058  AWPODHOB4GFWL  B0007QKMQY    4.587989\n",
       "4498  AWPODHOB4GFWL  B00005LENO    4.568055\n",
       "4096  AWPODHOB4GFWL  B000EXRSVM    4.561234\n",
       "4416  AWPODHOB4GFWL  B000G1D8HU    4.551572\n",
       "4441  AWPODHOB4GFWL  B0000645C8    4.541817"
      ]
     },
     "execution_count": 257,
     "metadata": {},
     "output_type": "execute_result"
    }
   ],
   "source": [
    "predictions_df.head()"
   ]
  },
  {
   "cell_type": "code",
   "execution_count": 258,
   "metadata": {},
   "outputs": [],
   "source": [
    "## from predictions dataframe creating a groupby userID and storing top 5 recommended products for each user\n",
    "top_5_recos = predictions_df.groupby(\"userId\").head(5).reset_index(drop=True)"
   ]
  },
  {
   "cell_type": "code",
   "execution_count": 262,
   "metadata": {},
   "outputs": [
    {
     "data": {
      "text/html": [
       "<div>\n",
       "<style scoped>\n",
       "    .dataframe tbody tr th:only-of-type {\n",
       "        vertical-align: middle;\n",
       "    }\n",
       "\n",
       "    .dataframe tbody tr th {\n",
       "        vertical-align: top;\n",
       "    }\n",
       "\n",
       "    .dataframe thead th {\n",
       "        text-align: right;\n",
       "    }\n",
       "</style>\n",
       "<table border=\"1\" class=\"dataframe\">\n",
       "  <thead>\n",
       "    <tr style=\"text-align: right;\">\n",
       "      <th></th>\n",
       "      <th>userId</th>\n",
       "      <th>iid</th>\n",
       "      <th>est_rating</th>\n",
       "    </tr>\n",
       "  </thead>\n",
       "  <tbody>\n",
       "    <tr>\n",
       "      <th>0</th>\n",
       "      <td>AWPODHOB4GFWL</td>\n",
       "      <td>B0007QKMQY</td>\n",
       "      <td>4.587989</td>\n",
       "    </tr>\n",
       "    <tr>\n",
       "      <th>1</th>\n",
       "      <td>AWPODHOB4GFWL</td>\n",
       "      <td>B00005LENO</td>\n",
       "      <td>4.568055</td>\n",
       "    </tr>\n",
       "    <tr>\n",
       "      <th>2</th>\n",
       "      <td>AWPODHOB4GFWL</td>\n",
       "      <td>B000EXRSVM</td>\n",
       "      <td>4.561234</td>\n",
       "    </tr>\n",
       "    <tr>\n",
       "      <th>3</th>\n",
       "      <td>AWPODHOB4GFWL</td>\n",
       "      <td>B000G1D8HU</td>\n",
       "      <td>4.551572</td>\n",
       "    </tr>\n",
       "    <tr>\n",
       "      <th>4</th>\n",
       "      <td>AWPODHOB4GFWL</td>\n",
       "      <td>B0000645C8</td>\n",
       "      <td>4.541817</td>\n",
       "    </tr>\n",
       "    <tr>\n",
       "      <th>5</th>\n",
       "      <td>AT6CZDCP4TRGA</td>\n",
       "      <td>B0007QKMQY</td>\n",
       "      <td>3.400502</td>\n",
       "    </tr>\n",
       "    <tr>\n",
       "      <th>6</th>\n",
       "      <td>AT6CZDCP4TRGA</td>\n",
       "      <td>B0009S5HQA</td>\n",
       "      <td>3.386263</td>\n",
       "    </tr>\n",
       "    <tr>\n",
       "      <th>7</th>\n",
       "      <td>AT6CZDCP4TRGA</td>\n",
       "      <td>B0000DIFGJ</td>\n",
       "      <td>3.363973</td>\n",
       "    </tr>\n",
       "    <tr>\n",
       "      <th>8</th>\n",
       "      <td>AT6CZDCP4TRGA</td>\n",
       "      <td>B00006B7HB</td>\n",
       "      <td>3.361113</td>\n",
       "    </tr>\n",
       "    <tr>\n",
       "      <th>9</th>\n",
       "      <td>AT6CZDCP4TRGA</td>\n",
       "      <td>B00005YXZE</td>\n",
       "      <td>3.360137</td>\n",
       "    </tr>\n",
       "    <tr>\n",
       "      <th>10</th>\n",
       "      <td>AT2J7H5TRZM8Z</td>\n",
       "      <td>B00009W3TY</td>\n",
       "      <td>4.115245</td>\n",
       "    </tr>\n",
       "    <tr>\n",
       "      <th>11</th>\n",
       "      <td>AT2J7H5TRZM8Z</td>\n",
       "      <td>B00004TWM6</td>\n",
       "      <td>4.052925</td>\n",
       "    </tr>\n",
       "    <tr>\n",
       "      <th>12</th>\n",
       "      <td>AT2J7H5TRZM8Z</td>\n",
       "      <td>B000087HWM</td>\n",
       "      <td>4.033671</td>\n",
       "    </tr>\n",
       "    <tr>\n",
       "      <th>13</th>\n",
       "      <td>AT2J7H5TRZM8Z</td>\n",
       "      <td>B00008OE46</td>\n",
       "      <td>4.022615</td>\n",
       "    </tr>\n",
       "    <tr>\n",
       "      <th>14</th>\n",
       "      <td>AT2J7H5TRZM8Z</td>\n",
       "      <td>B0002LEMWE</td>\n",
       "      <td>4.019851</td>\n",
       "    </tr>\n",
       "    <tr>\n",
       "      <th>15</th>\n",
       "      <td>ALUNVOQRXOZIA</td>\n",
       "      <td>B0000DB4D1</td>\n",
       "      <td>4.093168</td>\n",
       "    </tr>\n",
       "    <tr>\n",
       "      <th>16</th>\n",
       "      <td>ALUNVOQRXOZIA</td>\n",
       "      <td>B0002ZAIM8</td>\n",
       "      <td>4.017359</td>\n",
       "    </tr>\n",
       "    <tr>\n",
       "      <th>17</th>\n",
       "      <td>ALUNVOQRXOZIA</td>\n",
       "      <td>B0007QKMQY</td>\n",
       "      <td>4.017194</td>\n",
       "    </tr>\n",
       "    <tr>\n",
       "      <th>18</th>\n",
       "      <td>ALUNVOQRXOZIA</td>\n",
       "      <td>B00004YMBK</td>\n",
       "      <td>4.014863</td>\n",
       "    </tr>\n",
       "    <tr>\n",
       "      <th>19</th>\n",
       "      <td>ALUNVOQRXOZIA</td>\n",
       "      <td>B00006JU62</td>\n",
       "      <td>4.005107</td>\n",
       "    </tr>\n",
       "    <tr>\n",
       "      <th>20</th>\n",
       "      <td>AKT8TGIT6VVZ5</td>\n",
       "      <td>B0000A98AC</td>\n",
       "      <td>5.000000</td>\n",
       "    </tr>\n",
       "    <tr>\n",
       "      <th>21</th>\n",
       "      <td>AKT8TGIT6VVZ5</td>\n",
       "      <td>B00009R6WT</td>\n",
       "      <td>5.000000</td>\n",
       "    </tr>\n",
       "    <tr>\n",
       "      <th>22</th>\n",
       "      <td>AKT8TGIT6VVZ5</td>\n",
       "      <td>B000204SWE</td>\n",
       "      <td>5.000000</td>\n",
       "    </tr>\n",
       "    <tr>\n",
       "      <th>23</th>\n",
       "      <td>AKT8TGIT6VVZ5</td>\n",
       "      <td>B0007QKMQY</td>\n",
       "      <td>5.000000</td>\n",
       "    </tr>\n",
       "    <tr>\n",
       "      <th>24</th>\n",
       "      <td>AKT8TGIT6VVZ5</td>\n",
       "      <td>B00005V619</td>\n",
       "      <td>5.000000</td>\n",
       "    </tr>\n",
       "    <tr>\n",
       "      <th>25</th>\n",
       "      <td>AGXV8E7XK9J6H</td>\n",
       "      <td>B0000DB4D1</td>\n",
       "      <td>4.638173</td>\n",
       "    </tr>\n",
       "    <tr>\n",
       "      <th>26</th>\n",
       "      <td>AGXV8E7XK9J6H</td>\n",
       "      <td>B000BTL0OA</td>\n",
       "      <td>4.625141</td>\n",
       "    </tr>\n",
       "    <tr>\n",
       "      <th>27</th>\n",
       "      <td>AGXV8E7XK9J6H</td>\n",
       "      <td>B0002ZPJZY</td>\n",
       "      <td>4.624511</td>\n",
       "    </tr>\n",
       "    <tr>\n",
       "      <th>28</th>\n",
       "      <td>AGXV8E7XK9J6H</td>\n",
       "      <td>B00020KPB2</td>\n",
       "      <td>4.624021</td>\n",
       "    </tr>\n",
       "    <tr>\n",
       "      <th>29</th>\n",
       "      <td>AGXV8E7XK9J6H</td>\n",
       "      <td>B00004Y2MM</td>\n",
       "      <td>4.615011</td>\n",
       "    </tr>\n",
       "    <tr>\n",
       "      <th>...</th>\n",
       "      <td>...</td>\n",
       "      <td>...</td>\n",
       "      <td>...</td>\n",
       "    </tr>\n",
       "    <tr>\n",
       "      <th>155</th>\n",
       "      <td>A1F9Z42CFF9IAY</td>\n",
       "      <td>B0000E1717</td>\n",
       "      <td>4.029768</td>\n",
       "    </tr>\n",
       "    <tr>\n",
       "      <th>156</th>\n",
       "      <td>A1F9Z42CFF9IAY</td>\n",
       "      <td>B00020KPB2</td>\n",
       "      <td>4.021923</td>\n",
       "    </tr>\n",
       "    <tr>\n",
       "      <th>157</th>\n",
       "      <td>A1F9Z42CFF9IAY</td>\n",
       "      <td>B00004Y2MM</td>\n",
       "      <td>4.020288</td>\n",
       "    </tr>\n",
       "    <tr>\n",
       "      <th>158</th>\n",
       "      <td>A1F9Z42CFF9IAY</td>\n",
       "      <td>B000DZH4D8</td>\n",
       "      <td>3.993005</td>\n",
       "    </tr>\n",
       "    <tr>\n",
       "      <th>159</th>\n",
       "      <td>A1F9Z42CFF9IAY</td>\n",
       "      <td>B0007QKMQY</td>\n",
       "      <td>3.975571</td>\n",
       "    </tr>\n",
       "    <tr>\n",
       "      <th>160</th>\n",
       "      <td>A15QYHQH80W30L</td>\n",
       "      <td>B00095W91O</td>\n",
       "      <td>4.698909</td>\n",
       "    </tr>\n",
       "    <tr>\n",
       "      <th>161</th>\n",
       "      <td>A15QYHQH80W30L</td>\n",
       "      <td>B0007QKMQY</td>\n",
       "      <td>4.698582</td>\n",
       "    </tr>\n",
       "    <tr>\n",
       "      <th>162</th>\n",
       "      <td>A15QYHQH80W30L</td>\n",
       "      <td>B00006IJO4</td>\n",
       "      <td>4.687841</td>\n",
       "    </tr>\n",
       "    <tr>\n",
       "      <th>163</th>\n",
       "      <td>A15QYHQH80W30L</td>\n",
       "      <td>B00080DSEM</td>\n",
       "      <td>4.672784</td>\n",
       "    </tr>\n",
       "    <tr>\n",
       "      <th>164</th>\n",
       "      <td>A15QYHQH80W30L</td>\n",
       "      <td>B000EXRSVM</td>\n",
       "      <td>4.671064</td>\n",
       "    </tr>\n",
       "    <tr>\n",
       "      <th>165</th>\n",
       "      <td>A149RNR5RH19YY</td>\n",
       "      <td>B0007QKMQY</td>\n",
       "      <td>4.437911</td>\n",
       "    </tr>\n",
       "    <tr>\n",
       "      <th>166</th>\n",
       "      <td>A149RNR5RH19YY</td>\n",
       "      <td>B000BT2PZS</td>\n",
       "      <td>4.414204</td>\n",
       "    </tr>\n",
       "    <tr>\n",
       "      <th>167</th>\n",
       "      <td>A149RNR5RH19YY</td>\n",
       "      <td>B0002CPBUK</td>\n",
       "      <td>4.399066</td>\n",
       "    </tr>\n",
       "    <tr>\n",
       "      <th>168</th>\n",
       "      <td>A149RNR5RH19YY</td>\n",
       "      <td>B000F4C2AM</td>\n",
       "      <td>4.389906</td>\n",
       "    </tr>\n",
       "    <tr>\n",
       "      <th>169</th>\n",
       "      <td>A149RNR5RH19YY</td>\n",
       "      <td>B00080DSEM</td>\n",
       "      <td>4.361052</td>\n",
       "    </tr>\n",
       "    <tr>\n",
       "      <th>170</th>\n",
       "      <td>A1435P5AMCPB3X</td>\n",
       "      <td>B00009W3TY</td>\n",
       "      <td>4.678021</td>\n",
       "    </tr>\n",
       "    <tr>\n",
       "      <th>171</th>\n",
       "      <td>A1435P5AMCPB3X</td>\n",
       "      <td>B000089GN3</td>\n",
       "      <td>4.660221</td>\n",
       "    </tr>\n",
       "    <tr>\n",
       "      <th>172</th>\n",
       "      <td>A1435P5AMCPB3X</td>\n",
       "      <td>B000BQ7GW8</td>\n",
       "      <td>4.643102</td>\n",
       "    </tr>\n",
       "    <tr>\n",
       "      <th>173</th>\n",
       "      <td>A1435P5AMCPB3X</td>\n",
       "      <td>B000204SWE</td>\n",
       "      <td>4.638399</td>\n",
       "    </tr>\n",
       "    <tr>\n",
       "      <th>174</th>\n",
       "      <td>A1435P5AMCPB3X</td>\n",
       "      <td>B0002LEMWE</td>\n",
       "      <td>4.622606</td>\n",
       "    </tr>\n",
       "    <tr>\n",
       "      <th>175</th>\n",
       "      <td>A12DLJESJKM1OQ</td>\n",
       "      <td>B000089GN3</td>\n",
       "      <td>4.705892</td>\n",
       "    </tr>\n",
       "    <tr>\n",
       "      <th>176</th>\n",
       "      <td>A12DLJESJKM1OQ</td>\n",
       "      <td>B000ERAON2</td>\n",
       "      <td>4.693909</td>\n",
       "    </tr>\n",
       "    <tr>\n",
       "      <th>177</th>\n",
       "      <td>A12DLJESJKM1OQ</td>\n",
       "      <td>B00009W3TY</td>\n",
       "      <td>4.671599</td>\n",
       "    </tr>\n",
       "    <tr>\n",
       "      <th>178</th>\n",
       "      <td>A12DLJESJKM1OQ</td>\n",
       "      <td>B000021YUO</td>\n",
       "      <td>4.668337</td>\n",
       "    </tr>\n",
       "    <tr>\n",
       "      <th>179</th>\n",
       "      <td>A12DLJESJKM1OQ</td>\n",
       "      <td>B000AYJDD6</td>\n",
       "      <td>4.664713</td>\n",
       "    </tr>\n",
       "    <tr>\n",
       "      <th>180</th>\n",
       "      <td>A11D1KHM7DVOQK</td>\n",
       "      <td>B000BY52NK</td>\n",
       "      <td>3.947509</td>\n",
       "    </tr>\n",
       "    <tr>\n",
       "      <th>181</th>\n",
       "      <td>A11D1KHM7DVOQK</td>\n",
       "      <td>B0007QKMQY</td>\n",
       "      <td>3.941157</td>\n",
       "    </tr>\n",
       "    <tr>\n",
       "      <th>182</th>\n",
       "      <td>A11D1KHM7DVOQK</td>\n",
       "      <td>B000E6G9RI</td>\n",
       "      <td>3.822134</td>\n",
       "    </tr>\n",
       "    <tr>\n",
       "      <th>183</th>\n",
       "      <td>A11D1KHM7DVOQK</td>\n",
       "      <td>B00006B7DA</td>\n",
       "      <td>3.814314</td>\n",
       "    </tr>\n",
       "    <tr>\n",
       "      <th>184</th>\n",
       "      <td>A11D1KHM7DVOQK</td>\n",
       "      <td>B00006B7HB</td>\n",
       "      <td>3.806984</td>\n",
       "    </tr>\n",
       "  </tbody>\n",
       "</table>\n",
       "<p>185 rows × 3 columns</p>\n",
       "</div>"
      ],
      "text/plain": [
       "             userId         iid  est_rating\n",
       "0     AWPODHOB4GFWL  B0007QKMQY    4.587989\n",
       "1     AWPODHOB4GFWL  B00005LENO    4.568055\n",
       "2     AWPODHOB4GFWL  B000EXRSVM    4.561234\n",
       "3     AWPODHOB4GFWL  B000G1D8HU    4.551572\n",
       "4     AWPODHOB4GFWL  B0000645C8    4.541817\n",
       "5     AT6CZDCP4TRGA  B0007QKMQY    3.400502\n",
       "6     AT6CZDCP4TRGA  B0009S5HQA    3.386263\n",
       "7     AT6CZDCP4TRGA  B0000DIFGJ    3.363973\n",
       "8     AT6CZDCP4TRGA  B00006B7HB    3.361113\n",
       "9     AT6CZDCP4TRGA  B00005YXZE    3.360137\n",
       "10    AT2J7H5TRZM8Z  B00009W3TY    4.115245\n",
       "11    AT2J7H5TRZM8Z  B00004TWM6    4.052925\n",
       "12    AT2J7H5TRZM8Z  B000087HWM    4.033671\n",
       "13    AT2J7H5TRZM8Z  B00008OE46    4.022615\n",
       "14    AT2J7H5TRZM8Z  B0002LEMWE    4.019851\n",
       "15    ALUNVOQRXOZIA  B0000DB4D1    4.093168\n",
       "16    ALUNVOQRXOZIA  B0002ZAIM8    4.017359\n",
       "17    ALUNVOQRXOZIA  B0007QKMQY    4.017194\n",
       "18    ALUNVOQRXOZIA  B00004YMBK    4.014863\n",
       "19    ALUNVOQRXOZIA  B00006JU62    4.005107\n",
       "20    AKT8TGIT6VVZ5  B0000A98AC    5.000000\n",
       "21    AKT8TGIT6VVZ5  B00009R6WT    5.000000\n",
       "22    AKT8TGIT6VVZ5  B000204SWE    5.000000\n",
       "23    AKT8TGIT6VVZ5  B0007QKMQY    5.000000\n",
       "24    AKT8TGIT6VVZ5  B00005V619    5.000000\n",
       "25    AGXV8E7XK9J6H  B0000DB4D1    4.638173\n",
       "26    AGXV8E7XK9J6H  B000BTL0OA    4.625141\n",
       "27    AGXV8E7XK9J6H  B0002ZPJZY    4.624511\n",
       "28    AGXV8E7XK9J6H  B00020KPB2    4.624021\n",
       "29    AGXV8E7XK9J6H  B00004Y2MM    4.615011\n",
       "..              ...         ...         ...\n",
       "155  A1F9Z42CFF9IAY  B0000E1717    4.029768\n",
       "156  A1F9Z42CFF9IAY  B00020KPB2    4.021923\n",
       "157  A1F9Z42CFF9IAY  B00004Y2MM    4.020288\n",
       "158  A1F9Z42CFF9IAY  B000DZH4D8    3.993005\n",
       "159  A1F9Z42CFF9IAY  B0007QKMQY    3.975571\n",
       "160  A15QYHQH80W30L  B00095W91O    4.698909\n",
       "161  A15QYHQH80W30L  B0007QKMQY    4.698582\n",
       "162  A15QYHQH80W30L  B00006IJO4    4.687841\n",
       "163  A15QYHQH80W30L  B00080DSEM    4.672784\n",
       "164  A15QYHQH80W30L  B000EXRSVM    4.671064\n",
       "165  A149RNR5RH19YY  B0007QKMQY    4.437911\n",
       "166  A149RNR5RH19YY  B000BT2PZS    4.414204\n",
       "167  A149RNR5RH19YY  B0002CPBUK    4.399066\n",
       "168  A149RNR5RH19YY  B000F4C2AM    4.389906\n",
       "169  A149RNR5RH19YY  B00080DSEM    4.361052\n",
       "170  A1435P5AMCPB3X  B00009W3TY    4.678021\n",
       "171  A1435P5AMCPB3X  B000089GN3    4.660221\n",
       "172  A1435P5AMCPB3X  B000BQ7GW8    4.643102\n",
       "173  A1435P5AMCPB3X  B000204SWE    4.638399\n",
       "174  A1435P5AMCPB3X  B0002LEMWE    4.622606\n",
       "175  A12DLJESJKM1OQ  B000089GN3    4.705892\n",
       "176  A12DLJESJKM1OQ  B000ERAON2    4.693909\n",
       "177  A12DLJESJKM1OQ  B00009W3TY    4.671599\n",
       "178  A12DLJESJKM1OQ  B000021YUO    4.668337\n",
       "179  A12DLJESJKM1OQ  B000AYJDD6    4.664713\n",
       "180  A11D1KHM7DVOQK  B000BY52NK    3.947509\n",
       "181  A11D1KHM7DVOQK  B0007QKMQY    3.941157\n",
       "182  A11D1KHM7DVOQK  B000E6G9RI    3.822134\n",
       "183  A11D1KHM7DVOQK  B00006B7DA    3.814314\n",
       "184  A11D1KHM7DVOQK  B00006B7HB    3.806984\n",
       "\n",
       "[185 rows x 3 columns]"
      ]
     },
     "execution_count": 262,
     "metadata": {},
     "output_type": "execute_result"
    }
   ],
   "source": [
    "top_5_recos"
   ]
  },
  {
   "cell_type": "markdown",
   "metadata": {},
   "source": [
    "Amazon Electronics Dataset is so dense dataset with a huge number of records.\n",
    "\n",
    "In order to avoid memory issues, subsetting of data is done based on certain characteristics such as considering ratings more than 50.\n",
    "\n",
    "From the EDA, it is found that Ratings 5 is found to have lot number of records and ratings 1 & 2 are having least.\n",
    "\n",
    "This implies products in the dataset are found to be the most prominent and popular products.\n",
    "\n",
    "From the popularity based recommender model, top 5 products based on maximum number of ratings are being displayed.\n",
    "\n",
    "Collaborative filtering recommendation model is build using pearson baseline, SVD, Parameter tuned SVD models.\n",
    "\n",
    "From the 3 models, SVD Tuned model has a lower and better RMSE value.\n",
    "\n",
    "Using this, top 5 recommendations for each user is being predicted and displayed."
   ]
  }
 ],
 "metadata": {
  "kernelspec": {
   "display_name": "Python 3",
   "language": "python",
   "name": "python3"
  },
  "language_info": {
   "codemirror_mode": {
    "name": "ipython",
    "version": 3
   },
   "file_extension": ".py",
   "mimetype": "text/x-python",
   "name": "python",
   "nbconvert_exporter": "python",
   "pygments_lexer": "ipython3",
   "version": "3.7.3"
  }
 },
 "nbformat": 4,
 "nbformat_minor": 2
}
