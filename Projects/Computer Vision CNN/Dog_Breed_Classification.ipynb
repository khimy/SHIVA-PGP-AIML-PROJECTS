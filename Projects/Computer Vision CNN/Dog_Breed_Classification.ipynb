{
 "cells": [
  {
   "cell_type": "markdown",
   "metadata": {
    "colab_type": "text",
    "id": "2kIWaR5ZpKlJ"
   },
   "source": [
    "## Dog Breed Classification\n",
    "\n",
    "In this project we will use traditional CNN, CNN with data augmentation and finally transfer Learning by VGG16 model with weights pre-trained on Imagenet to solve the dog breed classification problem"
   ]
  },
  {
   "cell_type": "code",
   "execution_count": 0,
   "metadata": {
    "colab": {},
    "colab_type": "code",
    "id": "gaeBrVWhbRTs"
   },
   "outputs": [],
   "source": [
    "#a = []\n",
    "#while(1):\n",
    " #   a.append('1')"
   ]
  },
  {
   "cell_type": "markdown",
   "metadata": {
    "colab_type": "text",
    "id": "F7MDmaAw2xGO"
   },
   "source": [
    "### Load Dataset Files"
   ]
  },
  {
   "cell_type": "code",
   "execution_count": 1,
   "metadata": {
    "colab": {
     "base_uri": "https://localhost:8080/",
     "height": 80
    },
    "colab_type": "code",
    "id": "BZWpQv1OwqYK",
    "outputId": "48a920eb-ae57-4b8d-f7d2-88939e9a638d"
   },
   "outputs": [
    {
     "data": {
      "text/html": [
       "<p style=\"color: red;\">\n",
       "The default version of TensorFlow in Colab will soon switch to TensorFlow 2.x.<br>\n",
       "We recommend you <a href=\"https://www.tensorflow.org/guide/migrate\" target=\"_blank\">upgrade</a> now \n",
       "or ensure your notebook will continue to use TensorFlow 1.x via the <code>%tensorflow_version 1.x</code> magic:\n",
       "<a href=\"https://colab.research.google.com/notebooks/tensorflow_version.ipynb\" target=\"_blank\">more info</a>.</p>\n"
      ],
      "text/plain": [
       "<IPython.core.display.HTML object>"
      ]
     },
     "metadata": {
      "tags": []
     },
     "output_type": "display_data"
    },
    {
     "name": "stdout",
     "output_type": "stream",
     "text": [
      "1.15.0\n"
     ]
    }
   ],
   "source": [
    "## Importing the tensorflow version\n",
    "import tensorflow as tf\n",
    "print(tf.__version__)\n",
    "tf.set_random_seed(42)"
   ]
  },
  {
   "cell_type": "code",
   "execution_count": 3,
   "metadata": {
    "colab": {
     "base_uri": "https://localhost:8080/",
     "height": 122
    },
    "colab_type": "code",
    "id": "fVhB9OopxFbX",
    "outputId": "2e3826e1-4df3-4822-f02d-0a8ca24928ac"
   },
   "outputs": [
    {
     "name": "stdout",
     "output_type": "stream",
     "text": [
      "Go to this URL in a browser: https://accounts.google.com/o/oauth2/auth?client_id=947318989803-6bn6qk8qdgf4n4g3pfee6491hc0brc4i.apps.googleusercontent.com&redirect_uri=urn%3aietf%3awg%3aoauth%3a2.0%3aoob&response_type=code&scope=email%20https%3a%2f%2fwww.googleapis.com%2fauth%2fdocs.test%20https%3a%2f%2fwww.googleapis.com%2fauth%2fdrive%20https%3a%2f%2fwww.googleapis.com%2fauth%2fdrive.photos.readonly%20https%3a%2f%2fwww.googleapis.com%2fauth%2fpeopleapi.readonly\n",
      "\n",
      "Enter your authorization code:\n",
      "··········\n",
      "Mounted at /content/gdrive\n"
     ]
    }
   ],
   "source": [
    "## Mounting the drive\n",
    "from google.colab import drive\n",
    "drive.mount('/content/gdrive')"
   ]
  },
  {
   "cell_type": "code",
   "execution_count": 4,
   "metadata": {
    "colab": {
     "base_uri": "https://localhost:8080/",
     "height": 34
    },
    "colab_type": "code",
    "id": "n1N9QH3E2xeu",
    "outputId": "f843b3f7-b2e3-46c2-a748-6173765e8320"
   },
   "outputs": [
    {
     "name": "stderr",
     "output_type": "stream",
     "text": [
      "Using TensorFlow backend.\n"
     ]
    }
   ],
   "source": [
    "import numpy as np\n",
    "import pandas as pd\n",
    "%matplotlib inline\n",
    "import os\n",
    "import matplotlib.pyplot as plt\n",
    "import cv2\n",
    "import seaborn as sns\n",
    "from sklearn.metrics import confusion_matrix\n",
    "from sklearn.model_selection import RandomizedSearchCV\n",
    "from sklearn.model_selection import StratifiedKFold\n",
    "from sklearn import preprocessing\n",
    "from sklearn.model_selection import train_test_split\n",
    "from keras.preprocessing.image import ImageDataGenerator, array_to_img, img_to_array, load_img\n",
    "import keras\n",
    "from keras.models import Sequential\n",
    "from keras.layers.core import Dense,Dropout,Activation,Flatten\n",
    "from keras.layers.convolutional import Conv2D,MaxPooling2D\n",
    "from keras.utils import np_utils\n",
    "from keras.callbacks import EarlyStopping\n",
    "from sklearn import metrics\n",
    "from keras.utils.np_utils import to_categorical\n",
    "from subprocess import check_output"
   ]
  },
  {
   "cell_type": "markdown",
   "metadata": {
    "colab_type": "text",
    "id": "1q2zzIaUprk_"
   },
   "source": [
    "Now, upload the given dataset file shared with you in your google drive and give its path for the below given `project_path` variable. For example, a path is given below according to the file path in our google drive. You need to change this to match the path of yours."
   ]
  },
  {
   "cell_type": "code",
   "execution_count": 0,
   "metadata": {
    "colab": {},
    "colab_type": "code",
    "id": "Tp6FvAToxUFs"
   },
   "outputs": [],
   "source": [
    "project_path = \"/content/gdrive/My Drive/AIML/Dog_Breed/\""
   ]
  },
  {
   "cell_type": "markdown",
   "metadata": {
    "colab_type": "text",
    "id": "rydR_j8lqUei"
   },
   "source": [
    "Run the below code to extract all the images in the train.zip files given in the dataset. We are going to use these images as train and validation sets and their labels in further steps."
   ]
  },
  {
   "cell_type": "code",
   "execution_count": 0,
   "metadata": {
    "colab": {},
    "colab_type": "code",
    "id": "3350WZM4w4EL"
   },
   "outputs": [],
   "source": [
    "from zipfile import ZipFile\n",
    "with ZipFile(project_path+'train.zip', 'r') as z:\n",
    "  z.extractall()"
   ]
  },
  {
   "cell_type": "markdown",
   "metadata": {
    "colab_type": "text",
    "id": "3NHq1iBCfFjE"
   },
   "source": [
    "Repeat the same step for test.zip"
   ]
  },
  {
   "cell_type": "code",
   "execution_count": 0,
   "metadata": {
    "colab": {},
    "colab_type": "code",
    "id": "_fxzynvB2YCb"
   },
   "outputs": [],
   "source": [
    "from zipfile import ZipFile\n",
    "with ZipFile(project_path+'test.zip', 'r') as z:\n",
    "  z.extractall()"
   ]
  },
  {
   "cell_type": "markdown",
   "metadata": {
    "colab_type": "text",
    "id": "jnUMhQrDfJmz"
   },
   "source": [
    "Repeat the same step for sample_submission.csv.zip"
   ]
  },
  {
   "cell_type": "code",
   "execution_count": 0,
   "metadata": {
    "colab": {},
    "colab_type": "code",
    "id": "4PyTxE8q2jLf"
   },
   "outputs": [],
   "source": [
    "from zipfile import ZipFile\n",
    "with ZipFile(project_path+'sample_submission.csv.zip', 'r') as z:\n",
    "  z.extractall()"
   ]
  },
  {
   "cell_type": "markdown",
   "metadata": {
    "colab_type": "text",
    "id": "2G9RIxB-fOLT"
   },
   "source": [
    "Repeat the same step for labels.csv.zip"
   ]
  },
  {
   "cell_type": "code",
   "execution_count": 0,
   "metadata": {
    "colab": {},
    "colab_type": "code",
    "id": "rXtnEoEixbgi"
   },
   "outputs": [],
   "source": [
    "from zipfile import ZipFile\n",
    "with ZipFile(project_path+'labels.csv.zip', 'r') as z:\n",
    "  z.extractall()"
   ]
  },
  {
   "cell_type": "markdown",
   "metadata": {
    "colab_type": "text",
    "id": "sJc1lVrW_jmL"
   },
   "source": [
    "After this process, we will have 4 files - Train folder, test folder and labels.csv and sample_submission.csv as part of your google drive"
   ]
  },
  {
   "cell_type": "markdown",
   "metadata": {
    "colab_type": "text",
    "id": "aYmJKmDqqpng"
   },
   "source": [
    "### Read labels.csv file using pandas"
   ]
  },
  {
   "cell_type": "code",
   "execution_count": 0,
   "metadata": {
    "colab": {},
    "colab_type": "code",
    "id": "WmlJ2VMY96IZ"
   },
   "outputs": [],
   "source": [
    "title=pd.read_csv(\"/content/gdrive/My Drive/AIML/Dog_Breed/labels.csv\")"
   ]
  },
  {
   "cell_type": "code",
   "execution_count": 11,
   "metadata": {
    "colab": {
     "base_uri": "https://localhost:8080/",
     "height": 204
    },
    "colab_type": "code",
    "id": "hPvb1RSc96If",
    "outputId": "5801decd-2cbf-43c5-86bd-12d63c2a19de"
   },
   "outputs": [
    {
     "data": {
      "text/html": [
       "<div>\n",
       "<style scoped>\n",
       "    .dataframe tbody tr th:only-of-type {\n",
       "        vertical-align: middle;\n",
       "    }\n",
       "\n",
       "    .dataframe tbody tr th {\n",
       "        vertical-align: top;\n",
       "    }\n",
       "\n",
       "    .dataframe thead th {\n",
       "        text-align: right;\n",
       "    }\n",
       "</style>\n",
       "<table border=\"1\" class=\"dataframe\">\n",
       "  <thead>\n",
       "    <tr style=\"text-align: right;\">\n",
       "      <th></th>\n",
       "      <th>id</th>\n",
       "      <th>breed</th>\n",
       "    </tr>\n",
       "  </thead>\n",
       "  <tbody>\n",
       "    <tr>\n",
       "      <th>0</th>\n",
       "      <td>000bec180eb18c7604dcecc8fe0dba07</td>\n",
       "      <td>boston_bull</td>\n",
       "    </tr>\n",
       "    <tr>\n",
       "      <th>1</th>\n",
       "      <td>001513dfcb2ffafc82cccf4d8bbaba97</td>\n",
       "      <td>dingo</td>\n",
       "    </tr>\n",
       "    <tr>\n",
       "      <th>2</th>\n",
       "      <td>001cdf01b096e06d78e9e5112d419397</td>\n",
       "      <td>pekinese</td>\n",
       "    </tr>\n",
       "    <tr>\n",
       "      <th>3</th>\n",
       "      <td>00214f311d5d2247d5dfe4fe24b2303d</td>\n",
       "      <td>bluetick</td>\n",
       "    </tr>\n",
       "    <tr>\n",
       "      <th>4</th>\n",
       "      <td>0021f9ceb3235effd7fcde7f7538ed62</td>\n",
       "      <td>golden_retriever</td>\n",
       "    </tr>\n",
       "  </tbody>\n",
       "</table>\n",
       "</div>"
      ],
      "text/plain": [
       "                                 id             breed\n",
       "0  000bec180eb18c7604dcecc8fe0dba07       boston_bull\n",
       "1  001513dfcb2ffafc82cccf4d8bbaba97             dingo\n",
       "2  001cdf01b096e06d78e9e5112d419397          pekinese\n",
       "3  00214f311d5d2247d5dfe4fe24b2303d          bluetick\n",
       "4  0021f9ceb3235effd7fcde7f7538ed62  golden_retriever"
      ]
     },
     "execution_count": 11,
     "metadata": {
      "tags": []
     },
     "output_type": "execute_result"
    }
   ],
   "source": [
    "title.head()"
   ]
  },
  {
   "cell_type": "code",
   "execution_count": 12,
   "metadata": {
    "colab": {
     "base_uri": "https://localhost:8080/",
     "height": 34
    },
    "colab_type": "code",
    "id": "uZjUO5Z56I98",
    "outputId": "b5c2ad89-3fcb-422b-d0ee-00f3542a92bb"
   },
   "outputs": [
    {
     "data": {
      "text/plain": [
       "(10222, 2)"
      ]
     },
     "execution_count": 12,
     "metadata": {
      "tags": []
     },
     "output_type": "execute_result"
    }
   ],
   "source": [
    "title.shape"
   ]
  },
  {
   "cell_type": "code",
   "execution_count": 0,
   "metadata": {
    "colab": {},
    "colab_type": "code",
    "id": "-FMbJpNi-oct"
   },
   "outputs": [],
   "source": [
    "pd.set_option('display.max_rows', None)"
   ]
  },
  {
   "cell_type": "markdown",
   "metadata": {
    "colab_type": "text",
    "id": "QP8YAzQvqyK-"
   },
   "source": [
    "### Print the count of each category of Dogs given in the dataset\n",
    "\n"
   ]
  },
  {
   "cell_type": "code",
   "execution_count": 14,
   "metadata": {
    "colab": {
     "base_uri": "https://localhost:8080/",
     "height": 1000
    },
    "colab_type": "code",
    "id": "3L2naXlr96Im",
    "outputId": "d503ece7-9b46-4fad-d620-c6863c4b2a72"
   },
   "outputs": [
    {
     "data": {
      "text/plain": [
       "scottish_deerhound                126\n",
       "maltese_dog                       117\n",
       "afghan_hound                      116\n",
       "entlebucher                       115\n",
       "bernese_mountain_dog              114\n",
       "shih-tzu                          112\n",
       "pomeranian                        111\n",
       "great_pyrenees                    111\n",
       "basenji                           110\n",
       "samoyed                           109\n",
       "airedale                          107\n",
       "tibetan_terrier                   107\n",
       "cairn                             106\n",
       "leonberg                          106\n",
       "beagle                            105\n",
       "japanese_spaniel                  105\n",
       "australian_terrier                102\n",
       "blenheim_spaniel                  102\n",
       "miniature_pinscher                102\n",
       "irish_wolfhound                   101\n",
       "saluki                             99\n",
       "lakeland_terrier                   99\n",
       "papillon                           96\n",
       "whippet                            95\n",
       "norwegian_elkhound                 95\n",
       "siberian_husky                     95\n",
       "pug                                94\n",
       "chow                               93\n",
       "pembroke                           92\n",
       "italian_greyhound                  92\n",
       "border_terrier                     91\n",
       "ibizan_hound                       91\n",
       "newfoundland                       91\n",
       "silky_terrier                      90\n",
       "lhasa                              90\n",
       "bedlington_terrier                 89\n",
       "dandie_dinmont                     89\n",
       "rhodesian_ridgeback                88\n",
       "sealyham_terrier                   88\n",
       "irish_setter                       88\n",
       "collie                             87\n",
       "old_english_sheepdog               87\n",
       "boston_bull                        87\n",
       "english_foxhound                   86\n",
       "bouvier_des_flandres               86\n",
       "kelpie                             86\n",
       "african_hunting_dog                86\n",
       "schipperke                         86\n",
       "weimaraner                         85\n",
       "bloodhound                         85\n",
       "bluetick                           85\n",
       "saint_bernard                      84\n",
       "labrador_retriever                 84\n",
       "norfolk_terrier                    83\n",
       "chesapeake_bay_retriever           83\n",
       "english_setter                     83\n",
       "kerry_blue_terrier                 82\n",
       "greater_swiss_mountain_dog         82\n",
       "basset                             82\n",
       "scotch_terrier                     82\n",
       "yorkshire_terrier                  82\n",
       "wire-haired_fox_terrier            82\n",
       "groenendael                        82\n",
       "irish_terrier                      82\n",
       "west_highland_white_terrier        81\n",
       "gordon_setter                      81\n",
       "keeshond                           81\n",
       "malamute                           81\n",
       "clumber                            80\n",
       "affenpinscher                      80\n",
       "dingo                              80\n",
       "toy_poodle                         80\n",
       "mexican_hairless                   80\n",
       "standard_poodle                    79\n",
       "toy_terrier                        79\n",
       "welsh_springer_spaniel             79\n",
       "miniature_poodle                   79\n",
       "staffordshire_bullterrier          79\n",
       "irish_water_spaniel                78\n",
       "appenzeller                        78\n",
       "miniature_schnauzer                78\n",
       "sussex_spaniel                     78\n",
       "norwich_terrier                    78\n",
       "black-and-tan_coonhound            77\n",
       "shetland_sheepdog                  76\n",
       "rottweiler                         76\n",
       "cardigan                           76\n",
       "dhole                              76\n",
       "borzoi                             75\n",
       "english_springer                   75\n",
       "german_short-haired_pointer        75\n",
       "great_dane                         75\n",
       "boxer                              75\n",
       "pekinese                           75\n",
       "bull_mastiff                       75\n",
       "american_staffordshire_terrier     74\n",
       "doberman                           74\n",
       "cocker_spaniel                     74\n",
       "malinois                           73\n",
       "brittany_spaniel                   73\n",
       "redbone                            72\n",
       "curly-coated_retriever             72\n",
       "border_collie                      72\n",
       "standard_schnauzer                 72\n",
       "flat-coated_retriever              72\n",
       "kuvasz                             71\n",
       "chihuahua                          71\n",
       "soft-coated_wheaten_terrier        71\n",
       "french_bulldog                     70\n",
       "vizsla                             70\n",
       "giant_schnauzer                    69\n",
       "german_shepherd                    69\n",
       "tibetan_mastiff                    69\n",
       "otterhound                         69\n",
       "walker_hound                       69\n",
       "brabancon_griffon                  67\n",
       "komondor                           67\n",
       "golden_retriever                   67\n",
       "briard                             66\n",
       "eskimo_dog                         66\n",
       "Name: breed, dtype: int64"
      ]
     },
     "execution_count": 14,
     "metadata": {
      "tags": []
     },
     "output_type": "execute_result"
    }
   ],
   "source": [
    "title.breed.value_counts()"
   ]
  },
  {
   "cell_type": "code",
   "execution_count": 0,
   "metadata": {
    "colab": {},
    "colab_type": "code",
    "id": "CLm3W5RN96Ir"
   },
   "outputs": [],
   "source": [
    "a=title.breed.unique()"
   ]
  },
  {
   "cell_type": "code",
   "execution_count": 16,
   "metadata": {
    "colab": {
     "base_uri": "https://localhost:8080/",
     "height": 34
    },
    "colab_type": "code",
    "id": "frvIJAGw-H1D",
    "outputId": "cf5423e1-3a86-4ec8-db1b-e1d8bcf43920"
   },
   "outputs": [
    {
     "data": {
      "text/plain": [
       "(120,)"
      ]
     },
     "execution_count": 16,
     "metadata": {
      "tags": []
     },
     "output_type": "execute_result"
    }
   ],
   "source": [
    "a.shape"
   ]
  },
  {
   "cell_type": "code",
   "execution_count": 17,
   "metadata": {
    "colab": {
     "base_uri": "https://localhost:8080/",
     "height": 51
    },
    "colab_type": "code",
    "id": "CeNJIRYNA2Hp",
    "outputId": "99aa4bfa-e223-4ec8-c6aa-2494751d9b81"
   },
   "outputs": [
    {
     "data": {
      "text/plain": [
       "array(['boston_bull', 'dingo', 'pekinese', 'bluetick', 'golden_retriever'],\n",
       "      dtype=object)"
      ]
     },
     "execution_count": 17,
     "metadata": {
      "tags": []
     },
     "output_type": "execute_result"
    }
   ],
   "source": [
    "a[0:5]"
   ]
  },
  {
   "cell_type": "markdown",
   "metadata": {
    "colab_type": "text",
    "id": "WI94_Qcc0D4M"
   },
   "source": [
    "### Get one-hot encodings of labels"
   ]
  },
  {
   "cell_type": "code",
   "execution_count": 18,
   "metadata": {
    "colab": {
     "base_uri": "https://localhost:8080/",
     "height": 561
    },
    "colab_type": "code",
    "id": "Q48iAcY196I3",
    "outputId": "e6544eda-ad6b-480b-f010-9ff064146963"
   },
   "outputs": [
    {
     "name": "stdout",
     "output_type": "stream",
     "text": [
      "\n",
      "\n",
      "Classes['affenpinscher' 'afghan_hound' 'african_hunting_dog' 'airedale'\n",
      " 'american_staffordshire_terrier' 'appenzeller' 'australian_terrier'\n",
      " 'basenji' 'basset' 'beagle' 'bedlington_terrier' 'bernese_mountain_dog'\n",
      " 'black-and-tan_coonhound' 'blenheim_spaniel' 'bloodhound' 'bluetick'\n",
      " 'border_collie' 'border_terrier' 'borzoi' 'boston_bull'\n",
      " 'bouvier_des_flandres' 'boxer' 'brabancon_griffon' 'briard'\n",
      " 'brittany_spaniel' 'bull_mastiff' 'cairn' 'cardigan'\n",
      " 'chesapeake_bay_retriever' 'chihuahua' 'chow' 'clumber' 'cocker_spaniel'\n",
      " 'collie' 'curly-coated_retriever' 'dandie_dinmont' 'dhole' 'dingo'\n",
      " 'doberman' 'english_foxhound' 'english_setter' 'english_springer'\n",
      " 'entlebucher' 'eskimo_dog' 'flat-coated_retriever' 'french_bulldog'\n",
      " 'german_shepherd' 'german_short-haired_pointer' 'giant_schnauzer'\n",
      " 'golden_retriever' 'gordon_setter' 'great_dane' 'great_pyrenees'\n",
      " 'greater_swiss_mountain_dog' 'groenendael' 'ibizan_hound' 'irish_setter'\n",
      " 'irish_terrier' 'irish_water_spaniel' 'irish_wolfhound'\n",
      " 'italian_greyhound' 'japanese_spaniel' 'keeshond' 'kelpie'\n",
      " 'kerry_blue_terrier' 'komondor' 'kuvasz' 'labrador_retriever'\n",
      " 'lakeland_terrier' 'leonberg' 'lhasa' 'malamute' 'malinois' 'maltese_dog'\n",
      " 'mexican_hairless' 'miniature_pinscher' 'miniature_poodle'\n",
      " 'miniature_schnauzer' 'newfoundland' 'norfolk_terrier'\n",
      " 'norwegian_elkhound' 'norwich_terrier' 'old_english_sheepdog'\n",
      " 'otterhound' 'papillon' 'pekinese' 'pembroke' 'pomeranian' 'pug'\n",
      " 'redbone' 'rhodesian_ridgeback' 'rottweiler' 'saint_bernard' 'saluki'\n",
      " 'samoyed' 'schipperke' 'scotch_terrier' 'scottish_deerhound'\n",
      " 'sealyham_terrier' 'shetland_sheepdog' 'shih-tzu' 'siberian_husky'\n",
      " 'silky_terrier' 'soft-coated_wheaten_terrier' 'staffordshire_bullterrier'\n",
      " 'standard_poodle' 'standard_schnauzer' 'sussex_spaniel' 'tibetan_mastiff'\n",
      " 'tibetan_terrier' 'toy_poodle' 'toy_terrier' 'vizsla' 'walker_hound'\n",
      " 'weimaraner' 'welsh_springer_spaniel' 'west_highland_white_terrier'\n",
      " 'whippet' 'wire-haired_fox_terrier' 'yorkshire_terrier']\n"
     ]
    }
   ],
   "source": [
    "## Preprocessing the labels\n",
    "labels = preprocessing.LabelEncoder()\n",
    "labels.fit(a)\n",
    "encodedlabels = labels.transform(title.breed)\n",
    "print('\\n')\n",
    "print('Classes'+str(labels.classes_))"
   ]
  },
  {
   "cell_type": "code",
   "execution_count": 19,
   "metadata": {
    "colab": {
     "base_uri": "https://localhost:8080/",
     "height": 34
    },
    "colab_type": "code",
    "id": "ElhcD-QoEZM1",
    "outputId": "39ad937c-e75e-4866-cbc9-1803139cf922"
   },
   "outputs": [
    {
     "name": "stdout",
     "output_type": "stream",
     "text": [
      "[19 37 85 ...  3 75 28]\n"
     ]
    }
   ],
   "source": [
    "print(encodedlabels)"
   ]
  },
  {
   "cell_type": "code",
   "execution_count": 0,
   "metadata": {
    "colab": {},
    "colab_type": "code",
    "id": "9nlWmRNM96I8"
   },
   "outputs": [],
   "source": [
    "y=to_categorical(encodedlabels)"
   ]
  },
  {
   "cell_type": "code",
   "execution_count": 21,
   "metadata": {
    "colab": {
     "base_uri": "https://localhost:8080/",
     "height": 34
    },
    "colab_type": "code",
    "id": "1jDI3QCrCIBK",
    "outputId": "65c2a37c-e30c-4104-90e0-38090fc46add"
   },
   "outputs": [
    {
     "data": {
      "text/plain": [
       "(10222, 120)"
      ]
     },
     "execution_count": 21,
     "metadata": {
      "tags": []
     },
     "output_type": "execute_result"
    }
   ],
   "source": [
    "y.shape"
   ]
  },
  {
   "cell_type": "code",
   "execution_count": 22,
   "metadata": {
    "colab": {
     "base_uri": "https://localhost:8080/",
     "height": 153
    },
    "colab_type": "code",
    "id": "7rROYAGcEouS",
    "outputId": "c0bf1860-9776-4674-c2af-85fad00336b5"
   },
   "outputs": [
    {
     "data": {
      "text/plain": [
       "array([0., 0., 0., 0., 0., 0., 0., 0., 0., 0., 0., 0., 0., 0., 0., 0., 0.,\n",
       "       0., 0., 1., 0., 0., 0., 0., 0., 0., 0., 0., 0., 0., 0., 0., 0., 0.,\n",
       "       0., 0., 0., 0., 0., 0., 0., 0., 0., 0., 0., 0., 0., 0., 0., 0., 0.,\n",
       "       0., 0., 0., 0., 0., 0., 0., 0., 0., 0., 0., 0., 0., 0., 0., 0., 0.,\n",
       "       0., 0., 0., 0., 0., 0., 0., 0., 0., 0., 0., 0., 0., 0., 0., 0., 0.,\n",
       "       0., 0., 0., 0., 0., 0., 0., 0., 0., 0., 0., 0., 0., 0., 0., 0., 0.,\n",
       "       0., 0., 0., 0., 0., 0., 0., 0., 0., 0., 0., 0., 0., 0., 0., 0., 0.,\n",
       "       0.], dtype=float32)"
      ]
     },
     "execution_count": 22,
     "metadata": {
      "tags": []
     },
     "output_type": "execute_result"
    }
   ],
   "source": [
    "y[0]"
   ]
  },
  {
   "cell_type": "markdown",
   "metadata": {
    "colab_type": "text",
    "id": "VWaJ9naXfoiU"
   },
   "source": [
    "## Preparing training dataset\n",
    "1. Write a code which reads each and every id from labels.csv file and loads the corresponding image (in RGB - 128, 128, 3) from the train folder. <br>\n",
    "2. Create 2 variables <br> \n",
    "     a.  x_train - Should have all the images of the dogs from train folder <br>\n",
    "     b.  y_train - Corresponding label of the dog <br>\n",
    "<u>Note:</u> The id of the dog images and its corresponding labels are available in labels.csv file   \n",
    "<u>Hint:</u> Watch the video shared on \"Preparing the training dataset\" if you face issue on creating the training dataset"
   ]
  },
  {
   "cell_type": "code",
   "execution_count": 0,
   "metadata": {
    "colab": {},
    "colab_type": "code",
    "id": "aC2f9ecR0XGR"
   },
   "outputs": [],
   "source": [
    "img_rows=128\n",
    "img_cols=128"
   ]
  },
  {
   "cell_type": "code",
   "execution_count": 0,
   "metadata": {
    "colab": {
     "base_uri": "https://localhost:8080/",
     "height": 34
    },
    "colab_type": "code",
    "id": "nkkZEpOe0ipk",
    "outputId": "ab515a6f-de0e-472e-c115-82099f72dea7"
   },
   "outputs": [
    {
     "name": "stderr",
     "output_type": "stream",
     "text": [
      "100%|██████████| 10222/10222 [54:37<00:00,  6.73it/s]\n"
     ]
    }
   ],
   "source": [
    "from tqdm import tqdm\n",
    "import cv2\n",
    "x_feature=[]\n",
    "y_feature=[]\n",
    "\n",
    "for f, img in tqdm(title.values):\n",
    "  train_img=cv2.imread(project_path+'train/{}.jpg'.format(f),3)\n",
    "  train_img_resize=cv2.resize(train_img,(img_rows,img_cols))\n",
    "  x_feature.append(train_img_resize)\n",
    "  y_feature.append(img)"
   ]
  },
  {
   "cell_type": "markdown",
   "metadata": {
    "colab_type": "text",
    "id": "6ioWDEgElBOs"
   },
   "source": [
    "Normalize the training data and convert into 4 dimensions so that it can be used as an input to conv layers in the model"
   ]
  },
  {
   "cell_type": "code",
   "execution_count": 0,
   "metadata": {
    "colab": {},
    "colab_type": "code",
    "id": "ARn76j3U1CDa"
   },
   "outputs": [],
   "source": [
    "x_feature=np.array(x_feature)"
   ]
  },
  {
   "cell_type": "code",
   "execution_count": 0,
   "metadata": {
    "colab": {},
    "colab_type": "code",
    "id": "-tpE9uT54xQf"
   },
   "outputs": [],
   "source": [
    "y_feature=np.array(y_feature)"
   ]
  },
  {
   "cell_type": "code",
   "execution_count": 0,
   "metadata": {
    "colab": {},
    "colab_type": "code",
    "id": "vgk81NgRJJU0"
   },
   "outputs": [],
   "source": [
    "x_feature=pd.read_pickle('/content/gdrive/My Drive/AIML/Dog_Breed/X.pkl')\n",
    "y_feature=pd.read_pickle('/content/gdrive/My Drive/AIML/Dog_Breed/y.pkl')"
   ]
  },
  {
   "cell_type": "code",
   "execution_count": 0,
   "metadata": {
    "colab": {},
    "colab_type": "code",
    "id": "0EVLIyDZIQpL"
   },
   "outputs": [],
   "source": [
    "x_feature.dump('/content/gdrive/My Drive/AIML/Dog_Breed/X.pkl')\n",
    "y_feature.dump('/content/gdrive/My Drive/AIML/Dog_Breed/y.pkl')"
   ]
  },
  {
   "cell_type": "code",
   "execution_count": 25,
   "metadata": {
    "colab": {
     "base_uri": "https://localhost:8080/",
     "height": 561
    },
    "colab_type": "code",
    "id": "YXi6qrG2HoO6",
    "outputId": "9177b695-3623-4f31-8fad-24b531ab3836"
   },
   "outputs": [
    {
     "name": "stdout",
     "output_type": "stream",
     "text": [
      "\n",
      "\n",
      "Classes['affenpinscher' 'afghan_hound' 'african_hunting_dog' 'airedale'\n",
      " 'american_staffordshire_terrier' 'appenzeller' 'australian_terrier'\n",
      " 'basenji' 'basset' 'beagle' 'bedlington_terrier' 'bernese_mountain_dog'\n",
      " 'black-and-tan_coonhound' 'blenheim_spaniel' 'bloodhound' 'bluetick'\n",
      " 'border_collie' 'border_terrier' 'borzoi' 'boston_bull'\n",
      " 'bouvier_des_flandres' 'boxer' 'brabancon_griffon' 'briard'\n",
      " 'brittany_spaniel' 'bull_mastiff' 'cairn' 'cardigan'\n",
      " 'chesapeake_bay_retriever' 'chihuahua' 'chow' 'clumber' 'cocker_spaniel'\n",
      " 'collie' 'curly-coated_retriever' 'dandie_dinmont' 'dhole' 'dingo'\n",
      " 'doberman' 'english_foxhound' 'english_setter' 'english_springer'\n",
      " 'entlebucher' 'eskimo_dog' 'flat-coated_retriever' 'french_bulldog'\n",
      " 'german_shepherd' 'german_short-haired_pointer' 'giant_schnauzer'\n",
      " 'golden_retriever' 'gordon_setter' 'great_dane' 'great_pyrenees'\n",
      " 'greater_swiss_mountain_dog' 'groenendael' 'ibizan_hound' 'irish_setter'\n",
      " 'irish_terrier' 'irish_water_spaniel' 'irish_wolfhound'\n",
      " 'italian_greyhound' 'japanese_spaniel' 'keeshond' 'kelpie'\n",
      " 'kerry_blue_terrier' 'komondor' 'kuvasz' 'labrador_retriever'\n",
      " 'lakeland_terrier' 'leonberg' 'lhasa' 'malamute' 'malinois' 'maltese_dog'\n",
      " 'mexican_hairless' 'miniature_pinscher' 'miniature_poodle'\n",
      " 'miniature_schnauzer' 'newfoundland' 'norfolk_terrier'\n",
      " 'norwegian_elkhound' 'norwich_terrier' 'old_english_sheepdog'\n",
      " 'otterhound' 'papillon' 'pekinese' 'pembroke' 'pomeranian' 'pug'\n",
      " 'redbone' 'rhodesian_ridgeback' 'rottweiler' 'saint_bernard' 'saluki'\n",
      " 'samoyed' 'schipperke' 'scotch_terrier' 'scottish_deerhound'\n",
      " 'sealyham_terrier' 'shetland_sheepdog' 'shih-tzu' 'siberian_husky'\n",
      " 'silky_terrier' 'soft-coated_wheaten_terrier' 'staffordshire_bullterrier'\n",
      " 'standard_poodle' 'standard_schnauzer' 'sussex_spaniel' 'tibetan_mastiff'\n",
      " 'tibetan_terrier' 'toy_poodle' 'toy_terrier' 'vizsla' 'walker_hound'\n",
      " 'weimaraner' 'welsh_springer_spaniel' 'west_highland_white_terrier'\n",
      " 'whippet' 'wire-haired_fox_terrier' 'yorkshire_terrier']\n"
     ]
    }
   ],
   "source": [
    "## Preprocessing the labels\n",
    "labels = preprocessing.LabelEncoder()\n",
    "labels.fit(np.unique(y_feature))\n",
    "encodedlabels1 = labels.transform(y_feature)\n",
    "print('\\n')\n",
    "print('Classes'+str(labels.classes_))"
   ]
  },
  {
   "cell_type": "code",
   "execution_count": 26,
   "metadata": {
    "colab": {
     "base_uri": "https://localhost:8080/",
     "height": 34
    },
    "colab_type": "code",
    "id": "X1gmoxndHxJL",
    "outputId": "d9e9f9bc-d4d1-4cc8-9d30-ea2e3d53f930"
   },
   "outputs": [
    {
     "name": "stdout",
     "output_type": "stream",
     "text": [
      "[19 37 85 ...  3 75 28]\n"
     ]
    }
   ],
   "source": [
    "print(encodedlabels1)"
   ]
  },
  {
   "cell_type": "code",
   "execution_count": 27,
   "metadata": {
    "colab": {
     "base_uri": "https://localhost:8080/",
     "height": 34
    },
    "colab_type": "code",
    "id": "E_uBLvBv4pEZ",
    "outputId": "a19faf6d-2023-440f-ea10-52a64e63902d"
   },
   "outputs": [
    {
     "data": {
      "text/plain": [
       "(10222, 128, 128, 3)"
      ]
     },
     "execution_count": 27,
     "metadata": {
      "tags": []
     },
     "output_type": "execute_result"
    }
   ],
   "source": [
    "x_feature.shape"
   ]
  },
  {
   "cell_type": "code",
   "execution_count": 0,
   "metadata": {
    "colab": {},
    "colab_type": "code",
    "id": "nI-u7mx042-0"
   },
   "outputs": [],
   "source": [
    "x_train_data=x_feature/255"
   ]
  },
  {
   "cell_type": "code",
   "execution_count": 0,
   "metadata": {
    "colab": {},
    "colab_type": "code",
    "id": "gncYQ2Hz4-nk"
   },
   "outputs": [],
   "source": [
    "y_train_data=to_categorical(encodedlabels1)"
   ]
  },
  {
   "cell_type": "code",
   "execution_count": 30,
   "metadata": {
    "colab": {
     "base_uri": "https://localhost:8080/",
     "height": 51
    },
    "colab_type": "code",
    "id": "oaYLCvol5G2S",
    "outputId": "763d6b89-4efe-4077-c281-3efe9d483221"
   },
   "outputs": [
    {
     "name": "stdout",
     "output_type": "stream",
     "text": [
      "Features shape: (10222, 128, 128, 3)\n",
      "Labels shape: (10222, 120)\n"
     ]
    }
   ],
   "source": [
    "print(\"Features shape:\",x_train_data.shape)\n",
    "print(\"Labels shape:\",y_train_data.shape)"
   ]
  },
  {
   "cell_type": "code",
   "execution_count": 31,
   "metadata": {
    "colab": {
     "base_uri": "https://localhost:8080/",
     "height": 850
    },
    "colab_type": "code",
    "id": "DwUfuwoeNiKu",
    "outputId": "aeac7113-8f28-4a64-fcc3-3c7e49157164"
   },
   "outputs": [
    {
     "data": {
      "text/plain": [
       "array([[[[0.27058824, 0.45490196, 0.67843137],\n",
       "         [0.14901961, 0.35686275, 0.53333333],\n",
       "         [0.4       , 0.65098039, 0.8       ],\n",
       "         ...,\n",
       "         [0.50980392, 0.8       , 0.92941176],\n",
       "         [0.33333333, 0.75686275, 0.8627451 ],\n",
       "         [0.23137255, 0.54117647, 0.66666667]],\n",
       "\n",
       "        [[0.16470588, 0.30196078, 0.4627451 ],\n",
       "         [0.55686275, 0.70588235, 0.84705882],\n",
       "         [0.46666667, 0.63529412, 0.77254902],\n",
       "         ...,\n",
       "         [0.31372549, 0.59607843, 0.76078431],\n",
       "         [0.39607843, 0.71764706, 0.85490196],\n",
       "         [0.29019608, 0.69411765, 0.83137255]],\n",
       "\n",
       "        [[0.25490196, 0.41960784, 0.59215686],\n",
       "         [0.22352941, 0.40392157, 0.57647059],\n",
       "         [0.25882353, 0.41960784, 0.6       ],\n",
       "         ...,\n",
       "         [0.14509804, 0.4745098 , 0.6745098 ],\n",
       "         [0.28627451, 0.56862745, 0.71764706],\n",
       "         [0.25098039, 0.65882353, 0.81176471]],\n",
       "\n",
       "        ...,\n",
       "\n",
       "        [[0.30196078, 0.46666667, 0.74509804],\n",
       "         [0.25882353, 0.4745098 , 0.72941176],\n",
       "         [0.25882353, 0.47843137, 0.71764706],\n",
       "         ...,\n",
       "         [0.2745098 , 0.35686275, 0.62352941],\n",
       "         [0.23137255, 0.34901961, 0.60392157],\n",
       "         [0.35686275, 0.51764706, 0.72156863]],\n",
       "\n",
       "        [[0.25490196, 0.4627451 , 0.7254902 ],\n",
       "         [0.28235294, 0.48627451, 0.74509804],\n",
       "         [0.29019608, 0.49019608, 0.73333333],\n",
       "         ...,\n",
       "         [0.21176471, 0.24705882, 0.51764706],\n",
       "         [0.29019608, 0.45490196, 0.6627451 ],\n",
       "         [0.4745098 , 0.6627451 , 0.8745098 ]],\n",
       "\n",
       "        [[0.24705882, 0.45490196, 0.71764706],\n",
       "         [0.28627451, 0.49019608, 0.74901961],\n",
       "         [0.29803922, 0.49803922, 0.74509804],\n",
       "         ...,\n",
       "         [0.19607843, 0.2       , 0.49803922],\n",
       "         [0.12156863, 0.24313725, 0.50196078],\n",
       "         [0.35294118, 0.56862745, 0.77647059]]]])"
      ]
     },
     "execution_count": 31,
     "metadata": {
      "tags": []
     },
     "output_type": "execute_result"
    }
   ],
   "source": [
    "x_train_data[0:1]"
   ]
  },
  {
   "cell_type": "code",
   "execution_count": 32,
   "metadata": {
    "colab": {
     "base_uri": "https://localhost:8080/",
     "height": 285
    },
    "colab_type": "code",
    "id": "xl9iL6V3vEbF",
    "outputId": "d924557c-86be-408e-c521-a3e94d5c4296"
   },
   "outputs": [
    {
     "data": {
      "text/plain": [
       "<matplotlib.image.AxesImage at 0x7fda4690ba20>"
      ]
     },
     "execution_count": 32,
     "metadata": {
      "tags": []
     },
     "output_type": "execute_result"
    },
    {
     "data": {
      "image/png": "[encoded data removed]",
      "text/plain": [
       "<Figure size 432x288 with 1 Axes>"
      ]
     },
     "metadata": {
      "tags": []
     },
     "output_type": "display_data"
    }
   ],
   "source": [
    "## Displaying randomly a image from X\n",
    "plt.imshow(x_train_data[20])"
   ]
  },
  {
   "cell_type": "markdown",
   "metadata": {
    "colab_type": "text",
    "id": "bdCXuAE11gZL"
   },
   "source": [
    "### Split the training and validation data from `x_train_data` and `y_train_data` obtained from above step"
   ]
  },
  {
   "cell_type": "code",
   "execution_count": 0,
   "metadata": {
    "colab": {},
    "colab_type": "code",
    "id": "kpWx-pgV96Jv"
   },
   "outputs": [],
   "source": [
    "x_train,x_val,y_train,y_val=train_test_split(x_train_data,y_train_data,test_size=0.30,random_state=50)"
   ]
  },
  {
   "cell_type": "code",
   "execution_count": 34,
   "metadata": {
    "colab": {
     "base_uri": "https://localhost:8080/",
     "height": 51
    },
    "colab_type": "code",
    "id": "qsoVbkEp6CRK",
    "outputId": "eb308955-79da-4c87-f1ba-79fedd617d34"
   },
   "outputs": [
    {
     "name": "stdout",
     "output_type": "stream",
     "text": [
      "Training Data shape: (7155, 128, 128, 3) (7155, 120)\n",
      "Validation Data shape: (3067, 128, 128, 3) (3067, 120)\n"
     ]
    }
   ],
   "source": [
    "print(\"Training Data shape:\",x_train.shape,y_train.shape)\n",
    "print(\"Validation Data shape:\",x_val.shape,y_val.shape)"
   ]
  },
  {
   "cell_type": "markdown",
   "metadata": {
    "colab_type": "text",
    "id": "XkL-N1jDsU8m"
   },
   "source": [
    "### Loading the test data\n",
    "Read the id column from the samples_submission.csv and store it in test_img"
   ]
  },
  {
   "cell_type": "code",
   "execution_count": 0,
   "metadata": {
    "colab": {},
    "colab_type": "code",
    "id": "DnpXdpd9b3E7"
   },
   "outputs": [],
   "source": [
    "sample=pd.read_csv(\"/content/gdrive/My Drive/AIML/Dog_Breed/sample_submission.csv\")"
   ]
  },
  {
   "cell_type": "code",
   "execution_count": 0,
   "metadata": {
    "colab": {},
    "colab_type": "code",
    "id": "uo_KOc9Q6cpR"
   },
   "outputs": [],
   "source": [
    "test_img=sample[\"id\"]"
   ]
  },
  {
   "cell_type": "code",
   "execution_count": 37,
   "metadata": {
    "colab": {
     "base_uri": "https://localhost:8080/",
     "height": 34
    },
    "colab_type": "code",
    "id": "pIQofzqL6ql5",
    "outputId": "cdd1471c-51f7-414d-eb9f-25f9cd616f49"
   },
   "outputs": [
    {
     "data": {
      "text/plain": [
       "(10357,)"
      ]
     },
     "execution_count": 37,
     "metadata": {
      "tags": []
     },
     "output_type": "execute_result"
    }
   ],
   "source": [
    "test_img.shape"
   ]
  },
  {
   "cell_type": "markdown",
   "metadata": {
    "colab_type": "text",
    "id": "DEJqZIMbm0Jo"
   },
   "source": [
    "Run the below code to load the test image files in x_test_feature"
   ]
  },
  {
   "cell_type": "code",
   "execution_count": 0,
   "metadata": {
    "colab": {
     "base_uri": "https://localhost:8080/",
     "height": 34
    },
    "colab_type": "code",
    "id": "zf7n4WG-b3Hv",
    "outputId": "9cd60d27-6d91-4091-d8e7-04dfab70ed8b"
   },
   "outputs": [
    {
     "name": "stderr",
     "output_type": "stream",
     "text": [
      "100%|██████████| 10357/10357 [34:14<00:00,  5.87it/s]\n"
     ]
    }
   ],
   "source": [
    "from tqdm import tqdm\n",
    "import cv2\n",
    "x_test_feature = []\n",
    "i = 0 # initialisation\n",
    "for f in tqdm(test_img.values): # f for format ,jpg\n",
    "    img = cv2.imread(project_path+'test/{}.jpg'.format(f), 3)\n",
    "    img_resize = cv2.resize(img, (img_rows, img_cols)) \n",
    "    x_test_feature.append(img_resize)"
   ]
  },
  {
   "cell_type": "markdown",
   "metadata": {
    "colab_type": "text",
    "id": "9My6qSyDnE-_"
   },
   "source": [
    "Normalize the test data and convert it into 4 dimensions"
   ]
  },
  {
   "cell_type": "code",
   "execution_count": 0,
   "metadata": {
    "colab": {},
    "colab_type": "code",
    "id": "93n-IntMnJGI"
   },
   "outputs": [],
   "source": [
    "x_test_feature=np.array(x_test_feature)"
   ]
  },
  {
   "cell_type": "code",
   "execution_count": 39,
   "metadata": {
    "colab": {
     "base_uri": "https://localhost:8080/",
     "height": 34
    },
    "colab_type": "code",
    "id": "lCC0lAjVN1sr",
    "outputId": "c0bca606-103a-4038-bb12-a3d78dc3d0c5"
   },
   "outputs": [
    {
     "name": "stdout",
     "output_type": "stream",
     "text": [
      "Test Data shape: (10357, 128, 128, 3)\n"
     ]
    }
   ],
   "source": [
    "x_test_data=x_test_feature/255\n",
    "print(\"Test Data shape:\",x_test_data.shape)"
   ]
  },
  {
   "cell_type": "code",
   "execution_count": 0,
   "metadata": {
    "colab": {},
    "colab_type": "code",
    "id": "SEB-wEhMLJyB"
   },
   "outputs": [],
   "source": [
    "x_test_feature.dump('/content/gdrive/My Drive/AIML/Dog_Breed/X_test.pkl')"
   ]
  },
  {
   "cell_type": "code",
   "execution_count": 0,
   "metadata": {
    "colab": {},
    "colab_type": "code",
    "id": "VXiJeVr1uycP"
   },
   "outputs": [],
   "source": [
    "x_test_feature=pd.read_pickle('/content/gdrive/My Drive/AIML/Dog_Breed/X_test.pkl')"
   ]
  },
  {
   "cell_type": "code",
   "execution_count": 40,
   "metadata": {
    "colab": {
     "base_uri": "https://localhost:8080/",
     "height": 285
    },
    "colab_type": "code",
    "id": "NVoZmudzvOcb",
    "outputId": "78539426-1958-42b9-db0a-a101441509ff"
   },
   "outputs": [
    {
     "data": {
      "text/plain": [
       "<matplotlib.image.AxesImage at 0x7fda465540f0>"
      ]
     },
     "execution_count": 40,
     "metadata": {
      "tags": []
     },
     "output_type": "execute_result"
    },
    {
     "data": {
      "image/png": "[encoded data removed]",
      "text/plain": [
       "<Figure size 432x288 with 1 Axes>"
      ]
     },
     "metadata": {
      "tags": []
     },
     "output_type": "display_data"
    }
   ],
   "source": [
    "plt.imshow(x_test_data[20])"
   ]
  },
  {
   "cell_type": "markdown",
   "metadata": {
    "colab_type": "text",
    "id": "zKezNJVMsocP"
   },
   "source": [
    "### Build a basic conv neural network with 2 conv layers (kernel sizes - 5 and 3) add layers as mentioned below for classification.\n",
    "\n",
    "1. Add a Dense layer with 256 neurons with `relu` activation\n",
    "\n",
    "2. Add a Dense layer with 120 neurons as final layer (as there are 120 classes in the given dataset) with `softmax` activation for classifiaction. "
   ]
  },
  {
   "cell_type": "code",
   "execution_count": 41,
   "metadata": {
    "colab": {
     "base_uri": "https://localhost:8080/",
     "height": 258
    },
    "colab_type": "code",
    "id": "D2jxTY2S96J4",
    "outputId": "a5036edf-635d-4455-cc0b-a7245bce8ed9"
   },
   "outputs": [
    {
     "name": "stdout",
     "output_type": "stream",
     "text": [
      "WARNING:tensorflow:From /usr/local/lib/python3.6/dist-packages/keras/backend/tensorflow_backend.py:66: The name tf.get_default_graph is deprecated. Please use tf.compat.v1.get_default_graph instead.\n",
      "\n",
      "WARNING:tensorflow:From /usr/local/lib/python3.6/dist-packages/keras/backend/tensorflow_backend.py:541: The name tf.placeholder is deprecated. Please use tf.compat.v1.placeholder instead.\n",
      "\n",
      "WARNING:tensorflow:From /usr/local/lib/python3.6/dist-packages/keras/backend/tensorflow_backend.py:4432: The name tf.random_uniform is deprecated. Please use tf.random.uniform instead.\n",
      "\n",
      "WARNING:tensorflow:From /usr/local/lib/python3.6/dist-packages/keras/backend/tensorflow_backend.py:4267: The name tf.nn.max_pool is deprecated. Please use tf.nn.max_pool2d instead.\n",
      "\n",
      "WARNING:tensorflow:From /usr/local/lib/python3.6/dist-packages/keras/backend/tensorflow_backend.py:148: The name tf.placeholder_with_default is deprecated. Please use tf.compat.v1.placeholder_with_default instead.\n",
      "\n",
      "WARNING:tensorflow:From /usr/local/lib/python3.6/dist-packages/keras/backend/tensorflow_backend.py:3733: calling dropout (from tensorflow.python.ops.nn_ops) with keep_prob is deprecated and will be removed in a future version.\n",
      "Instructions for updating:\n",
      "Please use `rate` instead of `keep_prob`. Rate should be set to `rate = 1 - keep_prob`.\n"
     ]
    }
   ],
   "source": [
    "# Create a model\n",
    "model1= Sequential()\n",
    "## Adding convolution layers with 32 filters of 3*3 size and mentioning input shape with relu activation\n",
    "model1.add(Conv2D(32, kernel_size=(5, 5), input_shape=(128, 128, 3), activation='relu'))\n",
    "model1.add(Conv2D(32, kernel_size=(3, 3), activation='relu'))\n",
    "model1.add(MaxPooling2D(pool_size=(2,2),strides=(2,2)))\n",
    "## Adding a dropout layer of rate 0.2\n",
    "model1.add(Dropout(0.2))\n",
    "## Flattening the output of convolution layer\n",
    "model1.add(Flatten())\n",
    "## Adding a dense layer with 128 neurons and relu activation\n",
    "model1.add(Dense(256, activation='relu'))\n",
    "model1.add(keras.layers.BatchNormalization())\n",
    "## Adding the output layer\n",
    "model1.add(Dense(120, activation='softmax'))"
   ]
  },
  {
   "cell_type": "code",
   "execution_count": 42,
   "metadata": {
    "colab": {
     "base_uri": "https://localhost:8080/",
     "height": 513
    },
    "colab_type": "code",
    "id": "f_BAvCzo96J6",
    "outputId": "cdbe8a48-2d63-43da-96ec-bcdbc5a73cf1"
   },
   "outputs": [
    {
     "name": "stdout",
     "output_type": "stream",
     "text": [
      "WARNING:tensorflow:From /usr/local/lib/python3.6/dist-packages/keras/optimizers.py:793: The name tf.train.Optimizer is deprecated. Please use tf.compat.v1.train.Optimizer instead.\n",
      "\n",
      "WARNING:tensorflow:From /usr/local/lib/python3.6/dist-packages/keras/backend/tensorflow_backend.py:3576: The name tf.log is deprecated. Please use tf.math.log instead.\n",
      "\n",
      "Model: \"sequential_1\"\n",
      "_________________________________________________________________\n",
      "Layer (type)                 Output Shape              Param #   \n",
      "=================================================================\n",
      "conv2d_1 (Conv2D)            (None, 124, 124, 32)      2432      \n",
      "_________________________________________________________________\n",
      "conv2d_2 (Conv2D)            (None, 122, 122, 32)      9248      \n",
      "_________________________________________________________________\n",
      "max_pooling2d_1 (MaxPooling2 (None, 61, 61, 32)        0         \n",
      "_________________________________________________________________\n",
      "dropout_1 (Dropout)          (None, 61, 61, 32)        0         \n",
      "_________________________________________________________________\n",
      "flatten_1 (Flatten)          (None, 119072)            0         \n",
      "_________________________________________________________________\n",
      "dense_1 (Dense)              (None, 256)               30482688  \n",
      "_________________________________________________________________\n",
      "batch_normalization_1 (Batch (None, 256)               1024      \n",
      "_________________________________________________________________\n",
      "dense_2 (Dense)              (None, 120)               30840     \n",
      "=================================================================\n",
      "Total params: 30,526,232\n",
      "Trainable params: 30,525,720\n",
      "Non-trainable params: 512\n",
      "_________________________________________________________________\n"
     ]
    }
   ],
   "source": [
    "## Compiling the model\n",
    "model1.compile(loss='categorical_crossentropy', optimizer='adam', metrics=['accuracy'] )\n",
    "model1.summary()"
   ]
  },
  {
   "cell_type": "markdown",
   "metadata": {
    "colab_type": "text",
    "id": "ui8EXw6_oqpR"
   },
   "source": [
    "### Use batch_size = 128 and epochs = 10 and execute the model"
   ]
  },
  {
   "cell_type": "code",
   "execution_count": 43,
   "metadata": {
    "colab": {
     "base_uri": "https://localhost:8080/",
     "height": 598
    },
    "colab_type": "code",
    "id": "IriIc37NozbK",
    "outputId": "5eaba252-c44a-44ec-e6ac-17b07643cdd9"
   },
   "outputs": [
    {
     "name": "stdout",
     "output_type": "stream",
     "text": [
      "WARNING:tensorflow:From /usr/local/lib/python3.6/dist-packages/tensorflow_core/python/ops/math_grad.py:1424: where (from tensorflow.python.ops.array_ops) is deprecated and will be removed in a future version.\n",
      "Instructions for updating:\n",
      "Use tf.where in 2.0, which has the same broadcast rule as np.where\n",
      "WARNING:tensorflow:From /usr/local/lib/python3.6/dist-packages/keras/backend/tensorflow_backend.py:1033: The name tf.assign_add is deprecated. Please use tf.compat.v1.assign_add instead.\n",
      "\n",
      "WARNING:tensorflow:From /usr/local/lib/python3.6/dist-packages/keras/backend/tensorflow_backend.py:1020: The name tf.assign is deprecated. Please use tf.compat.v1.assign instead.\n",
      "\n",
      "WARNING:tensorflow:From /usr/local/lib/python3.6/dist-packages/keras/backend/tensorflow_backend.py:3005: The name tf.Session is deprecated. Please use tf.compat.v1.Session instead.\n",
      "\n",
      "Train on 7155 samples, validate on 3067 samples\n",
      "Epoch 1/10\n",
      "WARNING:tensorflow:From /usr/local/lib/python3.6/dist-packages/keras/backend/tensorflow_backend.py:190: The name tf.get_default_session is deprecated. Please use tf.compat.v1.get_default_session instead.\n",
      "\n",
      "WARNING:tensorflow:From /usr/local/lib/python3.6/dist-packages/keras/backend/tensorflow_backend.py:197: The name tf.ConfigProto is deprecated. Please use tf.compat.v1.ConfigProto instead.\n",
      "\n",
      "WARNING:tensorflow:From /usr/local/lib/python3.6/dist-packages/keras/backend/tensorflow_backend.py:207: The name tf.global_variables is deprecated. Please use tf.compat.v1.global_variables instead.\n",
      "\n",
      "WARNING:tensorflow:From /usr/local/lib/python3.6/dist-packages/keras/backend/tensorflow_backend.py:216: The name tf.is_variable_initialized is deprecated. Please use tf.compat.v1.is_variable_initialized instead.\n",
      "\n",
      "WARNING:tensorflow:From /usr/local/lib/python3.6/dist-packages/keras/backend/tensorflow_backend.py:223: The name tf.variables_initializer is deprecated. Please use tf.compat.v1.variables_initializer instead.\n",
      "\n",
      "7155/7155 [==============================] - 73s 10ms/step - loss: 4.7380 - acc: 0.0260 - val_loss: 4.7411 - val_acc: 0.0248\n",
      "Epoch 2/10\n",
      "7155/7155 [==============================] - 73s 10ms/step - loss: 4.2314 - acc: 0.0819 - val_loss: 5.2752 - val_acc: 0.0173\n",
      "Epoch 3/10\n",
      "7155/7155 [==============================] - 69s 10ms/step - loss: 2.8899 - acc: 0.4112 - val_loss: 5.3747 - val_acc: 0.0068\n",
      "Epoch 4/10\n",
      "7155/7155 [==============================] - 73s 10ms/step - loss: 0.7831 - acc: 0.9490 - val_loss: 5.7036 - val_acc: 0.0127\n",
      "Epoch 5/10\n",
      "7155/7155 [==============================] - 69s 10ms/step - loss: 0.1079 - acc: 0.9989 - val_loss: 5.2471 - val_acc: 0.0127\n",
      "Epoch 6/10\n",
      "7155/7155 [==============================] - 69s 10ms/step - loss: 0.0298 - acc: 0.9996 - val_loss: 5.0392 - val_acc: 0.0150\n",
      "Accuracy: 1.50%\n"
     ]
    }
   ],
   "source": [
    "# Fit the model\n",
    "early_stopping = EarlyStopping(monitor='val_acc', patience=5, mode='auto')\n",
    "callback_list = [early_stopping]\n",
    "\n",
    "model1.fit(x_train, y_train, validation_data=(x_val, y_val), epochs=10, batch_size=128 , callbacks=callback_list)\n",
    "\n",
    "# Final evaluation of the model\n",
    "scores = model1.evaluate(x_val, y_val, verbose=0)\n",
    "print(\"Accuracy: %.2f%%\" % (scores[1]*100))"
   ]
  },
  {
   "cell_type": "code",
   "execution_count": 0,
   "metadata": {
    "colab": {},
    "colab_type": "code",
    "id": "0PR9j5_Xozmd"
   },
   "outputs": [],
   "source": []
  },
  {
   "cell_type": "markdown",
   "metadata": {
    "colab_type": "text",
    "id": "Z8hWaKmjoz69"
   },
   "source": [
    "#The model accuracy is very poor !!!!"
   ]
  },
  {
   "cell_type": "markdown",
   "metadata": {
    "colab_type": "text",
    "id": "agJKkc6xtKiq"
   },
   "source": [
    "### Use Data Augmentation in the above model to see if the accuracy improves\n"
   ]
  },
  {
   "cell_type": "code",
   "execution_count": 0,
   "metadata": {
    "colab": {},
    "colab_type": "code",
    "id": "31Mn8qnZb3Ru"
   },
   "outputs": [],
   "source": [
    "train_gen = ImageDataGenerator(rotation_range=15,\n",
    "                                    width_shift_range=0.1,\n",
    "                                    height_shift_range=0.1,\n",
    "                                    shear_range=0.2,\n",
    "                                    zoom_range=0.2,\n",
    "                                    horizontal_flip=True,\n",
    "                                    fill_mode='nearest')"
   ]
  },
  {
   "cell_type": "code",
   "execution_count": 0,
   "metadata": {
    "colab": {},
    "colab_type": "code",
    "id": "gDLQVFDP96KI"
   },
   "outputs": [],
   "source": [
    "val_gen = ImageDataGenerator(rotation_range=15,\n",
    "                                    width_shift_range=0.1,\n",
    "                                    height_shift_range=0.1,\n",
    "                                    shear_range=0.2,\n",
    "                                    zoom_range=0.2,\n",
    "                                    horizontal_flip=True,\n",
    "                                    fill_mode='nearest')"
   ]
  },
  {
   "cell_type": "markdown",
   "metadata": {
    "colab_type": "text",
    "id": "6sssbaTfxlkk"
   },
   "source": [
    "### Using the above objects, create the image generators with variable names `train_generator` and `val_generator`\n",
    "\n",
    "You need to use train_datagen.flow() and val_datagen.flow()"
   ]
  },
  {
   "cell_type": "code",
   "execution_count": 0,
   "metadata": {
    "colab": {},
    "colab_type": "code",
    "id": "sehaRgT-96KQ"
   },
   "outputs": [],
   "source": [
    "train_generator=train_gen.flow(x_train,y_train,batch_size=128)"
   ]
  },
  {
   "cell_type": "code",
   "execution_count": 0,
   "metadata": {
    "colab": {},
    "colab_type": "code",
    "id": "1vkQw9KB9_5s"
   },
   "outputs": [],
   "source": [
    "val_generator=val_gen.flow(x_val,y_val,batch_size=128)"
   ]
  },
  {
   "cell_type": "markdown",
   "metadata": {
    "colab_type": "text",
    "id": "TVFQJZw3x4-C"
   },
   "source": [
    "### Fit the model using fit_generator() using `train_generator` and `val_generator` from the above step with 10 epochs"
   ]
  },
  {
   "cell_type": "code",
   "execution_count": 48,
   "metadata": {
    "colab": {
     "base_uri": "https://localhost:8080/",
     "height": 374
    },
    "colab_type": "code",
    "id": "J1K2MqHbuPUa",
    "outputId": "7f03e3c5-d26d-4142-af6e-ea099be25508"
   },
   "outputs": [
    {
     "name": "stdout",
     "output_type": "stream",
     "text": [
      "Epoch 1/10\n",
      "56/56 [==============================] - 69s 1s/step - loss: 4.4839 - acc: 0.0563 - val_loss: 6.6872 - val_acc: 0.0313\n",
      "Epoch 2/10\n",
      "56/56 [==============================] - 66s 1s/step - loss: 4.2663 - acc: 0.0702 - val_loss: 4.7667 - val_acc: 0.0434\n",
      "Epoch 3/10\n",
      "56/56 [==============================] - 67s 1s/step - loss: 4.1499 - acc: 0.0837 - val_loss: 4.6487 - val_acc: 0.0502\n",
      "Epoch 4/10\n",
      "56/56 [==============================] - 66s 1s/step - loss: 4.0694 - acc: 0.0971 - val_loss: 4.6248 - val_acc: 0.0558\n",
      "Epoch 5/10\n",
      "56/56 [==============================] - 67s 1s/step - loss: 3.9858 - acc: 0.1094 - val_loss: 4.5107 - val_acc: 0.0525\n",
      "Epoch 6/10\n",
      "56/56 [==============================] - 66s 1s/step - loss: 3.9119 - acc: 0.1164 - val_loss: 4.5347 - val_acc: 0.0577\n",
      "Epoch 7/10\n",
      "56/56 [==============================] - 66s 1s/step - loss: 3.8559 - acc: 0.1282 - val_loss: 4.3976 - val_acc: 0.0721\n",
      "Epoch 8/10\n",
      "56/56 [==============================] - 66s 1s/step - loss: 3.7947 - acc: 0.1413 - val_loss: 4.3151 - val_acc: 0.0858\n",
      "Epoch 9/10\n",
      "56/56 [==============================] - 66s 1s/step - loss: 3.7431 - acc: 0.1431 - val_loss: 4.3272 - val_acc: 0.0812\n",
      "Epoch 10/10\n",
      "56/56 [==============================] - 64s 1s/step - loss: 3.7054 - acc: 0.1552 - val_loss: 4.4785 - val_acc: 0.0773\n"
     ]
    },
    {
     "data": {
      "text/plain": [
       "<keras.callbacks.History at 0x7fda46060240>"
      ]
     },
     "execution_count": 48,
     "metadata": {
      "tags": []
     },
     "output_type": "execute_result"
    }
   ],
   "source": [
    "model1.fit_generator(train_generator,validation_data=val_generator, epochs=10, callbacks=callback_list)"
   ]
  },
  {
   "cell_type": "markdown",
   "metadata": {
    "colab_type": "text",
    "id": "Q2zmLztqo5DY"
   },
   "source": [
    "# Model accuracy is still poor!!!"
   ]
  },
  {
   "cell_type": "markdown",
   "metadata": {
    "colab_type": "text",
    "id": "rSTATrhsAo7L"
   },
   "source": [
    "### Lets use Transfer Learning\n",
    "\n",
    "Download the vgg weight file from here : https://github.com/MinerKasch/applied_deep_learning/blob/master/vgg16_weights_tf_dim_ordering_tf_kernels_notop.h5"
   ]
  },
  {
   "cell_type": "markdown",
   "metadata": {
    "colab_type": "text",
    "id": "zy5JdbW6pIvD"
   },
   "source": [
    "Use the below code to load VGG16 weights trained on ImageNet"
   ]
  },
  {
   "cell_type": "code",
   "execution_count": 0,
   "metadata": {
    "colab": {},
    "colab_type": "code",
    "id": "yrqs0zg7ApNw"
   },
   "outputs": [],
   "source": [
    "from keras.applications.vgg16 import VGG16, preprocess_input\n",
    "# Instantiate the model with the pre-trained weights (no top)\n",
    "base_model= VGG16(weights=(project_path+'vgg16_weights_tf_dim_ordering_tf_kernels_notop.h5'),include_top=False,input_shape=(128,128,3,))"
   ]
  },
  {
   "cell_type": "markdown",
   "metadata": {
    "colab_type": "text",
    "id": "EItOlRBGpV_A"
   },
   "source": [
    "Print the summary of the base_model"
   ]
  },
  {
   "cell_type": "code",
   "execution_count": 50,
   "metadata": {
    "colab": {
     "base_uri": "https://localhost:8080/",
     "height": 799
    },
    "colab_type": "code",
    "id": "lQsEBgnlpHjH",
    "outputId": "bb005fd8-1768-4329-dacb-b7def5e9a589"
   },
   "outputs": [
    {
     "name": "stdout",
     "output_type": "stream",
     "text": [
      "Model: \"vgg16\"\n",
      "_________________________________________________________________\n",
      "Layer (type)                 Output Shape              Param #   \n",
      "=================================================================\n",
      "input_1 (InputLayer)         (None, 128, 128, 3)       0         \n",
      "_________________________________________________________________\n",
      "block1_conv1 (Conv2D)        (None, 128, 128, 64)      1792      \n",
      "_________________________________________________________________\n",
      "block1_conv2 (Conv2D)        (None, 128, 128, 64)      36928     \n",
      "_________________________________________________________________\n",
      "block1_pool (MaxPooling2D)   (None, 64, 64, 64)        0         \n",
      "_________________________________________________________________\n",
      "block2_conv1 (Conv2D)        (None, 64, 64, 128)       73856     \n",
      "_________________________________________________________________\n",
      "block2_conv2 (Conv2D)        (None, 64, 64, 128)       147584    \n",
      "_________________________________________________________________\n",
      "block2_pool (MaxPooling2D)   (None, 32, 32, 128)       0         \n",
      "_________________________________________________________________\n",
      "block3_conv1 (Conv2D)        (None, 32, 32, 256)       295168    \n",
      "_________________________________________________________________\n",
      "block3_conv2 (Conv2D)        (None, 32, 32, 256)       590080    \n",
      "_________________________________________________________________\n",
      "block3_conv3 (Conv2D)        (None, 32, 32, 256)       590080    \n",
      "_________________________________________________________________\n",
      "block3_pool (MaxPooling2D)   (None, 16, 16, 256)       0         \n",
      "_________________________________________________________________\n",
      "block4_conv1 (Conv2D)        (None, 16, 16, 512)       1180160   \n",
      "_________________________________________________________________\n",
      "block4_conv2 (Conv2D)        (None, 16, 16, 512)       2359808   \n",
      "_________________________________________________________________\n",
      "block4_conv3 (Conv2D)        (None, 16, 16, 512)       2359808   \n",
      "_________________________________________________________________\n",
      "block4_pool (MaxPooling2D)   (None, 8, 8, 512)         0         \n",
      "_________________________________________________________________\n",
      "block5_conv1 (Conv2D)        (None, 8, 8, 512)         2359808   \n",
      "_________________________________________________________________\n",
      "block5_conv2 (Conv2D)        (None, 8, 8, 512)         2359808   \n",
      "_________________________________________________________________\n",
      "block5_conv3 (Conv2D)        (None, 8, 8, 512)         2359808   \n",
      "_________________________________________________________________\n",
      "block5_pool (MaxPooling2D)   (None, 4, 4, 512)         0         \n",
      "=================================================================\n",
      "Total params: 14,714,688\n",
      "Trainable params: 14,714,688\n",
      "Non-trainable params: 0\n",
      "_________________________________________________________________\n"
     ]
    }
   ],
   "source": [
    "base_model.summary()"
   ]
  },
  {
   "cell_type": "markdown",
   "metadata": {
    "colab_type": "text",
    "id": "fHpeOyW0qauW"
   },
   "source": [
    "### Add the following classification layers to the imported VGG Model <br>\n",
    "1. Flatten Layer\n",
    "2. Dense layer with 1024 neurons with activation as Relu\n",
    "3. Dense layer with 256 neurons with activation as Relu\n",
    "4. Dense layer with 120 neurons with activation as Softmax"
   ]
  },
  {
   "cell_type": "code",
   "execution_count": 0,
   "metadata": {
    "colab": {},
    "colab_type": "code",
    "id": "C7w9CSPvIRnX"
   },
   "outputs": [],
   "source": [
    "flatten1=Flatten()\n",
    "dense1=Dense(1024,activation='relu',name='dense1')\n",
    "dense2=Dense(256,activation='relu',name='dense2')\n",
    "output=Dense(120,activation='softmax',name='output')"
   ]
  },
  {
   "cell_type": "markdown",
   "metadata": {
    "colab_type": "text",
    "id": "LeQem0pHITIj"
   },
   "source": [
    "### Make all the layers in the base_model (VGG16) to be non-trainable"
   ]
  },
  {
   "cell_type": "code",
   "execution_count": 0,
   "metadata": {
    "colab": {},
    "colab_type": "code",
    "id": "0BpT4MLkqoaO"
   },
   "outputs": [],
   "source": [
    "base_model.trainable=False"
   ]
  },
  {
   "cell_type": "code",
   "execution_count": 0,
   "metadata": {
    "colab": {},
    "colab_type": "code",
    "id": "z0cXM8JGSl1e"
   },
   "outputs": [],
   "source": [
    "model2=Sequential([base_model,flatten1,dense1,dense2,output])"
   ]
  },
  {
   "cell_type": "code",
   "execution_count": 60,
   "metadata": {
    "colab": {
     "base_uri": "https://localhost:8080/",
     "height": 323
    },
    "colab_type": "code",
    "id": "t8Bu2kUdnRzv",
    "outputId": "119dd58b-b7f8-4247-d1e4-dc304379126f"
   },
   "outputs": [
    {
     "name": "stdout",
     "output_type": "stream",
     "text": [
      "Model: \"sequential_3\"\n",
      "_________________________________________________________________\n",
      "Layer (type)                 Output Shape              Param #   \n",
      "=================================================================\n",
      "vgg16 (Model)                (None, 4, 4, 512)         14714688  \n",
      "_________________________________________________________________\n",
      "flatten_4 (Flatten)          (None, 8192)              0         \n",
      "_________________________________________________________________\n",
      "dense1 (Dense)               (None, 1024)              8389632   \n",
      "_________________________________________________________________\n",
      "dense2 (Dense)               (None, 256)               262400    \n",
      "_________________________________________________________________\n",
      "output (Dense)               (None, 120)               30840     \n",
      "=================================================================\n",
      "Total params: 23,397,560\n",
      "Trainable params: 8,682,872\n",
      "Non-trainable params: 14,714,688\n",
      "_________________________________________________________________\n"
     ]
    }
   ],
   "source": [
    "model2.compile(loss='categorical_crossentropy', optimizer='adam', metrics=['accuracy'] )\n",
    "model2.summary()"
   ]
  },
  {
   "cell_type": "markdown",
   "metadata": {
    "colab_type": "text",
    "id": "kj-BwqgfIkdv"
   },
   "source": [
    "### Fit and compile the model with batch_size = 128 and epochs = 10 and execute the model"
   ]
  },
  {
   "cell_type": "markdown",
   "metadata": {
    "colab_type": "text",
    "id": "YD5fAgVQIpKZ"
   },
   "source": [
    "Try to get training and validation accuracy to be more than 90%"
   ]
  },
  {
   "cell_type": "code",
   "execution_count": 61,
   "metadata": {
    "colab": {
     "base_uri": "https://localhost:8080/",
     "height": 731
    },
    "colab_type": "code",
    "id": "SZk2SWvjIoRP",
    "outputId": "5842be56-2826-47dc-e5d2-1eb26842d12a"
   },
   "outputs": [
    {
     "name": "stdout",
     "output_type": "stream",
     "text": [
      "Train on 7155 samples, validate on 3067 samples\n",
      "Epoch 1/20\n",
      "7155/7155 [==============================] - 107s 15ms/step - loss: 4.7486 - acc: 0.0217 - val_loss: 4.5827 - val_acc: 0.0398\n",
      "Epoch 2/20\n",
      "7155/7155 [==============================] - 106s 15ms/step - loss: 4.2113 - acc: 0.0827 - val_loss: 4.1244 - val_acc: 0.0809\n",
      "Epoch 3/20\n",
      "7155/7155 [==============================] - 106s 15ms/step - loss: 3.5010 - acc: 0.1852 - val_loss: 3.8165 - val_acc: 0.1324\n",
      "Epoch 4/20\n",
      "7155/7155 [==============================] - 106s 15ms/step - loss: 2.9121 - acc: 0.2841 - val_loss: 3.7116 - val_acc: 0.1513\n",
      "Epoch 5/20\n",
      "7155/7155 [==============================] - 103s 14ms/step - loss: 2.4803 - acc: 0.3723 - val_loss: 3.4538 - val_acc: 0.1858\n",
      "Epoch 6/20\n",
      "7155/7155 [==============================] - 103s 14ms/step - loss: 2.0545 - acc: 0.4745 - val_loss: 3.5230 - val_acc: 0.1777\n",
      "Epoch 7/20\n",
      "7155/7155 [==============================] - 102s 14ms/step - loss: 1.6974 - acc: 0.5713 - val_loss: 3.5481 - val_acc: 0.1950\n",
      "Epoch 8/20\n",
      "7155/7155 [==============================] - 103s 14ms/step - loss: 1.3549 - acc: 0.6662 - val_loss: 3.6514 - val_acc: 0.1969\n",
      "Epoch 9/20\n",
      "7155/7155 [==============================] - 103s 14ms/step - loss: 1.0682 - acc: 0.7521 - val_loss: 3.7973 - val_acc: 0.1862\n",
      "Epoch 10/20\n",
      "7155/7155 [==============================] - 102s 14ms/step - loss: 0.8178 - acc: 0.8231 - val_loss: 3.8730 - val_acc: 0.1950\n",
      "Epoch 11/20\n",
      "7155/7155 [==============================] - 102s 14ms/step - loss: 0.6394 - acc: 0.8704 - val_loss: 4.0260 - val_acc: 0.1960\n",
      "Epoch 12/20\n",
      "7155/7155 [==============================] - 102s 14ms/step - loss: 0.4484 - acc: 0.9240 - val_loss: 4.0871 - val_acc: 0.1979\n",
      "Epoch 13/20\n",
      "7155/7155 [==============================] - 102s 14ms/step - loss: 0.3226 - acc: 0.9590 - val_loss: 4.3264 - val_acc: 0.1989\n",
      "Epoch 14/20\n",
      "7155/7155 [==============================] - 102s 14ms/step - loss: 0.2302 - acc: 0.9774 - val_loss: 4.4191 - val_acc: 0.1940\n",
      "Epoch 15/20\n",
      "7155/7155 [==============================] - 102s 14ms/step - loss: 0.1550 - acc: 0.9902 - val_loss: 4.5431 - val_acc: 0.1947\n",
      "Epoch 16/20\n",
      "7155/7155 [==============================] - 103s 14ms/step - loss: 0.1070 - acc: 0.9964 - val_loss: 4.6444 - val_acc: 0.1943\n",
      "Epoch 17/20\n",
      "7155/7155 [==============================] - 103s 14ms/step - loss: 0.0783 - acc: 0.9987 - val_loss: 4.7311 - val_acc: 0.1953\n",
      "Epoch 18/20\n",
      "7155/7155 [==============================] - 103s 14ms/step - loss: 0.0616 - acc: 0.9990 - val_loss: 4.8172 - val_acc: 0.2002\n",
      "Epoch 19/20\n",
      "7155/7155 [==============================] - 103s 14ms/step - loss: 0.0464 - acc: 0.9994 - val_loss: 4.8987 - val_acc: 0.2002\n",
      "Epoch 20/20\n",
      "7155/7155 [==============================] - 104s 14ms/step - loss: 0.0380 - acc: 0.9994 - val_loss: 5.0016 - val_acc: 0.1914\n"
     ]
    },
    {
     "data": {
      "text/plain": [
       "<keras.callbacks.History at 0x7fda0649a4e0>"
      ]
     },
     "execution_count": 61,
     "metadata": {
      "tags": []
     },
     "output_type": "execute_result"
    }
   ],
   "source": [
    "model2.fit(x_train, y_train, validation_data=(x_val, y_val), epochs=20, batch_size=128 , callbacks=callback_list)"
   ]
  },
  {
   "cell_type": "code",
   "execution_count": 0,
   "metadata": {
    "colab": {},
    "colab_type": "code",
    "id": "hx58kdB332uY"
   },
   "outputs": [],
   "source": []
  }
 ],
 "metadata": {
  "accelerator": "TPU",
  "colab": {
   "collapsed_sections": [],
   "machine_shape": "hm",
   "name": "CV_Project2_Dog_Breed_Classification_Questions.ipynb",
   "provenance": []
  },
  "kernelspec": {
   "display_name": "Python 3",
   "language": "python",
   "name": "python3"
  },
  "language_info": {
   "codemirror_mode": {
    "name": "ipython",
    "version": 3
   },
   "file_extension": ".py",
   "mimetype": "text/x-python",
   "name": "python",
   "nbconvert_exporter": "python",
   "pygments_lexer": "ipython3",
   "version": "3.7.3"
  }
 },
 "nbformat": 4,
 "nbformat_minor": 1
}
