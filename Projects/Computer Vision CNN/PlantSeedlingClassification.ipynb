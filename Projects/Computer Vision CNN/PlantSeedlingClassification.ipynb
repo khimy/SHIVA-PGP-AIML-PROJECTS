{
 "cells": [
  {
   "cell_type": "code",
   "execution_count": 0,
   "metadata": {
    "colab": {
     "base_uri": "https://localhost:8080/",
     "height": 80
    },
    "colab_type": "code",
    "id": "i0oIpSv05Zv4",
    "outputId": "f5d11a6e-0e1a-4a57-b3e4-8df9b3a2dc73"
   },
   "outputs": [
    {
     "data": {
      "text/html": [
       "<p style=\"color: red;\">\n",
       "The default version of TensorFlow in Colab will soon switch to TensorFlow 2.x.<br>\n",
       "We recommend you <a href=\"https://www.tensorflow.org/guide/migrate\" target=\"_blank\">upgrade</a> now \n",
       "or ensure your notebook will continue to use TensorFlow 1.x via the <code>%tensorflow_version 1.x</code> magic:\n",
       "<a href=\"https://colab.research.google.com/notebooks/tensorflow_version.ipynb\" target=\"_blank\">more info</a>.</p>\n"
      ],
      "text/plain": [
       "<IPython.core.display.HTML object>"
      ]
     },
     "metadata": {
      "tags": []
     },
     "output_type": "display_data"
    },
    {
     "name": "stdout",
     "output_type": "stream",
     "text": [
      "1.15.0\n"
     ]
    }
   ],
   "source": [
    "## Importing the tensorflow version\n",
    "import tensorflow as tf\n",
    "print(tf.__version__)\n",
    "tf.set_random_seed(42)"
   ]
  },
  {
   "cell_type": "code",
   "execution_count": 0,
   "metadata": {
    "colab": {
     "base_uri": "https://localhost:8080/",
     "height": 122
    },
    "colab_type": "code",
    "id": "Wy0iKOPl9b7N",
    "outputId": "11ed38c2-cc7f-493a-8196-d6772805f89c"
   },
   "outputs": [
    {
     "name": "stdout",
     "output_type": "stream",
     "text": [
      "Go to this URL in a browser: https://accounts.google.com/o/oauth2/auth?client_id=947318989803-6bn6qk8qdgf4n4g3pfee6491hc0brc4i.apps.googleusercontent.com&redirect_uri=urn%3aietf%3awg%3aoauth%3a2.0%3aoob&response_type=code&scope=email%20https%3a%2f%2fwww.googleapis.com%2fauth%2fdocs.test%20https%3a%2f%2fwww.googleapis.com%2fauth%2fdrive%20https%3a%2f%2fwww.googleapis.com%2fauth%2fdrive.photos.readonly%20https%3a%2f%2fwww.googleapis.com%2fauth%2fpeopleapi.readonly\n",
      "\n",
      "Enter your authorization code:\n",
      "··········\n",
      "Mounted at /content/gdrive\n"
     ]
    }
   ],
   "source": [
    "## Mounting the drive\n",
    "from google.colab import drive\n",
    "drive.mount('/content/gdrive')"
   ]
  },
  {
   "cell_type": "markdown",
   "metadata": {
    "colab_type": "text",
    "id": "1UT90SAQ00XT"
   },
   "source": [
    "**Importing the necessary libraries**"
   ]
  },
  {
   "cell_type": "code",
   "execution_count": 1,
   "metadata": {
    "colab": {
     "base_uri": "https://localhost:8080/",
     "height": 80
    },
    "colab_type": "code",
    "id": "YbL6Oz8H0zJs",
    "outputId": "845bb70c-6593-42b5-f071-17dd147bce9b"
   },
   "outputs": [
    {
     "name": "stderr",
     "output_type": "stream",
     "text": [
      "Using TensorFlow backend.\n"
     ]
    },
    {
     "data": {
      "text/html": [
       "<p style=\"color: red;\">\n",
       "The default version of TensorFlow in Colab will soon switch to TensorFlow 2.x.<br>\n",
       "We recommend you <a href=\"https://www.tensorflow.org/guide/migrate\" target=\"_blank\">upgrade</a> now \n",
       "or ensure your notebook will continue to use TensorFlow 1.x via the <code>%tensorflow_version 1.x</code> magic:\n",
       "<a href=\"https://colab.research.google.com/notebooks/tensorflow_version.ipynb\" target=\"_blank\">more info</a>.</p>\n"
      ],
      "text/plain": [
       "<IPython.core.display.HTML object>"
      ]
     },
     "metadata": {
      "tags": []
     },
     "output_type": "display_data"
    }
   ],
   "source": [
    "import numpy as np\n",
    "import pandas as pd\n",
    "%matplotlib inline\n",
    "import os\n",
    "import matplotlib.pyplot as plt\n",
    "import cv2\n",
    "import seaborn as sns\n",
    "from sklearn.metrics import confusion_matrix\n",
    "from sklearn.model_selection import RandomizedSearchCV\n",
    "from sklearn.model_selection import StratifiedKFold\n",
    "from sklearn import preprocessing\n",
    "from sklearn.model_selection import train_test_split\n",
    "from keras.preprocessing.image import ImageDataGenerator, array_to_img, img_to_array, load_img\n",
    "import keras\n",
    "from keras.models import Sequential\n",
    "from keras.layers.core import Dense,Dropout,Activation,Flatten\n",
    "from keras.layers.convolutional import Conv2D,MaxPooling2D\n",
    "from keras.utils import np_utils\n",
    "from keras.callbacks import EarlyStopping\n",
    "from sklearn import metrics\n",
    "from keras.utils.np_utils import to_categorical\n",
    "from subprocess import check_output"
   ]
  },
  {
   "cell_type": "code",
   "execution_count": 0,
   "metadata": {
    "colab": {},
    "colab_type": "code",
    "id": "Twhon1V3_e33"
   },
   "outputs": [],
   "source": [
    "## Specifying the path of the project\n",
    "project_path='/content/gdrive/My Drive/AIML/Plant Seedling/'"
   ]
  },
  {
   "cell_type": "code",
   "execution_count": 0,
   "metadata": {
    "colab": {},
    "colab_type": "code",
    "id": "Z07qP2aw_mrk"
   },
   "outputs": [],
   "source": [
    "## Specifying the path for train and test dataset\n",
    "train_path= project_path + 'train.zip'\n",
    "test_path= project_path + 'test.zip'"
   ]
  },
  {
   "cell_type": "markdown",
   "metadata": {
    "colab_type": "text",
    "id": "-whxdwsipXUq"
   },
   "source": [
    "Using ZipFile library to extract train and test zip files"
   ]
  },
  {
   "cell_type": "code",
   "execution_count": 0,
   "metadata": {
    "colab": {},
    "colab_type": "code",
    "id": "oXnlRRBJ_4q7"
   },
   "outputs": [],
   "source": [
    "from zipfile import ZipFile\n",
    "\n",
    "with ZipFile(train_path,'r') as zip:\n",
    "  zip.extractall() "
   ]
  },
  {
   "cell_type": "code",
   "execution_count": 0,
   "metadata": {
    "colab": {},
    "colab_type": "code",
    "id": "M3wuL4G_AhBh"
   },
   "outputs": [],
   "source": [
    "from zipfile import ZipFile\n",
    "with ZipFile(test_path,'r') as f:\n",
    " f.extractall() "
   ]
  },
  {
   "cell_type": "code",
   "execution_count": 0,
   "metadata": {
    "colab": {},
    "colab_type": "code",
    "id": "lEKrIIvqKBYv"
   },
   "outputs": [],
   "source": [
    "## Specifying the required variable names as an empty set \n",
    "training_data=[]\n",
    "test_data=[]\n",
    "X=[]\n",
    "y=[]\n",
    "X_test=[]"
   ]
  },
  {
   "cell_type": "code",
   "execution_count": 0,
   "metadata": {
    "colab": {},
    "colab_type": "code",
    "id": "WfbIPhydU7oj"
   },
   "outputs": [],
   "source": [
    "## Changing the directory to the required path\n",
    "os.chdir(project_path+ 'train')"
   ]
  },
  {
   "cell_type": "code",
   "execution_count": 0,
   "metadata": {
    "colab": {
     "base_uri": "https://localhost:8080/",
     "height": 221
    },
    "colab_type": "code",
    "id": "nSFDVP7xVEip",
    "outputId": "54312af0-d863-44a9-8985-972b2b2a4f94"
   },
   "outputs": [
    {
     "data": {
      "text/plain": [
       "['Black-grass',\n",
       " 'Charlock',\n",
       " 'Cleavers',\n",
       " 'Common Chickweed',\n",
       " 'Common wheat',\n",
       " 'Fat Hen',\n",
       " 'Loose Silky-bent',\n",
       " 'Maize',\n",
       " 'Scentless Mayweed',\n",
       " 'Shepherds Purse',\n",
       " 'Small-flowered Cranesbill',\n",
       " 'Sugar beet']"
      ]
     },
     "execution_count": 10,
     "metadata": {
      "tags": []
     },
     "output_type": "execute_result"
    }
   ],
   "source": [
    "## Listing the directories inside the path\n",
    "os.listdir()"
   ]
  },
  {
   "cell_type": "code",
   "execution_count": 0,
   "metadata": {
    "colab": {},
    "colab_type": "code",
    "id": "_DW69mSdV4j8"
   },
   "outputs": [],
   "source": [
    "## Resizing and appending the training images into training dataset\n",
    "for i in os.listdir():\n",
    "  for j in os.listdir(i):\n",
    "    temp=cv2.imread(project_path+'train/' + i +'/'+j)\n",
    "    temp=cv2.resize(temp,(128,128))\n",
    "    training_data.append([temp,i])\n"
   ]
  },
  {
   "cell_type": "code",
   "execution_count": 0,
   "metadata": {
    "colab": {},
    "colab_type": "code",
    "id": "ACFRxn2ObEzt"
   },
   "outputs": [],
   "source": [
    "## Changing the directory to the test path\n",
    "os.chdir(project_path+ 'test')"
   ]
  },
  {
   "cell_type": "code",
   "execution_count": 0,
   "metadata": {
    "colab": {},
    "colab_type": "code",
    "id": "luRV_NYKbHek"
   },
   "outputs": [],
   "source": [
    "## Resizing and appending the test images into test dataset\n",
    "for i in os.listdir():\n",
    "    temp1=cv2.imread(project_path+'test/' + i)\n",
    "    temp1=cv2.resize(temp1,(128,128))\n",
    "    test_data.append(temp1)\n"
   ]
  },
  {
   "cell_type": "code",
   "execution_count": 0,
   "metadata": {
    "colab": {
     "base_uri": "https://localhost:8080/",
     "height": 51
    },
    "colab_type": "code",
    "id": "fQovUIwUaIir",
    "outputId": "6204550c-f752-419c-aa88-95f17e1c261a"
   },
   "outputs": [
    {
     "name": "stdout",
     "output_type": "stream",
     "text": [
      "Length of train data: 4750\n",
      "Length of test data: 794\n"
     ]
    }
   ],
   "source": [
    "## Displaying the length of the training and test data\n",
    "print(\"Length of train data:\",len(training_data))\n",
    "print(\"Length of test data:\",len(test_data))"
   ]
  },
  {
   "cell_type": "code",
   "execution_count": 0,
   "metadata": {
    "colab": {},
    "colab_type": "code",
    "id": "Hq0ZEE2ryVMp"
   },
   "outputs": [],
   "source": [
    "## Random shuffling of the training data\n",
    "import random\n",
    "random.shuffle(training_data)"
   ]
  },
  {
   "cell_type": "code",
   "execution_count": 0,
   "metadata": {
    "colab": {
     "base_uri": "https://localhost:8080/",
     "height": 1000
    },
    "colab_type": "code",
    "id": "chFpEIxP1NhK",
    "outputId": "eb9e6d2c-8c98-42dc-817b-fc11c351e52d"
   },
   "outputs": [
    {
     "name": "stdout",
     "output_type": "stream",
     "text": [
      "[[array([[[ 47,  63,  84],\n",
      "        [ 49,  65,  87],\n",
      "        [ 55,  71,  90],\n",
      "        ...,\n",
      "        [ 42,  59,  76],\n",
      "        [ 50,  64,  80],\n",
      "        [ 45,  60,  76]],\n",
      "\n",
      "       [[ 44,  62,  83],\n",
      "        [ 44,  64,  85],\n",
      "        [ 42,  62,  83],\n",
      "        ...,\n",
      "        [ 46,  62,  79],\n",
      "        [ 52,  65,  80],\n",
      "        [ 58,  71,  86]],\n",
      "\n",
      "       [[ 52,  70,  90],\n",
      "        [ 46,  65,  86],\n",
      "        [ 43,  63,  84],\n",
      "        ...,\n",
      "        [ 45,  59,  77],\n",
      "        [ 45,  58,  76],\n",
      "        [ 45,  58,  75]],\n",
      "\n",
      "       ...,\n",
      "\n",
      "       [[ 29,  50,  76],\n",
      "        [ 27,  48,  71],\n",
      "        [ 32,  45,  65],\n",
      "        ...,\n",
      "        [ 76,  91, 113],\n",
      "        [ 81,  96, 116],\n",
      "        [ 83, 100, 118]],\n",
      "\n",
      "       [[ 38,  55,  77],\n",
      "        [ 30,  49,  72],\n",
      "        [ 27,  42,  64],\n",
      "        ...,\n",
      "        [ 68,  85, 108],\n",
      "        [ 82,  97, 117],\n",
      "        [ 81,  98, 115]],\n",
      "\n",
      "       [[ 41,  58,  79],\n",
      "        [ 36,  53,  76],\n",
      "        [ 22,  39,  62],\n",
      "        ...,\n",
      "        [ 75,  91, 112],\n",
      "        [ 82,  98, 117],\n",
      "        [ 85,  99, 119]]], dtype=uint8), 'Fat Hen'], [array([[[ 69,  86,  99],\n",
      "        [ 32,  52,  77],\n",
      "        [ 38,  74,  98],\n",
      "        ...,\n",
      "        [ 83,  88, 102],\n",
      "        [110, 116, 123],\n",
      "        [182, 177, 174]],\n",
      "\n",
      "       [[ 37,  48,  72],\n",
      "        [ 52,  61,  79],\n",
      "        [ 50,  76,  99],\n",
      "        ...,\n",
      "        [ 78,  90, 101],\n",
      "        [129, 135, 139],\n",
      "        [180, 175, 173]],\n",
      "\n",
      "       [[ 45,  54,  71],\n",
      "        [ 41,  53,  74],\n",
      "        [ 49,  68,  87],\n",
      "        ...,\n",
      "        [ 87,  98, 111],\n",
      "        [129, 131, 139],\n",
      "        [108, 105, 108]],\n",
      "\n",
      "       ...,\n",
      "\n",
      "       [[ 60,  57,  59],\n",
      "        [ 69,  66,  65],\n",
      "        [ 72,  70,  68],\n",
      "        ...,\n",
      "        [ 23,  71,  55],\n",
      "        [ 24,  71,  49],\n",
      "        [ 34,  65,  54]],\n",
      "\n",
      "       [[ 85,  79,  73],\n",
      "        [ 87,  83,  77],\n",
      "        [ 80,  76,  71],\n",
      "        ...,\n",
      "        [ 23,  67,  48],\n",
      "        [ 26,  71,  53],\n",
      "        [ 20,  70,  52]],\n",
      "\n",
      "       [[ 78,  73,  68],\n",
      "        [ 83,  79,  73],\n",
      "        [ 72,  71,  66],\n",
      "        ...,\n",
      "        [ 37,  56,  48],\n",
      "        [ 30,  71,  53],\n",
      "        [ 27,  73,  53]]], dtype=uint8), 'Black-grass']]\n"
     ]
    }
   ],
   "source": [
    "print(training_data[0:2])"
   ]
  },
  {
   "cell_type": "code",
   "execution_count": 0,
   "metadata": {
    "colab": {},
    "colab_type": "code",
    "id": "kxA4IEcP5bM9"
   },
   "outputs": [],
   "source": [
    "## Appending the features and labels into X and y variables\n",
    "for features, label in training_data:\n",
    "  X.append(features)\n",
    "  y.append(label)"
   ]
  },
  {
   "cell_type": "code",
   "execution_count": 0,
   "metadata": {
    "colab": {
     "base_uri": "https://localhost:8080/",
     "height": 34
    },
    "colab_type": "code",
    "id": "LR77Xc_l5omE",
    "outputId": "e40bdae1-85c3-404b-c087-0bd37cbe4a6a"
   },
   "outputs": [
    {
     "data": {
      "text/plain": [
       "['Fat Hen', 'Black-grass']"
      ]
     },
     "execution_count": 18,
     "metadata": {
      "tags": []
     },
     "output_type": "execute_result"
    }
   ],
   "source": [
    "y[0:2]"
   ]
  },
  {
   "cell_type": "code",
   "execution_count": 0,
   "metadata": {
    "colab": {},
    "colab_type": "code",
    "id": "I7aKhX-E6XKd"
   },
   "outputs": [],
   "source": [
    "X=np.array(X)\n",
    "X_test=np.array(test_data)"
   ]
  },
  {
   "cell_type": "code",
   "execution_count": 0,
   "metadata": {
    "colab": {
     "base_uri": "https://localhost:8080/",
     "height": 51
    },
    "colab_type": "code",
    "id": "NWbrHbElu6iU",
    "outputId": "7afc48c9-01e6-4f17-fc07-708ddff20b4d"
   },
   "outputs": [
    {
     "name": "stdout",
     "output_type": "stream",
     "text": [
      "Shape of Test Features: (794, 128, 128, 3)\n",
      "Shape of Train Features: (4750, 128, 128, 3)\n"
     ]
    }
   ],
   "source": [
    "print(\"Shape of Test Features:\",X_test.shape)\n",
    "print(\"Shape of Train Features:\",X.shape)"
   ]
  },
  {
   "cell_type": "code",
   "execution_count": 0,
   "metadata": {
    "colab": {
     "base_uri": "https://localhost:8080/",
     "height": 221
    },
    "colab_type": "code",
    "id": "LJJ690zIQooY",
    "outputId": "64edca1d-1ba0-4350-e3c0-a673daaad7c1"
   },
   "outputs": [
    {
     "name": "stdout",
     "output_type": "stream",
     "text": [
      "number of Fat Hen images is  -> 0\n",
      "number of Loose Silky-bent images is  -> 0\n",
      "number of Charlock images is  -> 0\n",
      "number of Common Chickweed images is  -> 0\n",
      "number of Black-grass images is  -> 0\n",
      "number of Scentless Mayweed images is  -> 0\n",
      "number of Shepherds Purse images is  -> 0\n",
      "number of Small-flowered Cranesbill images is  -> 0\n",
      "number of Cleavers images is  -> 0\n",
      "number of Maize images is  -> 0\n",
      "number of Common wheat images is  -> 0\n",
      "number of Sugar beet images is  -> 0\n"
     ]
    }
   ],
   "source": [
    "for label in set(y):\n",
    "\n",
    "  print(\"number of {} images is  -> {}\".format(\n",
    "        label, \n",
    "        len(X[y == label])))"
   ]
  },
  {
   "cell_type": "code",
   "execution_count": 0,
   "metadata": {
    "colab": {
     "base_uri": "https://localhost:8080/",
     "height": 285
    },
    "colab_type": "code",
    "id": "TqkuF36RQ_Mx",
    "outputId": "d882f83a-30bd-417a-9f23-50e2db53002c"
   },
   "outputs": [
    {
     "data": {
      "text/plain": [
       "<matplotlib.image.AxesImage at 0x7f1b92df5ef0>"
      ]
     },
     "execution_count": 22,
     "metadata": {
      "tags": []
     },
     "output_type": "execute_result"
    },
    {
     "data": {
      "image/png": "[encoded data removed]",
      "text/plain": [
       "<Figure size 432x288 with 1 Axes>"
      ]
     },
     "metadata": {
      "tags": []
     },
     "output_type": "display_data"
    }
   ],
   "source": [
    "## Displaying randomly a image from X\n",
    "plt.imshow(X[20])"
   ]
  },
  {
   "cell_type": "code",
   "execution_count": 0,
   "metadata": {
    "colab": {
     "base_uri": "https://localhost:8080/",
     "height": 285
    },
    "colab_type": "code",
    "id": "q4lmoEek1_c-",
    "outputId": "40dfbf0a-b086-432b-8c1e-3bcc97c51987"
   },
   "outputs": [
    {
     "data": {
      "text/plain": [
       "<matplotlib.image.AxesImage at 0x7f1b928cb2b0>"
      ]
     },
     "execution_count": 23,
     "metadata": {
      "tags": []
     },
     "output_type": "execute_result"
    },
    {
     "data": {
      "image/png": "[encoded data removed]",
      "text/plain": [
       "<Figure size 432x288 with 1 Axes>"
      ]
     },
     "metadata": {
      "tags": []
     },
     "output_type": "display_data"
    }
   ],
   "source": [
    "plt.imshow(X_test[20])"
   ]
  },
  {
   "cell_type": "code",
   "execution_count": 0,
   "metadata": {
    "colab": {},
    "colab_type": "code",
    "id": "Amly2eV73N46"
   },
   "outputs": [],
   "source": [
    "## Normalizing the features to have variation in data between 0 to 1\n",
    "X=X/255\n",
    "X_test=X_test/255"
   ]
  },
  {
   "cell_type": "code",
   "execution_count": 0,
   "metadata": {
    "colab": {
     "base_uri": "https://localhost:8080/",
     "height": 850
    },
    "colab_type": "code",
    "id": "fPqKYx-vZ8ia",
    "outputId": "789d97f9-3d3e-4fe9-f677-dfbbabb5b12e"
   },
   "outputs": [
    {
     "data": {
      "text/plain": [
       "array([[[[0.18431373, 0.24705882, 0.32941176],\n",
       "         [0.19215686, 0.25490196, 0.34117647],\n",
       "         [0.21568627, 0.27843137, 0.35294118],\n",
       "         ...,\n",
       "         [0.16470588, 0.23137255, 0.29803922],\n",
       "         [0.19607843, 0.25098039, 0.31372549],\n",
       "         [0.17647059, 0.23529412, 0.29803922]],\n",
       "\n",
       "        [[0.17254902, 0.24313725, 0.3254902 ],\n",
       "         [0.17254902, 0.25098039, 0.33333333],\n",
       "         [0.16470588, 0.24313725, 0.3254902 ],\n",
       "         ...,\n",
       "         [0.18039216, 0.24313725, 0.30980392],\n",
       "         [0.20392157, 0.25490196, 0.31372549],\n",
       "         [0.22745098, 0.27843137, 0.3372549 ]],\n",
       "\n",
       "        [[0.20392157, 0.2745098 , 0.35294118],\n",
       "         [0.18039216, 0.25490196, 0.3372549 ],\n",
       "         [0.16862745, 0.24705882, 0.32941176],\n",
       "         ...,\n",
       "         [0.17647059, 0.23137255, 0.30196078],\n",
       "         [0.17647059, 0.22745098, 0.29803922],\n",
       "         [0.17647059, 0.22745098, 0.29411765]],\n",
       "\n",
       "        ...,\n",
       "\n",
       "        [[0.11372549, 0.19607843, 0.29803922],\n",
       "         [0.10588235, 0.18823529, 0.27843137],\n",
       "         [0.1254902 , 0.17647059, 0.25490196],\n",
       "         ...,\n",
       "         [0.29803922, 0.35686275, 0.44313725],\n",
       "         [0.31764706, 0.37647059, 0.45490196],\n",
       "         [0.3254902 , 0.39215686, 0.4627451 ]],\n",
       "\n",
       "        [[0.14901961, 0.21568627, 0.30196078],\n",
       "         [0.11764706, 0.19215686, 0.28235294],\n",
       "         [0.10588235, 0.16470588, 0.25098039],\n",
       "         ...,\n",
       "         [0.26666667, 0.33333333, 0.42352941],\n",
       "         [0.32156863, 0.38039216, 0.45882353],\n",
       "         [0.31764706, 0.38431373, 0.45098039]],\n",
       "\n",
       "        [[0.16078431, 0.22745098, 0.30980392],\n",
       "         [0.14117647, 0.20784314, 0.29803922],\n",
       "         [0.08627451, 0.15294118, 0.24313725],\n",
       "         ...,\n",
       "         [0.29411765, 0.35686275, 0.43921569],\n",
       "         [0.32156863, 0.38431373, 0.45882353],\n",
       "         [0.33333333, 0.38823529, 0.46666667]]]])"
      ]
     },
     "execution_count": 25,
     "metadata": {
      "tags": []
     },
     "output_type": "execute_result"
    }
   ],
   "source": [
    "X[0:1]"
   ]
  },
  {
   "cell_type": "code",
   "execution_count": 0,
   "metadata": {
    "colab": {
     "base_uri": "https://localhost:8080/",
     "height": 51
    },
    "colab_type": "code",
    "id": "H0y2fwas4gB5",
    "outputId": "fb5f8be5-3d2a-4c38-e558-3fc8c25cc6ea"
   },
   "outputs": [
    {
     "data": {
      "text/plain": [
       "array(['Fat Hen', 'Black-grass', 'Charlock', ..., 'Fat Hen',\n",
       "       'Small-flowered Cranesbill', 'Scentless Mayweed'], dtype='<U25')"
      ]
     },
     "execution_count": 26,
     "metadata": {
      "tags": []
     },
     "output_type": "execute_result"
    }
   ],
   "source": [
    "## Label Encoding the target Variable\n",
    "y=np.array(y)\n",
    "y"
   ]
  },
  {
   "cell_type": "code",
   "execution_count": 0,
   "metadata": {
    "colab": {
     "base_uri": "https://localhost:8080/",
     "height": 102
    },
    "colab_type": "code",
    "id": "FUxoij3P8Jpv",
    "outputId": "1ffee49a-e867-4228-eeec-0217ff2ff4e6"
   },
   "outputs": [
    {
     "name": "stdout",
     "output_type": "stream",
     "text": [
      "\n",
      "\n",
      "Classes['Black-grass' 'Charlock' 'Cleavers' 'Common Chickweed' 'Common wheat'\n",
      " 'Fat Hen' 'Loose Silky-bent' 'Maize' 'Scentless Mayweed'\n",
      " 'Shepherds Purse' 'Small-flowered Cranesbill' 'Sugar beet']\n"
     ]
    }
   ],
   "source": [
    "## Preprocessing the target variable\n",
    "header = np.unique(y)\n",
    "labels = preprocessing.LabelEncoder()\n",
    "labels.fit(header)\n",
    "encodedlabels = labels.transform(y)\n",
    "print('\\n')\n",
    "print('Classes'+str(labels.classes_))"
   ]
  },
  {
   "cell_type": "code",
   "execution_count": 0,
   "metadata": {
    "colab": {},
    "colab_type": "code",
    "id": "woaoXqZi9C0C"
   },
   "outputs": [],
   "source": [
    "\"\"\" One Hot Encoding \"\"\"\n",
    "y = to_categorical(encodedlabels)"
   ]
  },
  {
   "cell_type": "code",
   "execution_count": 0,
   "metadata": {
    "colab": {
     "base_uri": "https://localhost:8080/",
     "height": 34
    },
    "colab_type": "code",
    "id": "7FWx9-XV9bb0",
    "outputId": "d6a83fba-0ec4-48d6-af5f-4a46cf243ca5"
   },
   "outputs": [
    {
     "data": {
      "text/plain": [
       "(4750, 12)"
      ]
     },
     "execution_count": 29,
     "metadata": {
      "tags": []
     },
     "output_type": "execute_result"
    }
   ],
   "source": [
    "y.shape"
   ]
  },
  {
   "cell_type": "code",
   "execution_count": 0,
   "metadata": {
    "colab": {},
    "colab_type": "code",
    "id": "9HKj4zXJAWGr"
   },
   "outputs": [],
   "source": [
    "## Splitting the data into train and validation set\n",
    "xtrain, xval, ytrain, yval = train_test_split(X,y, test_size=0.3,random_state=10)"
   ]
  },
  {
   "cell_type": "code",
   "execution_count": 0,
   "metadata": {
    "colab": {
     "base_uri": "https://localhost:8080/",
     "height": 85
    },
    "colab_type": "code",
    "id": "tj9H7jGfBuoU",
    "outputId": "cdd5f1c7-6ef9-4ed5-a68b-200123acb42a"
   },
   "outputs": [
    {
     "name": "stdout",
     "output_type": "stream",
     "text": [
      "Shape of Test Features: (1425, 128, 128, 3)\n",
      "Shape of Test Labels: (1425, 12)\n",
      "Shape of Train Features: (3325, 128, 128, 3)\n",
      "Shape of Train Labels: (3325, 12)\n"
     ]
    }
   ],
   "source": [
    "print(\"Shape of Test Features:\",xval.shape)\n",
    "print(\"Shape of Test Labels:\",yval.shape)\n",
    "print(\"Shape of Train Features:\",xtrain.shape)\n",
    "print(\"Shape of Train Labels:\",ytrain.shape)"
   ]
  },
  {
   "cell_type": "markdown",
   "metadata": {
    "colab_type": "text",
    "id": "KzZCfM02AiSU"
   },
   "source": [
    "# **Building a CNN Classifier model**\n"
   ]
  },
  {
   "cell_type": "code",
   "execution_count": 0,
   "metadata": {
    "colab": {
     "base_uri": "https://localhost:8080/",
     "height": 258
    },
    "colab_type": "code",
    "id": "Rzc1YI8PDdd0",
    "outputId": "c14c07ab-8c10-49e0-e59a-3e9845ea8816"
   },
   "outputs": [
    {
     "name": "stdout",
     "output_type": "stream",
     "text": [
      "WARNING:tensorflow:From /usr/local/lib/python3.6/dist-packages/keras/backend/tensorflow_backend.py:66: The name tf.get_default_graph is deprecated. Please use tf.compat.v1.get_default_graph instead.\n",
      "\n",
      "WARNING:tensorflow:From /usr/local/lib/python3.6/dist-packages/keras/backend/tensorflow_backend.py:541: The name tf.placeholder is deprecated. Please use tf.compat.v1.placeholder instead.\n",
      "\n",
      "WARNING:tensorflow:From /usr/local/lib/python3.6/dist-packages/keras/backend/tensorflow_backend.py:4432: The name tf.random_uniform is deprecated. Please use tf.random.uniform instead.\n",
      "\n",
      "WARNING:tensorflow:From /usr/local/lib/python3.6/dist-packages/keras/backend/tensorflow_backend.py:4267: The name tf.nn.max_pool is deprecated. Please use tf.nn.max_pool2d instead.\n",
      "\n",
      "WARNING:tensorflow:From /usr/local/lib/python3.6/dist-packages/keras/backend/tensorflow_backend.py:148: The name tf.placeholder_with_default is deprecated. Please use tf.compat.v1.placeholder_with_default instead.\n",
      "\n",
      "WARNING:tensorflow:From /usr/local/lib/python3.6/dist-packages/keras/backend/tensorflow_backend.py:3733: calling dropout (from tensorflow.python.ops.nn_ops) with keep_prob is deprecated and will be removed in a future version.\n",
      "Instructions for updating:\n",
      "Please use `rate` instead of `keep_prob`. Rate should be set to `rate = 1 - keep_prob`.\n"
     ]
    }
   ],
   "source": [
    "## Create a model\n",
    "model1= Sequential()\n",
    "## Adding convolution layers with 32 filters of 3*3 size and mentioning input shape with relu activation\n",
    "model1.add(Conv2D(32, kernel_size=(3, 3), input_shape=(128, 128, 3), activation='relu'))\n",
    "model1.add(Conv2D(32, kernel_size=(3, 3), activation='relu'))\n",
    "## Add pooling layer with filter size 2*2\n",
    "model1.add(MaxPooling2D(pool_size=(2,2)))\n",
    "## Adding a dropout rate of 0.15 \n",
    "model1.add(Dropout(0.15))\n",
    "## Flattening the output of convolution layer\n",
    "model1.add(Flatten())\n",
    "## Adding a dense layer with 128 neurons and relu activation\n",
    "model1.add(Dense(128, activation='relu'))\n",
    "## Adding the output layer\n",
    "model1.add(Dense(12, activation='softmax'))"
   ]
  },
  {
   "cell_type": "code",
   "execution_count": 0,
   "metadata": {
    "colab": {
     "base_uri": "https://localhost:8080/",
     "height": 391
    },
    "colab_type": "code",
    "id": "S2T_9DUuDdsH",
    "outputId": "8bd017d5-3c85-425a-8edc-102a12947fbf"
   },
   "outputs": [
    {
     "name": "stdout",
     "output_type": "stream",
     "text": [
      "Model: \"sequential_1\"\n",
      "_________________________________________________________________\n",
      "Layer (type)                 Output Shape              Param #   \n",
      "=================================================================\n",
      "conv2d_1 (Conv2D)            (None, 126, 126, 32)      896       \n",
      "_________________________________________________________________\n",
      "conv2d_2 (Conv2D)            (None, 124, 124, 32)      9248      \n",
      "_________________________________________________________________\n",
      "max_pooling2d_1 (MaxPooling2 (None, 62, 62, 32)        0         \n",
      "_________________________________________________________________\n",
      "dropout_1 (Dropout)          (None, 62, 62, 32)        0         \n",
      "_________________________________________________________________\n",
      "flatten_1 (Flatten)          (None, 123008)            0         \n",
      "_________________________________________________________________\n",
      "dense_1 (Dense)              (None, 128)               15745152  \n",
      "_________________________________________________________________\n",
      "dense_2 (Dense)              (None, 12)                1548      \n",
      "=================================================================\n",
      "Total params: 15,756,844\n",
      "Trainable params: 15,756,844\n",
      "Non-trainable params: 0\n",
      "_________________________________________________________________\n"
     ]
    }
   ],
   "source": [
    "## Compiling the model\n",
    "model1.compile(loss='categorical_crossentropy', optimizer='adam', metrics=['accuracy'] )\n",
    "model1.summary()"
   ]
  },
  {
   "cell_type": "code",
   "execution_count": 0,
   "metadata": {
    "colab": {
     "base_uri": "https://localhost:8080/",
     "height": 459
    },
    "colab_type": "code",
    "id": "Dy5gxdJWDdzJ",
    "outputId": "9c53ad18-2fa7-4253-970f-cb628cc6a0f9"
   },
   "outputs": [
    {
     "name": "stdout",
     "output_type": "stream",
     "text": [
      "Train on 3325 samples, validate on 1425 samples\n",
      "Epoch 1/20\n",
      "3325/3325 [==============================] - 160s 48ms/step - loss: 2.2174 - acc: 0.2334 - val_loss: 2.4045 - val_acc: 0.2189\n",
      "Epoch 2/20\n",
      "3325/3325 [==============================] - 158s 48ms/step - loss: 1.2964 - acc: 0.5949 - val_loss: 2.0843 - val_acc: 0.3579\n",
      "Epoch 3/20\n",
      "3325/3325 [==============================] - 158s 47ms/step - loss: 0.6635 - acc: 0.8289 - val_loss: 1.8402 - val_acc: 0.4828\n",
      "Epoch 4/20\n",
      "3325/3325 [==============================] - 156s 47ms/step - loss: 0.3288 - acc: 0.9236 - val_loss: 1.6162 - val_acc: 0.5375\n",
      "Epoch 5/20\n",
      "3325/3325 [==============================] - 157s 47ms/step - loss: 0.2070 - acc: 0.9660 - val_loss: 1.6709 - val_acc: 0.5551\n",
      "Epoch 6/20\n",
      "3325/3325 [==============================] - 156s 47ms/step - loss: 0.1615 - acc: 0.9696 - val_loss: 1.7374 - val_acc: 0.5467\n",
      "Epoch 7/20\n",
      "3325/3325 [==============================] - 157s 47ms/step - loss: 0.1249 - acc: 0.9817 - val_loss: 1.6778 - val_acc: 0.5698\n",
      "Epoch 8/20\n",
      "3325/3325 [==============================] - 157s 47ms/step - loss: 0.0898 - acc: 0.9895 - val_loss: 1.7442 - val_acc: 0.5551\n",
      "Epoch 9/20\n",
      "3325/3325 [==============================] - 157s 47ms/step - loss: 0.0680 - acc: 0.9928 - val_loss: 1.8280 - val_acc: 0.5495\n",
      "Epoch 10/20\n",
      "3325/3325 [==============================] - 157s 47ms/step - loss: 0.0547 - acc: 0.9958 - val_loss: 1.8524 - val_acc: 0.5516\n",
      "Epoch 11/20\n",
      "3325/3325 [==============================] - 158s 47ms/step - loss: 0.0392 - acc: 0.9976 - val_loss: 1.8765 - val_acc: 0.5572\n",
      "Epoch 12/20\n",
      "3325/3325 [==============================] - 157s 47ms/step - loss: 0.0340 - acc: 0.9991 - val_loss: 1.9249 - val_acc: 0.5551\n",
      "Accuracy: 55.51%\n"
     ]
    }
   ],
   "source": [
    "# Fit the model\n",
    "early_stopping = EarlyStopping(monitor='val_acc', patience=5, mode='auto')\n",
    "callback_list = [early_stopping]\n",
    "\n",
    "model1.fit(xtrain, ytrain, validation_data=(xval, yval), epochs=10, batch_size=256 , callbacks=callback_list)\n",
    "\n",
    "# Final evaluation of the model\n",
    "scores = model1.evaluate(xval, yval, verbose=0)\n",
    "print(\"Accuracy: %.2f%%\" % (scores[1]*100))"
   ]
  },
  {
   "cell_type": "code",
   "execution_count": 0,
   "metadata": {
    "colab": {
     "base_uri": "https://localhost:8080/",
     "height": 51
    },
    "colab_type": "code",
    "id": "-BfU6XgRDdwS",
    "outputId": "da36ee04-9c59-4de0-8758-7d9a42abc739"
   },
   "outputs": [
    {
     "name": "stdout",
     "output_type": "stream",
     "text": [
      "Train Accuracy: 98.47%\n",
      "Validation Accuracy: 60.91%\n"
     ]
    }
   ],
   "source": [
    "# Final evaluation of the model\n",
    "Validation_scores = model1.evaluate(xval, yval, verbose=0)\n",
    "Train_scores = model1.evaluate(xtrain, ytrain, verbose=0)\n",
    "print(\"Train Accuracy: %.2f%%\" % (Train_scores[1]*100))\n",
    "print(\"Validation Accuracy: %.2f%%\" % (Validation_scores[1]*100))"
   ]
  },
  {
   "cell_type": "code",
   "execution_count": 0,
   "metadata": {
    "colab": {},
    "colab_type": "code",
    "id": "hCSxp9TV__dv"
   },
   "outputs": [],
   "source": [
    "def readTestData(testDir):\n",
    "    data = []\n",
    "    filenames = []\n",
    "    # loop over the input images\n",
    "    images = os.listdir(project_path+'test/')\n",
    "    for imageFileName in images:\n",
    "        # load the image, pre-process it, and store it in the data list\n",
    "        imageFullPath = os.path.join(project_path+'test/', imageFileName)\n",
    "        #print(imageFullPath)\n",
    "        img = load_img(imageFullPath)\n",
    "        arr = img_to_array(img)  # Numpy array with shape (...,..,3)\n",
    "        arr = cv2.resize(arr, (128,128)) \n",
    "        data.append(arr)\n",
    "        filenames.append(imageFileName)\n",
    "    return data, filenames"
   ]
  },
  {
   "cell_type": "code",
   "execution_count": 0,
   "metadata": {
    "colab": {},
    "colab_type": "code",
    "id": "0ryG7Y-y_mO8"
   },
   "outputs": [],
   "source": [
    "# read test data and find its classification\n",
    "testX, filenames = readTestData(\"\")\n"
   ]
  },
  {
   "cell_type": "code",
   "execution_count": 0,
   "metadata": {
    "colab": {},
    "colab_type": "code",
    "id": "WikT9I6GDdo2"
   },
   "outputs": [],
   "source": [
    " y_test = model1.predict(X_test)\n",
    "\n",
    "\n",
    "submit_filename = 'CNN_PlantSeed_Classification.csv'\n",
    "Y_pred_classes = np.argmax(y_test,axis = 1)\n",
    "Y_pred_df = labels.inverse_transform(Y_pred_classes)\n",
    "results_data = pd.DataFrame(data={'file': filenames, 'species':Y_pred_df})\n",
    "results_data.to_csv(submit_filename, index=False)"
   ]
  },
  {
   "cell_type": "code",
   "execution_count": 0,
   "metadata": {
    "colab": {},
    "colab_type": "code",
    "id": "uKD-feWbF1BE"
   },
   "outputs": [],
   "source": [
    "seedling = pd.read_csv('/content/drive/My Drive/AIML/Plant Seedling/test/CNN_PlantSeed_Classification.csv')"
   ]
  },
  {
   "cell_type": "code",
   "execution_count": 5,
   "metadata": {
    "colab": {
     "base_uri": "https://localhost:8080/",
     "height": 419
    },
    "colab_type": "code",
    "id": "PBz3ArBy4qxc",
    "outputId": "9f4073ff-0f32-4655-d74e-78bf91d8439f"
   },
   "outputs": [
    {
     "data": {
      "text/html": [
       "<div>\n",
       "<style scoped>\n",
       "    .dataframe tbody tr th:only-of-type {\n",
       "        vertical-align: middle;\n",
       "    }\n",
       "\n",
       "    .dataframe tbody tr th {\n",
       "        vertical-align: top;\n",
       "    }\n",
       "\n",
       "    .dataframe thead th {\n",
       "        text-align: right;\n",
       "    }\n",
       "</style>\n",
       "<table border=\"1\" class=\"dataframe\">\n",
       "  <thead>\n",
       "    <tr style=\"text-align: right;\">\n",
       "      <th></th>\n",
       "      <th>file</th>\n",
       "      <th>species</th>\n",
       "    </tr>\n",
       "  </thead>\n",
       "  <tbody>\n",
       "    <tr>\n",
       "      <th>0</th>\n",
       "      <td>851c90831.png</td>\n",
       "      <td>Loose Silky-bent</td>\n",
       "    </tr>\n",
       "    <tr>\n",
       "      <th>1</th>\n",
       "      <td>444473900.png</td>\n",
       "      <td>Common wheat</td>\n",
       "    </tr>\n",
       "    <tr>\n",
       "      <th>2</th>\n",
       "      <td>003d61042.png</td>\n",
       "      <td>Common wheat</td>\n",
       "    </tr>\n",
       "    <tr>\n",
       "      <th>3</th>\n",
       "      <td>03e322a29.png</td>\n",
       "      <td>Fat Hen</td>\n",
       "    </tr>\n",
       "    <tr>\n",
       "      <th>4</th>\n",
       "      <td>9cce7328c.png</td>\n",
       "      <td>Loose Silky-bent</td>\n",
       "    </tr>\n",
       "    <tr>\n",
       "      <th>...</th>\n",
       "      <td>...</td>\n",
       "      <td>...</td>\n",
       "    </tr>\n",
       "    <tr>\n",
       "      <th>789</th>\n",
       "      <td>d84d37a61.png</td>\n",
       "      <td>Common Chickweed</td>\n",
       "    </tr>\n",
       "    <tr>\n",
       "      <th>790</th>\n",
       "      <td>ff65bc002.png</td>\n",
       "      <td>Charlock</td>\n",
       "    </tr>\n",
       "    <tr>\n",
       "      <th>791</th>\n",
       "      <td>dc4cd56a3.png</td>\n",
       "      <td>Loose Silky-bent</td>\n",
       "    </tr>\n",
       "    <tr>\n",
       "      <th>792</th>\n",
       "      <td>b7ad92859.png</td>\n",
       "      <td>Small-flowered Cranesbill</td>\n",
       "    </tr>\n",
       "    <tr>\n",
       "      <th>793</th>\n",
       "      <td>dfb1d9012.png</td>\n",
       "      <td>Loose Silky-bent</td>\n",
       "    </tr>\n",
       "  </tbody>\n",
       "</table>\n",
       "<p>794 rows × 2 columns</p>\n",
       "</div>"
      ],
      "text/plain": [
       "              file                    species\n",
       "0    851c90831.png           Loose Silky-bent\n",
       "1    444473900.png               Common wheat\n",
       "2    003d61042.png               Common wheat\n",
       "3    03e322a29.png                    Fat Hen\n",
       "4    9cce7328c.png           Loose Silky-bent\n",
       "..             ...                        ...\n",
       "789  d84d37a61.png           Common Chickweed\n",
       "790  ff65bc002.png                   Charlock\n",
       "791  dc4cd56a3.png           Loose Silky-bent\n",
       "792  b7ad92859.png  Small-flowered Cranesbill\n",
       "793  dfb1d9012.png           Loose Silky-bent\n",
       "\n",
       "[794 rows x 2 columns]"
      ]
     },
     "execution_count": 5,
     "metadata": {
      "tags": []
     },
     "output_type": "execute_result"
    }
   ],
   "source": [
    "seedling"
   ]
  }
 ],
 "metadata": {
  "colab": {
   "collapsed_sections": [],
   "name": "Computer Vision With CNN_R7_Project1_PlantSeedlingClassification.ipynb",
   "provenance": []
  },
  "kernelspec": {
   "display_name": "Python 3",
   "language": "python",
   "name": "python3"
  },
  "language_info": {
   "codemirror_mode": {
    "name": "ipython",
    "version": 3
   },
   "file_extension": ".py",
   "mimetype": "text/x-python",
   "name": "python",
   "nbconvert_exporter": "python",
   "pygments_lexer": "ipython3",
   "version": "3.7.3"
  }
 },
 "nbformat": 4,
 "nbformat_minor": 1
}
